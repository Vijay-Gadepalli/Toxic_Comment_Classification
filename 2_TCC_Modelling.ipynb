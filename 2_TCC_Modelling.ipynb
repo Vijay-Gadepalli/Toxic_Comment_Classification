{
 "cells": [
  {
   "cell_type": "markdown",
   "metadata": {
    "id": "Kp3j0UGkgUTt"
   },
   "source": [
    "# Toxic Comment Classification"
   ]
  },
  {
   "cell_type": "markdown",
   "metadata": {
    "id": "LlrPaF-YhAMw"
   },
   "source": [
    "## Importing Libraries & Downloading Pre-requisites"
   ]
  },
  {
   "cell_type": "code",
   "execution_count": null,
   "metadata": {
    "colab": {
     "base_uri": "https://localhost:8080/"
    },
    "id": "8Yn7yxtL2nnl",
    "outputId": "1ad0fb59-9400-4c58-bcb6-973555edd95d"
   },
   "outputs": [
    {
     "name": "stdout",
     "output_type": "stream",
     "text": [
      "Collecting scikit-multilearn\n",
      "\u001b[?25l  Downloading https://files.pythonhosted.org/packages/bb/1f/e6ff649c72a1cdf2c7a1d31eb21705110ce1c5d3e7e26b2cc300e1637272/scikit_multilearn-0.2.0-py3-none-any.whl (89kB)\n",
      "\r",
      "\u001b[K     |███▊                            | 10kB 12.6MB/s eta 0:00:01\r",
      "\u001b[K     |███████▍                        | 20kB 17.6MB/s eta 0:00:01\r",
      "\u001b[K     |███████████                     | 30kB 21.1MB/s eta 0:00:01\r",
      "\u001b[K     |██████████████▊                 | 40kB 18.2MB/s eta 0:00:01\r",
      "\u001b[K     |██████████████████▍             | 51kB 17.5MB/s eta 0:00:01\r",
      "\u001b[K     |██████████████████████          | 61kB 13.5MB/s eta 0:00:01\r",
      "\u001b[K     |█████████████████████████▊      | 71kB 13.9MB/s eta 0:00:01\r",
      "\u001b[K     |█████████████████████████████▍  | 81kB 13.3MB/s eta 0:00:01\r",
      "\u001b[K     |████████████████████████████████| 92kB 6.6MB/s \n",
      "\u001b[?25hInstalling collected packages: scikit-multilearn\n",
      "Successfully installed scikit-multilearn-0.2.0\n"
     ]
    }
   ],
   "source": [
    "# need scikit-multilearn library for multi-label classification\n",
    "!pip install scikit-multilearn"
   ]
  },
  {
   "cell_type": "code",
   "execution_count": null,
   "metadata": {
    "id": "uugCULin6SHm"
   },
   "outputs": [],
   "source": [
    "#mandatory libraries\n",
    "import os\n",
    "import re\n",
    "import numpy as np\n",
    "import pandas as pd\n",
    "import scipy\n",
    "import string\n",
    "\n",
    "#nltk-preprocessing\n",
    "import nltk\n",
    "from wordcloud import WordCloud, STOPWORDS\n",
    "from nltk.corpus import stopwords\n",
    "from nltk import ne_chunk, pos_tag, word_tokenize\n",
    "from nltk.tree import Tree\n",
    "from nltk.stem.wordnet import WordNetLemmatizer\n",
    "\n",
    "#plotting\n",
    "import matplotlib\n",
    "import matplotlib.pyplot as plt\n",
    "import seaborn as sns\n",
    "\n",
    "#misc\n",
    "import joblib\n",
    "import warnings\n",
    "warnings.filterwarnings(\"ignore\")\n",
    "from tqdm.notebook import tqdm\n",
    "from itertools import combinations\n",
    "\n",
    "#multi-processing\n",
    "import multiprocessing\n",
    "from multiprocessing import Pool,freeze_support\n",
    "from multiprocessing import Process\n",
    "\n",
    "#multi-label \n",
    "from skmultilearn.model_selection import iterative_train_test_split\n",
    "from skmultilearn.problem_transform import BinaryRelevance\n",
    "from skmultilearn.problem_transform import ClassifierChain\n",
    "from skmultilearn.problem_transform import LabelPowerset\n",
    "\n",
    "#metrics\n",
    "from sklearn.metrics import hamming_loss\n",
    "from sklearn.metrics import accuracy_score\n",
    "from sklearn.metrics import log_loss\n",
    "from sklearn.metrics import roc_curve, auc,roc_auc_score\n",
    "\n",
    "#modelling\n",
    "from sklearn.model_selection import train_test_split\n",
    "from sklearn.model_selection import GridSearchCV\n",
    "from sklearn.feature_extraction.text import TfidfVectorizer\n",
    "from sklearn.neighbors import KNeighborsClassifier\n",
    "from sklearn.naive_bayes import GaussianNB\n",
    "from sklearn.naive_bayes import MultinomialNB\n",
    "from sklearn.linear_model import LogisticRegression\n",
    "from sklearn.svm import SVC\n",
    "from sklearn.ensemble import RandomForestClassifier\n",
    "from sklearn.tree import DecisionTreeClassifier\n",
    "from xgboost import XGBClassifier\n",
    "\n",
    "#Tensor flow for MLP\n",
    "import tensorflow as tf\n",
    "from tensorflow.keras.layers import Dense,Input,Activation,Dropout,BatchNormalization\n",
    "from tensorflow.keras.models import Model,Sequential\n",
    "from tensorflow.keras.callbacks import ModelCheckpoint\n",
    "from tensorflow.keras.callbacks import LearningRateScheduler\n",
    "from tensorflow.keras.callbacks import ReduceLROnPlateau\n",
    "from keras.callbacks import Callback\n",
    "\n",
    "#model loading\n",
    "from tensorflow.keras.models import load_model"
   ]
  },
  {
   "cell_type": "code",
   "execution_count": null,
   "metadata": {
    "colab": {
     "base_uri": "https://localhost:8080/"
    },
    "id": "KckCgd9NaSEe",
    "outputId": "04e1815c-6c5f-476c-f77a-219d9a8bac4c"
   },
   "outputs": [
    {
     "name": "stdout",
     "output_type": "stream",
     "text": [
      "[nltk_data] Downloading package punkt to /root/nltk_data...\n",
      "[nltk_data]   Unzipping tokenizers/punkt.zip.\n",
      "[nltk_data] Downloading package averaged_perceptron_tagger to\n",
      "[nltk_data]     /root/nltk_data...\n",
      "[nltk_data]   Unzipping taggers/averaged_perceptron_tagger.zip.\n",
      "[nltk_data] Downloading package maxent_ne_chunker to\n",
      "[nltk_data]     /root/nltk_data...\n",
      "[nltk_data]   Unzipping chunkers/maxent_ne_chunker.zip.\n",
      "[nltk_data] Downloading package words to /root/nltk_data...\n",
      "[nltk_data]   Unzipping corpora/words.zip.\n",
      "[nltk_data] Downloading package stopwords to /root/nltk_data...\n",
      "[nltk_data]   Unzipping corpora/stopwords.zip.\n",
      "[nltk_data] Downloading package wordnet to /root/nltk_data...\n",
      "[nltk_data]   Unzipping corpora/wordnet.zip.\n"
     ]
    },
    {
     "data": {
      "text/plain": [
       "True"
      ]
     },
     "execution_count": 3,
     "metadata": {
      "tags": []
     },
     "output_type": "execute_result"
    }
   ],
   "source": [
    "#supporting/essential downloads for NLTK library \n",
    "#to handle chuncking/stemming/stopwords\n",
    "\n",
    "nltk.download('punkt')\n",
    "nltk.download('averaged_perceptron_tagger')\n",
    "nltk.download('maxent_ne_chunker')\n",
    "nltk.download('words')\n",
    "nltk.download('stopwords')\n",
    "nltk.download('wordnet')"
   ]
  },
  {
   "cell_type": "code",
   "execution_count": null,
   "metadata": {
    "id": "ZF5KwSg1YuAV"
   },
   "outputs": [],
   "source": [
    "#lets take all the stop words from both NLTK & Word Cloud libraries, along \n",
    "# with some custom words\n",
    "\n",
    "stop_words=stopwords.words('english')\n",
    "word_cloud_stp_wrds=list(STOPWORDS)\n",
    "final_stop_words=list(STOPWORDS.union(set(stop_words)))\n",
    "final_stop_words.extend([\"mr\",\"mrs\",\"miss\",\n",
    "                        \"one\",\"two\",\"three\",\"four\",\"five\",\n",
    "                        \"six\",\"seven\",\"eight\",\"nine\",\"ten\",\n",
    "                        \"us\",\"also\",\"dont\",\"cant\",\"any\",\"can\",\"along\",\n",
    "                        \"among\",\"during\",\"anyone\",\n",
    "                         \"a\",\"b\",\"c\",\"d\",\"e\",\"f\",\"g\",\"h\",\"i\",\"j\",\"k\",\"l\",\"m\",\n",
    "                         \"n\",\"o\",\"p\",\"q\",\"r\",\"s\",\"t\",\"u\",\"v\",\"w\",\"x\",\"y\",\"z\",\"hi\",\"hello\",\"hey\",\"ok\",\n",
    "                         \"okay\",\"lol\",\"rofl\",\"hola\",\"let\",\"may\",\"etc\"])"
   ]
  },
  {
   "cell_type": "markdown",
   "metadata": {
    "id": "PzlBHPM-jGQb"
   },
   "source": [
    "## Mounting Google Drive"
   ]
  },
  {
   "cell_type": "code",
   "execution_count": null,
   "metadata": {
    "colab": {
     "base_uri": "https://localhost:8080/"
    },
    "id": "205GCh-1jOGS",
    "outputId": "7f7ac35e-20df-4b3a-ec12-53ae5f477ccf"
   },
   "outputs": [
    {
     "name": "stdout",
     "output_type": "stream",
     "text": [
      "Mounted at /content/gdrive\n"
     ]
    }
   ],
   "source": [
    "from google.colab import drive\n",
    "drive.mount('/content/gdrive')"
   ]
  },
  {
   "cell_type": "markdown",
   "metadata": {
    "id": "QVBo2SXQuqaN"
   },
   "source": [
    "## Loading the Saved Pre-processed Files"
   ]
  },
  {
   "cell_type": "code",
   "execution_count": null,
   "metadata": {
    "id": "Vpj71T0OzXp6"
   },
   "outputs": [],
   "source": [
    "clean_data=pd.read_csv(\"/content/gdrive/MyDrive/Colab Notebooks/Case_Study_1/pre_processed_data_no_nan.csv\")"
   ]
  },
  {
   "cell_type": "code",
   "execution_count": null,
   "metadata": {
    "colab": {
     "base_uri": "https://localhost:8080/"
    },
    "id": "b4hLn_HVajF2",
    "outputId": "f10d9c75-f8b3-4fab-9b92-3c35b9d89337"
   },
   "outputs": [
    {
     "data": {
      "text/plain": [
       "(159192, 7)"
      ]
     },
     "execution_count": 7,
     "metadata": {
      "tags": []
     },
     "output_type": "execute_result"
    }
   ],
   "source": [
    "clean_data.shape"
   ]
  },
  {
   "cell_type": "code",
   "execution_count": null,
   "metadata": {
    "colab": {
     "base_uri": "https://localhost:8080/",
     "height": 142
    },
    "id": "lzy-PIeSz4W4",
    "outputId": "6a19b559-47c6-46d6-9c1a-014e7eb079a4"
   },
   "outputs": [
    {
     "data": {
      "text/html": [
       "<div>\n",
       "<style scoped>\n",
       "    .dataframe tbody tr th:only-of-type {\n",
       "        vertical-align: middle;\n",
       "    }\n",
       "\n",
       "    .dataframe tbody tr th {\n",
       "        vertical-align: top;\n",
       "    }\n",
       "\n",
       "    .dataframe thead th {\n",
       "        text-align: right;\n",
       "    }\n",
       "</style>\n",
       "<table border=\"1\" class=\"dataframe\">\n",
       "  <thead>\n",
       "    <tr style=\"text-align: right;\">\n",
       "      <th></th>\n",
       "      <th>comment_text</th>\n",
       "      <th>toxic</th>\n",
       "      <th>severe_toxic</th>\n",
       "      <th>obscene</th>\n",
       "      <th>threat</th>\n",
       "      <th>insult</th>\n",
       "      <th>identity_hate</th>\n",
       "    </tr>\n",
       "  </thead>\n",
       "  <tbody>\n",
       "    <tr>\n",
       "      <th>130557</th>\n",
       "      <td>post user talk cohesion talk</td>\n",
       "      <td>0</td>\n",
       "      <td>0</td>\n",
       "      <td>0</td>\n",
       "      <td>0</td>\n",
       "      <td>0</td>\n",
       "      <td>0</td>\n",
       "    </tr>\n",
       "    <tr>\n",
       "      <th>47573</th>\n",
       "      <td>currently senator oklahoma</td>\n",
       "      <td>0</td>\n",
       "      <td>0</td>\n",
       "      <td>0</td>\n",
       "      <td>0</td>\n",
       "      <td>0</td>\n",
       "      <td>0</td>\n",
       "    </tr>\n",
       "    <tr>\n",
       "      <th>114473</th>\n",
       "      <td>ved move follow statement poorly source likely...</td>\n",
       "      <td>0</td>\n",
       "      <td>0</td>\n",
       "      <td>0</td>\n",
       "      <td>0</td>\n",
       "      <td>0</td>\n",
       "      <td>0</td>\n",
       "    </tr>\n",
       "  </tbody>\n",
       "</table>\n",
       "</div>"
      ],
      "text/plain": [
       "                                             comment_text  ...  identity_hate\n",
       "130557                       post user talk cohesion talk  ...              0\n",
       "47573                          currently senator oklahoma  ...              0\n",
       "114473  ved move follow statement poorly source likely...  ...              0\n",
       "\n",
       "[3 rows x 7 columns]"
      ]
     },
     "execution_count": 8,
     "metadata": {
      "tags": []
     },
     "output_type": "execute_result"
    }
   ],
   "source": [
    "clean_data.sample(3)"
   ]
  },
  {
   "cell_type": "markdown",
   "metadata": {
    "id": "lUUtQbu6vpeW"
   },
   "source": [
    "## Splitting Data-Set into Train and Test (Stratify Sampling)"
   ]
  },
  {
   "cell_type": "code",
   "execution_count": null,
   "metadata": {
    "id": "kaYKh909ACog"
   },
   "outputs": [],
   "source": [
    "X=clean_data['comment_text']\n",
    "y=clean_data.drop(columns=['comment_text'])"
   ]
  },
  {
   "cell_type": "code",
   "execution_count": null,
   "metadata": {
    "id": "QrGP1ULaDAdo"
   },
   "outputs": [],
   "source": [
    "#reshaping the X into matrix, as the pre-requisite for iterative_train_test_split \n",
    "# X,y should be numpy ndarrays for iterative_train_test_split\n",
    "\n",
    "X_train,y_train, X_test,y_test = iterative_train_test_split(X.values.reshape(-1,1),\n",
    "                                                y.values,test_size = 0.2)"
   ]
  },
  {
   "cell_type": "code",
   "execution_count": null,
   "metadata": {
    "id": "5P_pT8OI5Kf7"
   },
   "outputs": [],
   "source": [
    "#re-mapping to original shape\n",
    "\n",
    "X_train=X_train.reshape(X_train.shape[0],)\n",
    "X_test=X_test.reshape(X_test.shape[0],)"
   ]
  },
  {
   "cell_type": "code",
   "execution_count": null,
   "metadata": {
    "colab": {
     "base_uri": "https://localhost:8080/"
    },
    "id": "hAguayryJeV3",
    "outputId": "4f37d674-baf9-4d09-b847-eba9006a7faa"
   },
   "outputs": [
    {
     "name": "stdout",
     "output_type": "stream",
     "text": [
      "Shape of X-Train (127353,)\n",
      "Shape of X-Test (31839,)\n",
      "Shape of y-Train (127353, 6)\n",
      "Shape of y-Test (31839, 6)\n"
     ]
    }
   ],
   "source": [
    "print(\"Shape of X-Train\",X_train.shape)\n",
    "print(\"Shape of X-Test\",X_test.shape)\n",
    "print(\"Shape of y-Train\",y_train.shape)\n",
    "print(\"Shape of y-Test\",y_test.shape)"
   ]
  },
  {
   "cell_type": "markdown",
   "metadata": {
    "id": "WgCwYRTW-Re_"
   },
   "source": [
    "## Vectorization using TF-IDF weighted Avg W2V"
   ]
  },
  {
   "cell_type": "markdown",
   "metadata": {
    "id": "RGk_NaCIFSkk"
   },
   "source": [
    "TF-IDF is unable to catch the scemantic meanings in a given input. so we will be using TF-IDF weighted Avg W2V for featurization with the help of Glove Model"
   ]
  },
  {
   "cell_type": "code",
   "execution_count": null,
   "metadata": {
    "id": "-q5RXgVsdmiB"
   },
   "outputs": [],
   "source": [
    "#downloading required glove files\n",
    "\n",
    "!wget --header=\"Host: downloads.cs.stanford.edu\" --header=\"User-Agent: Mozilla/5.0 (Windows NT 10.0; Win64; x64) AppleWebKit/537.36 (KHTML, like Gecko) Chrome/87.0.4280.88 Safari/537.36\" --header=\"Accept: text/html,application/xhtml+xml,application/xml;q=0.9,image/avif,image/webp,image/apng,*/*;q=0.8,application/signed-exchange;v=b3;q=0.9\" --header=\"Accept-Language: en-US,en;q=0.9\" --header=\"Cookie: _ga=GA1.2.2082044147.1609877841; _gid=GA1.2.481400140.1609877841\" --header=\"Connection: keep-alive\" \"http://downloads.cs.stanford.edu/nlp/data/glove.6B.zip\" -c -O 'glove.6B.zip'"
   ]
  },
  {
   "cell_type": "code",
   "execution_count": null,
   "metadata": {
    "id": "FYgRSR9GeKXZ"
   },
   "outputs": [],
   "source": [
    "#copying to google-drive\n",
    "\n",
    "!cp glove.6B.zip -r /content/gdrive/MyDrive/Colab\\ Notebooks/Case_Study_1/"
   ]
  },
  {
   "cell_type": "code",
   "execution_count": null,
   "metadata": {
    "id": "KFlxdE3z-hBg"
   },
   "outputs": [],
   "source": [
    "#Extracting the zip file\n",
    "\n",
    "from zipfile import ZipFile\n",
    "file_name=\"/content/gdrive/MyDrive/Colab Notebooks/Case_Study_1/glove.6B.zip\"\n",
    "with ZipFile(file_name,'r') as zip_file:\n",
    "  zip_file.extractall()"
   ]
  },
  {
   "cell_type": "code",
   "execution_count": null,
   "metadata": {
    "colab": {
     "base_uri": "https://localhost:8080/"
    },
    "id": "ZMBU_fP2C064",
    "outputId": "24c76fdd-4729-43db-f91f-49005f157973"
   },
   "outputs": [
    {
     "name": "stdout",
     "output_type": "stream",
     "text": [
      "Loaded 400000 word vectors.\n"
     ]
    }
   ],
   "source": [
    "# here we are using Glove which gives output of 300 dimensions\n",
    "# loading words and their corresponding w2v representation.\n",
    " \n",
    "w2v_dict = dict()\n",
    "f = open('glove.6B.300d.txt')\n",
    "for line in f:\n",
    "\tvalues = line.split()\n",
    "\tword = values[0]\n",
    "\tvec = np.asarray(values[1:], dtype='float32')     \n",
    "\tw2v_dict[word] = vec\n",
    "f.close()\n",
    "print('Loaded %s word vectors.' % len(w2v_dict))\n",
    "w2v_words =  set(w2v_dict.keys())"
   ]
  },
  {
   "cell_type": "code",
   "execution_count": null,
   "metadata": {
    "id": "epB3-80MdVZa"
   },
   "outputs": [],
   "source": [
    "# TF-IDF vectorizer\n",
    "\n",
    "vectorizer = TfidfVectorizer(min_df=10,ngram_range=(1,1),stop_words=final_stop_words,use_idf=True)\n",
    "vectorizer.fit(X_train)\n",
    "\n",
    "# we are converting a dictionary with word as a key, and the idf as a value\n",
    "\n",
    "tfidf_dict = dict(zip(vectorizer.get_feature_names(), list(vectorizer.idf_)))\n",
    "tfidf_words = set(vectorizer.get_feature_names())"
   ]
  },
  {
   "cell_type": "code",
   "execution_count": null,
   "metadata": {
    "colab": {
     "base_uri": "https://localhost:8080/"
    },
    "id": "7k91K24OktS_",
    "outputId": "01879c32-5bf2-4cb0-ed15-4cb3c9c9aeee"
   },
   "outputs": [
    {
     "data": {
      "text/plain": [
       "['/content/gdrive/MyDrive/Colab Notebooks/Case_Study_1/w2v_words.pkl']"
      ]
     },
     "execution_count": 56,
     "metadata": {
      "tags": []
     },
     "output_type": "execute_result"
    }
   ],
   "source": [
    "#save data for future use\n",
    "\n",
    "joblib.dump(tfidf_dict,'/content/gdrive/MyDrive/Colab Notebooks/Case_Study_1/tfidf_dict.pkl')\n",
    "joblib.dump(tfidf_words,'/content/gdrive/MyDrive/Colab Notebooks/Case_Study_1/tfidf_words.pkl')\n",
    "joblib.dump(w2v_dict,'/content/gdrive/MyDrive/Colab Notebooks/Case_Study_1/w2v_dict.pkl')\n",
    "joblib.dump(w2v_words,'/content/gdrive/MyDrive/Colab Notebooks/Case_Study_1/w2v_words.pkl')"
   ]
  },
  {
   "cell_type": "code",
   "execution_count": null,
   "metadata": {
    "id": "x-AxloST437R"
   },
   "outputs": [],
   "source": [
    "# computing tf-idf weighted word2vec for each comment.\n",
    "\n",
    "def comp_tfidf_weighted_w2v(data,w2v_words,tfidf_words,w2v_dict,tfidf_dict):\n",
    "\n",
    "    \"\"\"function to calculate TF-IDF weighted avg W2V\"\"\"\n",
    "    \n",
    "    tfidf_w2v = []\n",
    "    for sentence in tqdm(data):\n",
    "        vector = np.zeros(300) \n",
    "        # as word vectors are of zero length\n",
    "        tf_idf_weight =0;\n",
    "        # num of words with a valid vector in the sentence/review\n",
    "        try:\n",
    "            for word in sentence.split():\n",
    "                # for each word in a review/sentence\n",
    "                if (word in w2v_words) and (word in tfidf_words):\n",
    "                    vec = w2v_dict[word] \n",
    "                    # getting the vector for each word\n",
    "                    # here we are multiplying idf value(dictionary[word]) and \n",
    "                    #the tf value((sentence.count(word)/len(sentence.split())))\n",
    "                    tf_idf = tfidf_dict[word]*(sentence.count(word)/len(sentence.split()))\n",
    "                    # getting the tfidf value for each word\n",
    "                    vector += (vec * tf_idf) # calculating tfidf weighted w2v\n",
    "                    tf_idf_weight += tf_idf\n",
    "        except:\n",
    "            tf_idf_weight =0\n",
    "        if tf_idf_weight != 0:\n",
    "            vector /= tf_idf_weight\n",
    "        tfidf_w2v.append(vector)\n",
    "    return np.array(tfidf_w2v)"
   ]
  },
  {
   "cell_type": "code",
   "execution_count": null,
   "metadata": {
    "colab": {
     "base_uri": "https://localhost:8080/",
     "referenced_widgets": [
      "0bb90b7594314f0e9e0ca632f92c24fe",
      "4815fa6a98e24a15aac2b621f2533bce",
      "73989c1d1c5f4d4f97f6e2898e422ed5",
      "c811089fd578445f8c34461852fd3c41",
      "bf5786e4800e4171a85ae22409b4e086",
      "15e4ea75a71c40f7b088ccf280f8ddef",
      "ef9a30196f824af7af555c4ec2aba26b",
      "a289ad84b5084dd7950fd56ab69e2b10",
      "f97dc123f2a04a05b8b27d1285711f71",
      "d10450431d4d4cd4a8e68b3f72f5a325",
      "0f61eebd7ef0430d8e1c3087ae1d349d",
      "73d8fc7eca154b39a1c45e321d8c4b78",
      "234c1748426c4abfaafa819655005b90",
      "22e404a150474989a210fbc873cfa105",
      "4196532372d949cfb1d0aaa39c89c1a9",
      "97f55a99a8174832b1e7a169d4d7721f"
     ]
    },
    "id": "XGZsFdvrMDUP",
    "outputId": "805607e4-de27-40be-af82-fbae4172a85e"
   },
   "outputs": [
    {
     "data": {
      "application/vnd.jupyter.widget-view+json": {
       "model_id": "0bb90b7594314f0e9e0ca632f92c24fe",
       "version_major": 2,
       "version_minor": 0
      },
      "text/plain": [
       "HBox(children=(FloatProgress(value=0.0, max=127353.0), HTML(value='')))"
      ]
     },
     "metadata": {
      "tags": []
     },
     "output_type": "display_data"
    },
    {
     "name": "stdout",
     "output_type": "stream",
     "text": [
      "\n"
     ]
    },
    {
     "data": {
      "application/vnd.jupyter.widget-view+json": {
       "model_id": "f97dc123f2a04a05b8b27d1285711f71",
       "version_major": 2,
       "version_minor": 0
      },
      "text/plain": [
       "HBox(children=(FloatProgress(value=0.0, max=31839.0), HTML(value='')))"
      ]
     },
     "metadata": {
      "tags": []
     },
     "output_type": "display_data"
    },
    {
     "name": "stdout",
     "output_type": "stream",
     "text": [
      "\n"
     ]
    }
   ],
   "source": [
    "X_train_tfidf_w2v=comp_tfidf_weighted_w2v(X_train,w2v_words,tfidf_words,w2v_dict,tfidf_dict)\n",
    "X_test_tfidf_w2v=comp_tfidf_weighted_w2v(X_test,w2v_words,tfidf_words,w2v_dict,tfidf_dict)"
   ]
  },
  {
   "cell_type": "code",
   "execution_count": null,
   "metadata": {
    "colab": {
     "base_uri": "https://localhost:8080/"
    },
    "id": "zZpevXKQf7SU",
    "outputId": "1b174ffa-36f0-46a2-a3dd-c7c973213e26"
   },
   "outputs": [
    {
     "name": "stdout",
     "output_type": "stream",
     "text": [
      "Shape of X-Train data= (127353, 300)\n",
      "Shape of X-Test data= (31839, 300)\n"
     ]
    }
   ],
   "source": [
    "print(\"Shape of X-Train data=\",X_train_tfidf_w2v.shape)\n",
    "print(\"Shape of X-Test data=\",X_test_tfidf_w2v.shape)"
   ]
  },
  {
   "cell_type": "markdown",
   "metadata": {
    "id": "y0KleUYyP4Ko"
   },
   "source": [
    "Since TF-IDF weighted Avg W2V is advantageous in terms of scemantic meanings, let us continue modelling with the same."
   ]
  },
  {
   "cell_type": "markdown",
   "metadata": {
    "id": "fHjZ-YOhB6TH"
   },
   "source": [
    "## 7) Modelling"
   ]
  },
  {
   "cell_type": "markdown",
   "metadata": {
    "id": "kzrTwGik0MHd"
   },
   "source": [
    "Reference:\n",
    "\n",
    "http://scikit.ml/api/skmultilearn.html\n",
    "\n",
    "https://github.com/scikit-multilearn/scikit-multilearn"
   ]
  },
  {
   "cell_type": "markdown",
   "metadata": {
    "id": "jzm1CUofVuDO"
   },
   "source": [
    "Solving a multi-label classification problem is not straight forward. We dont have a straight away algorithm or classifier, but we do have \"adapted\" algorithms.  \n",
    "\n",
    "Let's discuss different approaches to solve a multi-label classification problem, namely:\n",
    "\n",
    "1) Problem Transformation\n",
    "\n",
    "2) Ensembles\n",
    "\n",
    "3) Adapted Algorithm ( we will not study about this)\n",
    "\n",
    "4) Neural Networks (MLP)\n",
    "\n"
   ]
  },
  {
   "cell_type": "markdown",
   "metadata": {
    "id": "BzuNIC5PW_RI"
   },
   "source": [
    "### 7.1 Problem Transformation\n",
    "\n"
   ]
  },
  {
   "cell_type": "markdown",
   "metadata": {
    "id": "EWMfcIJAXFr0"
   },
   "source": [
    "In this approach we are transforming multi-label classification task into single-label classification task. \n",
    "\n",
    "In detail, we are converting/tranforming multi-label classification problem into known classifiaction techniques ie transforming multi-label task into different sets of binary class classification task (1 binary classifiaction task-per 1 label) or multi-class classifiaction on a whole.\n",
    "\n",
    "There are different strategies to convert multi-label to single label as follows.\n",
    "\n",
    "1) Binary Relevance\n",
    "\n",
    "2) Classifier Chains\n",
    "\n",
    "3) Label Powerset"
   ]
  },
  {
   "cell_type": "markdown",
   "metadata": {
    "id": "wkF7fGyEY0Rb"
   },
   "source": [
    "#### 7.1.1 Binary Relevance"
   ]
  },
  {
   "cell_type": "markdown",
   "metadata": {
    "id": "KbjGMP6dZILr"
   },
   "source": [
    "Binary Relevance is the simplest technique, which basically treats each target label as a separate single Binary class classification problem."
   ]
  },
  {
   "cell_type": "markdown",
   "metadata": {
    "id": "8xC4Ja7CcSZh"
   },
   "source": [
    "![image.png](data:image/png;base64,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)"
   ]
  },
  {
   "cell_type": "code",
   "execution_count": null,
   "metadata": {
    "id": "bJ6UhxH5CEaW"
   },
   "outputs": [],
   "source": [
    "def cal_metrics(y_true,y_pred,y_pred_proba):\n",
    "\n",
    "    \"\"\"function to calculate final metrics \"\"\"\n",
    "\n",
    "    if isinstance(y_true,scipy.sparse.lil.lil_matrix):\n",
    "        y_true=y_true.A\n",
    "    \n",
    "    if isinstance(y_pred,scipy.sparse.lil.lil_matrix):\n",
    "        y_pred=y_pred.A\n",
    "    \n",
    "    if isinstance(y_pred_proba,scipy.sparse.lil.lil_matrix):\n",
    "        y_pred_proba=y_pred_proba.A\n",
    "\n",
    "    acc=accuracy_score(y_true,y_pred)\n",
    "    avg_auc=np.mean(roc_auc_score(y_true, y_pred_proba, average=None))\n",
    "    ham_loss=hamming_loss(y_true,y_pred)\n",
    "    logloss=log_loss(y_true,y_pred)\n",
    "\n",
    "    return {\"Accuracy\":acc,\"Average AUC\":avg_auc,\"Hamming Loss\":ham_loss,\"Log Loss\":logloss}"
   ]
  },
  {
   "cell_type": "code",
   "execution_count": null,
   "metadata": {
    "id": "lHPRWCaV7LiF"
   },
   "outputs": [],
   "source": [
    "def draw_samples(x,y,sample_size,replacement=True):\n",
    "    \n",
    "    \"\"\"custom function to draw the samples\"\"\"\n",
    "    if (len(x)==len(y)):\n",
    "        indices=np.random.choice(len(x),size=sample_size,replace=replacement)\n",
    "        return (x[indices],y[indices])\n",
    "    else:\n",
    "        print(\"input arrays are not of equal length\")"
   ]
  },
  {
   "cell_type": "code",
   "execution_count": null,
   "metadata": {
    "colab": {
     "base_uri": "https://localhost:8080/",
     "height": 253,
     "referenced_widgets": [
      "ca97311a9a7f456d8c6bc9348a366b3b",
      "b116fc46b08549b4bf41f55b2301791f",
      "ca599e40be584f389392de6a5f1816fe",
      "cabcfc72b85945b2b4de2adf010cc13d",
      "cfafed50a4164af998710db96cdcf345",
      "a69604a4751a4690befa15f618a48f75",
      "b82b2ebd6aa54f498f8d2cd8d98b52ee",
      "a99a382e700f4310ab026c6bbcbb41a0"
     ]
    },
    "id": "HwZHHRww6cTw",
    "outputId": "8c4f3292-61e4-4912-eaba-f2ea73fe044d"
   },
   "outputs": [
    {
     "data": {
      "application/vnd.jupyter.widget-view+json": {
       "model_id": "ca97311a9a7f456d8c6bc9348a366b3b",
       "version_major": 2,
       "version_minor": 0
      },
      "text/plain": [
       "HBox(children=(FloatProgress(value=0.0, max=5.0), HTML(value='')))"
      ]
     },
     "metadata": {
      "tags": []
     },
     "output_type": "display_data"
    },
    {
     "name": "stdout",
     "output_type": "stream",
     "text": [
      "\n"
     ]
    },
    {
     "data": {
      "text/html": [
       "<div>\n",
       "<style scoped>\n",
       "    .dataframe tbody tr th:only-of-type {\n",
       "        vertical-align: middle;\n",
       "    }\n",
       "\n",
       "    .dataframe tbody tr th {\n",
       "        vertical-align: top;\n",
       "    }\n",
       "\n",
       "    .dataframe thead th {\n",
       "        text-align: right;\n",
       "    }\n",
       "</style>\n",
       "<table border=\"1\" class=\"dataframe\">\n",
       "  <thead>\n",
       "    <tr style=\"text-align: right;\">\n",
       "      <th></th>\n",
       "      <th>Classifier</th>\n",
       "      <th>Exact Match Ratio (Accuracy)</th>\n",
       "      <th>Average AUC</th>\n",
       "      <th>Hamming-Loss</th>\n",
       "      <th>Log-Loss</th>\n",
       "    </tr>\n",
       "  </thead>\n",
       "  <tbody>\n",
       "    <tr>\n",
       "      <th>0</th>\n",
       "      <td>Gaussian NB</td>\n",
       "      <td>0.765476</td>\n",
       "      <td>0.872074</td>\n",
       "      <td>0.124391</td>\n",
       "      <td>0.669759</td>\n",
       "    </tr>\n",
       "    <tr>\n",
       "      <th>1</th>\n",
       "      <td>Logistic Regression</td>\n",
       "      <td>0.904425</td>\n",
       "      <td>0.950750</td>\n",
       "      <td>0.025043</td>\n",
       "      <td>1.457457</td>\n",
       "    </tr>\n",
       "    <tr>\n",
       "      <th>2</th>\n",
       "      <td>Decision Tree</td>\n",
       "      <td>0.806464</td>\n",
       "      <td>0.663367</td>\n",
       "      <td>0.046295</td>\n",
       "      <td>2.119595</td>\n",
       "    </tr>\n",
       "    <tr>\n",
       "      <th>3</th>\n",
       "      <td>Random Forest</td>\n",
       "      <td>0.907598</td>\n",
       "      <td>0.893898</td>\n",
       "      <td>0.026032</td>\n",
       "      <td>1.403105</td>\n",
       "    </tr>\n",
       "    <tr>\n",
       "      <th>4</th>\n",
       "      <td>XGBoost</td>\n",
       "      <td>0.907346</td>\n",
       "      <td>0.951889</td>\n",
       "      <td>0.024598</td>\n",
       "      <td>1.351566</td>\n",
       "    </tr>\n",
       "  </tbody>\n",
       "</table>\n",
       "</div>"
      ],
      "text/plain": [
       "            Classifier  Exact Match Ratio (Accuracy)  ...  Hamming-Loss  Log-Loss\n",
       "0          Gaussian NB                      0.765476  ...      0.124391  0.669759\n",
       "1  Logistic Regression                      0.904425  ...      0.025043  1.457457\n",
       "2        Decision Tree                      0.806464  ...      0.046295  2.119595\n",
       "3        Random Forest                      0.907598  ...      0.026032  1.403105\n",
       "4              XGBoost                      0.907346  ...      0.024598  1.351566\n",
       "\n",
       "[5 rows x 5 columns]"
      ]
     },
     "execution_count": 17,
     "metadata": {
      "tags": []
     },
     "output_type": "execute_result"
    }
   ],
   "source": [
    "clf_list=[GaussianNB(),LogisticRegression(),\n",
    "          DecisionTreeClassifier(),RandomForestClassifier(),XGBClassifier()]\n",
    "\n",
    "acc=[]\n",
    "ham_loss=[]\n",
    "logloss=[]\n",
    "avg_auc=[]\n",
    "\n",
    "for base_clf in tqdm(clf_list):\n",
    "    clf = BinaryRelevance(base_clf)\n",
    "    clf.fit(X_train_tfidf_w2v, y_train)\n",
    "    pred = clf.predict(X_test_tfidf_w2v)\n",
    "    pred_proba=clf.predict_proba(X_test_tfidf_w2v)\n",
    "    acc.append(accuracy_score(y_test,pred))\n",
    "    avg_auc.append(np.mean(roc_auc_score(y_test, pred_proba.A, average=None)))\n",
    "    ham_loss.append(hamming_loss(y_test,pred))\n",
    "    logloss.append(log_loss(y_test,pred.A))\n",
    "\n",
    "bin_rel_res=pd.DataFrame(columns=['Classifier','Exact Match Ratio (Accuracy)','Average AUC',\n",
    "                                  'Hamming-Loss','Log-Loss'])\n",
    "bin_rel_res['Classifier']=['Gaussian NB','Logistic Regression','Decision Tree','Random Forest','XGBoost']\n",
    "bin_rel_res['Exact Match Ratio (Accuracy)']=acc\n",
    "bin_rel_res['Hamming-Loss']=ham_loss\n",
    "bin_rel_res['Log-Loss']=logloss\n",
    "bin_rel_res['Average AUC']=avg_auc\n",
    "bin_rel_res"
   ]
  },
  {
   "cell_type": "markdown",
   "metadata": {
    "id": "YUcyOXlA08r6"
   },
   "source": [
    "With Binary Relavance (BR), Logistic regression and XGBoost gives pretty similar results with small variations."
   ]
  },
  {
   "cell_type": "markdown",
   "metadata": {
    "id": "tsqg4XECLYXT"
   },
   "source": [
    "SVM is skipped as train time complexity as its training is computationally expensive on larger data-sets like in this case."
   ]
  },
  {
   "cell_type": "markdown",
   "metadata": {
    "id": "TRXjTduKWUnR"
   },
   "source": [
    "We have just used the base classifier with default parameters, If interested we can do hyper parameter tunning. But since Binary relavance doesnt count for correlation between features, we are not using/proceeding with binary relavance"
   ]
  },
  {
   "cell_type": "markdown",
   "metadata": {
    "id": "EYWLnLrVH2fo"
   },
   "source": [
    "#### 7.1.2 Classifier Chains"
   ]
  },
  {
   "cell_type": "markdown",
   "metadata": {
    "id": "mP-F0yS4dLmu"
   },
   "source": [
    "Classifier Chains is another simple technique, unlike Binary Relevance Classifier Chain preserves the relationship between the features. The operation of classifier chain works as follows...\n",
    "\n",
    "classifier-1 will takes all the inputs and fits on the first target labels alone and the classifier-2 takes all the inputs and the first target labels together and fit on the 2nd label. Classifier-3 takes all the inputs and the first, second target labels all together as input and fits on the 3rd target label. and so on\n",
    "\n",
    "Generalizing the folow as the first classifier is trained just on the input data and then each next classifier is trained on the input space and all the previous classifiers in the chain.\n",
    "\n"
   ]
  },
  {
   "cell_type": "markdown",
   "metadata": {
    "id": "3qYhRlgCgSph"
   },
   "source": [
    "![image.png](data:image/png;base64,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)"
   ]
  },
  {
   "cell_type": "code",
   "execution_count": null,
   "metadata": {
    "colab": {
     "base_uri": "https://localhost:8080/",
     "height": 253,
     "referenced_widgets": [
      "f6ede4cce038460dacea5d3efa84f6c1",
      "2b0351c3c41345169b631604dbc42c24",
      "3bb14723d6a446f5ae5941b3d480191c",
      "a3c139fcf6324d469da6c8d792432b9c",
      "ec4c29ad56ad4b908ada76e00617087b",
      "fbff9101312b4eea8bdb0a42b751f4be",
      "04d4b9f21e054db389eb0c5d5a7c820f",
      "3bf21e9772ba445ba52c92c6b351dbae"
     ]
    },
    "id": "uWPfz2wGKuA5",
    "outputId": "f17ad36d-adbf-4d32-c0d7-75049469e3d8"
   },
   "outputs": [
    {
     "data": {
      "application/vnd.jupyter.widget-view+json": {
       "model_id": "f6ede4cce038460dacea5d3efa84f6c1",
       "version_major": 2,
       "version_minor": 0
      },
      "text/plain": [
       "HBox(children=(FloatProgress(value=0.0, max=5.0), HTML(value='')))"
      ]
     },
     "metadata": {
      "tags": []
     },
     "output_type": "display_data"
    },
    {
     "name": "stdout",
     "output_type": "stream",
     "text": [
      "\n"
     ]
    },
    {
     "data": {
      "text/html": [
       "<div>\n",
       "<style scoped>\n",
       "    .dataframe tbody tr th:only-of-type {\n",
       "        vertical-align: middle;\n",
       "    }\n",
       "\n",
       "    .dataframe tbody tr th {\n",
       "        vertical-align: top;\n",
       "    }\n",
       "\n",
       "    .dataframe thead th {\n",
       "        text-align: right;\n",
       "    }\n",
       "</style>\n",
       "<table border=\"1\" class=\"dataframe\">\n",
       "  <thead>\n",
       "    <tr style=\"text-align: right;\">\n",
       "      <th></th>\n",
       "      <th>Classifier</th>\n",
       "      <th>Exact Match Ratio (Accuracy)</th>\n",
       "      <th>Average AUC</th>\n",
       "      <th>Hamming-Loss</th>\n",
       "      <th>Log-Loss</th>\n",
       "    </tr>\n",
       "  </thead>\n",
       "  <tbody>\n",
       "    <tr>\n",
       "      <th>0</th>\n",
       "      <td>Gaussian NB</td>\n",
       "      <td>0.764848</td>\n",
       "      <td>0.856806</td>\n",
       "      <td>0.145377</td>\n",
       "      <td>0.473552</td>\n",
       "    </tr>\n",
       "    <tr>\n",
       "      <th>1</th>\n",
       "      <td>Logistic Regression</td>\n",
       "      <td>0.906907</td>\n",
       "      <td>0.936180</td>\n",
       "      <td>0.025105</td>\n",
       "      <td>1.103328</td>\n",
       "    </tr>\n",
       "    <tr>\n",
       "      <th>2</th>\n",
       "      <td>Decision Tree</td>\n",
       "      <td>0.845127</td>\n",
       "      <td>0.656598</td>\n",
       "      <td>0.046725</td>\n",
       "      <td>1.374427</td>\n",
       "    </tr>\n",
       "    <tr>\n",
       "      <th>3</th>\n",
       "      <td>Random Forest</td>\n",
       "      <td>0.909137</td>\n",
       "      <td>0.888660</td>\n",
       "      <td>0.025215</td>\n",
       "      <td>1.132142</td>\n",
       "    </tr>\n",
       "    <tr>\n",
       "      <th>4</th>\n",
       "      <td>XGBoost</td>\n",
       "      <td>0.908980</td>\n",
       "      <td>0.938875</td>\n",
       "      <td>0.024572</td>\n",
       "      <td>1.026996</td>\n",
       "    </tr>\n",
       "  </tbody>\n",
       "</table>\n",
       "</div>"
      ],
      "text/plain": [
       "            Classifier  Exact Match Ratio (Accuracy)  ...  Hamming-Loss  Log-Loss\n",
       "0          Gaussian NB                      0.764848  ...      0.145377  0.473552\n",
       "1  Logistic Regression                      0.906907  ...      0.025105  1.103328\n",
       "2        Decision Tree                      0.845127  ...      0.046725  1.374427\n",
       "3        Random Forest                      0.909137  ...      0.025215  1.132142\n",
       "4              XGBoost                      0.908980  ...      0.024572  1.026996\n",
       "\n",
       "[5 rows x 5 columns]"
      ]
     },
     "execution_count": 18,
     "metadata": {
      "tags": []
     },
     "output_type": "execute_result"
    }
   ],
   "source": [
    "clf_list=[GaussianNB(),LogisticRegression(),\n",
    "          DecisionTreeClassifier(),RandomForestClassifier(),XGBClassifier()]\n",
    "\n",
    "acc=[]\n",
    "ham_loss=[]\n",
    "logloss=[]\n",
    "avg_auc=[]\n",
    "\n",
    "for base_clf in tqdm(clf_list):\n",
    "    clf = ClassifierChain(base_clf)\n",
    "    clf.fit(X_train_tfidf_w2v, y_train)\n",
    "    pred = clf.predict(X_test_tfidf_w2v)\n",
    "    pred_proba=clf.predict_proba(X_test_tfidf_w2v)\n",
    "    acc.append(accuracy_score(y_test,pred))\n",
    "    avg_auc.append(np.mean(roc_auc_score(y_test, pred_proba.A, average=None)))\n",
    "    ham_loss.append(hamming_loss(y_test,pred))\n",
    "    logloss.append(log_loss(y_test,pred.A))\n",
    "\n",
    "clf_chain_res=pd.DataFrame(columns=['Classifier','Exact Match Ratio (Accuracy)',\n",
    "                                  'Average AUC','Hamming-Loss','Log-Loss'])\n",
    "clf_chain_res['Classifier']=['Gaussian NB','Logistic Regression','Decision Tree','Random Forest','XGBoost']\n",
    "clf_chain_res['Exact Match Ratio (Accuracy)']=acc\n",
    "clf_chain_res['Hamming-Loss']=ham_loss\n",
    "clf_chain_res['Log-Loss']=logloss\n",
    "clf_chain_res['Average AUC']=avg_auc\n",
    "clf_chain_res\n"
   ]
  },
  {
   "cell_type": "markdown",
   "metadata": {
    "id": "LnyxVwvM1Nqg"
   },
   "source": [
    "Comparing results with Binary Relavance, Classifier chain metrics have been improved very slightly might be classifiers is able to preserve the correlation between the features and performing well with our data-set\n",
    "\n",
    "In Classifier chain also the Logistic regression and XGBoost classifier results seems to be and high and very close to each other."
   ]
  },
  {
   "cell_type": "markdown",
   "metadata": {
    "id": "HspWF6Z-Z9Ql"
   },
   "source": [
    "#### 7.1.3 Label Power-Set "
   ]
  },
  {
   "cell_type": "markdown",
   "metadata": {
    "id": "cbb4vLPtuDx0"
   },
   "source": [
    "Label Power-Set is a very elegant and best way of transforming multi-label problem to multi-class classification problem. In this approach, we are mapping all unique target labels  under same class label. For example in the below figure, (1,1,1,1) is mapped to class-1 through out all the instances in the dataset. and also (1,0,0,1) is mapped to class-2 throught out all the instances in the dataset. similarly all the unique class labels are are mapped to the same class throught out the data set. \n",
    "\n",
    "This Approach preserves the correlation/dependencies between the features. But only disadvantage is that, as the no:of target labels increases, the unique class labels to be mapped is also increased exponentially. And training a such huge multi-class classification problem becomes much more complex and results would be with lower accuracy\n",
    "\n",
    "for an instance...\n",
    "\n",
    "2-target labels contains 4 unique combinations\n",
    "\n",
    "3-target labels contains 8 unique combinations\n",
    "\n",
    "4-target labels contains 16 unique combinations\n",
    "\n",
    "n-target labels contains 2^n unique combinations"
   ]
  },
  {
   "cell_type": "markdown",
   "metadata": {
    "id": "OKs0pqRBwbJm"
   },
   "source": [
    "![image.png](data:image/png;base64,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)"
   ]
  },
  {
   "cell_type": "code",
   "execution_count": null,
   "metadata": {
    "colab": {
     "base_uri": "https://localhost:8080/",
     "height": 253,
     "referenced_widgets": [
      "c9218ca7e49e41bfa52fb25471ec1606",
      "0a50c547f1f04fc292569858186be53b",
      "1c83472f2b5e48a7b774ca472b3ed012",
      "7561886b4e0240708b35238838e3aa57",
      "2ee9cb345f214559bcfc43f2ae183e7d",
      "4b660d4e2c304853aa6a910526246fe8",
      "0a5d9970043a41cf96c50bfc7acf0cf4",
      "afc4a335626a4f98b9f66132a01e37b1"
     ]
    },
    "id": "E6VRTqemWMrE",
    "outputId": "219cad19-4d14-46f4-8e59-dae61d4a1ae3"
   },
   "outputs": [
    {
     "data": {
      "application/vnd.jupyter.widget-view+json": {
       "model_id": "c9218ca7e49e41bfa52fb25471ec1606",
       "version_major": 2,
       "version_minor": 0
      },
      "text/plain": [
       "HBox(children=(FloatProgress(value=0.0, max=5.0), HTML(value='')))"
      ]
     },
     "metadata": {
      "tags": []
     },
     "output_type": "display_data"
    },
    {
     "name": "stdout",
     "output_type": "stream",
     "text": [
      "\n"
     ]
    },
    {
     "data": {
      "text/html": [
       "<div>\n",
       "<style scoped>\n",
       "    .dataframe tbody tr th:only-of-type {\n",
       "        vertical-align: middle;\n",
       "    }\n",
       "\n",
       "    .dataframe tbody tr th {\n",
       "        vertical-align: top;\n",
       "    }\n",
       "\n",
       "    .dataframe thead th {\n",
       "        text-align: right;\n",
       "    }\n",
       "</style>\n",
       "<table border=\"1\" class=\"dataframe\">\n",
       "  <thead>\n",
       "    <tr style=\"text-align: right;\">\n",
       "      <th></th>\n",
       "      <th>Classifier</th>\n",
       "      <th>Exact Match Ratio (Accuracy)</th>\n",
       "      <th>Average AUC</th>\n",
       "      <th>Hamming-Loss</th>\n",
       "      <th>Log-Loss</th>\n",
       "    </tr>\n",
       "  </thead>\n",
       "  <tbody>\n",
       "    <tr>\n",
       "      <th>0</th>\n",
       "      <td>Gaussian NB</td>\n",
       "      <td>0.480574</td>\n",
       "      <td>0.849624</td>\n",
       "      <td>0.126611</td>\n",
       "      <td>2.750519</td>\n",
       "    </tr>\n",
       "    <tr>\n",
       "      <th>1</th>\n",
       "      <td>Logistic Regression</td>\n",
       "      <td>0.907974</td>\n",
       "      <td>0.953990</td>\n",
       "      <td>0.025257</td>\n",
       "      <td>1.077268</td>\n",
       "    </tr>\n",
       "    <tr>\n",
       "      <th>2</th>\n",
       "      <td>Decision Tree</td>\n",
       "      <td>0.839788</td>\n",
       "      <td>0.655490</td>\n",
       "      <td>0.046112</td>\n",
       "      <td>1.390550</td>\n",
       "    </tr>\n",
       "    <tr>\n",
       "      <th>3</th>\n",
       "      <td>Random Forest</td>\n",
       "      <td>0.906907</td>\n",
       "      <td>0.911457</td>\n",
       "      <td>0.028053</td>\n",
       "      <td>0.730665</td>\n",
       "    </tr>\n",
       "    <tr>\n",
       "      <th>4</th>\n",
       "      <td>XGBoost</td>\n",
       "      <td>0.909168</td>\n",
       "      <td>0.951175</td>\n",
       "      <td>0.025933</td>\n",
       "      <td>0.909725</td>\n",
       "    </tr>\n",
       "  </tbody>\n",
       "</table>\n",
       "</div>"
      ],
      "text/plain": [
       "            Classifier  Exact Match Ratio (Accuracy)  ...  Hamming-Loss  Log-Loss\n",
       "0          Gaussian NB                      0.480574  ...      0.126611  2.750519\n",
       "1  Logistic Regression                      0.907974  ...      0.025257  1.077268\n",
       "2        Decision Tree                      0.839788  ...      0.046112  1.390550\n",
       "3        Random Forest                      0.906907  ...      0.028053  0.730665\n",
       "4              XGBoost                      0.909168  ...      0.025933  0.909725\n",
       "\n",
       "[5 rows x 5 columns]"
      ]
     },
     "execution_count": 19,
     "metadata": {
      "tags": []
     },
     "output_type": "execute_result"
    }
   ],
   "source": [
    "clf_list=[GaussianNB(),LogisticRegression(),\n",
    "          DecisionTreeClassifier(),RandomForestClassifier(),XGBClassifier()]\n",
    "\n",
    "acc=[]\n",
    "ham_loss=[]\n",
    "logloss=[]\n",
    "avg_auc=[]\n",
    "\n",
    "for base_clf in tqdm(clf_list):\n",
    "    clf = LabelPowerset(base_clf)\n",
    "    clf.fit(X_train_tfidf_w2v, y_train)\n",
    "    pred = clf.predict(X_test_tfidf_w2v)\n",
    "    pred_proba=clf.predict_proba(X_test_tfidf_w2v)\n",
    "    acc.append(accuracy_score(y_test,pred))\n",
    "    avg_auc.append(np.mean(roc_auc_score(y_test, pred_proba.A, average=None)))\n",
    "    ham_loss.append(hamming_loss(y_test,pred))\n",
    "    logloss.append(log_loss(y_test,pred.A))\n",
    "\n",
    "lbl_pwr_set_res=pd.DataFrame(columns=['Classifier','Exact Match Ratio (Accuracy)',\n",
    "                                  'Average AUC','Hamming-Loss','Log-Loss'])\n",
    "lbl_pwr_set_res['Classifier']=['Gaussian NB','Logistic Regression','Decision Tree','Random Forest','XGBoost']\n",
    "lbl_pwr_set_res['Exact Match Ratio (Accuracy)']=acc\n",
    "lbl_pwr_set_res['Hamming-Loss']=ham_loss\n",
    "lbl_pwr_set_res['Log-Loss']=logloss\n",
    "lbl_pwr_set_res['Average AUC']=avg_auc\n",
    "lbl_pwr_set_res"
   ]
  },
  {
   "cell_type": "markdown",
   "metadata": {
    "id": "ez2rQiXycyKJ"
   },
   "source": [
    "Label Power-set is the powerful problem transformation technique for multi-label classification problem. \n",
    "\n",
    "But our results are very much close to the Binary Relevance and Classifier chain results. In our data-set we have 41 unique combinations (As we seen in the EDA), because of such complexity, Label Power set results are very much close to Binary relevance and classifier chain's. But slightly ahead of both the techniques.\n",
    "\n",
    "Results of Logistic Regression and XGBoost are also high and close with Label power set."
   ]
  },
  {
   "cell_type": "markdown",
   "metadata": {
    "id": "wthsq39L2Ut-"
   },
   "source": [
    "### 7.2 Ensembles (Custom Stacking)"
   ]
  },
  {
   "cell_type": "markdown",
   "metadata": {
    "id": "BFNV8llybRe0"
   },
   "source": [
    "In this approach, we will implement the custom stacking.\n",
    "\n",
    "\n",
    "**Steps to implement custom stacking**\n",
    "\n",
    "1) Randomly split the Training Data-Set into two parts (stratify) say D1, D2\n",
    "\n",
    "2) Train m-base classifiers of the stacking model using m-different samples sets generated (with replacement) from D1.\n",
    "\n",
    "3) After training the m-base classifiers, predict the output using D2.\n",
    "\n",
    "4) Create a data-set, say D3 with the predictions of m-base classifiers and corresponding target labels from D2 as training data-set for meta classifier\n",
    "\n",
    "5) Train Meta-Classifier of the stacking model using D3 data-set\n",
    "\n",
    "6) To evaluate final output, create a data set D4 with the predictions with trained m-base classifiers and corresponding y-labels using Testing Data-set.\n",
    "\n",
    "7) Calculate the final metrics using D4\n"
   ]
  },
  {
   "cell_type": "code",
   "execution_count": null,
   "metadata": {
    "id": "W_UseTFE13Pe"
   },
   "outputs": [],
   "source": [
    "#stratify sampling for multi-label classification\n",
    "\n",
    "X_d1,y_d1, X_d2,y_d2 = iterative_train_test_split(X_train_tfidf_w2v,\n",
    "                                                y_train,test_size = 0.5)"
   ]
  },
  {
   "cell_type": "code",
   "execution_count": null,
   "metadata": {
    "colab": {
     "base_uri": "https://localhost:8080/"
    },
    "id": "1BxD26Vf4GI3",
    "outputId": "7c16e993-74b4-4f56-bfa4-8c0186cb535b"
   },
   "outputs": [
    {
     "name": "stdout",
     "output_type": "stream",
     "text": [
      "Shape of X-D1 (63677, 300)\n",
      "Shape of y-D1 (63677, 6)\n",
      "\n",
      "\n",
      "Shape of X-D2 (63676, 300)\n",
      "Shape of y-D2 (63676, 6)\n"
     ]
    }
   ],
   "source": [
    "print(\"Shape of X-D1\",X_d1.shape)\n",
    "print(\"Shape of y-D1\",y_d1.shape)\n",
    "print(\"\\n\")\n",
    "print(\"Shape of X-D2\",X_d2.shape)\n",
    "print(\"Shape of y-D2\",y_d2.shape)"
   ]
  },
  {
   "cell_type": "markdown",
   "metadata": {
    "id": "B2TfZ7G7m5tw"
   },
   "source": [
    "While performing stacking, it is always suggested to perform the hyper parameter tunning of the base classifiers to obtain the better results. So in this session we will perform the Hyper-Parameter Tuning (HPT) on various classifier like Logistic Regression, SVM, Decision Trees, Random Forest, XGBoost "
   ]
  },
  {
   "cell_type": "markdown",
   "metadata": {
    "id": "XyeljStGwPsF"
   },
   "source": [
    "#### Hyper Paramter Tunning (HPT)"
   ]
  },
  {
   "cell_type": "markdown",
   "metadata": {
    "id": "QYSi1IaEwWA5"
   },
   "source": [
    "##### HPT-Logistic Regression"
   ]
  },
  {
   "cell_type": "code",
   "execution_count": null,
   "metadata": {
    "colab": {
     "base_uri": "https://localhost:8080/"
    },
    "id": "5CugnNmxAh_g",
    "outputId": "13e9ef30-a945-45c9-e5f6-300c27646877"
   },
   "outputs": [
    {
     "name": "stdout",
     "output_type": "stream",
     "text": [
      "Fitting 5 folds for each of 7 candidates, totalling 35 fits\n"
     ]
    },
    {
     "name": "stderr",
     "output_type": "stream",
     "text": [
      "[Parallel(n_jobs=-1)]: Using backend LokyBackend with 4 concurrent workers.\n",
      "[Parallel(n_jobs=-1)]: Done  35 out of  35 | elapsed:  8.2min finished\n"
     ]
    }
   ],
   "source": [
    "from sklearn.model_selection import GridSearchCV\n",
    "\n",
    "parameters = [\n",
    "              {\n",
    "        'classifier': [LogisticRegression(random_state=42)],\n",
    "        'classifier__C': [1000,100, 10, 1.0, 0.1, 0.01,0.001]\n",
    "        }\n",
    "              ]\n",
    "\n",
    "clf = GridSearchCV(LabelPowerset(), parameters, scoring='accuracy',n_jobs=-1,\n",
    "                   verbose=1,return_train_score=True)\n",
    "clf.fit(X_d1, y_d1)\n",
    "\n",
    "results = pd.DataFrame.from_dict(clf.cv_results_)"
   ]
  },
  {
   "cell_type": "code",
   "execution_count": null,
   "metadata": {
    "colab": {
     "base_uri": "https://localhost:8080/",
     "height": 297
    },
    "id": "alvVm9JucVMc",
    "outputId": "bc40a5d2-1088-44d7-8002-d979bd2790c8"
   },
   "outputs": [
    {
     "data": {
      "image/png": "[encoded data removed]",
      "text/plain": [
       "<Figure size 432x288 with 1 Axes>"
      ]
     },
     "metadata": {
      "tags": []
     },
     "output_type": "display_data"
    }
   ],
   "source": [
    "results = results.sort_values(['param_classifier__C'])\n",
    "\n",
    "train_acc= results['mean_train_score']\n",
    "cv_acc = results['mean_test_score']\n",
    "\n",
    "lr_c = results['param_classifier__C']\n",
    "#converting type of alpha to apply on numpy\n",
    "lr_c=lr_c.astype(float)\n",
    "\n",
    "#considering log scale of alpha for readability\n",
    "plt.plot(np.log10(lr_c), train_acc, label='Train Accuracy')\n",
    "plt.plot(np.log10(lr_c), cv_acc, label='CV Accuracy')\n",
    "\n",
    "plt.scatter(np.log10(lr_c), train_acc)\n",
    "plt.scatter(np.log10(lr_c), cv_acc)\n",
    "\n",
    "plt.legend()\n",
    "plt.xlabel(\"C (log-scale)\")\n",
    "plt.ylabel(\"Accuracy\")\n",
    "plt.title(\"Logistic Regression hyperparameter - C Vs Accuray plot\")\n",
    "plt.tight_layout()\n",
    "plt.grid()\n",
    "plt.show()"
   ]
  },
  {
   "cell_type": "code",
   "execution_count": null,
   "metadata": {
    "colab": {
     "base_uri": "https://localhost:8080/"
    },
    "id": "qyYURKHskSIJ",
    "outputId": "200067b7-6e69-4493-f6b4-dc37a218c59d"
   },
   "outputs": [
    {
     "name": "stdout",
     "output_type": "stream",
     "text": [
      "Best hyper parameters for LR are {'classifier': LogisticRegression(C=0.1, class_weight=None, dual=False, fit_intercept=True,\n",
      "                   intercept_scaling=1, l1_ratio=None, max_iter=100,\n",
      "                   multi_class='auto', n_jobs=None, penalty='l2',\n",
      "                   random_state=42, solver='lbfgs', tol=0.0001, verbose=0,\n",
      "                   warm_start=False), 'classifier__C': 0.1}\n",
      "\n",
      "\n",
      "Accuracy with Best hyper parameters for LR is  0.9073279839026306\n"
     ]
    }
   ],
   "source": [
    "print (\"Best hyper parameters for LR are\",clf.best_params_)\n",
    "print(\"\\n\")\n",
    "print(\"Accuracy with Best hyper parameters for LR is \", clf.best_score_)"
   ]
  },
  {
   "cell_type": "markdown",
   "metadata": {
    "id": "21Zw7Dw_wbOa"
   },
   "source": [
    "##### HPT - Liner SVC"
   ]
  },
  {
   "cell_type": "code",
   "execution_count": null,
   "metadata": {
    "id": "C6Gpi4FM6gUk"
   },
   "outputs": [],
   "source": [
    "X_d1_svm,y_d1_svm=draw_samples(X_d1,y_d1,sample_size=10000,replacement=True)"
   ]
  },
  {
   "cell_type": "code",
   "execution_count": null,
   "metadata": {
    "colab": {
     "base_uri": "https://localhost:8080/"
    },
    "id": "WKQyLXK0ogZQ",
    "outputId": "bf15155f-026f-43ba-f263-f6008903e448"
   },
   "outputs": [
    {
     "name": "stdout",
     "output_type": "stream",
     "text": [
      "Fitting 5 folds for each of 7 candidates, totalling 35 fits\n"
     ]
    },
    {
     "name": "stderr",
     "output_type": "stream",
     "text": [
      "[Parallel(n_jobs=-1)]: Using backend LokyBackend with 4 concurrent workers.\n",
      "[Parallel(n_jobs=-1)]: Done  35 out of  35 | elapsed: 41.4min finished\n"
     ]
    }
   ],
   "source": [
    "from sklearn.model_selection import GridSearchCV\n",
    "\n",
    "parameters = [\n",
    "              {\n",
    "        'classifier': [SVC(kernel=\"linear\",random_state=42)],\n",
    "        'classifier__C': [1000,100, 10, 1.0, 0.1, 0.01,0.001]\n",
    "        }\n",
    "              ]\n",
    "\n",
    "clf = GridSearchCV(LabelPowerset(), parameters, scoring='accuracy',n_jobs=-1,\n",
    "                   verbose=1,return_train_score=True,cv=5)\n",
    "clf.fit(X_d1_svm, y_d1_svm)\n",
    "\n",
    "results = pd.DataFrame.from_dict(clf.cv_results_)"
   ]
  },
  {
   "cell_type": "code",
   "execution_count": null,
   "metadata": {
    "colab": {
     "base_uri": "https://localhost:8080/",
     "height": 297
    },
    "id": "FhLwEUPHwwrD",
    "outputId": "51223ee0-7f8c-4735-e2b4-436f1775de90"
   },
   "outputs": [
    {
     "data": {
      "image/png": "[encoded data removed]",
      "text/plain": [
       "<Figure size 432x288 with 1 Axes>"
      ]
     },
     "metadata": {
      "tags": []
     },
     "output_type": "display_data"
    }
   ],
   "source": [
    "results = results.sort_values(['param_classifier__C'])\n",
    "\n",
    "train_acc= results['mean_train_score']\n",
    "cv_acc = results['mean_test_score']\n",
    "\n",
    "lr_c = results['param_classifier__C']\n",
    "#converting type of alpha to apply on numpy\n",
    "lr_c=lr_c.astype(float)\n",
    "\n",
    "#considering log scale of alpha for readability\n",
    "plt.plot(np.log10(lr_c), train_acc, label='Train Accuracy')\n",
    "plt.plot(np.log10(lr_c), cv_acc, label='CV Accuracy')\n",
    "\n",
    "plt.scatter(np.log10(lr_c), train_acc)\n",
    "plt.scatter(np.log10(lr_c), cv_acc)\n",
    "\n",
    "plt.legend()\n",
    "plt.xlabel(\"C (log-scale)\")\n",
    "plt.ylabel(\"Accuracy\")\n",
    "plt.title(\"SVM hyperparameter - C Vs Accuray plot\")\n",
    "plt.tight_layout()\n",
    "plt.grid()\n",
    "plt.show()"
   ]
  },
  {
   "cell_type": "code",
   "execution_count": null,
   "metadata": {
    "colab": {
     "base_uri": "https://localhost:8080/"
    },
    "id": "_qr4sxhYwzDP",
    "outputId": "b184b22d-e683-4766-97ee-cfec4ba76e3e"
   },
   "outputs": [
    {
     "name": "stdout",
     "output_type": "stream",
     "text": [
      "Best hyper parameters for Linear SVM are {'classifier': SVC(C=0.1, break_ties=False, cache_size=200, class_weight=None, coef0=0.0,\n",
      "    decision_function_shape='ovr', degree=3, gamma='scale', kernel='linear',\n",
      "    max_iter=-1, probability=False, random_state=42, shrinking=True, tol=0.001,\n",
      "    verbose=False), 'classifier__C': 0.1}\n",
      "\n",
      "\n",
      "Accuracy with Best hyper parameters for Linear SVM is  0.9075\n"
     ]
    }
   ],
   "source": [
    "print (\"Best hyper parameters for Linear SVM are\",clf.best_params_)\n",
    "print(\"\\n\")\n",
    "print(\"Accuracy with Best hyper parameters for Linear SVM is \", clf.best_score_)"
   ]
  },
  {
   "cell_type": "markdown",
   "metadata": {
    "id": "7AT0o3OFGAtA"
   },
   "source": [
    "##### HPT- RBF SVM"
   ]
  },
  {
   "cell_type": "code",
   "execution_count": null,
   "metadata": {
    "id": "_uMJ50_gGELG"
   },
   "outputs": [],
   "source": [
    "X_d1_svm,y_d1_svm=draw_samples(X_d1,y_d1,sample_size=30000,replacement=True)"
   ]
  },
  {
   "cell_type": "code",
   "execution_count": null,
   "metadata": {
    "colab": {
     "base_uri": "https://localhost:8080/"
    },
    "id": "ZrUtqYLBGELH",
    "outputId": "5b32b22f-88ca-4201-cce1-75d071d62563"
   },
   "outputs": [
    {
     "name": "stdout",
     "output_type": "stream",
     "text": [
      "Fitting 5 folds for each of 7 candidates, totalling 35 fits\n"
     ]
    },
    {
     "name": "stderr",
     "output_type": "stream",
     "text": [
      "[Parallel(n_jobs=-1)]: Using backend LokyBackend with 4 concurrent workers.\n",
      "[Parallel(n_jobs=-1)]: Done  35 out of  35 | elapsed: 53.3min finished\n"
     ]
    }
   ],
   "source": [
    "from sklearn.model_selection import GridSearchCV\n",
    "\n",
    "parameters = [\n",
    "              {\n",
    "        'classifier': [SVC(kernel=\"rbf\",random_state=42)],\n",
    "        'classifier__C': [1000,100, 10, 1.0, 0.1, 0.01,0.001]\n",
    "        }\n",
    "              ]\n",
    "\n",
    "clf = GridSearchCV(LabelPowerset(), parameters, scoring='accuracy',n_jobs=-1,\n",
    "                   verbose=1,return_train_score=True,cv=5)\n",
    "clf.fit(X_d1_svm, y_d1_svm)\n",
    "\n",
    "results = pd.DataFrame.from_dict(clf.cv_results_)"
   ]
  },
  {
   "cell_type": "code",
   "execution_count": null,
   "metadata": {
    "colab": {
     "base_uri": "https://localhost:8080/",
     "height": 297
    },
    "id": "QVuvkO14GELI",
    "outputId": "32341976-9275-4fa1-a02e-f0d3117928fa"
   },
   "outputs": [
    {
     "data": {
      "image/png": "[encoded data removed]",
      "text/plain": [
       "<Figure size 432x288 with 1 Axes>"
      ]
     },
     "metadata": {
      "tags": []
     },
     "output_type": "display_data"
    }
   ],
   "source": [
    "results = results.sort_values(['param_classifier__C'])\n",
    "\n",
    "train_acc= results['mean_train_score']\n",
    "cv_acc = results['mean_test_score']\n",
    "\n",
    "lr_c = results['param_classifier__C']\n",
    "#converting type of alpha to apply on numpy\n",
    "lr_c=lr_c.astype(float)\n",
    "\n",
    "#considering log scale of alpha for readability\n",
    "plt.plot(np.log10(lr_c), train_acc, label='Train Accuracy')\n",
    "plt.plot(np.log10(lr_c), cv_acc, label='CV Accuracy')\n",
    "\n",
    "plt.scatter(np.log10(lr_c), train_acc)\n",
    "plt.scatter(np.log10(lr_c), cv_acc)\n",
    "\n",
    "plt.legend()\n",
    "plt.xlabel(\"C (log-scale)\")\n",
    "plt.ylabel(\"Accuracy\")\n",
    "plt.title(\"SVM hyperparameter - C Vs Accuray plot\")\n",
    "plt.tight_layout()\n",
    "plt.grid()\n",
    "plt.show()"
   ]
  },
  {
   "cell_type": "code",
   "execution_count": null,
   "metadata": {
    "colab": {
     "base_uri": "https://localhost:8080/"
    },
    "id": "r8dfRw7hGELI",
    "outputId": "49f1d9e1-48e4-4c8e-8e26-770fc7481c75"
   },
   "outputs": [
    {
     "name": "stdout",
     "output_type": "stream",
     "text": [
      "Best hyper parameters for RBF SVM are {'classifier': SVC(C=10, break_ties=False, cache_size=200, class_weight=None, coef0=0.0,\n",
      "    decision_function_shape='ovr', degree=3, gamma='scale', kernel='rbf',\n",
      "    max_iter=-1, probability=False, random_state=42, shrinking=True, tol=0.001,\n",
      "    verbose=False), 'classifier__C': 10}\n",
      "\n",
      "\n",
      "Accuracy with Best hyper parameters for RBF SVM is  0.9330666666666667\n"
     ]
    }
   ],
   "source": [
    "print (\"Best hyper parameters for RBF SVM are\",clf.best_params_)\n",
    "print(\"\\n\")\n",
    "print(\"Accuracy with Best hyper parameters for RBF SVM is \", clf.best_score_)"
   ]
  },
  {
   "cell_type": "markdown",
   "metadata": {
    "id": "0qLe8X7aZBXo"
   },
   "source": [
    "##### HPT- SVM Poly"
   ]
  },
  {
   "cell_type": "code",
   "execution_count": null,
   "metadata": {
    "id": "CIO9zhsFawgq"
   },
   "outputs": [],
   "source": [
    "X_d1_svm,y_d1_svm=draw_samples(X_d1,y_d1,sample_size=30000,replacement=True)"
   ]
  },
  {
   "cell_type": "code",
   "execution_count": null,
   "metadata": {
    "colab": {
     "base_uri": "https://localhost:8080/"
    },
    "id": "bOPXFusvZFtE",
    "outputId": "cd6145c0-f921-45e3-cf45-f0fc8e2e95d2"
   },
   "outputs": [
    {
     "name": "stdout",
     "output_type": "stream",
     "text": [
      "Fitting 5 folds for each of 7 candidates, totalling 35 fits\n"
     ]
    },
    {
     "name": "stderr",
     "output_type": "stream",
     "text": [
      "[Parallel(n_jobs=-1)]: Using backend LokyBackend with 4 concurrent workers.\n",
      "[Parallel(n_jobs=-1)]: Done  35 out of  35 | elapsed: 64.7min finished\n"
     ]
    }
   ],
   "source": [
    "\n",
    "\n",
    "parameters = [\n",
    "              {\n",
    "        'classifier': [SVC(kernel=\"poly\",random_state=42)],\n",
    "        'classifier__C': [1000,100, 10, 1.0, 0.1, 0.01,0.001]\n",
    "        }\n",
    "              ]\n",
    "\n",
    "clf = GridSearchCV(LabelPowerset(), parameters, scoring='accuracy',n_jobs=-1,\n",
    "                   verbose=1,return_train_score=True,cv=5)\n",
    "clf.fit(X_d1_svm, y_d1_svm)\n",
    "\n",
    "results = pd.DataFrame.from_dict(clf.cv_results_)"
   ]
  },
  {
   "cell_type": "code",
   "execution_count": null,
   "metadata": {
    "colab": {
     "base_uri": "https://localhost:8080/",
     "height": 297
    },
    "id": "bO2JPAPpZFtE",
    "outputId": "2373f2dd-f062-4da1-d218-b46e429ccee6"
   },
   "outputs": [
    {
     "data": {
      "image/png": "[encoded data removed]",
      "text/plain": [
       "<Figure size 432x288 with 1 Axes>"
      ]
     },
     "metadata": {
      "tags": []
     },
     "output_type": "display_data"
    }
   ],
   "source": [
    "results = results.sort_values(['param_classifier__C'])\n",
    "\n",
    "train_acc= results['mean_train_score']\n",
    "cv_acc = results['mean_test_score']\n",
    "\n",
    "lr_c = results['param_classifier__C']\n",
    "#converting type of alpha to apply on numpy\n",
    "lr_c=lr_c.astype(float)\n",
    "\n",
    "#considering log scale of alpha for readability\n",
    "plt.plot(np.log10(lr_c), train_acc, label='Train Accuracy')\n",
    "plt.plot(np.log10(lr_c), cv_acc, label='CV Accuracy')\n",
    "\n",
    "plt.scatter(np.log10(lr_c), train_acc)\n",
    "plt.scatter(np.log10(lr_c), cv_acc)\n",
    "\n",
    "plt.legend()\n",
    "plt.xlabel(\"C (log-scale)\")\n",
    "plt.ylabel(\"Accuracy\")\n",
    "plt.title(\"SVM hyperparameter - C Vs Accuray plot\")\n",
    "plt.tight_layout()\n",
    "plt.grid()\n",
    "plt.show()"
   ]
  },
  {
   "cell_type": "code",
   "execution_count": null,
   "metadata": {
    "colab": {
     "base_uri": "https://localhost:8080/"
    },
    "id": "xJn4nH2DZFtF",
    "outputId": "03418d93-ad54-483a-ba94-c8898dddddbc"
   },
   "outputs": [
    {
     "name": "stdout",
     "output_type": "stream",
     "text": [
      "Best hyper parameters for SVM with Poly kernel are {'classifier': SVC(C=10, break_ties=False, cache_size=200, class_weight=None, coef0=0.0,\n",
      "    decision_function_shape='ovr', degree=3, gamma='scale', kernel='poly',\n",
      "    max_iter=-1, probability=False, random_state=42, shrinking=True, tol=0.001,\n",
      "    verbose=False), 'classifier__C': 10}\n",
      "\n",
      "\n",
      "Accuracy with Best hyper parameters for SVM with poly kernel is  0.9254333333333333\n"
     ]
    }
   ],
   "source": [
    "print (\"Best hyper parameters for SVM with Poly kernel are\",clf.best_params_)\n",
    "print(\"\\n\")\n",
    "print(\"Accuracy with Best hyper parameters for SVM with poly kernel is \", clf.best_score_)"
   ]
  },
  {
   "cell_type": "markdown",
   "metadata": {
    "id": "w2m6t-I1tBcv"
   },
   "source": [
    "##### HPT-DT"
   ]
  },
  {
   "cell_type": "code",
   "execution_count": null,
   "metadata": {
    "colab": {
     "base_uri": "https://localhost:8080/"
    },
    "id": "AKsfdN9VtiTB",
    "outputId": "211e99ba-a8ca-453c-fb73-d81ded588602"
   },
   "outputs": [
    {
     "name": "stdout",
     "output_type": "stream",
     "text": [
      "Fitting 5 folds for each of 25 candidates, totalling 125 fits\n"
     ]
    },
    {
     "name": "stderr",
     "output_type": "stream",
     "text": [
      "[Parallel(n_jobs=-1)]: Using backend LokyBackend with 4 concurrent workers.\n",
      "[Parallel(n_jobs=-1)]: Done  42 tasks      | elapsed:  4.0min\n",
      "[Parallel(n_jobs=-1)]: Done 125 out of 125 | elapsed: 33.8min finished\n"
     ]
    }
   ],
   "source": [
    "parameters = [\n",
    "              {\n",
    "        'classifier': [DecisionTreeClassifier(random_state=42)],\n",
    "        'classifier__max_depth': [1, 5, 10, 50,100],\n",
    "        'classifier__min_samples_split':[5, 10, 100, 500,1000]\n",
    "        }\n",
    "              ]\n",
    "\n",
    "clf = GridSearchCV(LabelPowerset(), parameters, scoring='accuracy',n_jobs=-1,\n",
    "                   verbose=1,return_train_score=True)\n",
    "clf.fit(X_d1, y_d1)\n",
    "\n",
    "results = pd.DataFrame.from_dict(clf.cv_results_)"
   ]
  },
  {
   "cell_type": "code",
   "execution_count": null,
   "metadata": {
    "colab": {
     "background_save": true,
     "base_uri": "https://localhost:8080/",
     "height": 367
    },
    "id": "1wDq3PjswNll",
    "outputId": "933122c9-afea-4585-e648-202f2301b527"
   },
   "outputs": [
    {
     "data": {
      "text/plain": [
       "Text(0.5, 1.0, 'Accuracy for CV data')"
      ]
     },
     "execution_count": 0,
     "metadata": {
      "tags": []
     },
     "output_type": "execute_result"
    },
    {
     "data": {
      "image/png": "[encoded data removed]",
      "text/plain": [
       "<Figure size 1080x576 with 4 Axes>"
      ]
     },
     "metadata": {
      "tags": []
     },
     "output_type": "display_data"
    }
   ],
   "source": [
    "#plotting the Heat map for Hyper-parametr tuning\n",
    "\n",
    "max_depth_list = results['param_classifier__max_depth'].values\n",
    "min_samples_split_list = results['param_classifier__min_samples_split'].values\n",
    "\n",
    "sns.set_style(\"whitegrid\")\n",
    "plt.figure(figsize=(15,5))\n",
    "\n",
    "plt.subplot(1,2,1)\n",
    "data = pd.DataFrame(data={'Min Samples Split':min_samples_split_list, \n",
    "                          'Max Depth':max_depth_list,\n",
    "                          'Accuracy':clf.cv_results_['mean_train_score']})\n",
    "\n",
    "data = data.pivot(index='Min Samples Split',columns='Max Depth', values='Accuracy')\n",
    "\n",
    "sns.heatmap(data, annot=True, cmap=\"YlGnBu\",fmt='.4g').set_title('Accuracy for Training data')\n",
    "\n",
    "plt.subplot(1,2,2)\n",
    "data = pd.DataFrame(data={'Min Samples Split':min_samples_split_list,\n",
    "                          'Max Depth':max_depth_list,\n",
    "                          'Accuracy':clf.cv_results_['mean_test_score']})\n",
    "\n",
    "data = data.pivot(index='Min Samples Split',columns='Max Depth', values='Accuracy')\n",
    "\n",
    "sns.heatmap(data, annot=True, cmap=\"YlGnBu\",fmt=\".4g\").set_title('Accuracy for CV data')"
   ]
  },
  {
   "cell_type": "code",
   "execution_count": null,
   "metadata": {
    "colab": {
     "base_uri": "https://localhost:8080/"
    },
    "id": "EZspzGIB0yeu",
    "outputId": "04b704c7-b374-418f-ca42-a7d32d13c300"
   },
   "outputs": [
    {
     "name": "stdout",
     "output_type": "stream",
     "text": [
      "Best hyper parameters for DT are {'classifier': DecisionTreeClassifier(ccp_alpha=0.0, class_weight=None, criterion='gini',\n",
      "                       max_depth=5, max_features=None, max_leaf_nodes=None,\n",
      "                       min_impurity_decrease=0.0, min_impurity_split=None,\n",
      "                       min_samples_leaf=1, min_samples_split=500,\n",
      "                       min_weight_fraction_leaf=0.0, presort='deprecated',\n",
      "                       random_state=42, splitter='best'), 'classifier__max_depth': 5, 'classifier__min_samples_split': 500}\n",
      "\n",
      "\n",
      "Accuracy with Best hyper parameters for DT is  0.9028363709497628\n"
     ]
    }
   ],
   "source": [
    "print (\"Best hyper parameters for DT are\",clf.best_params_)\n",
    "print(\"\\n\")\n",
    "print(\"Accuracy with Best hyper parameters for DT is \", clf.best_score_)"
   ]
  },
  {
   "cell_type": "markdown",
   "metadata": {
    "id": "IcNzSRuV_rLO"
   },
   "source": [
    "##### HPT-RF"
   ]
  },
  {
   "cell_type": "code",
   "execution_count": null,
   "metadata": {
    "colab": {
     "base_uri": "https://localhost:8080/"
    },
    "id": "pOj5w1l1-lZj",
    "outputId": "30f8a443-d1bf-4678-efed-1caca058ad47"
   },
   "outputs": [
    {
     "name": "stdout",
     "output_type": "stream",
     "text": [
      "Fitting 5 folds for each of 25 candidates, totalling 125 fits\n"
     ]
    },
    {
     "name": "stderr",
     "output_type": "stream",
     "text": [
      "[Parallel(n_jobs=-1)]: Using backend LokyBackend with 4 concurrent workers.\n",
      "[Parallel(n_jobs=-1)]: Done  42 tasks      | elapsed: 16.6min\n",
      "[Parallel(n_jobs=-1)]: Done 125 out of 125 | elapsed: 220.9min finished\n"
     ]
    }
   ],
   "source": [
    "parameters = [\n",
    "              {\n",
    "        'classifier': [RandomForestClassifier(random_state=42)],\n",
    "        'classifier__max_depth': [1, 5, 10, 50,100],\n",
    "        'classifier__n_estimators':[50,100,200,300,500]\n",
    "        }\n",
    "              ]\n",
    "\n",
    "clf = GridSearchCV(LabelPowerset(), parameters, scoring='accuracy',n_jobs=-1,\n",
    "                   verbose=1,return_train_score=True)\n",
    "clf.fit(X_d1, y_d1)\n",
    "\n",
    "results = pd.DataFrame.from_dict(clf.cv_results_)"
   ]
  },
  {
   "cell_type": "code",
   "execution_count": null,
   "metadata": {
    "colab": {
     "base_uri": "https://localhost:8080/",
     "height": 421
    },
    "id": "GuHYXsSPBnqb",
    "outputId": "832b3d8c-cc8d-4625-dd30-aeeb2d04b688"
   },
   "outputs": [
    {
     "data": {
      "text/plain": [
       "Text(0.5, 1.0, 'Accuracy for CV data')"
      ]
     },
     "execution_count": 34,
     "metadata": {
      "tags": []
     },
     "output_type": "execute_result"
    },
    {
     "data": {
      "image/png": "[encoded data removed]",
      "text/plain": [
       "<Figure size 1080x432 with 4 Axes>"
      ]
     },
     "metadata": {
      "tags": []
     },
     "output_type": "display_data"
    }
   ],
   "source": [
    "#plotting the Heat map for Hyper-parametr tuning\n",
    "\n",
    "max_depth_list = results['param_classifier__max_depth'].values\n",
    "no_of_estimators_list = results['param_classifier__n_estimators'].values\n",
    "\n",
    "sns.set_style(\"whitegrid\")\n",
    "plt.figure(figsize=(15,6))\n",
    "\n",
    "plt.subplot(1,2,1)\n",
    "data = pd.DataFrame(data={'no of estimators':no_of_estimators_list, \n",
    "                          'Max Depth':max_depth_list,\n",
    "                          'Accuracy':clf.cv_results_['mean_train_score']})\n",
    "\n",
    "data = data.pivot(index='no of estimators',columns='Max Depth', values='Accuracy')\n",
    "\n",
    "sns.heatmap(data, annot=True, cmap=\"YlGnBu\",fmt='.4g').set_title('Accuracy for Training data')\n",
    "\n",
    "plt.subplot(1,2,2)\n",
    "data = pd.DataFrame(data={'no of estimators':no_of_estimators_list, \n",
    "                          'Max Depth':max_depth_list,\n",
    "                          'Accuracy':clf.cv_results_['mean_test_score']})\n",
    "\n",
    "data = data.pivot(index='no of estimators',columns='Max Depth', values='Accuracy')\n",
    "\n",
    "sns.heatmap(data, annot=True, cmap=\"YlGnBu\",fmt=\".4g\").set_title('Accuracy for CV data')"
   ]
  },
  {
   "cell_type": "code",
   "execution_count": null,
   "metadata": {
    "colab": {
     "base_uri": "https://localhost:8080/"
    },
    "id": "3tqpNbl4EhGL",
    "outputId": "52859a4e-391b-4705-c4e8-2fb4342b3f87"
   },
   "outputs": [
    {
     "name": "stdout",
     "output_type": "stream",
     "text": [
      "Best hyper parameters for Random Forest are {'classifier': RandomForestClassifier(bootstrap=True, ccp_alpha=0.0, class_weight=None,\n",
      "                       criterion='gini', max_depth=50, max_features='auto',\n",
      "                       max_leaf_nodes=None, max_samples=None,\n",
      "                       min_impurity_decrease=0.0, min_impurity_split=None,\n",
      "                       min_samples_leaf=1, min_samples_split=2,\n",
      "                       min_weight_fraction_leaf=0.0, n_estimators=200,\n",
      "                       n_jobs=None, oob_score=False, random_state=42, verbose=0,\n",
      "                       warm_start=False), 'classifier__max_depth': 50, 'classifier__n_estimators': 200}\n",
      "\n",
      "\n",
      "Accuracy with Best hyper parameters for Random Forest is  0.9046580850364899\n"
     ]
    }
   ],
   "source": [
    "print (\"Best hyper parameters for Random Forest are\",clf.best_params_)\n",
    "print(\"\\n\")\n",
    "print(\"Accuracy with Best hyper parameters for Random Forest is \", clf.best_score_)"
   ]
  },
  {
   "cell_type": "markdown",
   "metadata": {
    "id": "vRlDvweT_jLQ"
   },
   "source": [
    "##### HPT- XGBoost"
   ]
  },
  {
   "cell_type": "code",
   "execution_count": null,
   "metadata": {
    "id": "FsQ6EivbYfkw"
   },
   "outputs": [],
   "source": [
    "X_d1_xgb,y_d1_xgb=draw_samples(X_d1,y_d1,sample_size=10000,replacement=True)"
   ]
  },
  {
   "cell_type": "code",
   "execution_count": null,
   "metadata": {
    "colab": {
     "base_uri": "https://localhost:8080/"
    },
    "id": "HaMcfdOfDZTU",
    "outputId": "f1e6f20f-48d4-4d6e-f44a-2a19f5b2c2eb"
   },
   "outputs": [
    {
     "name": "stdout",
     "output_type": "stream",
     "text": [
      "Fitting 3 folds for each of 25 candidates, totalling 75 fits\n"
     ]
    },
    {
     "name": "stderr",
     "output_type": "stream",
     "text": [
      "[Parallel(n_jobs=-1)]: Using backend LokyBackend with 4 concurrent workers.\n",
      "[Parallel(n_jobs=-1)]: Done  42 tasks      | elapsed: 131.7min\n",
      "[Parallel(n_jobs=-1)]: Done  75 out of  75 | elapsed: 258.3min finished\n"
     ]
    }
   ],
   "source": [
    "parameters = [\n",
    "              {\n",
    "        'classifier': [XGBClassifier(random_state=42)],\n",
    "        'classifier__max_depth': [1, 3, 5, 7,9],\n",
    "        'classifier__n_estimators':[100,200,300,400,500]\n",
    "        }\n",
    "              ]\n",
    "\n",
    "clf = GridSearchCV(LabelPowerset(), parameters, scoring='accuracy',n_jobs=-1,\n",
    "                   verbose=1,return_train_score=True,cv=3)\n",
    "clf.fit(X_d1_xgb, y_d1_xgb)\n",
    "\n",
    "results = pd.DataFrame.from_dict(clf.cv_results_)"
   ]
  },
  {
   "cell_type": "code",
   "execution_count": null,
   "metadata": {
    "colab": {
     "base_uri": "https://localhost:8080/",
     "height": 367
    },
    "id": "qmU-WBB0EOn-",
    "outputId": "820e23a9-4f85-4162-ef77-16d368b51405"
   },
   "outputs": [
    {
     "data": {
      "text/plain": [
       "Text(0.5, 1.0, 'Accuracy for CV data')"
      ]
     },
     "execution_count": 32,
     "metadata": {
      "tags": []
     },
     "output_type": "execute_result"
    },
    {
     "data": {
      "image/png": "[encoded data removed]",
      "text/plain": [
       "<Figure size 1080x360 with 4 Axes>"
      ]
     },
     "metadata": {
      "tags": []
     },
     "output_type": "display_data"
    }
   ],
   "source": [
    "#plotting the Heat map for Hyper-parametr tuning\n",
    "\n",
    "max_depth_list = results['param_classifier__max_depth'].values\n",
    "no_of_estimators_list = results['param_classifier__n_estimators'].values\n",
    "\n",
    "sns.set_style(\"whitegrid\")\n",
    "plt.figure(figsize=(15,5))\n",
    "\n",
    "plt.subplot(1,2,1)\n",
    "data = pd.DataFrame(data={'no of estimators':no_of_estimators_list, \n",
    "                          'Max Depth':max_depth_list,\n",
    "                          'Accuracy':clf.cv_results_['mean_train_score']})\n",
    "\n",
    "data = data.pivot(index='no of estimators',columns='Max Depth', values='Accuracy')\n",
    "\n",
    "sns.heatmap(data, annot=True, cmap=\"YlGnBu\",fmt='.4g').set_title('Accuracy for Training data')\n",
    "\n",
    "plt.subplot(1,2,2)\n",
    "data = pd.DataFrame(data={'no of estimators':no_of_estimators_list, \n",
    "                          'Max Depth':max_depth_list,\n",
    "                          'Accuracy':clf.cv_results_['mean_test_score']})\n",
    "\n",
    "data = data.pivot(index='no of estimators',columns='Max Depth', values='Accuracy')\n",
    "\n",
    "sns.heatmap(data, annot=True, cmap=\"YlGnBu\",fmt=\".4g\").set_title('Accuracy for CV data')"
   ]
  },
  {
   "cell_type": "code",
   "execution_count": null,
   "metadata": {
    "colab": {
     "base_uri": "https://localhost:8080/"
    },
    "id": "raLnIoAgHKXo",
    "outputId": "1dec77b3-43e3-4080-f54f-5357576fc3e7"
   },
   "outputs": [
    {
     "name": "stdout",
     "output_type": "stream",
     "text": [
      "Best hyper parameters for XGBDT are {'classifier': XGBClassifier(base_score=0.5, booster='gbtree', colsample_bylevel=1,\n",
      "              colsample_bynode=1, colsample_bytree=1, gamma=0,\n",
      "              learning_rate=0.1, max_delta_step=0, max_depth=3,\n",
      "              min_child_weight=1, missing=None, n_estimators=500, n_jobs=1,\n",
      "              nthread=None, objective='binary:logistic', random_state=42,\n",
      "              reg_alpha=0, reg_lambda=1, scale_pos_weight=1, seed=None,\n",
      "              silent=None, subsample=1, verbosity=1), 'classifier__max_depth': 3, 'classifier__n_estimators': 500}\n",
      "\n",
      "\n",
      "Accuracy with Best hyper parameters for XGBDT is  0.9179001883391699\n"
     ]
    }
   ],
   "source": [
    "print (\"Best hyper parameters for XGBDT are\",clf.best_params_)\n",
    "print(\"\\n\")\n",
    "print(\"Accuracy with Best hyper parameters for XGBDT is \", clf.best_score_)"
   ]
  },
  {
   "cell_type": "markdown",
   "metadata": {
    "id": "qN4dVPTTkGfY"
   },
   "source": [
    "**Summary on Hyper-parameter tunning**\n",
    "\n",
    "1) SVM/XGBT is computed on a sample of 10k,30k points as it is computationally expensive.\n",
    "\n",
    "2) Among all of the classifiers, RBF SVM gives the highest metric and followed by poly-SVM and XGBDT\n",
    "\n",
    "3) Other classifiers like LR, DT, RF gave very similar metrics, with very slight variations"
   ]
  },
  {
   "cell_type": "markdown",
   "metadata": {
    "id": "143SjoVOmCGB"
   },
   "source": [
    "#### Stacking Implementation & Training"
   ]
  },
  {
   "cell_type": "code",
   "execution_count": null,
   "metadata": {
    "id": "BptDYCowmEG5"
   },
   "outputs": [],
   "source": [
    "def custom_stacking(base_clfs,meta_clf,xtrain,ytrain,xval,yval,meta_xval,meta_yval,sample_size):\n",
    "\n",
    "    \"\"\"function to perform custom stacking\"\"\"\n",
    "\n",
    "    proc_id = os.getpid()\n",
    "    print(\"One Process Started with Id-\",proc_id)\n",
    "\n",
    "    if len(xtrain)==len(ytrain) and len(xval)==len(yval) and len(meta_xval)==len(meta_yval):\n",
    "        base_clf_x_tr_samples=[]\n",
    "        base_clf_y_tr_samples=[]\n",
    "        \n",
    "        # getting samples for base classifiers\n",
    "        for k in range(len(base_clfs)):\n",
    "            x,y=draw_samples(xtrain,ytrain,sample_size,replacement=True)\n",
    "            base_clf_x_tr_samples.append(x)\n",
    "            base_clf_y_tr_samples.append(y)\n",
    "\n",
    "        meta_clf_tr_x_data=np.empty(shape=(0,yval.shape[1]),dtype=yval.dtype)\n",
    "        meta_clf_tr_y_data =np.empty(shape=(0,yval.shape[1]),dtype=yval.dtype)\n",
    "\n",
    "        meta_clf_te_x_data=np.empty(shape=(0,yval.shape[1]),dtype=yval.dtype)\n",
    "        meta_clf_te_y_data =np.empty(shape=(0,yval.shape[1]),dtype=yval.dtype)\n",
    "\n",
    "        print(\"Training Base Classifiers on Proc Id-\",proc_id)\n",
    "        #base classifiers training\n",
    "        for clf,x_base,y_base in tqdm(zip(base_clfs,base_clf_x_tr_samples,base_clf_y_tr_samples),total=len(base_clfs)):\n",
    "            clf.fit(x_base,y_base)\n",
    "\n",
    "            #preparing train data-set for meta classifier\n",
    "            pred = clf.predict(xval)\n",
    "            pred=pred.A\n",
    "            meta_clf_tr_x_data=np.append(meta_clf_tr_x_data,pred,axis=0)\n",
    "            meta_clf_tr_y_data=np.append(meta_clf_tr_y_data,yval,axis=0)\n",
    "\n",
    "            #preparing test data-set for meta classifier\n",
    "            pred = clf.predict(meta_xval)\n",
    "            pred=pred.A\n",
    "            meta_clf_te_x_data=np.append(meta_clf_te_x_data,pred,axis=0)\n",
    "            meta_clf_te_y_data=np.append(meta_clf_te_y_data,meta_yval,axis=0)\n",
    "        \n",
    "        print(\"Completed Training Base Classifiers on Proc Id-\",proc_id)\n",
    "      \n",
    "        print(\"Training Meta Classifier on Proc Id-\",proc_id)\n",
    "        \n",
    "\n",
    "        #meta classifier training\n",
    "        meta_op=meta_clf.fit(meta_clf_tr_x_data,meta_clf_tr_y_data)\n",
    "\n",
    "        #meta classifier predictions\n",
    "        pred = meta_op.predict(meta_clf_te_x_data)\n",
    "        pred=pred.A\n",
    "        pred_proba=meta_op.predict_proba(meta_clf_te_x_data)\n",
    "        pred_proba=pred_proba.A\n",
    "\n",
    "        print(\"Completed Training Meta Classifier on Proc Id-\",proc_id)\n",
    "        return cal_metrics(meta_clf_te_y_data,pred,pred_proba)\n",
    "    \n",
    "    else:\n",
    "        print(\"Inputs are not of same shape. Please correct input(s)\")    "
   ]
  },
  {
   "cell_type": "markdown",
   "metadata": {
    "id": "xR6zgGjoXcBL"
   },
   "source": [
    "Now Lets us train stacked models using multi processing....To get better results we will use models with the hyper parameters tuned above."
   ]
  },
  {
   "cell_type": "code",
   "execution_count": null,
   "metadata": {
    "id": "Y7RhRrGgYfoH"
   },
   "outputs": [],
   "source": [
    "#defining base-classifier objects as per the best hyper-parameters\n",
    "\n",
    "log_reg=LabelPowerset(LogisticRegression(random_state=42,C=0.1))\n",
    "lin_svm=LabelPowerset(SVC(kernel=\"linear\",random_state=42,C=0.1,probability=True))\n",
    "rbf_svm=LabelPowerset(SVC(kernel=\"rbf\",random_state=42,C=10,probability=True))\n",
    "poly_svm=LabelPowerset(SVC(kernel=\"poly\",random_state=42,C=10,probability=True))\n",
    "dec_tree=LabelPowerset(DecisionTreeClassifier(random_state=42,max_depth=5,min_samples_split=500))\n",
    "ran_frst=LabelPowerset(RandomForestClassifier(random_state=42,max_depth=10,n_estimators=200))\n",
    "xgbst=LabelPowerset(XGBClassifier(random_state=42,max_depth=1,n_estimators=400))"
   ]
  },
  {
   "cell_type": "markdown",
   "metadata": {
    "id": "TItDq-5vMYHl"
   },
   "source": [
    "###### Training Stacking Model With Set of 4 randomly choosen Base Classifiers "
   ]
  },
  {
   "cell_type": "markdown",
   "metadata": {
    "id": "DzpAzAlWyera"
   },
   "source": [
    "**With 10k Samples...**"
   ]
  },
  {
   "cell_type": "code",
   "execution_count": null,
   "metadata": {
    "colab": {
     "base_uri": "https://localhost:8080/",
     "height": 553,
     "referenced_widgets": [
      "0a7d1209c0a84aa28c1af61140d05cce",
      "c8681df1f27c42d7b956467354060464",
      "71de7490f1be4e8f84cc4afa847914bb",
      "6e2b9fd6e6ef4146942ce829ff989b1d",
      "2632695d59d9418493d3cb155a92ed40",
      "271897a4b5f44c22b69a86c78932acf1",
      "031c592dbac34c1f8264032115ca1edb",
      "c0f5b6cc771f4c1ba85dee9a4b775341",
      "7db3c0f1f22f49679cbad13947f5cb7c",
      "37837220782d4198a9df029af4f99f8c",
      "d8970aea2a4b4ffb912f9f6f80203fa4",
      "89e49f6797274ab39691e09dce2e3e80",
      "873c6d26f94c428394581b693867c171",
      "b652b70524cc4433a4eec893654c0aa2",
      "9145b3b5e9744d8dbdd991ae219bddf0",
      "4a261c5f4e90416296db0a68d7633076",
      "8d88b3662a4f4b46ab863453f0f8cde1",
      "7d2856e28ac44763b52fd2d02f2498ea",
      "6990af0fe1904778aa0190561185fe1c",
      "6f4d48a536bb431eaa36a7aa1299de91",
      "a3c2ac8bd2f74bc89be868aa51fc0019",
      "7ebab9f26cbd4727b770a94e69d24ed4",
      "df6ddd1e6b324d8fbbada0efff3fc257",
      "7de3482482ec4c9e9b40b0ca3baa623d",
      "7b32aaa1ea5a4d4c985e4061d9a2da3c",
      "d3f7280cadab43afb500927398340b93",
      "3e962f66370744a1ae34e35345de7c17",
      "eae52014584741e49c4edd940c5bbb12",
      "79e1e8423fc34b5a90605fb44a95a6c7",
      "0a01b300e3ea441f98a20d945607f53d",
      "03949130785e429c9c6f736b399c33ed",
      "f0c3817424954dc79ac728854e3a01d3"
     ]
    },
    "id": "cu2fkc_9No_C",
    "outputId": "e0b0371a-406d-4ecf-fa7c-eb83806ff456"
   },
   "outputs": [
    {
     "name": "stdout",
     "output_type": "stream",
     "text": [
      "One Process Started with Id- 3932\n",
      "Training Base Classifiers on Proc Id- 3932\n"
     ]
    },
    {
     "data": {
      "application/vnd.jupyter.widget-view+json": {
       "model_id": "0a7d1209c0a84aa28c1af61140d05cce",
       "version_major": 2,
       "version_minor": 0
      },
      "text/plain": [
       "HBox(children=(FloatProgress(value=0.0, max=4.0), HTML(value='')))"
      ]
     },
     "metadata": {
      "tags": []
     },
     "output_type": "display_data"
    },
    {
     "name": "stdout",
     "output_type": "stream",
     "text": [
      "One Process Started with Id- 3933\n",
      "Training Base Classifiers on Proc Id- 3933\n"
     ]
    },
    {
     "data": {
      "application/vnd.jupyter.widget-view+json": {
       "model_id": "7db3c0f1f22f49679cbad13947f5cb7c",
       "version_major": 2,
       "version_minor": 0
      },
      "text/plain": [
       "HBox(children=(FloatProgress(value=0.0, max=4.0), HTML(value='')))"
      ]
     },
     "metadata": {
      "tags": []
     },
     "output_type": "display_data"
    },
    {
     "name": "stdout",
     "output_type": "stream",
     "text": [
      "One Process Started with Id- 3934\n",
      "One Process Started with Id- 3935\n",
      "Training Base Classifiers on Proc Id- 3934\n",
      "Training Base Classifiers on Proc Id- 3935\n"
     ]
    },
    {
     "data": {
      "application/vnd.jupyter.widget-view+json": {
       "model_id": "8d88b3662a4f4b46ab863453f0f8cde1",
       "version_major": 2,
       "version_minor": 0
      },
      "text/plain": [
       "HBox(children=(FloatProgress(value=0.0, max=4.0), HTML(value='')))"
      ]
     },
     "metadata": {
      "tags": []
     },
     "output_type": "display_data"
    },
    {
     "data": {
      "application/vnd.jupyter.widget-view+json": {
       "model_id": "7b32aaa1ea5a4d4c985e4061d9a2da3c",
       "version_major": 2,
       "version_minor": 0
      },
      "text/plain": [
       "HBox(children=(FloatProgress(value=0.0, max=4.0), HTML(value='')))"
      ]
     },
     "metadata": {
      "tags": []
     },
     "output_type": "display_data"
    },
    {
     "name": "stdout",
     "output_type": "stream",
     "text": [
      "\n",
      "Completed Training Base Classifiers on Proc Id- 3934\n",
      "Training Meta Classifier on Proc Id- 3934\n",
      "\n",
      "Completed Training Base Classifiers on Proc Id- 3932\n",
      "Training Meta Classifier on Proc Id- 3932\n",
      "\n",
      "Completed Training Base Classifiers on Proc Id- 3933\n",
      "Training Meta Classifier on Proc Id- 3933\n",
      "Completed Training Meta Classifier on Proc Id- 3932\n",
      "\n",
      "Completed Training Base Classifiers on Proc Id- 3935\n",
      "Training Meta Classifier on Proc Id- 3935\n",
      "Completed Training Meta Classifier on Proc Id- 3935\n",
      "Completed Training Meta Classifier on Proc Id- 3934\n",
      "Completed Training Meta Classifier on Proc Id- 3933\n"
     ]
    }
   ],
   "source": [
    "ip_1= ([log_reg,rbf_svm,ran_frst,xgbst],log_reg,X_d1,y_d1,X_d2,y_d2,\n",
    "    X_test_tfidf_w2v,y_test,10000)\n",
    "\n",
    "ip_2= ([poly_svm,dec_tree,xgbst,log_reg],rbf_svm,X_d1,y_d1,X_d2,y_d2,\n",
    "    X_test_tfidf_w2v,y_test,10000)\n",
    "\n",
    "ip_3= ([lin_svm,ran_frst,xgbst,dec_tree],xgbst,X_d1,y_d1,X_d2,y_d2,\n",
    "    X_test_tfidf_w2v,y_test,10000)\n",
    "\n",
    "ip_4= ([rbf_svm,poly_svm,xgbst,log_reg],ran_frst,X_d1,y_d1,X_d2,y_d2,\n",
    "    X_test_tfidf_w2v,y_test,10000)\n",
    "\n",
    "total_no_of_proc=multiprocessing.cpu_count()\n",
    "\n",
    "with Pool(total_no_of_proc) as pool_obj:        \n",
    "    results=pool_obj.starmap(custom_stacking,[ip_1,ip_2,ip_3,ip_4])\n",
    "    pool_obj.close()"
   ]
  },
  {
   "cell_type": "code",
   "execution_count": null,
   "metadata": {
    "colab": {
     "base_uri": "https://localhost:8080/"
    },
    "id": "aFrJTMRGKrkj",
    "outputId": "03b22829-55bc-48f4-ca92-788bb70c59ee"
   },
   "outputs": [
    {
     "name": "stdout",
     "output_type": "stream",
     "text": [
      "{'Accuracy': 0.9062627595087785, 'Average AUC': 0.7347433827903815, 'Hamming Loss': 0.028439963566694933, 'Log Loss': 0.7101031623299845}\n",
      "{'Accuracy': 0.9051006627092559, 'Average AUC': 0.6667418547066294, 'Hamming Loss': 0.029760409141828155, 'Log Loss': 0.6505987079600607}\n",
      "{'Accuracy': 0.9041348660447879, 'Average AUC': 0.6404954670825317, 'Hamming Loss': 0.030874085241370645, 'Log Loss': 0.6039106360898664}\n",
      "{'Accuracy': 0.9079116806432362, 'Average AUC': 0.7830413328997894, 'Hamming Loss': 0.026966403886219206, 'Log Loss': 0.7502652626141352}\n"
     ]
    }
   ],
   "source": [
    "for i in results:\n",
    "    print(i)"
   ]
  },
  {
   "cell_type": "markdown",
   "metadata": {
    "id": "pBz1nTDQyhsQ"
   },
   "source": [
    "**With 30K samples...**"
   ]
  },
  {
   "cell_type": "code",
   "execution_count": null,
   "metadata": {
    "colab": {
     "base_uri": "https://localhost:8080/",
     "height": 621,
     "referenced_widgets": [
      "3fb7e2c258df4753b17a7edfc9cf0b58",
      "b125f35e9d224853a1c1582ea0cf53f1",
      "cb5ddcc2ddb84dab8069e9af6b693b7a",
      "57756f27ca17442990a327be0bc46b72",
      "33a4982acd6247eba17cfe2ca60d2769",
      "e93a8458cb114406af247562a25166eb",
      "33cb28d7da224e1dad80e4ca988609d2",
      "bb9186839d5244d0b2a3e4781c023901",
      "4c3ce7b575cd4834b868fd8259f461fb",
      "5766f9dd6f284ae1a2dddc5263f77e22",
      "ca01b57ef29f4d468515a465f4490e67",
      "e4c410c6428f45baabff3faad7ee42a6",
      "66cefa8f8e4b47559213c770c74afc69",
      "9abb39e3ea1c4c328cdf62d8c0504dac",
      "3c3a9f9d6a9741f4adb7a840b39cf3bd",
      "835d150a897247438a9df0547139ca7e",
      "3a86f79f7db949cf86105293b57ad9da",
      "56f939c62c4046ee895abcdd0d7d414a",
      "4a4c30624c9d417c89a47b07989e74d8",
      "5a48fd8dd9db43639abf29f953b1defc",
      "941df17c6d2340d48942b2291e1bd862",
      "2138ca7f59ea4e08811da3aba05c24ec",
      "b17e837c299b4aebb9acb510ab9f650a",
      "e2cf4f01ba5041d791aed78f0cfe83d0",
      "3b44b540a69c486da97cc6ff9016f3ee",
      "ccc60244dd2644fe9b004ecc2c04a16e",
      "fd8c6d8f064d4b2e9c8459c7afe49d52",
      "5d7c76afeb9244c482159f60b2933c1f",
      "d4caf68c3b7c46a99888cc3eb66a98b4",
      "dc2f28a8a767447cbfc6f3b7247f478e",
      "38204129192f4ffbbcab6343a70f23be",
      "7294c94dc4b74ae493dfe3d38af00793"
     ]
    },
    "id": "z_sFUnfB4XIa",
    "outputId": "21349d6d-5d44-4181-e5ee-275e8031d1b9"
   },
   "outputs": [
    {
     "name": "stdout",
     "output_type": "stream",
     "text": [
      "One Process Started with Id- 359\n",
      "Training Base Classifiers on Proc Id- 359\n"
     ]
    },
    {
     "data": {
      "application/vnd.jupyter.widget-view+json": {
       "model_id": "3fb7e2c258df4753b17a7edfc9cf0b58",
       "version_major": 2,
       "version_minor": 0
      },
      "text/plain": [
       "HBox(children=(FloatProgress(value=0.0, max=4.0), HTML(value='')))"
      ]
     },
     "metadata": {
      "tags": []
     },
     "output_type": "display_data"
    },
    {
     "name": "stdout",
     "output_type": "stream",
     "text": [
      "One Process Started with Id- 360\n",
      "Training Base Classifiers on Proc Id- 360\n"
     ]
    },
    {
     "data": {
      "application/vnd.jupyter.widget-view+json": {
       "model_id": "4c3ce7b575cd4834b868fd8259f461fb",
       "version_major": 2,
       "version_minor": 0
      },
      "text/plain": [
       "HBox(children=(FloatProgress(value=0.0, max=4.0), HTML(value='')))"
      ]
     },
     "metadata": {
      "tags": []
     },
     "output_type": "display_data"
    },
    {
     "name": "stdout",
     "output_type": "stream",
     "text": [
      "One Process Started with Id- 361\n",
      "Training Base Classifiers on Proc Id- 361\n"
     ]
    },
    {
     "data": {
      "application/vnd.jupyter.widget-view+json": {
       "model_id": "3a86f79f7db949cf86105293b57ad9da",
       "version_major": 2,
       "version_minor": 0
      },
      "text/plain": [
       "HBox(children=(FloatProgress(value=0.0, max=4.0), HTML(value='')))"
      ]
     },
     "metadata": {
      "tags": []
     },
     "output_type": "display_data"
    },
    {
     "name": "stdout",
     "output_type": "stream",
     "text": [
      "One Process Started with Id- 362\n",
      "Training Base Classifiers on Proc Id- 362\n"
     ]
    },
    {
     "data": {
      "application/vnd.jupyter.widget-view+json": {
       "model_id": "3b44b540a69c486da97cc6ff9016f3ee",
       "version_major": 2,
       "version_minor": 0
      },
      "text/plain": [
       "HBox(children=(FloatProgress(value=0.0, max=4.0), HTML(value='')))"
      ]
     },
     "metadata": {
      "tags": []
     },
     "output_type": "display_data"
    },
    {
     "name": "stdout",
     "output_type": "stream",
     "text": [
      "\n",
      "Completed Training Base Classifiers on Proc Id- 361\n",
      "Training Meta Classifier on Proc Id- 361\n",
      "Completed Training Meta Classifier on Proc Id- 361\n",
      "\n",
      "Completed Training Base Classifiers on Proc Id- 359\n",
      "Training Meta Classifier on Proc Id- 359\n",
      "Completed Training Meta Classifier on Proc Id- 359\n",
      "\n",
      "Completed Training Base Classifiers on Proc Id- 360\n",
      "Training Meta Classifier on Proc Id- 360\n",
      "\n",
      "Completed Training Base Classifiers on Proc Id- 362\n",
      "Training Meta Classifier on Proc Id- 362\n",
      "Completed Training Meta Classifier on Proc Id- 362\n",
      "Completed Training Meta Classifier on Proc Id- 360\n",
      "{'Accuracy': 0.9078645686108232, 'Average AUC': 0.7469413882253093, 'Hamming Loss': 0.027208507386119747, 'Log Loss': 0.7623686909437097}\n",
      "{'Accuracy': 0.9069615879895725, 'Average AUC': 0.7040295717556614, 'Hamming Loss': 0.02803689395604971, 'Log Loss': 0.6963722814591419}\n",
      "{'Accuracy': 0.9054697069631584, 'Average AUC': 0.6798049102463857, 'Hamming Loss': 0.029144026717757048, 'Log Loss': 0.7327144602458421}\n",
      "{'Accuracy': 0.9090737774427589, 'Average AUC': 0.7892594719024971, 'Hamming Loss': 0.02602154590282358, 'Log Loss': 0.7924717923494388}\n"
     ]
    }
   ],
   "source": [
    "ip_1= ([log_reg,rbf_svm,ran_frst,xgbst],log_reg,X_d1,y_d1,X_d2,y_d2,\n",
    "    X_test_tfidf_w2v,y_test,30000)\n",
    "\n",
    "ip_2= ([poly_svm,dec_tree,xgbst,log_reg],rbf_svm,X_d1,y_d1,X_d2,y_d2,\n",
    "    X_test_tfidf_w2v,y_test,30000)\n",
    "\n",
    "ip_3= ([lin_svm,ran_frst,xgbst,dec_tree],ran_frst,X_d1,y_d1,X_d2,y_d2,\n",
    "    X_test_tfidf_w2v,y_test,30000)\n",
    "\n",
    "ip_4= ([rbf_svm,poly_svm,xgbst,log_reg],xgbst,X_d1,y_d1,X_d2,y_d2,\n",
    "    X_test_tfidf_w2v,y_test,30000)\n",
    "\n",
    "total_no_of_proc=multiprocessing.cpu_count()\n",
    "\n",
    "with Pool(total_no_of_proc) as pool_obj:        \n",
    "    results=pool_obj.starmap(custom_stacking,[ip_1,ip_2,ip_3,ip_4])\n",
    "    pool_obj.close()\n",
    "\n",
    "for i in results:\n",
    "    print(i)"
   ]
  },
  {
   "cell_type": "markdown",
   "metadata": {
    "id": "LSpRBQLkyknm"
   },
   "source": [
    "**With Complete D1-Size Samples...**"
   ]
  },
  {
   "cell_type": "code",
   "execution_count": null,
   "metadata": {
    "colab": {
     "base_uri": "https://localhost:8080/",
     "height": 621,
     "referenced_widgets": [
      "faf24989dcb048efa937de1c4840a77c",
      "a53e571ebdd54dd1ac6daae4b728f7e5",
      "981ed93b383e451ab6f7bb7a5d139782",
      "390bf0b224074757823a53c1737fb5bd",
      "d27e82414a174910b8673e29c129253a",
      "529f9bb1605441fbbdf69f011be2b0ed",
      "5b0bed3656dd4c998a3f8e4c61b4b764",
      "e460a30cc8fd4c8ca84acf1c6aaff7cd",
      "84564a3141c040dab9630c569ca41a3b",
      "8287bc1fb971497ab86b0f98e689f321",
      "4de45db9138b48ada1fb17efc8ca29be",
      "26c6cc2a5ee342138fe89e3389612926",
      "9d89b460b7494ac19d383eba488782eb",
      "dbed82f4cd1747628715412c8110cd2a",
      "c69bc05d11854ca18011d5cecf9dd478",
      "e008810ef8d7477d87020127627be617",
      "705cc81fc9314bc2b0e4295e47877d41",
      "f2194c2cf1d7458b85381207d466410e",
      "6a76cb9f02a54e4999055be15682a1bb",
      "7000c724b5b644a597b5c375d2860f07",
      "e44961e63e684bb98a5124dab140f7cc",
      "1a6b652ab5944efb933b8ace02f2bc8c",
      "4f2914fb6a724823919b1588bec2c830",
      "d6e1f75af7d9488d9e315252b1fd89bc",
      "43fdbcdeb7d24b00b0777858b8096a58",
      "fff9c01aea8c4a3c913efc514fc6c882",
      "9f4e5e72f44847e6ab8fed35d8c3cff5",
      "729c5bf054ad4ce98cea2764b2d1ddb3",
      "f24667c1186340ab979ddba4d0c534aa",
      "c5bb74aa00aa4892a3c664d48fafebf9",
      "515ac8f77af1455ab20d31f82da25dbf",
      "12f29d5edbaf468295855b3b03c9ddfa"
     ]
    },
    "id": "CrLNPTcYY0xc",
    "outputId": "eef82317-a33a-45f9-98a0-9c7a9fd85125"
   },
   "outputs": [
    {
     "name": "stdout",
     "output_type": "stream",
     "text": [
      "One Process Started with Id- 1481\n",
      "Training Base Classifiers on Proc Id- 1481\n"
     ]
    },
    {
     "data": {
      "application/vnd.jupyter.widget-view+json": {
       "model_id": "faf24989dcb048efa937de1c4840a77c",
       "version_major": 2,
       "version_minor": 0
      },
      "text/plain": [
       "HBox(children=(FloatProgress(value=0.0, max=4.0), HTML(value='')))"
      ]
     },
     "metadata": {
      "tags": []
     },
     "output_type": "display_data"
    },
    {
     "name": "stdout",
     "output_type": "stream",
     "text": [
      "One Process Started with Id- 1482\n",
      "Training Base Classifiers on Proc Id- 1482\n"
     ]
    },
    {
     "data": {
      "application/vnd.jupyter.widget-view+json": {
       "model_id": "84564a3141c040dab9630c569ca41a3b",
       "version_major": 2,
       "version_minor": 0
      },
      "text/plain": [
       "HBox(children=(FloatProgress(value=0.0, max=4.0), HTML(value='')))"
      ]
     },
     "metadata": {
      "tags": []
     },
     "output_type": "display_data"
    },
    {
     "name": "stdout",
     "output_type": "stream",
     "text": [
      "One Process Started with Id- 1483\n",
      "Training Base Classifiers on Proc Id- 1483\n"
     ]
    },
    {
     "data": {
      "application/vnd.jupyter.widget-view+json": {
       "model_id": "705cc81fc9314bc2b0e4295e47877d41",
       "version_major": 2,
       "version_minor": 0
      },
      "text/plain": [
       "HBox(children=(FloatProgress(value=0.0, max=4.0), HTML(value='')))"
      ]
     },
     "metadata": {
      "tags": []
     },
     "output_type": "display_data"
    },
    {
     "name": "stdout",
     "output_type": "stream",
     "text": [
      "One Process Started with Id- 1484\n",
      "Training Base Classifiers on Proc Id- 1484\n"
     ]
    },
    {
     "data": {
      "application/vnd.jupyter.widget-view+json": {
       "model_id": "43fdbcdeb7d24b00b0777858b8096a58",
       "version_major": 2,
       "version_minor": 0
      },
      "text/plain": [
       "HBox(children=(FloatProgress(value=0.0, max=4.0), HTML(value='')))"
      ]
     },
     "metadata": {
      "tags": []
     },
     "output_type": "display_data"
    },
    {
     "name": "stdout",
     "output_type": "stream",
     "text": [
      "\n",
      "Completed Training Base Classifiers on Proc Id- 1483\n",
      "Training Meta Classifier on Proc Id- 1483\n",
      "Completed Training Meta Classifier on Proc Id- 1483\n",
      "\n",
      "Completed Training Base Classifiers on Proc Id- 1481\n",
      "Training Meta Classifier on Proc Id- 1481\n",
      "Completed Training Meta Classifier on Proc Id- 1481\n",
      "\n",
      "Completed Training Base Classifiers on Proc Id- 1482\n",
      "Training Meta Classifier on Proc Id- 1482\n",
      "Completed Training Meta Classifier on Proc Id- 1482\n",
      "\n",
      "Completed Training Base Classifiers on Proc Id- 1484\n",
      "Training Meta Classifier on Proc Id- 1484\n",
      "Completed Training Meta Classifier on Proc Id- 1484\n",
      "{'Accuracy': 0.9082414648701278, 'Average AUC': 0.7540179749784989, 'Hamming Loss': 0.02687217982139305, 'Log Loss': 0.7386257843999656}\n",
      "{'Accuracy': 0.9073149282326706, 'Average AUC': 0.7195004392146709, 'Hamming Loss': 0.027382560172534733, 'Log Loss': 0.7598454798447232}\n",
      "{'Accuracy': 0.9063020195357895, 'Average AUC': 0.6814940047576415, 'Hamming Loss': 0.028573447658531988, 'Log Loss': 0.7305529118215869}\n",
      "{'Accuracy': 0.9095998618047049, 'Average AUC': 0.8028038099619312, 'Hamming Loss': 0.025604080948941028, 'Log Loss': 0.7545392381872442}\n"
     ]
    }
   ],
   "source": [
    "ip_1= ([log_reg,rbf_svm,ran_frst,xgbst],log_reg,X_d1,y_d1,X_d2,y_d2,\n",
    "    X_test_tfidf_w2v,y_test,len(X_d1))\n",
    "\n",
    "ip_2= ([poly_svm,dec_tree,xgbst,log_reg],rbf_svm,X_d1,y_d1,X_d2,y_d2,\n",
    "    X_test_tfidf_w2v,y_test,len(X_d1))\n",
    "\n",
    "ip_3= ([lin_svm,ran_frst,xgbst,dec_tree],ran_frst,X_d1,y_d1,X_d2,y_d2,\n",
    "    X_test_tfidf_w2v,y_test,len(X_d1))\n",
    "\n",
    "ip_4= ([rbf_svm,poly_svm,xgbst,log_reg],xgbst,X_d1,y_d1,X_d2,y_d2,\n",
    "    X_test_tfidf_w2v,y_test,len(X_d1))\n",
    "\n",
    "total_no_of_proc=multiprocessing.cpu_count()\n",
    "\n",
    "with Pool(total_no_of_proc) as pool_obj:        \n",
    "    results=pool_obj.starmap(custom_stacking,[ip_1,ip_2,ip_3,ip_4])\n",
    "    pool_obj.close()\n",
    "\n",
    "for i in results:\n",
    "    print(i)"
   ]
  },
  {
   "cell_type": "markdown",
   "metadata": {
    "id": "zTJZOM-iy789"
   },
   "source": [
    "##### Training Stacking Model With Set of 3 randomly choosen Base Classifiers"
   ]
  },
  {
   "cell_type": "markdown",
   "metadata": {
    "id": "YY0eZGrMSEBJ"
   },
   "source": [
    "**With 10K Samples...**"
   ]
  },
  {
   "cell_type": "code",
   "execution_count": null,
   "metadata": {
    "colab": {
     "base_uri": "https://localhost:8080/",
     "height": 621,
     "referenced_widgets": [
      "89cb209f707c430081352e3e00732d06",
      "3ed879b29e6e4de6ab68059cdc48d13d",
      "30e2d1b343c24084ace63a1c3a171df9",
      "ca336dd8fb1b4e0a9f6022f80f9f2da3",
      "364f7eb352294a189da6bc5b18d6960a",
      "69c8c92cf4234d7499dced0ca330fc13",
      "303a909b2f3d42909a2f060555536787",
      "3212d77e95234783888594026cc414f8",
      "19763dea081540148c9bd3aff0a8730b",
      "0541b712981c4f23a6952f1a01804399",
      "93f31dec19ae409d9bb8a39c1e9d1358",
      "128ba701cc3646e281610b6d3e08dd64",
      "8cab9de8ca184aeaad8e96fae631f22d",
      "c17e09d1b9a94b8cb498fa9e4c7e315b",
      "9e256d5db0614263bc78dee8e56d81d5",
      "00930b4b06084a0c92dd33492e068c71",
      "d4894388fdce49d9bbeff0318113fc7f",
      "a5ce35c413e94f9e8c3d29cb9f3a1a1a",
      "d68eb50a814140298deb5eb839fca336",
      "5aee880e20e84e088e3885046d7e0b49",
      "5e1dbed98dd34bdebc2a5abc83aa7c37",
      "a640337699f54434800b8518ce3d56c4",
      "65ed6d40e81945bea72ce8768e23a4ec",
      "399e5edd02494c1ebe4e3352daa5ee0b",
      "883f75e7f8dd4fe68c918cba68be9222",
      "ee3c99ca196542b28ae722544af3e79e",
      "4b5031fca6af492ebd4df94a98f8f06f",
      "1921efb87686492f98cba4c5c0e82dea",
      "67f564b97871438b8bf850b0831b738c",
      "2f1e26841ea64290ac1e2e2c6bb52ffc",
      "775f0ba94c3540a29c2af89a6cfc0780",
      "d5864e3e44984b19a6b2d79fa9d7acb9"
     ]
    },
    "id": "VYGnb43XzQeO",
    "outputId": "34208aa5-7fd0-45d6-bb94-e9cf507d35e2"
   },
   "outputs": [
    {
     "name": "stdout",
     "output_type": "stream",
     "text": [
      "One Process Started with Id- 434\n",
      "Training Base Classifiers on Proc Id- 434\n"
     ]
    },
    {
     "data": {
      "application/vnd.jupyter.widget-view+json": {
       "model_id": "89cb209f707c430081352e3e00732d06",
       "version_major": 2,
       "version_minor": 0
      },
      "text/plain": [
       "HBox(children=(FloatProgress(value=0.0, max=3.0), HTML(value='')))"
      ]
     },
     "metadata": {
      "tags": []
     },
     "output_type": "display_data"
    },
    {
     "name": "stdout",
     "output_type": "stream",
     "text": [
      "One Process Started with Id- 435\n",
      "Training Base Classifiers on Proc Id- 435\n"
     ]
    },
    {
     "data": {
      "application/vnd.jupyter.widget-view+json": {
       "model_id": "19763dea081540148c9bd3aff0a8730b",
       "version_major": 2,
       "version_minor": 0
      },
      "text/plain": [
       "HBox(children=(FloatProgress(value=0.0, max=3.0), HTML(value='')))"
      ]
     },
     "metadata": {
      "tags": []
     },
     "output_type": "display_data"
    },
    {
     "name": "stdout",
     "output_type": "stream",
     "text": [
      "One Process Started with Id- 437\n",
      "Training Base Classifiers on Proc Id- 437\n"
     ]
    },
    {
     "data": {
      "application/vnd.jupyter.widget-view+json": {
       "model_id": "d4894388fdce49d9bbeff0318113fc7f",
       "version_major": 2,
       "version_minor": 0
      },
      "text/plain": [
       "HBox(children=(FloatProgress(value=0.0, max=3.0), HTML(value='')))"
      ]
     },
     "metadata": {
      "tags": []
     },
     "output_type": "display_data"
    },
    {
     "name": "stdout",
     "output_type": "stream",
     "text": [
      "One Process Started with Id- 439\n",
      "Training Base Classifiers on Proc Id- 439\n"
     ]
    },
    {
     "data": {
      "application/vnd.jupyter.widget-view+json": {
       "model_id": "883f75e7f8dd4fe68c918cba68be9222",
       "version_major": 2,
       "version_minor": 0
      },
      "text/plain": [
       "HBox(children=(FloatProgress(value=0.0, max=3.0), HTML(value='')))"
      ]
     },
     "metadata": {
      "tags": []
     },
     "output_type": "display_data"
    },
    {
     "name": "stdout",
     "output_type": "stream",
     "text": [
      "\n",
      "Completed Training Base Classifiers on Proc Id- 437\n",
      "Training Meta Classifier on Proc Id- 437\n",
      "\n",
      "Completed Training Base Classifiers on Proc Id- 434\n",
      "Training Meta Classifier on Proc Id- 434\n",
      "\n",
      "Completed Training Base Classifiers on Proc Id- 435\n",
      "Training Meta Classifier on Proc Id- 435\n",
      "Completed Training Meta Classifier on Proc Id- 434\n",
      "\n",
      "Completed Training Base Classifiers on Proc Id- 439\n",
      "Training Meta Classifier on Proc Id- 439\n",
      "Completed Training Meta Classifier on Proc Id- 437\n",
      "Completed Training Meta Classifier on Proc Id- 439\n",
      "Completed Training Meta Classifier on Proc Id- 435\n",
      "{'Accuracy': 0.9081734141566423, 'Average AUC': 0.7752211725242607, 'Hamming Loss': 0.026588635181869893, 'Log Loss': 0.7560255189524234}\n",
      "{'Accuracy': 0.9040799020069726, 'Average AUC': 0.6613335664889226, 'Hamming Loss': 0.030505913432512886, 'Log Loss': 0.6406142328548604}\n",
      "{'Accuracy': 0.9061633007736842, 'Average AUC': 0.6937448844594271, 'Hamming Loss': 0.028541167191878585, 'Log Loss': 0.7095192340154082}\n",
      "{'Accuracy': 0.9076394777892941, 'Average AUC': 0.7892454330291185, 'Hamming Loss': 0.026707287707947277, 'Log Loss': 0.7693217262060617}\n"
     ]
    }
   ],
   "source": [
    "ip_1= ([log_reg,rbf_svm,xgbst],log_reg,X_d1,y_d1,X_d2,y_d2,\n",
    "    X_test_tfidf_w2v,y_test,10000)\n",
    "\n",
    "ip_2= ([poly_svm,dec_tree,xgbst],rbf_svm,X_d1,y_d1,X_d2,y_d2,\n",
    "    X_test_tfidf_w2v,y_test,10000)\n",
    "\n",
    "ip_3= ([lin_svm,ran_frst,xgbst],xgbst,X_d1,y_d1,X_d2,y_d2,\n",
    "    X_test_tfidf_w2v,y_test,10000)\n",
    "\n",
    "ip_4= ([rbf_svm,poly_svm,xgbst],xgbst,X_d1,y_d1,X_d2,y_d2,\n",
    "    X_test_tfidf_w2v,y_test,10000)\n",
    "\n",
    "total_no_of_proc=multiprocessing.cpu_count()\n",
    "\n",
    "with Pool(total_no_of_proc) as pool_obj:        \n",
    "    results=pool_obj.starmap(custom_stacking,[ip_1,ip_2,ip_3,ip_4])\n",
    "    pool_obj.close()\n",
    "\n",
    "for i in results:\n",
    "    print(i)"
   ]
  },
  {
   "cell_type": "markdown",
   "metadata": {
    "id": "JwxAmZddSHIX"
   },
   "source": [
    "**With 30K Samples...**"
   ]
  },
  {
   "cell_type": "code",
   "execution_count": null,
   "metadata": {
    "colab": {
     "base_uri": "https://localhost:8080/",
     "height": 319,
     "referenced_widgets": [
      "36ab3e3459b8441fbf00a08c08cdf927",
      "f7e29a5638224baa98cd60ca25f68264",
      "a8f67fb35d5f4a208ce0d4ae8e71bdf2",
      "1535ac511f34422fb87b0a7842c7d6cb",
      "5133e143196c4b418ac4767bbc2383e6",
      "ea7223ca1955492e9aa4448641c5f136",
      "df2b86d5935e421082c9e5a298aa250a",
      "794b346bad7c437291d66b42353bde71",
      "915ef9e2f8c947d6a2f5d87237655d27",
      "fac848fcbb67439086be1a3d23e2b2ce",
      "c521dc2060a940f5a06d59f3c66ad500",
      "8ae7d1ac68de4c28a64e1ccd60928684",
      "ae62671bb7cf449a9d7439448687b458",
      "56711334c8a54b49a941d1c2b38a2ba5",
      "3dd78efe1f31457c873acf627a47af6c",
      "e538b068536045e6a2ffa3d16ccb5b5b"
     ]
    },
    "id": "9-GQyWcyqM42",
    "outputId": "5ee0514e-e743-4666-8f9f-9419e34ed597"
   },
   "outputs": [
    {
     "name": "stdout",
     "output_type": "stream",
     "text": [
      "One Process Started with Id- 504\n",
      "Training Base Classifiers on Proc Id- 504\n"
     ]
    },
    {
     "data": {
      "application/vnd.jupyter.widget-view+json": {
       "model_id": "36ab3e3459b8441fbf00a08c08cdf927",
       "version_major": 2,
       "version_minor": 0
      },
      "text/plain": [
       "HBox(children=(FloatProgress(value=0.0, max=3.0), HTML(value='')))"
      ]
     },
     "metadata": {
      "tags": []
     },
     "output_type": "display_data"
    },
    {
     "name": "stdout",
     "output_type": "stream",
     "text": [
      "One Process Started with Id- 505\n",
      "Training Base Classifiers on Proc Id- 505\n"
     ]
    },
    {
     "data": {
      "application/vnd.jupyter.widget-view+json": {
       "model_id": "915ef9e2f8c947d6a2f5d87237655d27",
       "version_major": 2,
       "version_minor": 0
      },
      "text/plain": [
       "HBox(children=(FloatProgress(value=0.0, max=3.0), HTML(value='')))"
      ]
     },
     "metadata": {
      "tags": []
     },
     "output_type": "display_data"
    },
    {
     "name": "stdout",
     "output_type": "stream",
     "text": [
      "\n",
      "Completed Training Base Classifiers on Proc Id- 504\n",
      "Training Meta Classifier on Proc Id- 504\n",
      "Completed Training Meta Classifier on Proc Id- 504\n",
      "\n",
      "Completed Training Base Classifiers on Proc Id- 505\n",
      "Training Meta Classifier on Proc Id- 505\n",
      "Completed Training Meta Classifier on Proc Id- 505\n",
      "{'Accuracy': 0.9090842467832951, 'Average AUC': 0.7861602981514876, 'Hamming Loss': 0.026070402825326033, 'Log Loss': 0.764254640462534}\n",
      "{'Accuracy': 0.9094192656804548, 'Average AUC': 0.800825806794997, 'Hamming Loss': 0.025864505794779988, 'Log Loss': 0.7338032805508126}\n"
     ]
    }
   ],
   "source": [
    "ip_1= ([log_reg,rbf_svm,xgbst],log_reg,X_d1,y_d1,X_d2,y_d2,\n",
    "    X_test_tfidf_w2v,y_test,30000)\n",
    "\n",
    "ip_4= ([rbf_svm,poly_svm,xgbst],xgbst,X_d1,y_d1,X_d2,y_d2,\n",
    "    X_test_tfidf_w2v,y_test,30000)\n",
    "\n",
    "total_no_of_proc=multiprocessing.cpu_count()\n",
    "\n",
    "with Pool(total_no_of_proc) as pool_obj:        \n",
    "    results=pool_obj.starmap(custom_stacking,[ip_1,ip_4])\n",
    "    pool_obj.close()\n",
    "\n",
    "for i in results:\n",
    "    print(i)"
   ]
  },
  {
   "cell_type": "markdown",
   "metadata": {
    "id": "q6IdGmfpSPd4"
   },
   "source": [
    "**With Same as D1 Size Samples...**"
   ]
  },
  {
   "cell_type": "code",
   "execution_count": null,
   "metadata": {
    "colab": {
     "base_uri": "https://localhost:8080/",
     "height": 319,
     "referenced_widgets": [
      "5f3d8d0043654db9a6e1a47ca39df80d",
      "9e81a5377ebd44379f038b5bc4fa29f8",
      "050d1616ed4849c2939dce2861e2cd2c",
      "6b1ae2e6aacb439c9225775ac7e3c4ab",
      "4cd389e454234a9da9750fe0d3fdc156",
      "12a9256d5601401093128158b219cc0c",
      "ee637030eb6c41389ee4801910de6d09",
      "31609e319a6c488b94c8e92e99845a7c",
      "d4bb32482bbe4d8e879745f10ea6b1ef",
      "cf199a67dbf94db2ab259f480a098fa2",
      "257ba44923fa417682d21385b128aa31",
      "caf723c199ec4324a9dc8d957c8d423b",
      "9a1925d6fc3b4778b27475283e3c8e13",
      "54c8cf073605447ab4e590fc8d740bff",
      "7ed803e021df462b969db49cf4858c12",
      "3374d414b03342739af20515d47ed85c"
     ]
    },
    "id": "7_imVFerWMbG",
    "outputId": "630e8115-8bf0-481b-96dc-07e82295a68d"
   },
   "outputs": [
    {
     "name": "stdout",
     "output_type": "stream",
     "text": [
      "One Process Started with Id- 384\n",
      "Training Base Classifiers on Proc Id- 384\n"
     ]
    },
    {
     "data": {
      "application/vnd.jupyter.widget-view+json": {
       "model_id": "5f3d8d0043654db9a6e1a47ca39df80d",
       "version_major": 2,
       "version_minor": 0
      },
      "text/plain": [
       "HBox(children=(FloatProgress(value=0.0, max=3.0), HTML(value='')))"
      ]
     },
     "metadata": {
      "tags": []
     },
     "output_type": "display_data"
    },
    {
     "name": "stdout",
     "output_type": "stream",
     "text": [
      "One Process Started with Id- 385\n",
      "Training Base Classifiers on Proc Id- 385\n"
     ]
    },
    {
     "data": {
      "application/vnd.jupyter.widget-view+json": {
       "model_id": "d4bb32482bbe4d8e879745f10ea6b1ef",
       "version_major": 2,
       "version_minor": 0
      },
      "text/plain": [
       "HBox(children=(FloatProgress(value=0.0, max=3.0), HTML(value='')))"
      ]
     },
     "metadata": {
      "tags": []
     },
     "output_type": "display_data"
    },
    {
     "name": "stdout",
     "output_type": "stream",
     "text": [
      "\n",
      "Completed Training Base Classifiers on Proc Id- 384\n",
      "Training Meta Classifier on Proc Id- 384\n",
      "Completed Training Meta Classifier on Proc Id- 384\n",
      "\n",
      "Completed Training Base Classifiers on Proc Id- 385\n",
      "Training Meta Classifier on Proc Id- 385\n",
      "Completed Training Meta Classifier on Proc Id- 385\n",
      "{'Accuracy': 0.9098903860045856, 'Average AUC': 0.7850607985609243, 'Hamming Loss': 0.025550425578692797, 'Log Loss': 0.7964654838259033}\n",
      "{'Accuracy': 0.9066867678004963, 'Average AUC': 0.694654013206455, 'Hamming Loss': 0.028113669119982133, 'Log Loss': 0.6876443401632297}\n"
     ]
    }
   ],
   "source": [
    "ip_1= ([log_reg,rbf_svm,xgbst],log_reg,X_d1,y_d1,X_d2,y_d2,\n",
    "    X_test_tfidf_w2v,y_test,len(X_d1))\n",
    "\n",
    "ip_2= ([poly_svm,dec_tree,xgbst],rbf_svm,X_d1,y_d1,X_d2,y_d2,\n",
    "    X_test_tfidf_w2v,y_test,len(X_d1))\n",
    "\n",
    "\n",
    "total_no_of_proc=multiprocessing.cpu_count()\n",
    "\n",
    "with Pool(total_no_of_proc) as pool_obj:        \n",
    "    results=pool_obj.starmap(custom_stacking,[ip_1,ip_2])\n",
    "    pool_obj.close()\n",
    "\n",
    "for i in results:\n",
    "    print(i)"
   ]
  },
  {
   "cell_type": "markdown",
   "metadata": {
    "id": "WbqvwfZjNpXg"
   },
   "source": [
    "##### Training Stacking Model With Set of 2 randomly choosen Base Classifiers"
   ]
  },
  {
   "cell_type": "markdown",
   "metadata": {
    "id": "kl1h-wr6So0g"
   },
   "source": [
    "**With 10K Samples...**"
   ]
  },
  {
   "cell_type": "code",
   "execution_count": null,
   "metadata": {
    "colab": {
     "base_uri": "https://localhost:8080/",
     "height": 621,
     "referenced_widgets": [
      "d374c5c70ca2474a95efd49b57620197",
      "a001f21cb0de4548b29a307b5f9295f9",
      "4d3a1aa7902c46fd84b6cdc44991054f",
      "17d9e6e252144891bfb08c5df8c39dde",
      "6c9f05dc29544b6087a2541ea5fc360c",
      "bcaad0d827734ba09ad89ec065dcfdae",
      "3227ed3d1ac54f51ada5e11f536bdf20",
      "d25bddb9a98547feb43aa954fadcac67",
      "f3dd3d3f795f42beb496f509cfad295d",
      "700e110946b642efaa807f5b209713cb",
      "52fa74e0a8864af2807f0bc247dfff8f",
      "e237458ede0343c6b3c3fae543fd8e13",
      "6ba8b95c9ad940af81c7f1308ada45cd",
      "e0279e72c6bb4fa6b1163f8ff9625dac",
      "280998ae02954d14be9dcf0d21e00f25",
      "2969d350a7684c36a08200f49d3e666e",
      "ecc412f279f044d1908a29656c73e746",
      "e652ace999234ce29c73e3155c144ca1",
      "47448506c6834b4c913687d7fbc88762",
      "8b33b44d156647f1afa6b2bc707a3e09",
      "897a425a57bc46cb8c02b12d80da3e79",
      "fe052a6190c949da85f3e3990a81bfb4",
      "b4214dbf1c49455b93e6d8f73515328b",
      "e39cf69a21dc4e8998eb430522db6478",
      "67bc3e1af1bd4c8dbb0b37d91231474c",
      "f4c9d289c4054f57bbc9cee1a3c33a1f",
      "8fbeb9742b184bffb7503babf7159c74",
      "9eb68296a4074e8f9d212cfe1c2191c0",
      "6f1fad39153b4f48b3b194a16b35d5b1",
      "3f689f273c2a4627b190f0beb335c20d",
      "331d7202414545ca84c0d96b290c8584",
      "22b90d8ff6e44012b48ef5eef7df3d64"
     ]
    },
    "id": "L5lSuHJ6mL_k",
    "outputId": "c696e2f2-2af1-4f30-84a8-6b3f6acd7bd6"
   },
   "outputs": [
    {
     "name": "stdout",
     "output_type": "stream",
     "text": [
      "One Process Started with Id- 1018\n",
      "Training Base Classifiers on Proc Id- 1018\n"
     ]
    },
    {
     "data": {
      "application/vnd.jupyter.widget-view+json": {
       "model_id": "d374c5c70ca2474a95efd49b57620197",
       "version_major": 2,
       "version_minor": 0
      },
      "text/plain": [
       "HBox(children=(FloatProgress(value=0.0, max=2.0), HTML(value='')))"
      ]
     },
     "metadata": {
      "tags": []
     },
     "output_type": "display_data"
    },
    {
     "name": "stdout",
     "output_type": "stream",
     "text": [
      "One Process Started with Id- 1019\n",
      "Training Base Classifiers on Proc Id- 1019\n"
     ]
    },
    {
     "data": {
      "application/vnd.jupyter.widget-view+json": {
       "model_id": "f3dd3d3f795f42beb496f509cfad295d",
       "version_major": 2,
       "version_minor": 0
      },
      "text/plain": [
       "HBox(children=(FloatProgress(value=0.0, max=2.0), HTML(value='')))"
      ]
     },
     "metadata": {
      "tags": []
     },
     "output_type": "display_data"
    },
    {
     "name": "stdout",
     "output_type": "stream",
     "text": [
      "One Process Started with Id- 1020\n",
      "Training Base Classifiers on Proc Id- 1020\n"
     ]
    },
    {
     "data": {
      "application/vnd.jupyter.widget-view+json": {
       "model_id": "ecc412f279f044d1908a29656c73e746",
       "version_major": 2,
       "version_minor": 0
      },
      "text/plain": [
       "HBox(children=(FloatProgress(value=0.0, max=2.0), HTML(value='')))"
      ]
     },
     "metadata": {
      "tags": []
     },
     "output_type": "display_data"
    },
    {
     "name": "stdout",
     "output_type": "stream",
     "text": [
      "One Process Started with Id- 1021\n",
      "Training Base Classifiers on Proc Id- 1021\n"
     ]
    },
    {
     "data": {
      "application/vnd.jupyter.widget-view+json": {
       "model_id": "67bc3e1af1bd4c8dbb0b37d91231474c",
       "version_major": 2,
       "version_minor": 0
      },
      "text/plain": [
       "HBox(children=(FloatProgress(value=0.0, max=2.0), HTML(value='')))"
      ]
     },
     "metadata": {
      "tags": []
     },
     "output_type": "display_data"
    },
    {
     "name": "stdout",
     "output_type": "stream",
     "text": [
      "\n",
      "Completed Training Base Classifiers on Proc Id- 1020\n",
      "Training Meta Classifier on Proc Id- 1020\n",
      "\n",
      "Completed Training Base Classifiers on Proc Id- 1021\n",
      "Training Meta Classifier on Proc Id- 1021\n",
      "\n",
      "Completed Training Base Classifiers on Proc Id- 1019\n",
      "Training Meta Classifier on Proc Id- 1019\n",
      "\n",
      "Completed Training Base Classifiers on Proc Id- 1018\n",
      "Training Meta Classifier on Proc Id- 1018\n",
      "Completed Training Meta Classifier on Proc Id- 1021\n",
      "Completed Training Meta Classifier on Proc Id- 1018\n",
      "Completed Training Meta Classifier on Proc Id- 1020\n",
      "Completed Training Meta Classifier on Proc Id- 1019\n",
      "{'Accuracy': 0.9033732215207764, 'Average AUC': 0.6270331694598922, 'Hamming Loss': 0.0316802244626611, 'Log Loss': 0.5646550410801457}\n",
      "{'Accuracy': 0.9075190803731273, 'Average AUC': 0.7312662122901245, 'Hamming Loss': 0.027065862621313483, 'Log Loss': 0.7410282658863442}\n",
      "{'Accuracy': 0.9068595119193442, 'Average AUC': 0.7181878940701879, 'Hamming Loss': 0.028091857993864967, 'Log Loss': 0.7183224031312454}\n",
      "{'Accuracy': 0.9076761204811709, 'Average AUC': 0.8066877750608322, 'Hamming Loss': 0.026461258205345645, 'Log Loss': 0.7748138944881753}\n"
     ]
    }
   ],
   "source": [
    "ip_1= ([dec_tree,xgbst],log_reg,X_d1,y_d1,X_d2,y_d2,\n",
    "    X_test_tfidf_w2v,y_test,10000)\n",
    "\n",
    "ip_2= ([log_reg,xgbst],rbf_svm,X_d1,y_d1,X_d2,y_d2,\n",
    "    X_test_tfidf_w2v,y_test,10000)\n",
    "\n",
    "ip_3= ([rbf_svm,ran_frst],xgbst,X_d1,y_d1,X_d2,y_d2,\n",
    "    X_test_tfidf_w2v,y_test,10000)\n",
    "\n",
    "ip_4= ([rbf_svm,poly_svm],ran_frst,X_d1,y_d1,X_d2,y_d2,\n",
    "    X_test_tfidf_w2v,y_test,10000)\n",
    "\n",
    "total_no_of_proc=multiprocessing.cpu_count()\n",
    "\n",
    "with Pool(total_no_of_proc) as pool_obj:        \n",
    "    results=pool_obj.starmap(custom_stacking,[ip_1,ip_2,ip_3,ip_4])\n",
    "    pool_obj.close()\n",
    "\n",
    "for i in results:\n",
    "    print(i)"
   ]
  },
  {
   "cell_type": "markdown",
   "metadata": {
    "id": "AvxtyRKKTR85"
   },
   "source": [
    "**With 30K Samples...**"
   ]
  },
  {
   "cell_type": "code",
   "execution_count": null,
   "metadata": {
    "colab": {
     "base_uri": "https://localhost:8080/",
     "height": 621,
     "referenced_widgets": [
      "1afee7b1c43c4f93b26e0f8c50335f62",
      "0beb4dfa9cdb4bc4b1c86eaef27dc1c7",
      "35771ffc7c034b9ca4746c5832e49a31",
      "4a4190f039aa4254b35ba62c13822715",
      "8fb39eabca004aa1a04f781684dc4143",
      "9dc4f0a62f1d4534ae2306d9a704ed50",
      "510a40d7f8764c8d9740ccbf6fbc59e4",
      "c3eb16a21e114186b122e3e25403729b",
      "3d25b112cb33461f88a7b58822bb5c76",
      "b7f30a6064924ed08f992ac019ce94dd",
      "5286a58708d4472688e68cffc21eddfa",
      "a38abd9e5b9b46a6904d3ef7d426abd3",
      "c4f00179d99742ed8ece0da02a135e28",
      "664abc417f4d4382ae4a4bfb5bf7f62e",
      "81b44c7c9cc1427f8c3a9ce3a8576497",
      "ff49b099ea744e96ae7588874fab1c88",
      "cd0a0f3f3ba64d14b676b8fae3ded625",
      "43999b1f475044e59acc5c967d5d3485",
      "317d7ea29180456698b7a4c0db43010f",
      "3694ab21b4204dcead497461d05b6ab4",
      "d5c7f4a442fb4835a9df6d744c2a40ef",
      "ad054a925dd1453499f54e0ba499f2a4",
      "9dfc9bbe53f94ccd9a1e5abac98570b7",
      "05d812a21e284467a6563d866192e51e",
      "730c6a33b46243bfad6a114ca439a1ed",
      "b70b93a01db5419da2815b901e943ed7",
      "338382b290c54d589471b963e132aba0",
      "d56b194205d945a5a6d14af54f03a248",
      "e4977a2a6f6648adae7b57b9ac7a7987",
      "2ed48ccd669644cf8707c07bd9d6db3d",
      "83474f7ef1524163904ed109b0ecc1f9",
      "3cfbe457798a4f78b7c3c230f0178058"
     ]
    },
    "id": "9tEQ83godT6z",
    "outputId": "929c6283-bc33-4c59-9f4b-c17204eab7e8"
   },
   "outputs": [
    {
     "name": "stdout",
     "output_type": "stream",
     "text": [
      "One Process Started with Id- 1792\n",
      "Training Base Classifiers on Proc Id- 1792\n"
     ]
    },
    {
     "data": {
      "application/vnd.jupyter.widget-view+json": {
       "model_id": "1afee7b1c43c4f93b26e0f8c50335f62",
       "version_major": 2,
       "version_minor": 0
      },
      "text/plain": [
       "HBox(children=(FloatProgress(value=0.0, max=2.0), HTML(value='')))"
      ]
     },
     "metadata": {
      "tags": []
     },
     "output_type": "display_data"
    },
    {
     "name": "stdout",
     "output_type": "stream",
     "text": [
      "One Process Started with Id- 1793\n",
      "Training Base Classifiers on Proc Id- 1793\n"
     ]
    },
    {
     "data": {
      "application/vnd.jupyter.widget-view+json": {
       "model_id": "3d25b112cb33461f88a7b58822bb5c76",
       "version_major": 2,
       "version_minor": 0
      },
      "text/plain": [
       "HBox(children=(FloatProgress(value=0.0, max=2.0), HTML(value='')))"
      ]
     },
     "metadata": {
      "tags": []
     },
     "output_type": "display_data"
    },
    {
     "name": "stdout",
     "output_type": "stream",
     "text": [
      "One Process Started with Id- 1794\n",
      "Training Base Classifiers on Proc Id- 1794\n"
     ]
    },
    {
     "data": {
      "application/vnd.jupyter.widget-view+json": {
       "model_id": "cd0a0f3f3ba64d14b676b8fae3ded625",
       "version_major": 2,
       "version_minor": 0
      },
      "text/plain": [
       "HBox(children=(FloatProgress(value=0.0, max=2.0), HTML(value='')))"
      ]
     },
     "metadata": {
      "tags": []
     },
     "output_type": "display_data"
    },
    {
     "name": "stdout",
     "output_type": "stream",
     "text": [
      "One Process Started with Id- 1795\n",
      "Training Base Classifiers on Proc Id- 1795\n"
     ]
    },
    {
     "data": {
      "application/vnd.jupyter.widget-view+json": {
       "model_id": "730c6a33b46243bfad6a114ca439a1ed",
       "version_major": 2,
       "version_minor": 0
      },
      "text/plain": [
       "HBox(children=(FloatProgress(value=0.0, max=2.0), HTML(value='')))"
      ]
     },
     "metadata": {
      "tags": []
     },
     "output_type": "display_data"
    },
    {
     "name": "stdout",
     "output_type": "stream",
     "text": [
      "\n",
      "Completed Training Base Classifiers on Proc Id- 1794\n",
      "Training Meta Classifier on Proc Id- 1794\n",
      "\n",
      "Completed Training Base Classifiers on Proc Id- 1793\n",
      "Training Meta Classifier on Proc Id- 1793\n",
      "\n",
      "Completed Training Base Classifiers on Proc Id- 1792\n",
      "Training Meta Classifier on Proc Id- 1792\n",
      "Completed Training Meta Classifier on Proc Id- 1794\n",
      "Completed Training Meta Classifier on Proc Id- 1792\n",
      "Completed Training Meta Classifier on Proc Id- 1793\n",
      "\n",
      "Completed Training Base Classifiers on Proc Id- 1795\n",
      "Training Meta Classifier on Proc Id- 1795\n",
      "Completed Training Meta Classifier on Proc Id- 1795\n",
      "{'Accuracy': 0.9054461509469518, 'Average AUC': 0.6744605135319272, 'Hamming Loss': 0.029429316247369577, 'Log Loss': 0.6677146536412477}\n",
      "{'Accuracy': 0.9082414648701278, 'Average AUC': 0.7229306294057068, 'Hamming Loss': 0.02663661965932766, 'Log Loss': 0.76747269596003}\n",
      "{'Accuracy': 0.9076133044379534, 'Average AUC': 0.7287668124452414, 'Hamming Loss': 0.027576242972455166, 'Log Loss': 0.7381837321321579}\n",
      "{'Accuracy': 0.9093564496372374, 'Average AUC': 0.823867360209508, 'Hamming Loss': 0.025351508108504246, 'Log Loss': 0.8370636266711576}\n"
     ]
    }
   ],
   "source": [
    "ip_1= ([dec_tree,xgbst],log_reg,X_d1,y_d1,X_d2,y_d2,\n",
    "    X_test_tfidf_w2v,y_test,30000)\n",
    "\n",
    "ip_2= ([log_reg,xgbst],rbf_svm,X_d1,y_d1,X_d2,y_d2,\n",
    "    X_test_tfidf_w2v,y_test,30000)\n",
    "\n",
    "ip_3= ([rbf_svm,ran_frst],xgbst,X_d1,y_d1,X_d2,y_d2,\n",
    "    X_test_tfidf_w2v,y_test,30000)\n",
    "\n",
    "ip_4= ([rbf_svm,poly_svm],ran_frst,X_d1,y_d1,X_d2,y_d2,\n",
    "    X_test_tfidf_w2v,y_test,30000)\n",
    "\n",
    "total_no_of_proc=multiprocessing.cpu_count()\n",
    "\n",
    "with Pool(total_no_of_proc) as pool_obj:        \n",
    "    results=pool_obj.starmap(custom_stacking,[ip_1,ip_2,ip_3,ip_4])\n",
    "    pool_obj.close()\n",
    "\n",
    "for i in results:\n",
    "    print(i)"
   ]
  },
  {
   "cell_type": "markdown",
   "metadata": {
    "id": "mkgZk0SDTTje"
   },
   "source": [
    "**Same as D1 Size Samples...**"
   ]
  },
  {
   "cell_type": "code",
   "execution_count": null,
   "metadata": {
    "colab": {
     "base_uri": "https://localhost:8080/",
     "height": 319,
     "referenced_widgets": [
      "7cccde42f5a54a4a90090cdcda5afbe4",
      "30d224f7b8e04631a42ea60c9d3b3a65",
      "3ad0c6cb53be42399168c386a9e0a963",
      "b807a67f0a6d42dda427e24e5809bc07",
      "0066a3f997734608b8973d1767e4ef59",
      "933ab7d39a844870961cc75e59dd6c6f",
      "e7911907a8194c809f2f7caade3ca8f8",
      "f120dc281176468aac4d436efffbd66d",
      "30dc0b6ef3ad42abbcb933c5cff7b4ab",
      "d78fcea4c48e4f9eb9488e68c1da18d4",
      "bc92224d90214ec9b99b98e939769b5c",
      "4a070e23aad34b539f874e0b0df7269a",
      "1dcbd012c8eb473eadd78366c31c6637",
      "cac0c256f51340c9bbe2b6ef058395f9",
      "d593642a581e43bf87c9869f24a2c089",
      "bd022f6df0d145c995eeb844688886b2"
     ]
    },
    "id": "0JPwuyVBY7_r",
    "outputId": "306c494b-c04a-40d0-eb67-0494008843ee"
   },
   "outputs": [
    {
     "name": "stdout",
     "output_type": "stream",
     "text": [
      "One Process Started with Id- 450\n",
      "Training Base Classifiers on Proc Id- 450\n"
     ]
    },
    {
     "data": {
      "application/vnd.jupyter.widget-view+json": {
       "model_id": "7cccde42f5a54a4a90090cdcda5afbe4",
       "version_major": 2,
       "version_minor": 0
      },
      "text/plain": [
       "HBox(children=(FloatProgress(value=0.0, max=2.0), HTML(value='')))"
      ]
     },
     "metadata": {
      "tags": []
     },
     "output_type": "display_data"
    },
    {
     "name": "stdout",
     "output_type": "stream",
     "text": [
      "One Process Started with Id- 451\n",
      "Training Base Classifiers on Proc Id- 451\n"
     ]
    },
    {
     "data": {
      "application/vnd.jupyter.widget-view+json": {
       "model_id": "30dc0b6ef3ad42abbcb933c5cff7b4ab",
       "version_major": 2,
       "version_minor": 0
      },
      "text/plain": [
       "HBox(children=(FloatProgress(value=0.0, max=2.0), HTML(value='')))"
      ]
     },
     "metadata": {
      "tags": []
     },
     "output_type": "display_data"
    },
    {
     "name": "stdout",
     "output_type": "stream",
     "text": [
      "\n",
      "Completed Training Base Classifiers on Proc Id- 450\n",
      "Training Meta Classifier on Proc Id- 450\n",
      "Completed Training Meta Classifier on Proc Id- 450\n",
      "\n",
      "Completed Training Base Classifiers on Proc Id- 451\n",
      "Training Meta Classifier on Proc Id- 451\n",
      "Completed Training Meta Classifier on Proc Id- 451\n",
      "{'Accuracy': 0.9054932629793649, 'Average AUC': 0.6833557488066487, 'Hamming Loss': 0.029345561523079662, 'Log Loss': 0.6592993001061322}\n",
      "{'Accuracy': 0.9081158327836929, 'Average AUC': 0.7397038301394385, 'Hamming Loss': 0.027314509459049174, 'Log Loss': 0.7287205058288668}\n"
     ]
    }
   ],
   "source": [
    "ip_1= ([dec_tree,xgbst],log_reg,X_d1,y_d1,X_d2,y_d2,\n",
    "    X_test_tfidf_w2v,y_test,len(X_d1))\n",
    "\n",
    "ip_3= ([rbf_svm,ran_frst],xgbst,X_d1,y_d1,X_d2,y_d2,\n",
    "    X_test_tfidf_w2v,y_test,len(X_d1))\n",
    "\n",
    "total_no_of_proc=multiprocessing.cpu_count()\n",
    "\n",
    "with Pool(total_no_of_proc) as pool_obj:        \n",
    "    results=pool_obj.starmap(custom_stacking,[ip_1,ip_3])\n",
    "    pool_obj.close()\n",
    "\n",
    "for i in results:\n",
    "    print(i)"
   ]
  },
  {
   "cell_type": "code",
   "execution_count": null,
   "metadata": {
    "id": "5wDiVn--ROiK"
   },
   "outputs": [],
   "source": [
    "ip_2= ([log_reg,xgbst],rbf_svm,X_d1,y_d1,X_d2,y_d2,\n",
    "    X_test_tfidf_w2v,y_test,len(X_d1))\n",
    "\n",
    "\n",
    "ip_4= ([rbf_svm,poly_svm],ran_frst,X_d1,y_d1,X_d2,y_d2,\n",
    "    X_test_tfidf_w2v,y_test,len(X_d1))\n",
    "\n",
    "total_no_of_proc=multiprocessing.cpu_count()\n",
    "\n",
    "with Pool(total_no_of_proc) as pool_obj:        \n",
    "    results=pool_obj.starmap(custom_stacking,[ip_2,ip_4])\n",
    "    pool_obj.close()\n",
    "\n",
    "for i in results:\n",
    "    print(i)"
   ]
  },
  {
   "cell_type": "markdown",
   "metadata": {
    "id": "KUparrZtduRG"
   },
   "source": [
    "##### Training Stacking Model With Set of All Base Classifiers"
   ]
  },
  {
   "cell_type": "markdown",
   "metadata": {
    "id": "u7nVBzZgsLHD"
   },
   "source": [
    "**With 10K Samples...**"
   ]
  },
  {
   "cell_type": "code",
   "execution_count": null,
   "metadata": {
    "colab": {
     "base_uri": "https://localhost:8080/",
     "height": 621,
     "referenced_widgets": [
      "085ba3d4c62440a5af82794885a1a8a1",
      "562ed71545c14a65abd93051512c8d18",
      "8affa11e246f48f2a805b9ce16cc0c89",
      "2a027dc4d69b48dfb602b5eb10333317",
      "b8abc3f0758642d8976ba399fe7910d2",
      "46718d7f0c274d578c91bfa7ab39638b",
      "e9af420169784de08c61e31eb764c22f",
      "eb76d238580742769883a9ff9a00af66",
      "293d9effd5c1458e9fe2f5f2c3c0e11c",
      "b4a3a5a5a59349058fd1a505adbcd04e",
      "da3260aa1d814896882da41617e43b71",
      "8e6d977f064f4e0281c7d265380061ce",
      "5fe850bb682f48c1a13b12423bfdba66",
      "9a089756b1e84f8ba0689f4df8c4ba8a",
      "ac0b98797db34a68aeb6b80e0fc0643e",
      "6aa1d348f0dc45d8b97764e34e6df1bc",
      "54499bbb76c7423ca359d95e8006785c",
      "54bde043459f48c5bb3d2c73a1db03be",
      "8f7f7ce0470d41bdacbbe85087b156f4",
      "f0ffdd421308490c8f2f82bebad0ade3",
      "202bac074c1748d5ab5eaadac4fb191b",
      "a382c8856bab4ee196e7049b2d0c370b",
      "fd5cbfae3e5644df8f87cfd1fc448975",
      "78d8e45e61474e66a66040f1dc52615a",
      "0b545f7bc27d4a57bbfb7bfe16b26645",
      "c85afba09ac04e2dbd17b7d8f8fcd714",
      "07064e448c5f45019693953549bd79db",
      "46ae991f11ff4b3b8636da251e40a0a3",
      "0787c15131a84cbb8ee7fd3cbf3a2571",
      "96dd19b80a8b4166b08d26225a486cec",
      "c3982aa3ace7440596e8bc2f0061ea1e",
      "81bafd325fa9470099ed5b07a300dd2e"
     ]
    },
    "id": "ZhA5cAXYKvPX",
    "outputId": "78244247-2f0d-42c1-9b85-e4a310959f40"
   },
   "outputs": [
    {
     "name": "stdout",
     "output_type": "stream",
     "text": [
      "One Process Started with Id- 387\n",
      "Training Base Classifiers on Proc Id- 387\n"
     ]
    },
    {
     "data": {
      "application/vnd.jupyter.widget-view+json": {
       "model_id": "085ba3d4c62440a5af82794885a1a8a1",
       "version_major": 2,
       "version_minor": 0
      },
      "text/plain": [
       "HBox(children=(FloatProgress(value=0.0, max=7.0), HTML(value='')))"
      ]
     },
     "metadata": {
      "tags": []
     },
     "output_type": "display_data"
    },
    {
     "name": "stdout",
     "output_type": "stream",
     "text": [
      "One Process Started with Id- 388\n",
      "Training Base Classifiers on Proc Id- 388\n"
     ]
    },
    {
     "data": {
      "application/vnd.jupyter.widget-view+json": {
       "model_id": "293d9effd5c1458e9fe2f5f2c3c0e11c",
       "version_major": 2,
       "version_minor": 0
      },
      "text/plain": [
       "HBox(children=(FloatProgress(value=0.0, max=7.0), HTML(value='')))"
      ]
     },
     "metadata": {
      "tags": []
     },
     "output_type": "display_data"
    },
    {
     "name": "stdout",
     "output_type": "stream",
     "text": [
      "One Process Started with Id- 389\n",
      "Training Base Classifiers on Proc Id- 389\n"
     ]
    },
    {
     "data": {
      "application/vnd.jupyter.widget-view+json": {
       "model_id": "54499bbb76c7423ca359d95e8006785c",
       "version_major": 2,
       "version_minor": 0
      },
      "text/plain": [
       "HBox(children=(FloatProgress(value=0.0, max=7.0), HTML(value='')))"
      ]
     },
     "metadata": {
      "tags": []
     },
     "output_type": "display_data"
    },
    {
     "name": "stdout",
     "output_type": "stream",
     "text": [
      "One Process Started with Id- 390\n",
      "Training Base Classifiers on Proc Id- 390\n"
     ]
    },
    {
     "data": {
      "application/vnd.jupyter.widget-view+json": {
       "model_id": "0b545f7bc27d4a57bbfb7bfe16b26645",
       "version_major": 2,
       "version_minor": 0
      },
      "text/plain": [
       "HBox(children=(FloatProgress(value=0.0, max=7.0), HTML(value='')))"
      ]
     },
     "metadata": {
      "tags": []
     },
     "output_type": "display_data"
    },
    {
     "name": "stdout",
     "output_type": "stream",
     "text": [
      "\n",
      "Completed Training Base Classifiers on Proc Id- 390\n",
      "Training Meta Classifier on Proc Id- 390\n",
      "\n",
      "Completed Training Base Classifiers on Proc Id- 388\n",
      "Training Meta Classifier on Proc Id- 388\n",
      "\n",
      "Completed Training Base Classifiers on Proc Id- 387\n",
      "Training Meta Classifier on Proc Id- 387\n",
      "\n",
      "Completed Training Base Classifiers on Proc Id- 389\n",
      "Training Meta Classifier on Proc Id- 389\n",
      "Completed Training Meta Classifier on Proc Id- 390\n",
      "Completed Training Meta Classifier on Proc Id- 387\n",
      "Completed Training Meta Classifier on Proc Id- 389\n",
      "Completed Training Meta Classifier on Proc Id- 388\n",
      "{'Accuracy': 0.9057131191306259, 'Average AUC': 0.7275696513177108, 'Hamming Loss': 0.02855512631259357, 'Log Loss': 0.7110453719101846}\n",
      "{'Accuracy': 0.9056906848294769, 'Average AUC': 0.7020469282140006, 'Hamming Loss': 0.02853942230178921, 'Log Loss': 0.7182580434866603}\n",
      "{'Accuracy': 0.9056772242487874, 'Average AUC': 0.7275979228793563, 'Hamming Loss': 0.02855288288247866, 'Log Loss': 0.7141140843063324}\n",
      "{'Accuracy': 0.9056772242487874, 'Average AUC': 0.7271239432774325, 'Hamming Loss': 0.028543909162019026, 'Log Loss': 0.7182769890834149}\n"
     ]
    }
   ],
   "source": [
    "ip_1= ([log_reg,lin_svm,rbf_svm,poly_svm,dec_tree,ran_frst,xgbst],log_reg,X_d1,y_d1,X_d2,y_d2,\n",
    "    X_test_tfidf_w2v,y_test,10000)\n",
    "\n",
    "ip_2= ([log_reg,lin_svm,rbf_svm,poly_svm,dec_tree,ran_frst,xgbst],rbf_svm,X_d1,y_d1,X_d2,y_d2,\n",
    "    X_test_tfidf_w2v,y_test,10000)\n",
    "\n",
    "ip_3= ([log_reg,lin_svm,rbf_svm,poly_svm,dec_tree,ran_frst,xgbst],xgbst,X_d1,y_d1,X_d2,y_d2,\n",
    "    X_test_tfidf_w2v,y_test,10000)\n",
    "\n",
    "ip_4= ([log_reg,lin_svm,rbf_svm,poly_svm,dec_tree,ran_frst,xgbst],ran_frst,X_d1,y_d1,X_d2,y_d2,\n",
    "    X_test_tfidf_w2v,y_test,10000)\n",
    "\n",
    "total_no_of_proc=multiprocessing.cpu_count()\n",
    "\n",
    "with Pool(total_no_of_proc) as pool_obj:        \n",
    "    results=pool_obj.starmap(custom_stacking,[ip_1,ip_2,ip_3,ip_4])\n",
    "    pool_obj.close()\n",
    "\n",
    "for i in results:\n",
    "    print(i)"
   ]
  },
  {
   "cell_type": "markdown",
   "metadata": {
    "id": "HQT5sBxNsPNq"
   },
   "source": [
    "**With 30K Samples...**"
   ]
  },
  {
   "cell_type": "code",
   "execution_count": null,
   "metadata": {
    "colab": {
     "base_uri": "https://localhost:8080/",
     "height": 621,
     "referenced_widgets": [
      "9e7951eaac174e8f999f095baf9aa365",
      "e7a1238776ec41c698421206dc7ede68",
      "ef7cbbc93507473483226148b1edb9de",
      "49907b2ae1874b1f86c0b72bafd0081e",
      "30ec052b4d7c4d89828b00c103af2211",
      "b7d12b9755994373bab690904fb283f9",
      "1adb2bbe497347c18160f133e412de2a",
      "b382c1acecfd448ea2db2d24cd66a57a",
      "93ddd23f07914faeaa29afeef504c053",
      "6e67f653177240cd83fb669e3c142761",
      "d8318e6c8ed944cdbb772676c7b91ceb",
      "7b99a09546ca45c182b4c0fa42a930c6",
      "acb9191bf4674878b9590e4ccc4f9509",
      "f6252068d20440aeaab43d8c72c5a112",
      "1d80f25056034a668d77a4aea1393532",
      "f60f9e7f53a141868314a34e380daa35",
      "912dd009461c4fc3b7dea07e1f1c84b1",
      "cbb3e7c0805447ea8019e152e7f8573c",
      "5cf3a9206d374c0aae8a5cf3457fe923",
      "44785ac878974081b9032147f70b49f6",
      "e0fb1f172ca04c8c901654ea6ebf5bf1",
      "17675bb043a1477797f915af49986294",
      "8adc41056b6f4d7690e90a728fd3d65c",
      "26a72578fd9d4b7e9812d74facfb6ac9",
      "69474753baaf421ea808736ce293f14a",
      "869cea65a47940ecbd0c2304c1255460",
      "63884b02b2cd41238ae8fe893a684753",
      "256fe0e9fc23428fa44759a384929b6b",
      "f34024cda89041d7bb9cbf7cd08ad76c",
      "8e2f7fef50a24ce09f654ae007d7e8c6",
      "a43a857e7c8f450f9aef825b9403bf92",
      "1b694ad3f6f54c699c3af4c22747a146"
     ]
    },
    "id": "Xs5FfdsSdttB",
    "outputId": "e8dcb22f-bf39-46e2-f430-fb2936bfabf7"
   },
   "outputs": [
    {
     "name": "stdout",
     "output_type": "stream",
     "text": [
      "One Process Started with Id- 2751\n",
      "Training Base Classifiers on Proc Id- 2751\n"
     ]
    },
    {
     "data": {
      "application/vnd.jupyter.widget-view+json": {
       "model_id": "9e7951eaac174e8f999f095baf9aa365",
       "version_major": 2,
       "version_minor": 0
      },
      "text/plain": [
       "HBox(children=(FloatProgress(value=0.0, max=7.0), HTML(value='')))"
      ]
     },
     "metadata": {
      "tags": []
     },
     "output_type": "display_data"
    },
    {
     "name": "stdout",
     "output_type": "stream",
     "text": [
      "One Process Started with Id- 2752\n",
      "Training Base Classifiers on Proc Id- 2752\n"
     ]
    },
    {
     "data": {
      "application/vnd.jupyter.widget-view+json": {
       "model_id": "93ddd23f07914faeaa29afeef504c053",
       "version_major": 2,
       "version_minor": 0
      },
      "text/plain": [
       "HBox(children=(FloatProgress(value=0.0, max=7.0), HTML(value='')))"
      ]
     },
     "metadata": {
      "tags": []
     },
     "output_type": "display_data"
    },
    {
     "name": "stdout",
     "output_type": "stream",
     "text": [
      "One Process Started with Id- 2753\n",
      "Training Base Classifiers on Proc Id- 2753\n"
     ]
    },
    {
     "data": {
      "application/vnd.jupyter.widget-view+json": {
       "model_id": "912dd009461c4fc3b7dea07e1f1c84b1",
       "version_major": 2,
       "version_minor": 0
      },
      "text/plain": [
       "HBox(children=(FloatProgress(value=0.0, max=7.0), HTML(value='')))"
      ]
     },
     "metadata": {
      "tags": []
     },
     "output_type": "display_data"
    },
    {
     "name": "stdout",
     "output_type": "stream",
     "text": [
      "One Process Started with Id- 2754\n",
      "Training Base Classifiers on Proc Id- 2754\n"
     ]
    },
    {
     "data": {
      "application/vnd.jupyter.widget-view+json": {
       "model_id": "69474753baaf421ea808736ce293f14a",
       "version_major": 2,
       "version_minor": 0
      },
      "text/plain": [
       "HBox(children=(FloatProgress(value=0.0, max=7.0), HTML(value='')))"
      ]
     },
     "metadata": {
      "tags": []
     },
     "output_type": "display_data"
    },
    {
     "name": "stdout",
     "output_type": "stream",
     "text": [
      "\n",
      "Completed Training Base Classifiers on Proc Id- 2751\n",
      "Training Meta Classifier on Proc Id- 2751\n",
      "\n",
      "Completed Training Base Classifiers on Proc Id- 2753\n",
      "Training Meta Classifier on Proc Id- 2753\n",
      "Completed Training Meta Classifier on Proc Id- 2751\n",
      "\n",
      "Completed Training Base Classifiers on Proc Id- 2754\n",
      "Training Meta Classifier on Proc Id- 2754\n",
      "Completed Training Meta Classifier on Proc Id- 2754\n",
      "\n",
      "Completed Training Base Classifiers on Proc Id- 2752\n",
      "Training Meta Classifier on Proc Id- 2752\n",
      "Completed Training Meta Classifier on Proc Id- 2753\n",
      "Completed Training Meta Classifier on Proc Id- 2752\n",
      "{'Accuracy': 0.9072162173076147, 'Average AUC': 0.7309204867621446, 'Hamming Loss': 0.027585216692914798, 'Log Loss': 0.7455247950274542}\n",
      "{'Accuracy': 0.907207243587155, 'Average AUC': 0.7123222510008843, 'Hamming Loss': 0.027594190413374433, 'Log Loss': 0.7462561184324721}\n",
      "{'Accuracy': 0.9072207041678445, 'Average AUC': 0.7308358711340985, 'Hamming Loss': 0.02757773859253177, 'Log Loss': 0.7487371077766003}\n",
      "{'Accuracy': 0.9071803224257761, 'Average AUC': 0.730370970442824, 'Hamming Loss': 0.02760914661414049, 'Log Loss': 0.7464484097488794}\n"
     ]
    }
   ],
   "source": [
    "ip_1= ([log_reg,lin_svm,rbf_svm,poly_svm,dec_tree,ran_frst,xgbst],log_reg,X_d1,y_d1,X_d2,y_d2,\n",
    "    X_test_tfidf_w2v,y_test,30000)\n",
    "\n",
    "ip_2= ([log_reg,lin_svm,rbf_svm,poly_svm,dec_tree,ran_frst,xgbst],rbf_svm,X_d1,y_d1,X_d2,y_d2,\n",
    "    X_test_tfidf_w2v,y_test,30000)\n",
    "\n",
    "ip_3= ([log_reg,lin_svm,rbf_svm,poly_svm,dec_tree,ran_frst,xgbst],xgbst,X_d1,y_d1,X_d2,y_d2,\n",
    "    X_test_tfidf_w2v,y_test,30000)\n",
    "\n",
    "ip_4= ([log_reg,lin_svm,rbf_svm,poly_svm,dec_tree,ran_frst,xgbst],ran_frst,X_d1,y_d1,X_d2,y_d2,\n",
    "    X_test_tfidf_w2v,y_test,30000)\n",
    "\n",
    "total_no_of_proc=multiprocessing.cpu_count()\n",
    "\n",
    "with Pool(total_no_of_proc) as pool_obj:        \n",
    "    results=pool_obj.starmap(custom_stacking,[ip_1,ip_2,ip_3,ip_4])\n",
    "    pool_obj.close()\n",
    "\n",
    "for i in results:\n",
    "    print(i)"
   ]
  },
  {
   "cell_type": "markdown",
   "metadata": {
    "id": "o0hrcqyoslk8"
   },
   "source": [
    "**Summary on Stacking Models**\n",
    "\n",
    "1) Unfortunately any of the custom staking models, didnt give considerable improvements in the metrics.\n",
    "\n",
    "2) Accuracy and Hamming Loss with stacking seems to be same like as with the Label Power set.\n",
    "\n",
    "3) Average AUC has been droped for most of the stacked models\n",
    "\n",
    "4) Log-loss has been improved for stacked models."
   ]
  },
  {
   "cell_type": "markdown",
   "metadata": {
    "id": "poO7EJB6wAFf"
   },
   "source": [
    "### 7.3 MLP"
   ]
  },
  {
   "cell_type": "markdown",
   "metadata": {
    "id": "r340gBeFjGAv"
   },
   "source": [
    "Natively, Neural Networks (NN) are able to solve multi-label clasification problems. In case of multi class classification, generally we choose categorical cross entropy as loss function and soft-max as the activations in the output layer. But for a multi-label classsification we just need to choose the loss function as Binary cross entropy and and sigmoid activations in the output layer."
   ]
  },
  {
   "cell_type": "code",
   "execution_count": null,
   "metadata": {
    "id": "0wmsBWh7NTgc"
   },
   "outputs": [],
   "source": [
    "class custom_callbacks(tf.keras.callbacks.Callback):\n",
    "  #this is a custom call back \n",
    "\n",
    "    def __init__(self,training_data,validation_data,acc_threshold,auc_threshold,filepath):\n",
    "\n",
    "        super(custom_callbacks, self).__init__()\n",
    "        self.x = training_data[0]\n",
    "        self.y = training_data[1]\n",
    "        self.x_val = validation_data[0]\n",
    "        self.y_val = validation_data[1]\n",
    "        self.acc_threshold = acc_threshold\n",
    "        self.auc_threshold = auc_threshold\n",
    "        self.best_metric= float(\"inf\")\n",
    "        self.filepath=filepath\n",
    "\n",
    "    def on_train_begin(self, logs={}):\n",
    "\n",
    "        ## on begin of training, we are creating a instance varible called history\n",
    "        ## it is a dict with keys exact match ratio (accuracy), hamming loss,\n",
    "        # average AUC (calculated AUC on each column and made average) and logloss\n",
    "    \n",
    "        self.history={'EMR': [],'val_EMR': [],'ham_loss': [],'val_ham_loss': [],\n",
    "                      'log_loss':[],'val_log_loss':[],'avg_AUC':[],'val_avg_AUC':[]}                      \n",
    "\n",
    "    def on_epoch_end(self, epoch, logs={}):\n",
    "        # on end of each epoch, we will get logs and update the self.history dict\n",
    "\n",
    "        #predicts on train data\n",
    "\n",
    "        predict_train_proba = np.asarray(self.model.predict(self.x))\n",
    "        predict_train = (np.asarray(self.model.predict(self.x))).round()\n",
    "        train_metrics= cal_metrics(self.y,predict_train,predict_train_proba)\n",
    "\n",
    "        self.history['EMR'].append(train_metrics['Accuracy'])\n",
    "        self.history['avg_AUC'].append(train_metrics['Average AUC'])\n",
    "        self.history['ham_loss'].append(train_metrics['Hamming Loss'])\n",
    "        self.history['log_loss'].append(train_metrics['Log Loss'])\n",
    "\n",
    "        #predicts on test data\n",
    "\n",
    "        predict_test_proba = np.asarray(self.model.predict(self.x_val))\n",
    "        predict_test = (np.asarray(self.model.predict(self.x_val))).round()\n",
    "        test_metrics= cal_metrics(self.y_val,predict_test,predict_test_proba)\n",
    "\n",
    "        self.history['val_EMR'].append(test_metrics['Accuracy'])\n",
    "        self.history['val_avg_AUC'].append(test_metrics['Average AUC'])\n",
    "        self.history['val_ham_loss'].append(test_metrics['Hamming Loss'])\n",
    "        self.history['val_log_loss'].append(test_metrics['Log Loss'])\n",
    "\n",
    "        print(\"-EMR :\",round(train_metrics['Accuracy'],4),\n",
    "              \"-val_EMR:\",round(test_metrics['Accuracy'],4),\n",
    "              \"-avg_AUC:\",round(train_metrics['Average AUC'],4),\n",
    "              \"-val_avg_AUC:\",round(test_metrics['Average AUC'],4),\n",
    "              \"-Hamming_Loss:\",round(train_metrics['Hamming Loss'],4),\n",
    "              \"-val_Hamming_Loss:\",round(test_metrics['Hamming Loss'],4),\n",
    "              \"-Log_Loss:\",round(train_metrics['Log Loss'],4),\n",
    "              \"-val_Log_Loss:\",round(test_metrics['Log Loss'],4))\n",
    "              \n",
    "        print(\"\\n\")\n",
    "        \n",
    "        if (self.best_metric>test_metrics['Hamming Loss']):\n",
    "            print(\"val_Hamming_Loss has been improved from \",round(self.best_metric,4),\" to \",round(test_metrics['Hamming Loss'],4),\"So, Saving model to \",self.filepath)\n",
    "            self.model.save(self.filepath)\n",
    "            self.best_metric=test_metrics['Hamming Loss']\n",
    "        else:\n",
    "            print(\"val_Hamming_Loss has not been improved from \",round(self.best_metric,4))\n",
    "        \n",
    "        #custom code stop training after reaching a particular parameter to a threshold\n",
    "        if (test_metrics['Accuracy'] >= self.acc_threshold) and (test_metrics['Average AUC'] >= self.auc_threshold) :\n",
    "            print(\"Metrics reached the threshold... So, Termination\")\n",
    "            self.model.stop_training = True  \n",
    "        print(\"\\n\")"
   ]
  },
  {
   "cell_type": "code",
   "execution_count": null,
   "metadata": {
    "id": "cLnmRXk8W7hW"
   },
   "outputs": [],
   "source": [
    "#creating an object for the custom call back class\n",
    "call_back=custom_callbacks(training_data=(X_train_tfidf_w2v,y_train),\n",
    "                           validation_data=(X_test_tfidf_w2v,y_test),\n",
    "                           acc_threshold=0.91,\n",
    "                           auc_threshold=0.95,\n",
    "                           filepath=\"/content/gdrive/MyDrive/Colab Notebooks/Case_Study_1/mlp_model.h5\")"
   ]
  },
  {
   "cell_type": "code",
   "execution_count": null,
   "metadata": {
    "id": "TTyZlmuOwB0Q"
   },
   "outputs": [],
   "source": [
    "#input layer\n",
    "input_layer = Input(shape=X_train_tfidf_w2v.shape[1:],\n",
    "                    name='Input_Layer')\n",
    "\n",
    "FC1 = Dense(units=256,activation='relu',\n",
    "            kernel_initializer=tf.keras.initializers.glorot_normal(seed=32),\n",
    "            kernel_regularizer=tf.keras.regularizers.L2(l2=0.001),\n",
    "            bias_regularizer=tf.keras.regularizers.L2(l2=0.001),\n",
    "            name='FC1')(input_layer)\n",
    "\n",
    "FC2 = Dense(units=128,activation='relu',\n",
    "            kernel_initializer=tf.keras.initializers.glorot_normal(seed=32),\n",
    "            kernel_regularizer=tf.keras.regularizers.L2(l2=0.001),\n",
    "            bias_regularizer=tf.keras.regularizers.L2(l2=0.001),\n",
    "            name='FC2')(FC1)\n",
    "\n",
    "DP1=Dropout(rate=0.3)(FC2)\n",
    "\n",
    "FC3 = Dense(units=64,activation='relu',\n",
    "            kernel_initializer=tf.keras.initializers.glorot_normal(seed=32),\n",
    "            kernel_regularizer=tf.keras.regularizers.L2(l2=0.001),\n",
    "            bias_regularizer=tf.keras.regularizers.L2(l2=0.001),\n",
    "            name='FC3')(DP1)\n",
    "\n",
    "BN1=BatchNormalization()(FC3)\n",
    "\n",
    "FC4 = Dense(units=32,activation='relu',\n",
    "            kernel_initializer=tf.keras.initializers.glorot_normal(seed=32),\n",
    "            kernel_regularizer=tf.keras.regularizers.L2(l2=0.001),\n",
    "            bias_regularizer=tf.keras.regularizers.L2(l2=0.001),\n",
    "            name='FC4')(BN1)\n",
    "\n",
    "#Output Layer\n",
    "Out = Dense(units=y_train.shape[1],activation='sigmoid',\n",
    "            kernel_initializer=tf.keras.initializers.glorot_normal(seed=3),\n",
    "            kernel_regularizer=tf.keras.regularizers.L2(l2=0.001),\n",
    "            bias_regularizer=tf.keras.regularizers.L2(l2=0.001),\n",
    "            name='Output')(FC4)"
   ]
  },
  {
   "cell_type": "code",
   "execution_count": null,
   "metadata": {
    "id": "JqHakq_v1Xph"
   },
   "outputs": [],
   "source": [
    "model = Model(inputs=input_layer,outputs=Out,name=\"MLP\")"
   ]
  },
  {
   "cell_type": "code",
   "execution_count": null,
   "metadata": {
    "colab": {
     "base_uri": "https://localhost:8080/"
    },
    "id": "WhIIWQ401gvm",
    "outputId": "60290db9-6d15-4be3-a9e8-d2673a7b3cfc"
   },
   "outputs": [
    {
     "name": "stdout",
     "output_type": "stream",
     "text": [
      "Model: \"MLP\"\n",
      "_________________________________________________________________\n",
      "Layer (type)                 Output Shape              Param #   \n",
      "=================================================================\n",
      "Input_Layer (InputLayer)     [(None, 300)]             0         \n",
      "_________________________________________________________________\n",
      "FC1 (Dense)                  (None, 256)               77056     \n",
      "_________________________________________________________________\n",
      "FC2 (Dense)                  (None, 128)               32896     \n",
      "_________________________________________________________________\n",
      "dropout (Dropout)            (None, 128)               0         \n",
      "_________________________________________________________________\n",
      "FC3 (Dense)                  (None, 64)                8256      \n",
      "_________________________________________________________________\n",
      "batch_normalization (BatchNo (None, 64)                256       \n",
      "_________________________________________________________________\n",
      "FC4 (Dense)                  (None, 32)                2080      \n",
      "_________________________________________________________________\n",
      "Output (Dense)               (None, 6)                 198       \n",
      "=================================================================\n",
      "Total params: 120,742\n",
      "Trainable params: 120,614\n",
      "Non-trainable params: 128\n",
      "_________________________________________________________________\n"
     ]
    }
   ],
   "source": [
    "model.summary()"
   ]
  },
  {
   "cell_type": "code",
   "execution_count": null,
   "metadata": {
    "colab": {
     "base_uri": "https://localhost:8080/",
     "height": 865
    },
    "id": "AEBmBeC0baKk",
    "outputId": "eaf07fc0-faa8-416a-c9bd-5207c889473c"
   },
   "outputs": [
    {
     "data": {
      "image/png": "[encoded data removed]",
      "text/plain": [
       "<IPython.core.display.Image object>"
      ]
     },
     "execution_count": 26,
     "metadata": {
      "tags": []
     },
     "output_type": "execute_result"
    }
   ],
   "source": [
    "tf.keras.utils.plot_model(model,to_file='/content/gdrive/MyDrive/Colab Notebooks/Case_Study_1/mlp_model.png',\n",
    "     show_shapes=True, show_dtype=False,\n",
    "    show_layer_names=True, rankdir='TB',\n",
    "     expand_nested=False, dpi=96\n",
    ")"
   ]
  },
  {
   "cell_type": "code",
   "execution_count": null,
   "metadata": {
    "id": "pW6OSFDY1keD"
   },
   "outputs": [],
   "source": [
    "model.compile(optimizer=tf.keras.optimizers.Adam(lr=0.001),\n",
    "              loss='binary_crossentropy',\n",
    "              metrics=[\"binary_accuracy\"])"
   ]
  },
  {
   "cell_type": "code",
   "execution_count": null,
   "metadata": {
    "colab": {
     "base_uri": "https://localhost:8080/"
    },
    "id": "TGiFh_XC13iq",
    "outputId": "77d39278-10ec-4bc4-c354-039acceacb15"
   },
   "outputs": [
    {
     "name": "stdout",
     "output_type": "stream",
     "text": [
      "Epoch 1/20\n",
      "1990/1990 [==============================] - 25s 6ms/step - loss: 0.1745 - binary_accuracy: 0.9715 - val_loss: 0.1048 - val_binary_accuracy: 0.9755\n",
      "-EMR : 0.9056 -val_EMR: 0.9026 -avg_AUC: 0.9384 -val_avg_AUC: 0.942 -Hamming_Loss: 0.0238 -val_Hamming_Loss: 0.0245 -Log_Loss: 1.4694 -val_Log_Loss: 1.5618\n",
      "\n",
      "\n",
      "val_Hamming_Loss has been improved from  inf  to  0.0245 So, Saving model to  /content/gdrive/MyDrive/Colab Notebooks/Case_Study_1/mlp_model.h5\n",
      "\n",
      "\n",
      "Epoch 2/20\n",
      "1990/1990 [==============================] - 11s 6ms/step - loss: 0.0911 - binary_accuracy: 0.9759 - val_loss: 0.0917 - val_binary_accuracy: 0.9734\n",
      "-EMR : 0.8937 -val_EMR: 0.8914 -avg_AUC: 0.9481 -val_avg_AUC: 0.9483 -Hamming_Loss: 0.0259 -val_Hamming_Loss: 0.0266 -Log_Loss: 1.4208 -val_Log_Loss: 1.4644\n",
      "\n",
      "\n",
      "val_Hamming_Loss has not been improved from  0.0245\n",
      "\n",
      "\n",
      "Epoch 3/20\n",
      "1990/1990 [==============================] - 12s 6ms/step - loss: 0.0878 - binary_accuracy: 0.9761 - val_loss: 0.0946 - val_binary_accuracy: 0.9763\n",
      "-EMR : 0.906 -val_EMR: 0.904 -avg_AUC: 0.9497 -val_avg_AUC: 0.9493 -Hamming_Loss: 0.0232 -val_Hamming_Loss: 0.0237 -Log_Loss: 1.5 -val_Log_Loss: 1.5632\n",
      "\n",
      "\n",
      "val_Hamming_Loss has been improved from  0.0245  to  0.0237 So, Saving model to  /content/gdrive/MyDrive/Colab Notebooks/Case_Study_1/mlp_model.h5\n",
      "\n",
      "\n",
      "Epoch 4/20\n",
      "1990/1990 [==============================] - 11s 6ms/step - loss: 0.0859 - binary_accuracy: 0.9762 - val_loss: 0.0829 - val_binary_accuracy: 0.9770\n",
      "-EMR : 0.9107 -val_EMR: 0.9102 -avg_AUC: 0.9491 -val_avg_AUC: 0.9506 -Hamming_Loss: 0.0229 -val_Hamming_Loss: 0.023 -Log_Loss: 1.5743 -val_Log_Loss: 1.6232\n",
      "\n",
      "\n",
      "val_Hamming_Loss has been improved from  0.0237  to  0.023 So, Saving model to  /content/gdrive/MyDrive/Colab Notebooks/Case_Study_1/mlp_model.h5\n",
      "Metrics reached the threshold... So, Termination\n",
      "\n",
      "\n"
     ]
    },
    {
     "data": {
      "text/plain": [
       "<tensorflow.python.keras.callbacks.History at 0x7feb0294e490>"
      ]
     },
     "execution_count": 171,
     "metadata": {
      "tags": []
     },
     "output_type": "execute_result"
    }
   ],
   "source": [
    "model.fit(X_train_tfidf_w2v,y_train,\n",
    "          epochs=20,\n",
    "          validation_data=(X_test_tfidf_w2v,y_test), \n",
    "          batch_size=64,\n",
    "          callbacks=[call_back]\n",
    "          )"
   ]
  },
  {
   "cell_type": "markdown",
   "metadata": {
    "id": "EXwQ2fg5j7Ed"
   },
   "source": [
    "**Summary On MLP**\n",
    "\n",
    "1) To calculate Exact match ratio (EMR), average AUC metrics not available directly in tensorflow. Used call backs to print those after every epoch.\n",
    "\n",
    "2) Slight improvement of EMR, avg AUC, Hamming Loss has been observed with MLPs.\n",
    "\n",
    "3) There is no much improvement with Log-loss."
   ]
  },
  {
   "cell_type": "markdown",
   "metadata": {
    "id": "AceGJrBZc90B"
   },
   "source": [
    "## Comparison of Models"
   ]
  },
  {
   "cell_type": "code",
   "execution_count": null,
   "metadata": {
    "colab": {
     "base_uri": "https://localhost:8080/",
     "height": 638
    },
    "id": "qlHHsyAKdCu9",
    "outputId": "f36449ae-4707-4b7e-ad3a-da8584840d45"
   },
   "outputs": [
    {
     "data": {
      "text/html": [
       "<div>\n",
       "<style scoped>\n",
       "    .dataframe tbody tr th:only-of-type {\n",
       "        vertical-align: middle;\n",
       "    }\n",
       "\n",
       "    .dataframe tbody tr th {\n",
       "        vertical-align: top;\n",
       "    }\n",
       "\n",
       "    .dataframe thead th {\n",
       "        text-align: right;\n",
       "    }\n",
       "</style>\n",
       "<table border=\"1\" class=\"dataframe\">\n",
       "  <thead>\n",
       "    <tr style=\"text-align: right;\">\n",
       "      <th></th>\n",
       "      <th>Transformation Technique</th>\n",
       "      <th>Classifier</th>\n",
       "      <th>Exact Match Ratio</th>\n",
       "      <th>Average AUC</th>\n",
       "      <th>Hamming Loss</th>\n",
       "      <th>Log Loss</th>\n",
       "    </tr>\n",
       "  </thead>\n",
       "  <tbody>\n",
       "    <tr>\n",
       "      <th>0</th>\n",
       "      <td>Binary Relevance</td>\n",
       "      <td>Gaussian NB</td>\n",
       "      <td>0.765476</td>\n",
       "      <td>0.872074</td>\n",
       "      <td>0.124391</td>\n",
       "      <td>0.669759</td>\n",
       "    </tr>\n",
       "    <tr>\n",
       "      <th>1</th>\n",
       "      <td>Binary Relevance</td>\n",
       "      <td>Logistic Regression</td>\n",
       "      <td>0.904425</td>\n",
       "      <td>0.950750</td>\n",
       "      <td>0.025043</td>\n",
       "      <td>1.457457</td>\n",
       "    </tr>\n",
       "    <tr>\n",
       "      <th>2</th>\n",
       "      <td>Binary Relevance</td>\n",
       "      <td>Decision Tree</td>\n",
       "      <td>0.806464</td>\n",
       "      <td>0.663367</td>\n",
       "      <td>0.046295</td>\n",
       "      <td>2.119595</td>\n",
       "    </tr>\n",
       "    <tr>\n",
       "      <th>3</th>\n",
       "      <td>Binary Relevance</td>\n",
       "      <td>Random Forest</td>\n",
       "      <td>0.907598</td>\n",
       "      <td>0.893898</td>\n",
       "      <td>0.026032</td>\n",
       "      <td>1.403105</td>\n",
       "    </tr>\n",
       "    <tr>\n",
       "      <th>4</th>\n",
       "      <td>Binary Relevance</td>\n",
       "      <td>XGBoost</td>\n",
       "      <td>0.907346</td>\n",
       "      <td>0.951889</td>\n",
       "      <td>0.024598</td>\n",
       "      <td>1.351566</td>\n",
       "    </tr>\n",
       "    <tr>\n",
       "      <th>5</th>\n",
       "      <td>Classifier Chains</td>\n",
       "      <td>Gaussian NB</td>\n",
       "      <td>0.764848</td>\n",
       "      <td>0.856806</td>\n",
       "      <td>0.145377</td>\n",
       "      <td>0.473552</td>\n",
       "    </tr>\n",
       "    <tr>\n",
       "      <th>6</th>\n",
       "      <td>Classifier Chains</td>\n",
       "      <td>Logistic Regression</td>\n",
       "      <td>0.906907</td>\n",
       "      <td>0.936180</td>\n",
       "      <td>0.025105</td>\n",
       "      <td>1.103328</td>\n",
       "    </tr>\n",
       "    <tr>\n",
       "      <th>7</th>\n",
       "      <td>Classifier Chains</td>\n",
       "      <td>Decision Tree</td>\n",
       "      <td>0.845127</td>\n",
       "      <td>0.656598</td>\n",
       "      <td>0.046725</td>\n",
       "      <td>1.374427</td>\n",
       "    </tr>\n",
       "    <tr>\n",
       "      <th>8</th>\n",
       "      <td>Classifier Chains</td>\n",
       "      <td>Random Forest</td>\n",
       "      <td>0.909137</td>\n",
       "      <td>0.888660</td>\n",
       "      <td>0.025215</td>\n",
       "      <td>1.132142</td>\n",
       "    </tr>\n",
       "    <tr>\n",
       "      <th>9</th>\n",
       "      <td>Classifier Chains</td>\n",
       "      <td>XGBoost</td>\n",
       "      <td>0.908980</td>\n",
       "      <td>0.938875</td>\n",
       "      <td>0.024572</td>\n",
       "      <td>1.026996</td>\n",
       "    </tr>\n",
       "    <tr>\n",
       "      <th>10</th>\n",
       "      <td>Label Powerset</td>\n",
       "      <td>Gaussian NB</td>\n",
       "      <td>0.480574</td>\n",
       "      <td>0.849624</td>\n",
       "      <td>0.126611</td>\n",
       "      <td>2.750519</td>\n",
       "    </tr>\n",
       "    <tr>\n",
       "      <th>11</th>\n",
       "      <td>Label Powerset</td>\n",
       "      <td>Logistic Regression</td>\n",
       "      <td>0.907974</td>\n",
       "      <td>0.953990</td>\n",
       "      <td>0.025257</td>\n",
       "      <td>1.077268</td>\n",
       "    </tr>\n",
       "    <tr>\n",
       "      <th>12</th>\n",
       "      <td>Label Powerset</td>\n",
       "      <td>Decision Tree</td>\n",
       "      <td>0.839788</td>\n",
       "      <td>0.655490</td>\n",
       "      <td>0.046112</td>\n",
       "      <td>1.390550</td>\n",
       "    </tr>\n",
       "    <tr>\n",
       "      <th>13</th>\n",
       "      <td>Label Powerset</td>\n",
       "      <td>Random Forest</td>\n",
       "      <td>0.906907</td>\n",
       "      <td>0.911457</td>\n",
       "      <td>0.028053</td>\n",
       "      <td>0.730665</td>\n",
       "    </tr>\n",
       "    <tr>\n",
       "      <th>14</th>\n",
       "      <td>Label Powerset</td>\n",
       "      <td>XGBoost</td>\n",
       "      <td>0.909168</td>\n",
       "      <td>0.951175</td>\n",
       "      <td>0.025933</td>\n",
       "      <td>0.909725</td>\n",
       "    </tr>\n",
       "    <tr>\n",
       "      <th>15</th>\n",
       "      <td>Label Powerset</td>\n",
       "      <td>Best Stacking with randomly choosen 4 base-cla...</td>\n",
       "      <td>0.909590</td>\n",
       "      <td>0.802800</td>\n",
       "      <td>0.025604</td>\n",
       "      <td>0.754539</td>\n",
       "    </tr>\n",
       "    <tr>\n",
       "      <th>16</th>\n",
       "      <td>Label Powerset</td>\n",
       "      <td>Best Stacking with randomly choosen 3 base-cla...</td>\n",
       "      <td>0.909890</td>\n",
       "      <td>0.785060</td>\n",
       "      <td>0.025550</td>\n",
       "      <td>0.796460</td>\n",
       "    </tr>\n",
       "    <tr>\n",
       "      <th>17</th>\n",
       "      <td>Label Powerset</td>\n",
       "      <td>Best Stacking with randomly choosen 2 base-cla...</td>\n",
       "      <td>0.909350</td>\n",
       "      <td>0.823860</td>\n",
       "      <td>0.025351</td>\n",
       "      <td>0.837060</td>\n",
       "    </tr>\n",
       "    <tr>\n",
       "      <th>18</th>\n",
       "      <td>Not Applicable</td>\n",
       "      <td>MLP</td>\n",
       "      <td>0.910200</td>\n",
       "      <td>0.950600</td>\n",
       "      <td>0.023000</td>\n",
       "      <td>1.623200</td>\n",
       "    </tr>\n",
       "  </tbody>\n",
       "</table>\n",
       "</div>"
      ],
      "text/plain": [
       "   Transformation Technique   ...  Log Loss\n",
       "0           Binary Relevance  ...  0.669759\n",
       "1           Binary Relevance  ...  1.457457\n",
       "2           Binary Relevance  ...  2.119595\n",
       "3           Binary Relevance  ...  1.403105\n",
       "4           Binary Relevance  ...  1.351566\n",
       "5          Classifier Chains  ...  0.473552\n",
       "6          Classifier Chains  ...  1.103328\n",
       "7          Classifier Chains  ...  1.374427\n",
       "8          Classifier Chains  ...  1.132142\n",
       "9          Classifier Chains  ...  1.026996\n",
       "10            Label Powerset  ...  2.750519\n",
       "11            Label Powerset  ...  1.077268\n",
       "12            Label Powerset  ...  1.390550\n",
       "13            Label Powerset  ...  0.730665\n",
       "14            Label Powerset  ...  0.909725\n",
       "15            Label Powerset  ...  0.754539\n",
       "16            Label Powerset  ...  0.796460\n",
       "17            Label Powerset  ...  0.837060\n",
       "18            Not Applicable  ...  1.623200\n",
       "\n",
       "[19 rows x 6 columns]"
      ]
     },
     "execution_count": 18,
     "metadata": {
      "tags": []
     },
     "output_type": "execute_result"
    }
   ],
   "source": [
    "comp_models=pd.read_csv(\"/content/gdrive/MyDrive/Colab Notebooks/Case_Study_1/model_comparison.csv\")\n",
    "comp_models"
   ]
  },
  {
   "cell_type": "markdown",
   "metadata": {
    "id": "BRMQHqcxHWdn"
   },
   "source": [
    "## Kaggle Submission"
   ]
  },
  {
   "cell_type": "code",
   "execution_count": null,
   "metadata": {
    "id": "Unz3eyoOdp67"
   },
   "outputs": [],
   "source": [
    "#load data\n",
    "\n",
    "tfidf_dict = joblib.load('/content/gdrive/MyDrive/Colab Notebooks/Case_Study_1/tfidf_dict.pkl')\n",
    "tfidf_words = joblib.load('/content/gdrive/MyDrive/Colab Notebooks/Case_Study_1/tfidf_words.pkl')\n",
    "w2v_dict = joblib.load('/content/gdrive/MyDrive/Colab Notebooks/Case_Study_1/w2v_dict.pkl')\n",
    "w2v_words = joblib.load('/content/gdrive/MyDrive/Colab Notebooks/Case_Study_1/w2v_words.pkl')"
   ]
  },
  {
   "cell_type": "code",
   "execution_count": null,
   "metadata": {
    "id": "89EtgMkLHoAo"
   },
   "outputs": [],
   "source": [
    "#loading model\n",
    "model=load_model(\"/content/gdrive/MyDrive/Colab Notebooks/Case_Study_1/mlp_model.h5\")"
   ]
  },
  {
   "cell_type": "code",
   "execution_count": null,
   "metadata": {
    "id": "4Rw_ymToH9Yj"
   },
   "outputs": [],
   "source": [
    "#loading preprocessed kaggle test data\n",
    "kag_test_data=pd.read_csv(\"/content/gdrive/MyDrive/Colab Notebooks/Case_Study_1/pre_processed_kag_test_data.csv\")"
   ]
  },
  {
   "cell_type": "code",
   "execution_count": null,
   "metadata": {
    "colab": {
     "base_uri": "https://localhost:8080/",
     "height": 66,
     "referenced_widgets": [
      "8e1069f1a7d344458c1a62d41d23441b",
      "4e8517451f2a46e8bbb329645edeb061",
      "ca722a487e74437a97d2e348eb6dcfbc",
      "cdf5dba5568b455ca93d0631cb752f60",
      "13302902b62a42e3b511a72cc694dc69",
      "bcbea28ff33a40c59b11c48964b07045",
      "d848f73b429948ef9550d2b12b12ceea",
      "bdf528636cb24dc8ba5b1ac7be728932"
     ]
    },
    "id": "H6jUlTugKeHe",
    "outputId": "527a3a4c-5cfd-49cf-f74a-620c21e2b14a"
   },
   "outputs": [
    {
     "data": {
      "application/vnd.jupyter.widget-view+json": {
       "model_id": "8e1069f1a7d344458c1a62d41d23441b",
       "version_major": 2,
       "version_minor": 0
      },
      "text/plain": [
       "HBox(children=(FloatProgress(value=0.0, max=153164.0), HTML(value='')))"
      ]
     },
     "metadata": {
      "tags": []
     },
     "output_type": "display_data"
    },
    {
     "name": "stdout",
     "output_type": "stream",
     "text": [
      "\n"
     ]
    }
   ],
   "source": [
    "#converting to vectors\n",
    "kag_data=comp_tfidf_weighted_w2v(kag_test_data['comment_text'].values,w2v_words,tfidf_words,w2v_dict,tfidf_dict)"
   ]
  },
  {
   "cell_type": "code",
   "execution_count": null,
   "metadata": {
    "id": "6NFWcwyrP57N"
   },
   "outputs": [],
   "source": [
    "#predictions on kaggle test data set\n",
    "predictions=model.predict(kag_data)"
   ]
  },
  {
   "cell_type": "code",
   "execution_count": null,
   "metadata": {
    "id": "XRrbwD8LQXVJ"
   },
   "outputs": [],
   "source": [
    "#creating data frame for submission\n",
    "kag_sub=pd.DataFrame({'id':kag_test_data['id'],\n",
    "                      'toxic':predictions[:,0],\n",
    "                      'severe_toxic':predictions[:,1],\n",
    "                      'obscene':predictions[:,2],\n",
    "                      'threat':predictions[:,3],\n",
    "                      'insult':predictions[:,4],\n",
    "                      'identity_hate':predictions[:,5]})"
   ]
  },
  {
   "cell_type": "code",
   "execution_count": null,
   "metadata": {
    "colab": {
     "base_uri": "https://localhost:8080/",
     "height": 419
    },
    "id": "Xn02hHH0Ul9S",
    "outputId": "afa425f3-6201-48a8-f803-55232e653bc7"
   },
   "outputs": [
    {
     "data": {
      "text/html": [
       "<div>\n",
       "<style scoped>\n",
       "    .dataframe tbody tr th:only-of-type {\n",
       "        vertical-align: middle;\n",
       "    }\n",
       "\n",
       "    .dataframe tbody tr th {\n",
       "        vertical-align: top;\n",
       "    }\n",
       "\n",
       "    .dataframe thead th {\n",
       "        text-align: right;\n",
       "    }\n",
       "</style>\n",
       "<table border=\"1\" class=\"dataframe\">\n",
       "  <thead>\n",
       "    <tr style=\"text-align: right;\">\n",
       "      <th></th>\n",
       "      <th>id</th>\n",
       "      <th>toxic</th>\n",
       "      <th>severe_toxic</th>\n",
       "      <th>obscene</th>\n",
       "      <th>threat</th>\n",
       "      <th>insult</th>\n",
       "      <th>identity_hate</th>\n",
       "    </tr>\n",
       "  </thead>\n",
       "  <tbody>\n",
       "    <tr>\n",
       "      <th>0</th>\n",
       "      <td>00001cee341fdb12</td>\n",
       "      <td>0.883639</td>\n",
       "      <td>0.098373</td>\n",
       "      <td>0.644584</td>\n",
       "      <td>0.047285</td>\n",
       "      <td>0.577831</td>\n",
       "      <td>0.127661</td>\n",
       "    </tr>\n",
       "    <tr>\n",
       "      <th>1</th>\n",
       "      <td>0000247867823ef7</td>\n",
       "      <td>0.016471</td>\n",
       "      <td>0.000717</td>\n",
       "      <td>0.004536</td>\n",
       "      <td>0.001515</td>\n",
       "      <td>0.006574</td>\n",
       "      <td>0.002801</td>\n",
       "    </tr>\n",
       "    <tr>\n",
       "      <th>2</th>\n",
       "      <td>00013b17ad220c46</td>\n",
       "      <td>0.003327</td>\n",
       "      <td>0.000098</td>\n",
       "      <td>0.000845</td>\n",
       "      <td>0.000211</td>\n",
       "      <td>0.001118</td>\n",
       "      <td>0.000428</td>\n",
       "    </tr>\n",
       "    <tr>\n",
       "      <th>3</th>\n",
       "      <td>00017563c3f7919a</td>\n",
       "      <td>0.002471</td>\n",
       "      <td>0.000069</td>\n",
       "      <td>0.000624</td>\n",
       "      <td>0.000148</td>\n",
       "      <td>0.000808</td>\n",
       "      <td>0.000306</td>\n",
       "    </tr>\n",
       "    <tr>\n",
       "      <th>4</th>\n",
       "      <td>00017695ad8997eb</td>\n",
       "      <td>0.009636</td>\n",
       "      <td>0.000356</td>\n",
       "      <td>0.002538</td>\n",
       "      <td>0.000764</td>\n",
       "      <td>0.003600</td>\n",
       "      <td>0.001467</td>\n",
       "    </tr>\n",
       "    <tr>\n",
       "      <th>...</th>\n",
       "      <td>...</td>\n",
       "      <td>...</td>\n",
       "      <td>...</td>\n",
       "      <td>...</td>\n",
       "      <td>...</td>\n",
       "      <td>...</td>\n",
       "      <td>...</td>\n",
       "    </tr>\n",
       "    <tr>\n",
       "      <th>153159</th>\n",
       "      <td>fffcd0960ee309b5</td>\n",
       "      <td>0.349778</td>\n",
       "      <td>0.011498</td>\n",
       "      <td>0.109269</td>\n",
       "      <td>0.011864</td>\n",
       "      <td>0.125179</td>\n",
       "      <td>0.027855</td>\n",
       "    </tr>\n",
       "    <tr>\n",
       "      <th>153160</th>\n",
       "      <td>fffd7a9a6eb32c16</td>\n",
       "      <td>0.028827</td>\n",
       "      <td>0.001170</td>\n",
       "      <td>0.007718</td>\n",
       "      <td>0.002312</td>\n",
       "      <td>0.011177</td>\n",
       "      <td>0.004373</td>\n",
       "    </tr>\n",
       "    <tr>\n",
       "      <th>153161</th>\n",
       "      <td>fffda9e8d6fafa9e</td>\n",
       "      <td>0.004894</td>\n",
       "      <td>0.000153</td>\n",
       "      <td>0.001248</td>\n",
       "      <td>0.000334</td>\n",
       "      <td>0.001698</td>\n",
       "      <td>0.000666</td>\n",
       "    </tr>\n",
       "    <tr>\n",
       "      <th>153162</th>\n",
       "      <td>fffe8f1340a79fc2</td>\n",
       "      <td>0.007429</td>\n",
       "      <td>0.000257</td>\n",
       "      <td>0.001936</td>\n",
       "      <td>0.000565</td>\n",
       "      <td>0.002689</td>\n",
       "      <td>0.001093</td>\n",
       "    </tr>\n",
       "    <tr>\n",
       "      <th>153163</th>\n",
       "      <td>ffffce3fb183ee80</td>\n",
       "      <td>0.708883</td>\n",
       "      <td>0.041500</td>\n",
       "      <td>0.354666</td>\n",
       "      <td>0.029779</td>\n",
       "      <td>0.355322</td>\n",
       "      <td>0.075086</td>\n",
       "    </tr>\n",
       "  </tbody>\n",
       "</table>\n",
       "<p>153164 rows × 7 columns</p>\n",
       "</div>"
      ],
      "text/plain": [
       "                      id     toxic  ...    insult  identity_hate\n",
       "0       00001cee341fdb12  0.883639  ...  0.577831       0.127661\n",
       "1       0000247867823ef7  0.016471  ...  0.006574       0.002801\n",
       "2       00013b17ad220c46  0.003327  ...  0.001118       0.000428\n",
       "3       00017563c3f7919a  0.002471  ...  0.000808       0.000306\n",
       "4       00017695ad8997eb  0.009636  ...  0.003600       0.001467\n",
       "...                  ...       ...  ...       ...            ...\n",
       "153159  fffcd0960ee309b5  0.349778  ...  0.125179       0.027855\n",
       "153160  fffd7a9a6eb32c16  0.028827  ...  0.011177       0.004373\n",
       "153161  fffda9e8d6fafa9e  0.004894  ...  0.001698       0.000666\n",
       "153162  fffe8f1340a79fc2  0.007429  ...  0.002689       0.001093\n",
       "153163  ffffce3fb183ee80  0.708883  ...  0.355322       0.075086\n",
       "\n",
       "[153164 rows x 7 columns]"
      ]
     },
     "execution_count": 81,
     "metadata": {
      "tags": []
     },
     "output_type": "execute_result"
    }
   ],
   "source": [
    "kag_sub"
   ]
  },
  {
   "cell_type": "code",
   "execution_count": null,
   "metadata": {
    "id": "iXMS7fgZS59c"
   },
   "outputs": [],
   "source": [
    "#saving data frame to csv file\n",
    "kag_sub.to_csv(\"/content/gdrive/MyDrive/Colab Notebooks/Case_Study_1/kaggle_submission.csv\",\n",
    "          header=True, index=False)"
   ]
  },
  {
   "cell_type": "code",
   "execution_count": null,
   "metadata": {
    "id": "Bgq2zQi8XyTM"
   },
   "outputs": [],
   "source": [
    "!mkdir -p ~/.kaggle\n",
    "!cp kaggle.json ~/.kaggle/"
   ]
  },
  {
   "cell_type": "code",
   "execution_count": null,
   "metadata": {
    "colab": {
     "base_uri": "https://localhost:8080/"
    },
    "id": "6st1-tCmUJLR",
    "outputId": "1acede83-95b3-43b6-cfc1-0c8f12742a4a"
   },
   "outputs": [
    {
     "name": "stdout",
     "output_type": "stream",
     "text": [
      "Warning: Your Kaggle API key is readable by other users on this system! To fix this, you can run 'chmod 600 /root/.kaggle/kaggle.json'\n",
      "Warning: Looks like you're using an outdated API Version, please consider updating (server 1.5.12 / client 1.5.4)\n",
      "100% 13.3M/13.3M [00:05<00:00, 2.63MB/s]\n",
      "Successfully submitted to Toxic Comment Classification Challenge"
     ]
    }
   ],
   "source": [
    "#submission\n",
    "!kaggle competitions submit -c jigsaw-toxic-comment-classification-challenge -f /content/gdrive/MyDrive/Colab\\ Notebooks/Case_Study_1/kaggle_submission.csv -m \"This is final submission file tested on actual test data using MLP_Model\""
   ]
  },
  {
   "cell_type": "markdown",
   "metadata": {
    "id": "1NNZO3aSZ59e"
   },
   "source": [
    "![kaggle_submission.png](data:image/png;base64,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)"
   ]
  }
 ],
 "metadata": {
  "colab": {
   "collapsed_sections": [
    "PzlBHPM-jGQb",
    "EYWLnLrVH2fo",
    "HspWF6Z-Z9Ql",
    "wthsq39L2Ut-",
    "XyeljStGwPsF",
    "143SjoVOmCGB",
    "TItDq-5vMYHl",
    "zTJZOM-iy789",
    "WbqvwfZjNpXg",
    "KUparrZtduRG"
   ],
   "machine_shape": "hm",
   "name": "TCC_Modelling.ipynb",
   "provenance": []
  },
  "kernelspec": {
   "display_name": "Python 3",
   "language": "python",
   "name": "python3"
  },
  "language_info": {
   "codemirror_mode": {
    "name": "ipython",
    "version": 3
   },
   "file_extension": ".py",
   "mimetype": "text/x-python",
   "name": "python",
   "nbconvert_exporter": "python",
   "pygments_lexer": "ipython3",
   "version": "3.7.3"
  },
  "widgets": {
   "application/vnd.jupyter.widget-state+json": {
    "0066a3f997734608b8973d1767e4ef59": {
     "model_module": "@jupyter-widgets/controls",
     "model_name": "ProgressStyleModel",
     "state": {
      "_model_module": "@jupyter-widgets/controls",
      "_model_module_version": "1.5.0",
      "_model_name": "ProgressStyleModel",
      "_view_count": null,
      "_view_module": "@jupyter-widgets/base",
      "_view_module_version": "1.2.0",
      "_view_name": "StyleView",
      "bar_color": null,
      "description_width": "initial"
     }
    },
    "00930b4b06084a0c92dd33492e068c71": {
     "model_module": "@jupyter-widgets/base",
     "model_name": "LayoutModel",
     "state": {
      "_model_module": "@jupyter-widgets/base",
      "_model_module_version": "1.2.0",
      "_model_name": "LayoutModel",
      "_view_count": null,
      "_view_module": "@jupyter-widgets/base",
      "_view_module_version": "1.2.0",
      "_view_name": "LayoutView",
      "align_content": null,
      "align_items": null,
      "align_self": null,
      "border": null,
      "bottom": null,
      "display": null,
      "flex": null,
      "flex_flow": null,
      "grid_area": null,
      "grid_auto_columns": null,
      "grid_auto_flow": null,
      "grid_auto_rows": null,
      "grid_column": null,
      "grid_gap": null,
      "grid_row": null,
      "grid_template_areas": null,
      "grid_template_columns": null,
      "grid_template_rows": null,
      "height": null,
      "justify_content": null,
      "justify_items": null,
      "left": null,
      "margin": null,
      "max_height": null,
      "max_width": null,
      "min_height": null,
      "min_width": null,
      "object_fit": null,
      "object_position": null,
      "order": null,
      "overflow": null,
      "overflow_x": null,
      "overflow_y": null,
      "padding": null,
      "right": null,
      "top": null,
      "visibility": null,
      "width": null
     }
    },
    "031c592dbac34c1f8264032115ca1edb": {
     "model_module": "@jupyter-widgets/controls",
     "model_name": "DescriptionStyleModel",
     "state": {
      "_model_module": "@jupyter-widgets/controls",
      "_model_module_version": "1.5.0",
      "_model_name": "DescriptionStyleModel",
      "_view_count": null,
      "_view_module": "@jupyter-widgets/base",
      "_view_module_version": "1.2.0",
      "_view_name": "StyleView",
      "description_width": ""
     }
    },
    "03949130785e429c9c6f736b399c33ed": {
     "model_module": "@jupyter-widgets/controls",
     "model_name": "DescriptionStyleModel",
     "state": {
      "_model_module": "@jupyter-widgets/controls",
      "_model_module_version": "1.5.0",
      "_model_name": "DescriptionStyleModel",
      "_view_count": null,
      "_view_module": "@jupyter-widgets/base",
      "_view_module_version": "1.2.0",
      "_view_name": "StyleView",
      "description_width": ""
     }
    },
    "04d4b9f21e054db389eb0c5d5a7c820f": {
     "model_module": "@jupyter-widgets/base",
     "model_name": "LayoutModel",
     "state": {
      "_model_module": "@jupyter-widgets/base",
      "_model_module_version": "1.2.0",
      "_model_name": "LayoutModel",
      "_view_count": null,
      "_view_module": "@jupyter-widgets/base",
      "_view_module_version": "1.2.0",
      "_view_name": "LayoutView",
      "align_content": null,
      "align_items": null,
      "align_self": null,
      "border": null,
      "bottom": null,
      "display": null,
      "flex": null,
      "flex_flow": null,
      "grid_area": null,
      "grid_auto_columns": null,
      "grid_auto_flow": null,
      "grid_auto_rows": null,
      "grid_column": null,
      "grid_gap": null,
      "grid_row": null,
      "grid_template_areas": null,
      "grid_template_columns": null,
      "grid_template_rows": null,
      "height": null,
      "justify_content": null,
      "justify_items": null,
      "left": null,
      "margin": null,
      "max_height": null,
      "max_width": null,
      "min_height": null,
      "min_width": null,
      "object_fit": null,
      "object_position": null,
      "order": null,
      "overflow": null,
      "overflow_x": null,
      "overflow_y": null,
      "padding": null,
      "right": null,
      "top": null,
      "visibility": null,
      "width": null
     }
    },
    "0541b712981c4f23a6952f1a01804399": {
     "model_module": "@jupyter-widgets/base",
     "model_name": "LayoutModel",
     "state": {
      "_model_module": "@jupyter-widgets/base",
      "_model_module_version": "1.2.0",
      "_model_name": "LayoutModel",
      "_view_count": null,
      "_view_module": "@jupyter-widgets/base",
      "_view_module_version": "1.2.0",
      "_view_name": "LayoutView",
      "align_content": null,
      "align_items": null,
      "align_self": null,
      "border": null,
      "bottom": null,
      "display": null,
      "flex": null,
      "flex_flow": null,
      "grid_area": null,
      "grid_auto_columns": null,
      "grid_auto_flow": null,
      "grid_auto_rows": null,
      "grid_column": null,
      "grid_gap": null,
      "grid_row": null,
      "grid_template_areas": null,
      "grid_template_columns": null,
      "grid_template_rows": null,
      "height": null,
      "justify_content": null,
      "justify_items": null,
      "left": null,
      "margin": null,
      "max_height": null,
      "max_width": null,
      "min_height": null,
      "min_width": null,
      "object_fit": null,
      "object_position": null,
      "order": null,
      "overflow": null,
      "overflow_x": null,
      "overflow_y": null,
      "padding": null,
      "right": null,
      "top": null,
      "visibility": null,
      "width": null
     }
    },
    "05d812a21e284467a6563d866192e51e": {
     "model_module": "@jupyter-widgets/base",
     "model_name": "LayoutModel",
     "state": {
      "_model_module": "@jupyter-widgets/base",
      "_model_module_version": "1.2.0",
      "_model_name": "LayoutModel",
      "_view_count": null,
      "_view_module": "@jupyter-widgets/base",
      "_view_module_version": "1.2.0",
      "_view_name": "LayoutView",
      "align_content": null,
      "align_items": null,
      "align_self": null,
      "border": null,
      "bottom": null,
      "display": null,
      "flex": null,
      "flex_flow": null,
      "grid_area": null,
      "grid_auto_columns": null,
      "grid_auto_flow": null,
      "grid_auto_rows": null,
      "grid_column": null,
      "grid_gap": null,
      "grid_row": null,
      "grid_template_areas": null,
      "grid_template_columns": null,
      "grid_template_rows": null,
      "height": null,
      "justify_content": null,
      "justify_items": null,
      "left": null,
      "margin": null,
      "max_height": null,
      "max_width": null,
      "min_height": null,
      "min_width": null,
      "object_fit": null,
      "object_position": null,
      "order": null,
      "overflow": null,
      "overflow_x": null,
      "overflow_y": null,
      "padding": null,
      "right": null,
      "top": null,
      "visibility": null,
      "width": null
     }
    },
    "0a01b300e3ea441f98a20d945607f53d": {
     "model_module": "@jupyter-widgets/base",
     "model_name": "LayoutModel",
     "state": {
      "_model_module": "@jupyter-widgets/base",
      "_model_module_version": "1.2.0",
      "_model_name": "LayoutModel",
      "_view_count": null,
      "_view_module": "@jupyter-widgets/base",
      "_view_module_version": "1.2.0",
      "_view_name": "LayoutView",
      "align_content": null,
      "align_items": null,
      "align_self": null,
      "border": null,
      "bottom": null,
      "display": null,
      "flex": null,
      "flex_flow": null,
      "grid_area": null,
      "grid_auto_columns": null,
      "grid_auto_flow": null,
      "grid_auto_rows": null,
      "grid_column": null,
      "grid_gap": null,
      "grid_row": null,
      "grid_template_areas": null,
      "grid_template_columns": null,
      "grid_template_rows": null,
      "height": null,
      "justify_content": null,
      "justify_items": null,
      "left": null,
      "margin": null,
      "max_height": null,
      "max_width": null,
      "min_height": null,
      "min_width": null,
      "object_fit": null,
      "object_position": null,
      "order": null,
      "overflow": null,
      "overflow_x": null,
      "overflow_y": null,
      "padding": null,
      "right": null,
      "top": null,
      "visibility": null,
      "width": null
     }
    },
    "0a50c547f1f04fc292569858186be53b": {
     "model_module": "@jupyter-widgets/controls",
     "model_name": "FloatProgressModel",
     "state": {
      "_dom_classes": [],
      "_model_module": "@jupyter-widgets/controls",
      "_model_module_version": "1.5.0",
      "_model_name": "FloatProgressModel",
      "_view_count": null,
      "_view_module": "@jupyter-widgets/controls",
      "_view_module_version": "1.5.0",
      "_view_name": "ProgressView",
      "bar_style": "success",
      "description": "100%",
      "description_tooltip": null,
      "layout": "IPY_MODEL_2ee9cb345f214559bcfc43f2ae183e7d",
      "max": 5,
      "min": 0,
      "orientation": "horizontal",
      "style": "IPY_MODEL_4b660d4e2c304853aa6a910526246fe8",
      "value": 5
     }
    },
    "0a5d9970043a41cf96c50bfc7acf0cf4": {
     "model_module": "@jupyter-widgets/base",
     "model_name": "LayoutModel",
     "state": {
      "_model_module": "@jupyter-widgets/base",
      "_model_module_version": "1.2.0",
      "_model_name": "LayoutModel",
      "_view_count": null,
      "_view_module": "@jupyter-widgets/base",
      "_view_module_version": "1.2.0",
      "_view_name": "LayoutView",
      "align_content": null,
      "align_items": null,
      "align_self": null,
      "border": null,
      "bottom": null,
      "display": null,
      "flex": null,
      "flex_flow": null,
      "grid_area": null,
      "grid_auto_columns": null,
      "grid_auto_flow": null,
      "grid_auto_rows": null,
      "grid_column": null,
      "grid_gap": null,
      "grid_row": null,
      "grid_template_areas": null,
      "grid_template_columns": null,
      "grid_template_rows": null,
      "height": null,
      "justify_content": null,
      "justify_items": null,
      "left": null,
      "margin": null,
      "max_height": null,
      "max_width": null,
      "min_height": null,
      "min_width": null,
      "object_fit": null,
      "object_position": null,
      "order": null,
      "overflow": null,
      "overflow_x": null,
      "overflow_y": null,
      "padding": null,
      "right": null,
      "top": null,
      "visibility": null,
      "width": null
     }
    },
    "0a7d1209c0a84aa28c1af61140d05cce": {
     "model_module": "@jupyter-widgets/controls",
     "model_name": "HBoxModel",
     "state": {
      "_dom_classes": [],
      "_model_module": "@jupyter-widgets/controls",
      "_model_module_version": "1.5.0",
      "_model_name": "HBoxModel",
      "_view_count": null,
      "_view_module": "@jupyter-widgets/controls",
      "_view_module_version": "1.5.0",
      "_view_name": "HBoxView",
      "box_style": "",
      "children": [
       "IPY_MODEL_71de7490f1be4e8f84cc4afa847914bb",
       "IPY_MODEL_6e2b9fd6e6ef4146942ce829ff989b1d"
      ],
      "layout": "IPY_MODEL_c8681df1f27c42d7b956467354060464"
     }
    },
    "0bb90b7594314f0e9e0ca632f92c24fe": {
     "model_module": "@jupyter-widgets/controls",
     "model_name": "HBoxModel",
     "state": {
      "_dom_classes": [],
      "_model_module": "@jupyter-widgets/controls",
      "_model_module_version": "1.5.0",
      "_model_name": "HBoxModel",
      "_view_count": null,
      "_view_module": "@jupyter-widgets/controls",
      "_view_module_version": "1.5.0",
      "_view_name": "HBoxView",
      "box_style": "",
      "children": [
       "IPY_MODEL_73989c1d1c5f4d4f97f6e2898e422ed5",
       "IPY_MODEL_c811089fd578445f8c34461852fd3c41"
      ],
      "layout": "IPY_MODEL_4815fa6a98e24a15aac2b621f2533bce"
     }
    },
    "0beb4dfa9cdb4bc4b1c86eaef27dc1c7": {
     "model_module": "@jupyter-widgets/base",
     "model_name": "LayoutModel",
     "state": {
      "_model_module": "@jupyter-widgets/base",
      "_model_module_version": "1.2.0",
      "_model_name": "LayoutModel",
      "_view_count": null,
      "_view_module": "@jupyter-widgets/base",
      "_view_module_version": "1.2.0",
      "_view_name": "LayoutView",
      "align_content": null,
      "align_items": null,
      "align_self": null,
      "border": null,
      "bottom": null,
      "display": null,
      "flex": null,
      "flex_flow": null,
      "grid_area": null,
      "grid_auto_columns": null,
      "grid_auto_flow": null,
      "grid_auto_rows": null,
      "grid_column": null,
      "grid_gap": null,
      "grid_row": null,
      "grid_template_areas": null,
      "grid_template_columns": null,
      "grid_template_rows": null,
      "height": null,
      "justify_content": null,
      "justify_items": null,
      "left": null,
      "margin": null,
      "max_height": null,
      "max_width": null,
      "min_height": null,
      "min_width": null,
      "object_fit": null,
      "object_position": null,
      "order": null,
      "overflow": null,
      "overflow_x": null,
      "overflow_y": null,
      "padding": null,
      "right": null,
      "top": null,
      "visibility": null,
      "width": null
     }
    },
    "0f61eebd7ef0430d8e1c3087ae1d349d": {
     "model_module": "@jupyter-widgets/controls",
     "model_name": "FloatProgressModel",
     "state": {
      "_dom_classes": [],
      "_model_module": "@jupyter-widgets/controls",
      "_model_module_version": "1.5.0",
      "_model_name": "FloatProgressModel",
      "_view_count": null,
      "_view_module": "@jupyter-widgets/controls",
      "_view_module_version": "1.5.0",
      "_view_name": "ProgressView",
      "bar_style": "success",
      "description": "100%",
      "description_tooltip": null,
      "layout": "IPY_MODEL_22e404a150474989a210fbc873cfa105",
      "max": 31839,
      "min": 0,
      "orientation": "horizontal",
      "style": "IPY_MODEL_234c1748426c4abfaafa819655005b90",
      "value": 31839
     }
    },
    "128ba701cc3646e281610b6d3e08dd64": {
     "model_module": "@jupyter-widgets/controls",
     "model_name": "HTMLModel",
     "state": {
      "_dom_classes": [],
      "_model_module": "@jupyter-widgets/controls",
      "_model_module_version": "1.5.0",
      "_model_name": "HTMLModel",
      "_view_count": null,
      "_view_module": "@jupyter-widgets/controls",
      "_view_module_version": "1.5.0",
      "_view_name": "HTMLView",
      "description": "",
      "description_tooltip": null,
      "layout": "IPY_MODEL_00930b4b06084a0c92dd33492e068c71",
      "placeholder": "​",
      "style": "IPY_MODEL_9e256d5db0614263bc78dee8e56d81d5",
      "value": " 3/3 [28:40&lt;00:00, 573.54s/it]"
     }
    },
    "12f29d5edbaf468295855b3b03c9ddfa": {
     "model_module": "@jupyter-widgets/base",
     "model_name": "LayoutModel",
     "state": {
      "_model_module": "@jupyter-widgets/base",
      "_model_module_version": "1.2.0",
      "_model_name": "LayoutModel",
      "_view_count": null,
      "_view_module": "@jupyter-widgets/base",
      "_view_module_version": "1.2.0",
      "_view_name": "LayoutView",
      "align_content": null,
      "align_items": null,
      "align_self": null,
      "border": null,
      "bottom": null,
      "display": null,
      "flex": null,
      "flex_flow": null,
      "grid_area": null,
      "grid_auto_columns": null,
      "grid_auto_flow": null,
      "grid_auto_rows": null,
      "grid_column": null,
      "grid_gap": null,
      "grid_row": null,
      "grid_template_areas": null,
      "grid_template_columns": null,
      "grid_template_rows": null,
      "height": null,
      "justify_content": null,
      "justify_items": null,
      "left": null,
      "margin": null,
      "max_height": null,
      "max_width": null,
      "min_height": null,
      "min_width": null,
      "object_fit": null,
      "object_position": null,
      "order": null,
      "overflow": null,
      "overflow_x": null,
      "overflow_y": null,
      "padding": null,
      "right": null,
      "top": null,
      "visibility": null,
      "width": null
     }
    },
    "13302902b62a42e3b511a72cc694dc69": {
     "model_module": "@jupyter-widgets/controls",
     "model_name": "ProgressStyleModel",
     "state": {
      "_model_module": "@jupyter-widgets/controls",
      "_model_module_version": "1.5.0",
      "_model_name": "ProgressStyleModel",
      "_view_count": null,
      "_view_module": "@jupyter-widgets/base",
      "_view_module_version": "1.2.0",
      "_view_name": "StyleView",
      "bar_color": null,
      "description_width": "initial"
     }
    },
    "15e4ea75a71c40f7b088ccf280f8ddef": {
     "model_module": "@jupyter-widgets/base",
     "model_name": "LayoutModel",
     "state": {
      "_model_module": "@jupyter-widgets/base",
      "_model_module_version": "1.2.0",
      "_model_name": "LayoutModel",
      "_view_count": null,
      "_view_module": "@jupyter-widgets/base",
      "_view_module_version": "1.2.0",
      "_view_name": "LayoutView",
      "align_content": null,
      "align_items": null,
      "align_self": null,
      "border": null,
      "bottom": null,
      "display": null,
      "flex": null,
      "flex_flow": null,
      "grid_area": null,
      "grid_auto_columns": null,
      "grid_auto_flow": null,
      "grid_auto_rows": null,
      "grid_column": null,
      "grid_gap": null,
      "grid_row": null,
      "grid_template_areas": null,
      "grid_template_columns": null,
      "grid_template_rows": null,
      "height": null,
      "justify_content": null,
      "justify_items": null,
      "left": null,
      "margin": null,
      "max_height": null,
      "max_width": null,
      "min_height": null,
      "min_width": null,
      "object_fit": null,
      "object_position": null,
      "order": null,
      "overflow": null,
      "overflow_x": null,
      "overflow_y": null,
      "padding": null,
      "right": null,
      "top": null,
      "visibility": null,
      "width": null
     }
    },
    "17675bb043a1477797f915af49986294": {
     "model_module": "@jupyter-widgets/base",
     "model_name": "LayoutModel",
     "state": {
      "_model_module": "@jupyter-widgets/base",
      "_model_module_version": "1.2.0",
      "_model_name": "LayoutModel",
      "_view_count": null,
      "_view_module": "@jupyter-widgets/base",
      "_view_module_version": "1.2.0",
      "_view_name": "LayoutView",
      "align_content": null,
      "align_items": null,
      "align_self": null,
      "border": null,
      "bottom": null,
      "display": null,
      "flex": null,
      "flex_flow": null,
      "grid_area": null,
      "grid_auto_columns": null,
      "grid_auto_flow": null,
      "grid_auto_rows": null,
      "grid_column": null,
      "grid_gap": null,
      "grid_row": null,
      "grid_template_areas": null,
      "grid_template_columns": null,
      "grid_template_rows": null,
      "height": null,
      "justify_content": null,
      "justify_items": null,
      "left": null,
      "margin": null,
      "max_height": null,
      "max_width": null,
      "min_height": null,
      "min_width": null,
      "object_fit": null,
      "object_position": null,
      "order": null,
      "overflow": null,
      "overflow_x": null,
      "overflow_y": null,
      "padding": null,
      "right": null,
      "top": null,
      "visibility": null,
      "width": null
     }
    },
    "17d9e6e252144891bfb08c5df8c39dde": {
     "model_module": "@jupyter-widgets/controls",
     "model_name": "HTMLModel",
     "state": {
      "_dom_classes": [],
      "_model_module": "@jupyter-widgets/controls",
      "_model_module_version": "1.5.0",
      "_model_name": "HTMLModel",
      "_view_count": null,
      "_view_module": "@jupyter-widgets/controls",
      "_view_module_version": "1.5.0",
      "_view_name": "HTMLView",
      "description": "",
      "description_tooltip": null,
      "layout": "IPY_MODEL_d25bddb9a98547feb43aa954fadcac67",
      "placeholder": "​",
      "style": "IPY_MODEL_3227ed3d1ac54f51ada5e11f536bdf20",
      "value": " 2/2 [18:47&lt;00:00, 563.76s/it]"
     }
    },
    "1921efb87686492f98cba4c5c0e82dea": {
     "model_module": "@jupyter-widgets/controls",
     "model_name": "HTMLModel",
     "state": {
      "_dom_classes": [],
      "_model_module": "@jupyter-widgets/controls",
      "_model_module_version": "1.5.0",
      "_model_name": "HTMLModel",
      "_view_count": null,
      "_view_module": "@jupyter-widgets/controls",
      "_view_module_version": "1.5.0",
      "_view_name": "HTMLView",
      "description": "",
      "description_tooltip": null,
      "layout": "IPY_MODEL_d5864e3e44984b19a6b2d79fa9d7acb9",
      "placeholder": "​",
      "style": "IPY_MODEL_775f0ba94c3540a29c2af89a6cfc0780",
      "value": " 3/3 [34:08&lt;00:00, 682.70s/it]"
     }
    },
    "19763dea081540148c9bd3aff0a8730b": {
     "model_module": "@jupyter-widgets/controls",
     "model_name": "HBoxModel",
     "state": {
      "_dom_classes": [],
      "_model_module": "@jupyter-widgets/controls",
      "_model_module_version": "1.5.0",
      "_model_name": "HBoxModel",
      "_view_count": null,
      "_view_module": "@jupyter-widgets/controls",
      "_view_module_version": "1.5.0",
      "_view_name": "HBoxView",
      "box_style": "",
      "children": [
       "IPY_MODEL_93f31dec19ae409d9bb8a39c1e9d1358",
       "IPY_MODEL_128ba701cc3646e281610b6d3e08dd64"
      ],
      "layout": "IPY_MODEL_0541b712981c4f23a6952f1a01804399"
     }
    },
    "1a6b652ab5944efb933b8ace02f2bc8c": {
     "model_module": "@jupyter-widgets/base",
     "model_name": "LayoutModel",
     "state": {
      "_model_module": "@jupyter-widgets/base",
      "_model_module_version": "1.2.0",
      "_model_name": "LayoutModel",
      "_view_count": null,
      "_view_module": "@jupyter-widgets/base",
      "_view_module_version": "1.2.0",
      "_view_name": "LayoutView",
      "align_content": null,
      "align_items": null,
      "align_self": null,
      "border": null,
      "bottom": null,
      "display": null,
      "flex": null,
      "flex_flow": null,
      "grid_area": null,
      "grid_auto_columns": null,
      "grid_auto_flow": null,
      "grid_auto_rows": null,
      "grid_column": null,
      "grid_gap": null,
      "grid_row": null,
      "grid_template_areas": null,
      "grid_template_columns": null,
      "grid_template_rows": null,
      "height": null,
      "justify_content": null,
      "justify_items": null,
      "left": null,
      "margin": null,
      "max_height": null,
      "max_width": null,
      "min_height": null,
      "min_width": null,
      "object_fit": null,
      "object_position": null,
      "order": null,
      "overflow": null,
      "overflow_x": null,
      "overflow_y": null,
      "padding": null,
      "right": null,
      "top": null,
      "visibility": null,
      "width": null
     }
    },
    "1adb2bbe497347c18160f133e412de2a": {
     "model_module": "@jupyter-widgets/controls",
     "model_name": "DescriptionStyleModel",
     "state": {
      "_model_module": "@jupyter-widgets/controls",
      "_model_module_version": "1.5.0",
      "_model_name": "DescriptionStyleModel",
      "_view_count": null,
      "_view_module": "@jupyter-widgets/base",
      "_view_module_version": "1.2.0",
      "_view_name": "StyleView",
      "description_width": ""
     }
    },
    "1afee7b1c43c4f93b26e0f8c50335f62": {
     "model_module": "@jupyter-widgets/controls",
     "model_name": "HBoxModel",
     "state": {
      "_dom_classes": [],
      "_model_module": "@jupyter-widgets/controls",
      "_model_module_version": "1.5.0",
      "_model_name": "HBoxModel",
      "_view_count": null,
      "_view_module": "@jupyter-widgets/controls",
      "_view_module_version": "1.5.0",
      "_view_name": "HBoxView",
      "box_style": "",
      "children": [
       "IPY_MODEL_35771ffc7c034b9ca4746c5832e49a31",
       "IPY_MODEL_4a4190f039aa4254b35ba62c13822715"
      ],
      "layout": "IPY_MODEL_0beb4dfa9cdb4bc4b1c86eaef27dc1c7"
     }
    },
    "1b694ad3f6f54c699c3af4c22747a146": {
     "model_module": "@jupyter-widgets/base",
     "model_name": "LayoutModel",
     "state": {
      "_model_module": "@jupyter-widgets/base",
      "_model_module_version": "1.2.0",
      "_model_name": "LayoutModel",
      "_view_count": null,
      "_view_module": "@jupyter-widgets/base",
      "_view_module_version": "1.2.0",
      "_view_name": "LayoutView",
      "align_content": null,
      "align_items": null,
      "align_self": null,
      "border": null,
      "bottom": null,
      "display": null,
      "flex": null,
      "flex_flow": null,
      "grid_area": null,
      "grid_auto_columns": null,
      "grid_auto_flow": null,
      "grid_auto_rows": null,
      "grid_column": null,
      "grid_gap": null,
      "grid_row": null,
      "grid_template_areas": null,
      "grid_template_columns": null,
      "grid_template_rows": null,
      "height": null,
      "justify_content": null,
      "justify_items": null,
      "left": null,
      "margin": null,
      "max_height": null,
      "max_width": null,
      "min_height": null,
      "min_width": null,
      "object_fit": null,
      "object_position": null,
      "order": null,
      "overflow": null,
      "overflow_x": null,
      "overflow_y": null,
      "padding": null,
      "right": null,
      "top": null,
      "visibility": null,
      "width": null
     }
    },
    "1c83472f2b5e48a7b774ca472b3ed012": {
     "model_module": "@jupyter-widgets/controls",
     "model_name": "HTMLModel",
     "state": {
      "_dom_classes": [],
      "_model_module": "@jupyter-widgets/controls",
      "_model_module_version": "1.5.0",
      "_model_name": "HTMLModel",
      "_view_count": null,
      "_view_module": "@jupyter-widgets/controls",
      "_view_module_version": "1.5.0",
      "_view_name": "HTMLView",
      "description": "",
      "description_tooltip": null,
      "layout": "IPY_MODEL_0a5d9970043a41cf96c50bfc7acf0cf4",
      "placeholder": "​",
      "style": "IPY_MODEL_afc4a335626a4f98b9f66132a01e37b1",
      "value": " 5/5 [3:11:15&lt;00:00, 2295.13s/it]"
     }
    },
    "1d80f25056034a668d77a4aea1393532": {
     "model_module": "@jupyter-widgets/controls",
     "model_name": "DescriptionStyleModel",
     "state": {
      "_model_module": "@jupyter-widgets/controls",
      "_model_module_version": "1.5.0",
      "_model_name": "DescriptionStyleModel",
      "_view_count": null,
      "_view_module": "@jupyter-widgets/base",
      "_view_module_version": "1.2.0",
      "_view_name": "StyleView",
      "description_width": ""
     }
    },
    "1dcbd012c8eb473eadd78366c31c6637": {
     "model_module": "@jupyter-widgets/controls",
     "model_name": "ProgressStyleModel",
     "state": {
      "_model_module": "@jupyter-widgets/controls",
      "_model_module_version": "1.5.0",
      "_model_name": "ProgressStyleModel",
      "_view_count": null,
      "_view_module": "@jupyter-widgets/base",
      "_view_module_version": "1.2.0",
      "_view_name": "StyleView",
      "bar_color": null,
      "description_width": "initial"
     }
    },
    "22b90d8ff6e44012b48ef5eef7df3d64": {
     "model_module": "@jupyter-widgets/base",
     "model_name": "LayoutModel",
     "state": {
      "_model_module": "@jupyter-widgets/base",
      "_model_module_version": "1.2.0",
      "_model_name": "LayoutModel",
      "_view_count": null,
      "_view_module": "@jupyter-widgets/base",
      "_view_module_version": "1.2.0",
      "_view_name": "LayoutView",
      "align_content": null,
      "align_items": null,
      "align_self": null,
      "border": null,
      "bottom": null,
      "display": null,
      "flex": null,
      "flex_flow": null,
      "grid_area": null,
      "grid_auto_columns": null,
      "grid_auto_flow": null,
      "grid_auto_rows": null,
      "grid_column": null,
      "grid_gap": null,
      "grid_row": null,
      "grid_template_areas": null,
      "grid_template_columns": null,
      "grid_template_rows": null,
      "height": null,
      "justify_content": null,
      "justify_items": null,
      "left": null,
      "margin": null,
      "max_height": null,
      "max_width": null,
      "min_height": null,
      "min_width": null,
      "object_fit": null,
      "object_position": null,
      "order": null,
      "overflow": null,
      "overflow_x": null,
      "overflow_y": null,
      "padding": null,
      "right": null,
      "top": null,
      "visibility": null,
      "width": null
     }
    },
    "22e404a150474989a210fbc873cfa105": {
     "model_module": "@jupyter-widgets/base",
     "model_name": "LayoutModel",
     "state": {
      "_model_module": "@jupyter-widgets/base",
      "_model_module_version": "1.2.0",
      "_model_name": "LayoutModel",
      "_view_count": null,
      "_view_module": "@jupyter-widgets/base",
      "_view_module_version": "1.2.0",
      "_view_name": "LayoutView",
      "align_content": null,
      "align_items": null,
      "align_self": null,
      "border": null,
      "bottom": null,
      "display": null,
      "flex": null,
      "flex_flow": null,
      "grid_area": null,
      "grid_auto_columns": null,
      "grid_auto_flow": null,
      "grid_auto_rows": null,
      "grid_column": null,
      "grid_gap": null,
      "grid_row": null,
      "grid_template_areas": null,
      "grid_template_columns": null,
      "grid_template_rows": null,
      "height": null,
      "justify_content": null,
      "justify_items": null,
      "left": null,
      "margin": null,
      "max_height": null,
      "max_width": null,
      "min_height": null,
      "min_width": null,
      "object_fit": null,
      "object_position": null,
      "order": null,
      "overflow": null,
      "overflow_x": null,
      "overflow_y": null,
      "padding": null,
      "right": null,
      "top": null,
      "visibility": null,
      "width": null
     }
    },
    "234c1748426c4abfaafa819655005b90": {
     "model_module": "@jupyter-widgets/controls",
     "model_name": "ProgressStyleModel",
     "state": {
      "_model_module": "@jupyter-widgets/controls",
      "_model_module_version": "1.5.0",
      "_model_name": "ProgressStyleModel",
      "_view_count": null,
      "_view_module": "@jupyter-widgets/base",
      "_view_module_version": "1.2.0",
      "_view_name": "StyleView",
      "bar_color": null,
      "description_width": "initial"
     }
    },
    "256fe0e9fc23428fa44759a384929b6b": {
     "model_module": "@jupyter-widgets/controls",
     "model_name": "HTMLModel",
     "state": {
      "_dom_classes": [],
      "_model_module": "@jupyter-widgets/controls",
      "_model_module_version": "1.5.0",
      "_model_name": "HTMLModel",
      "_view_count": null,
      "_view_module": "@jupyter-widgets/controls",
      "_view_module_version": "1.5.0",
      "_view_name": "HTMLView",
      "description": "",
      "description_tooltip": null,
      "layout": "IPY_MODEL_1b694ad3f6f54c699c3af4c22747a146",
      "placeholder": "​",
      "style": "IPY_MODEL_a43a857e7c8f450f9aef825b9403bf92",
      "value": " 7/7 [3:32:24&lt;00:00, 1820.69s/it]"
     }
    },
    "2632695d59d9418493d3cb155a92ed40": {
     "model_module": "@jupyter-widgets/controls",
     "model_name": "ProgressStyleModel",
     "state": {
      "_model_module": "@jupyter-widgets/controls",
      "_model_module_version": "1.5.0",
      "_model_name": "ProgressStyleModel",
      "_view_count": null,
      "_view_module": "@jupyter-widgets/base",
      "_view_module_version": "1.2.0",
      "_view_name": "StyleView",
      "bar_color": null,
      "description_width": "initial"
     }
    },
    "26a72578fd9d4b7e9812d74facfb6ac9": {
     "model_module": "@jupyter-widgets/base",
     "model_name": "LayoutModel",
     "state": {
      "_model_module": "@jupyter-widgets/base",
      "_model_module_version": "1.2.0",
      "_model_name": "LayoutModel",
      "_view_count": null,
      "_view_module": "@jupyter-widgets/base",
      "_view_module_version": "1.2.0",
      "_view_name": "LayoutView",
      "align_content": null,
      "align_items": null,
      "align_self": null,
      "border": null,
      "bottom": null,
      "display": null,
      "flex": null,
      "flex_flow": null,
      "grid_area": null,
      "grid_auto_columns": null,
      "grid_auto_flow": null,
      "grid_auto_rows": null,
      "grid_column": null,
      "grid_gap": null,
      "grid_row": null,
      "grid_template_areas": null,
      "grid_template_columns": null,
      "grid_template_rows": null,
      "height": null,
      "justify_content": null,
      "justify_items": null,
      "left": null,
      "margin": null,
      "max_height": null,
      "max_width": null,
      "min_height": null,
      "min_width": null,
      "object_fit": null,
      "object_position": null,
      "order": null,
      "overflow": null,
      "overflow_x": null,
      "overflow_y": null,
      "padding": null,
      "right": null,
      "top": null,
      "visibility": null,
      "width": null
     }
    },
    "26c6cc2a5ee342138fe89e3389612926": {
     "model_module": "@jupyter-widgets/controls",
     "model_name": "HTMLModel",
     "state": {
      "_dom_classes": [],
      "_model_module": "@jupyter-widgets/controls",
      "_model_module_version": "1.5.0",
      "_model_name": "HTMLModel",
      "_view_count": null,
      "_view_module": "@jupyter-widgets/controls",
      "_view_module_version": "1.5.0",
      "_view_name": "HTMLView",
      "description": "",
      "description_tooltip": null,
      "layout": "IPY_MODEL_e008810ef8d7477d87020127627be617",
      "placeholder": "​",
      "style": "IPY_MODEL_c69bc05d11854ca18011d5cecf9dd478",
      "value": " 4/4 [6:42:38&lt;00:00, 6039.52s/it]"
     }
    },
    "271897a4b5f44c22b69a86c78932acf1": {
     "model_module": "@jupyter-widgets/base",
     "model_name": "LayoutModel",
     "state": {
      "_model_module": "@jupyter-widgets/base",
      "_model_module_version": "1.2.0",
      "_model_name": "LayoutModel",
      "_view_count": null,
      "_view_module": "@jupyter-widgets/base",
      "_view_module_version": "1.2.0",
      "_view_name": "LayoutView",
      "align_content": null,
      "align_items": null,
      "align_self": null,
      "border": null,
      "bottom": null,
      "display": null,
      "flex": null,
      "flex_flow": null,
      "grid_area": null,
      "grid_auto_columns": null,
      "grid_auto_flow": null,
      "grid_auto_rows": null,
      "grid_column": null,
      "grid_gap": null,
      "grid_row": null,
      "grid_template_areas": null,
      "grid_template_columns": null,
      "grid_template_rows": null,
      "height": null,
      "justify_content": null,
      "justify_items": null,
      "left": null,
      "margin": null,
      "max_height": null,
      "max_width": null,
      "min_height": null,
      "min_width": null,
      "object_fit": null,
      "object_position": null,
      "order": null,
      "overflow": null,
      "overflow_x": null,
      "overflow_y": null,
      "padding": null,
      "right": null,
      "top": null,
      "visibility": null,
      "width": null
     }
    },
    "280998ae02954d14be9dcf0d21e00f25": {
     "model_module": "@jupyter-widgets/controls",
     "model_name": "DescriptionStyleModel",
     "state": {
      "_model_module": "@jupyter-widgets/controls",
      "_model_module_version": "1.5.0",
      "_model_name": "DescriptionStyleModel",
      "_view_count": null,
      "_view_module": "@jupyter-widgets/base",
      "_view_module_version": "1.2.0",
      "_view_name": "StyleView",
      "description_width": ""
     }
    },
    "2969d350a7684c36a08200f49d3e666e": {
     "model_module": "@jupyter-widgets/base",
     "model_name": "LayoutModel",
     "state": {
      "_model_module": "@jupyter-widgets/base",
      "_model_module_version": "1.2.0",
      "_model_name": "LayoutModel",
      "_view_count": null,
      "_view_module": "@jupyter-widgets/base",
      "_view_module_version": "1.2.0",
      "_view_name": "LayoutView",
      "align_content": null,
      "align_items": null,
      "align_self": null,
      "border": null,
      "bottom": null,
      "display": null,
      "flex": null,
      "flex_flow": null,
      "grid_area": null,
      "grid_auto_columns": null,
      "grid_auto_flow": null,
      "grid_auto_rows": null,
      "grid_column": null,
      "grid_gap": null,
      "grid_row": null,
      "grid_template_areas": null,
      "grid_template_columns": null,
      "grid_template_rows": null,
      "height": null,
      "justify_content": null,
      "justify_items": null,
      "left": null,
      "margin": null,
      "max_height": null,
      "max_width": null,
      "min_height": null,
      "min_width": null,
      "object_fit": null,
      "object_position": null,
      "order": null,
      "overflow": null,
      "overflow_x": null,
      "overflow_y": null,
      "padding": null,
      "right": null,
      "top": null,
      "visibility": null,
      "width": null
     }
    },
    "2b0351c3c41345169b631604dbc42c24": {
     "model_module": "@jupyter-widgets/controls",
     "model_name": "FloatProgressModel",
     "state": {
      "_dom_classes": [],
      "_model_module": "@jupyter-widgets/controls",
      "_model_module_version": "1.5.0",
      "_model_name": "FloatProgressModel",
      "_view_count": null,
      "_view_module": "@jupyter-widgets/controls",
      "_view_module_version": "1.5.0",
      "_view_name": "ProgressView",
      "bar_style": "success",
      "description": "100%",
      "description_tooltip": null,
      "layout": "IPY_MODEL_ec4c29ad56ad4b908ada76e00617087b",
      "max": 5,
      "min": 0,
      "orientation": "horizontal",
      "style": "IPY_MODEL_fbff9101312b4eea8bdb0a42b751f4be",
      "value": 5
     }
    },
    "2ed48ccd669644cf8707c07bd9d6db3d": {
     "model_module": "@jupyter-widgets/base",
     "model_name": "LayoutModel",
     "state": {
      "_model_module": "@jupyter-widgets/base",
      "_model_module_version": "1.2.0",
      "_model_name": "LayoutModel",
      "_view_count": null,
      "_view_module": "@jupyter-widgets/base",
      "_view_module_version": "1.2.0",
      "_view_name": "LayoutView",
      "align_content": null,
      "align_items": null,
      "align_self": null,
      "border": null,
      "bottom": null,
      "display": null,
      "flex": null,
      "flex_flow": null,
      "grid_area": null,
      "grid_auto_columns": null,
      "grid_auto_flow": null,
      "grid_auto_rows": null,
      "grid_column": null,
      "grid_gap": null,
      "grid_row": null,
      "grid_template_areas": null,
      "grid_template_columns": null,
      "grid_template_rows": null,
      "height": null,
      "justify_content": null,
      "justify_items": null,
      "left": null,
      "margin": null,
      "max_height": null,
      "max_width": null,
      "min_height": null,
      "min_width": null,
      "object_fit": null,
      "object_position": null,
      "order": null,
      "overflow": null,
      "overflow_x": null,
      "overflow_y": null,
      "padding": null,
      "right": null,
      "top": null,
      "visibility": null,
      "width": null
     }
    },
    "2ee9cb345f214559bcfc43f2ae183e7d": {
     "model_module": "@jupyter-widgets/base",
     "model_name": "LayoutModel",
     "state": {
      "_model_module": "@jupyter-widgets/base",
      "_model_module_version": "1.2.0",
      "_model_name": "LayoutModel",
      "_view_count": null,
      "_view_module": "@jupyter-widgets/base",
      "_view_module_version": "1.2.0",
      "_view_name": "LayoutView",
      "align_content": null,
      "align_items": null,
      "align_self": null,
      "border": null,
      "bottom": null,
      "display": null,
      "flex": null,
      "flex_flow": null,
      "grid_area": null,
      "grid_auto_columns": null,
      "grid_auto_flow": null,
      "grid_auto_rows": null,
      "grid_column": null,
      "grid_gap": null,
      "grid_row": null,
      "grid_template_areas": null,
      "grid_template_columns": null,
      "grid_template_rows": null,
      "height": null,
      "justify_content": null,
      "justify_items": null,
      "left": null,
      "margin": null,
      "max_height": null,
      "max_width": null,
      "min_height": null,
      "min_width": null,
      "object_fit": null,
      "object_position": null,
      "order": null,
      "overflow": null,
      "overflow_x": null,
      "overflow_y": null,
      "padding": null,
      "right": null,
      "top": null,
      "visibility": null,
      "width": null
     }
    },
    "2f1e26841ea64290ac1e2e2c6bb52ffc": {
     "model_module": "@jupyter-widgets/base",
     "model_name": "LayoutModel",
     "state": {
      "_model_module": "@jupyter-widgets/base",
      "_model_module_version": "1.2.0",
      "_model_name": "LayoutModel",
      "_view_count": null,
      "_view_module": "@jupyter-widgets/base",
      "_view_module_version": "1.2.0",
      "_view_name": "LayoutView",
      "align_content": null,
      "align_items": null,
      "align_self": null,
      "border": null,
      "bottom": null,
      "display": null,
      "flex": null,
      "flex_flow": null,
      "grid_area": null,
      "grid_auto_columns": null,
      "grid_auto_flow": null,
      "grid_auto_rows": null,
      "grid_column": null,
      "grid_gap": null,
      "grid_row": null,
      "grid_template_areas": null,
      "grid_template_columns": null,
      "grid_template_rows": null,
      "height": null,
      "justify_content": null,
      "justify_items": null,
      "left": null,
      "margin": null,
      "max_height": null,
      "max_width": null,
      "min_height": null,
      "min_width": null,
      "object_fit": null,
      "object_position": null,
      "order": null,
      "overflow": null,
      "overflow_x": null,
      "overflow_y": null,
      "padding": null,
      "right": null,
      "top": null,
      "visibility": null,
      "width": null
     }
    },
    "303a909b2f3d42909a2f060555536787": {
     "model_module": "@jupyter-widgets/controls",
     "model_name": "DescriptionStyleModel",
     "state": {
      "_model_module": "@jupyter-widgets/controls",
      "_model_module_version": "1.5.0",
      "_model_name": "DescriptionStyleModel",
      "_view_count": null,
      "_view_module": "@jupyter-widgets/base",
      "_view_module_version": "1.2.0",
      "_view_name": "StyleView",
      "description_width": ""
     }
    },
    "30d224f7b8e04631a42ea60c9d3b3a65": {
     "model_module": "@jupyter-widgets/base",
     "model_name": "LayoutModel",
     "state": {
      "_model_module": "@jupyter-widgets/base",
      "_model_module_version": "1.2.0",
      "_model_name": "LayoutModel",
      "_view_count": null,
      "_view_module": "@jupyter-widgets/base",
      "_view_module_version": "1.2.0",
      "_view_name": "LayoutView",
      "align_content": null,
      "align_items": null,
      "align_self": null,
      "border": null,
      "bottom": null,
      "display": null,
      "flex": null,
      "flex_flow": null,
      "grid_area": null,
      "grid_auto_columns": null,
      "grid_auto_flow": null,
      "grid_auto_rows": null,
      "grid_column": null,
      "grid_gap": null,
      "grid_row": null,
      "grid_template_areas": null,
      "grid_template_columns": null,
      "grid_template_rows": null,
      "height": null,
      "justify_content": null,
      "justify_items": null,
      "left": null,
      "margin": null,
      "max_height": null,
      "max_width": null,
      "min_height": null,
      "min_width": null,
      "object_fit": null,
      "object_position": null,
      "order": null,
      "overflow": null,
      "overflow_x": null,
      "overflow_y": null,
      "padding": null,
      "right": null,
      "top": null,
      "visibility": null,
      "width": null
     }
    },
    "30dc0b6ef3ad42abbcb933c5cff7b4ab": {
     "model_module": "@jupyter-widgets/controls",
     "model_name": "HBoxModel",
     "state": {
      "_dom_classes": [],
      "_model_module": "@jupyter-widgets/controls",
      "_model_module_version": "1.5.0",
      "_model_name": "HBoxModel",
      "_view_count": null,
      "_view_module": "@jupyter-widgets/controls",
      "_view_module_version": "1.5.0",
      "_view_name": "HBoxView",
      "box_style": "",
      "children": [
       "IPY_MODEL_bc92224d90214ec9b99b98e939769b5c",
       "IPY_MODEL_4a070e23aad34b539f874e0b0df7269a"
      ],
      "layout": "IPY_MODEL_d78fcea4c48e4f9eb9488e68c1da18d4"
     }
    },
    "30e2d1b343c24084ace63a1c3a171df9": {
     "model_module": "@jupyter-widgets/controls",
     "model_name": "FloatProgressModel",
     "state": {
      "_dom_classes": [],
      "_model_module": "@jupyter-widgets/controls",
      "_model_module_version": "1.5.0",
      "_model_name": "FloatProgressModel",
      "_view_count": null,
      "_view_module": "@jupyter-widgets/controls",
      "_view_module_version": "1.5.0",
      "_view_name": "ProgressView",
      "bar_style": "success",
      "description": "100%",
      "description_tooltip": null,
      "layout": "IPY_MODEL_69c8c92cf4234d7499dced0ca330fc13",
      "max": 3,
      "min": 0,
      "orientation": "horizontal",
      "style": "IPY_MODEL_364f7eb352294a189da6bc5b18d6960a",
      "value": 3
     }
    },
    "30ec052b4d7c4d89828b00c103af2211": {
     "model_module": "@jupyter-widgets/controls",
     "model_name": "ProgressStyleModel",
     "state": {
      "_model_module": "@jupyter-widgets/controls",
      "_model_module_version": "1.5.0",
      "_model_name": "ProgressStyleModel",
      "_view_count": null,
      "_view_module": "@jupyter-widgets/base",
      "_view_module_version": "1.2.0",
      "_view_name": "StyleView",
      "bar_color": null,
      "description_width": "initial"
     }
    },
    "317d7ea29180456698b7a4c0db43010f": {
     "model_module": "@jupyter-widgets/controls",
     "model_name": "FloatProgressModel",
     "state": {
      "_dom_classes": [],
      "_model_module": "@jupyter-widgets/controls",
      "_model_module_version": "1.5.0",
      "_model_name": "FloatProgressModel",
      "_view_count": null,
      "_view_module": "@jupyter-widgets/controls",
      "_view_module_version": "1.5.0",
      "_view_name": "ProgressView",
      "bar_style": "success",
      "description": "100%",
      "description_tooltip": null,
      "layout": "IPY_MODEL_ad054a925dd1453499f54e0ba499f2a4",
      "max": 2,
      "min": 0,
      "orientation": "horizontal",
      "style": "IPY_MODEL_d5c7f4a442fb4835a9df6d744c2a40ef",
      "value": 2
     }
    },
    "3212d77e95234783888594026cc414f8": {
     "model_module": "@jupyter-widgets/base",
     "model_name": "LayoutModel",
     "state": {
      "_model_module": "@jupyter-widgets/base",
      "_model_module_version": "1.2.0",
      "_model_name": "LayoutModel",
      "_view_count": null,
      "_view_module": "@jupyter-widgets/base",
      "_view_module_version": "1.2.0",
      "_view_name": "LayoutView",
      "align_content": null,
      "align_items": null,
      "align_self": null,
      "border": null,
      "bottom": null,
      "display": null,
      "flex": null,
      "flex_flow": null,
      "grid_area": null,
      "grid_auto_columns": null,
      "grid_auto_flow": null,
      "grid_auto_rows": null,
      "grid_column": null,
      "grid_gap": null,
      "grid_row": null,
      "grid_template_areas": null,
      "grid_template_columns": null,
      "grid_template_rows": null,
      "height": null,
      "justify_content": null,
      "justify_items": null,
      "left": null,
      "margin": null,
      "max_height": null,
      "max_width": null,
      "min_height": null,
      "min_width": null,
      "object_fit": null,
      "object_position": null,
      "order": null,
      "overflow": null,
      "overflow_x": null,
      "overflow_y": null,
      "padding": null,
      "right": null,
      "top": null,
      "visibility": null,
      "width": null
     }
    },
    "3227ed3d1ac54f51ada5e11f536bdf20": {
     "model_module": "@jupyter-widgets/controls",
     "model_name": "DescriptionStyleModel",
     "state": {
      "_model_module": "@jupyter-widgets/controls",
      "_model_module_version": "1.5.0",
      "_model_name": "DescriptionStyleModel",
      "_view_count": null,
      "_view_module": "@jupyter-widgets/base",
      "_view_module_version": "1.2.0",
      "_view_name": "StyleView",
      "description_width": ""
     }
    },
    "331d7202414545ca84c0d96b290c8584": {
     "model_module": "@jupyter-widgets/controls",
     "model_name": "DescriptionStyleModel",
     "state": {
      "_model_module": "@jupyter-widgets/controls",
      "_model_module_version": "1.5.0",
      "_model_name": "DescriptionStyleModel",
      "_view_count": null,
      "_view_module": "@jupyter-widgets/base",
      "_view_module_version": "1.2.0",
      "_view_name": "StyleView",
      "description_width": ""
     }
    },
    "338382b290c54d589471b963e132aba0": {
     "model_module": "@jupyter-widgets/controls",
     "model_name": "FloatProgressModel",
     "state": {
      "_dom_classes": [],
      "_model_module": "@jupyter-widgets/controls",
      "_model_module_version": "1.5.0",
      "_model_name": "FloatProgressModel",
      "_view_count": null,
      "_view_module": "@jupyter-widgets/controls",
      "_view_module_version": "1.5.0",
      "_view_name": "ProgressView",
      "bar_style": "success",
      "description": "100%",
      "description_tooltip": null,
      "layout": "IPY_MODEL_2ed48ccd669644cf8707c07bd9d6db3d",
      "max": 2,
      "min": 0,
      "orientation": "horizontal",
      "style": "IPY_MODEL_e4977a2a6f6648adae7b57b9ac7a7987",
      "value": 2
     }
    },
    "35771ffc7c034b9ca4746c5832e49a31": {
     "model_module": "@jupyter-widgets/controls",
     "model_name": "FloatProgressModel",
     "state": {
      "_dom_classes": [],
      "_model_module": "@jupyter-widgets/controls",
      "_model_module_version": "1.5.0",
      "_model_name": "FloatProgressModel",
      "_view_count": null,
      "_view_module": "@jupyter-widgets/controls",
      "_view_module_version": "1.5.0",
      "_view_name": "ProgressView",
      "bar_style": "success",
      "description": "100%",
      "description_tooltip": null,
      "layout": "IPY_MODEL_9dc4f0a62f1d4534ae2306d9a704ed50",
      "max": 2,
      "min": 0,
      "orientation": "horizontal",
      "style": "IPY_MODEL_8fb39eabca004aa1a04f781684dc4143",
      "value": 2
     }
    },
    "364f7eb352294a189da6bc5b18d6960a": {
     "model_module": "@jupyter-widgets/controls",
     "model_name": "ProgressStyleModel",
     "state": {
      "_model_module": "@jupyter-widgets/controls",
      "_model_module_version": "1.5.0",
      "_model_name": "ProgressStyleModel",
      "_view_count": null,
      "_view_module": "@jupyter-widgets/base",
      "_view_module_version": "1.2.0",
      "_view_name": "StyleView",
      "bar_color": null,
      "description_width": "initial"
     }
    },
    "3694ab21b4204dcead497461d05b6ab4": {
     "model_module": "@jupyter-widgets/controls",
     "model_name": "HTMLModel",
     "state": {
      "_dom_classes": [],
      "_model_module": "@jupyter-widgets/controls",
      "_model_module_version": "1.5.0",
      "_model_name": "HTMLModel",
      "_view_count": null,
      "_view_module": "@jupyter-widgets/controls",
      "_view_module_version": "1.5.0",
      "_view_name": "HTMLView",
      "description": "",
      "description_tooltip": null,
      "layout": "IPY_MODEL_05d812a21e284467a6563d866192e51e",
      "placeholder": "​",
      "style": "IPY_MODEL_9dfc9bbe53f94ccd9a1e5abac98570b7",
      "value": " 2/2 [54:14&lt;00:00, 1627.35s/it]"
     }
    },
    "37837220782d4198a9df029af4f99f8c": {
     "model_module": "@jupyter-widgets/base",
     "model_name": "LayoutModel",
     "state": {
      "_model_module": "@jupyter-widgets/base",
      "_model_module_version": "1.2.0",
      "_model_name": "LayoutModel",
      "_view_count": null,
      "_view_module": "@jupyter-widgets/base",
      "_view_module_version": "1.2.0",
      "_view_name": "LayoutView",
      "align_content": null,
      "align_items": null,
      "align_self": null,
      "border": null,
      "bottom": null,
      "display": null,
      "flex": null,
      "flex_flow": null,
      "grid_area": null,
      "grid_auto_columns": null,
      "grid_auto_flow": null,
      "grid_auto_rows": null,
      "grid_column": null,
      "grid_gap": null,
      "grid_row": null,
      "grid_template_areas": null,
      "grid_template_columns": null,
      "grid_template_rows": null,
      "height": null,
      "justify_content": null,
      "justify_items": null,
      "left": null,
      "margin": null,
      "max_height": null,
      "max_width": null,
      "min_height": null,
      "min_width": null,
      "object_fit": null,
      "object_position": null,
      "order": null,
      "overflow": null,
      "overflow_x": null,
      "overflow_y": null,
      "padding": null,
      "right": null,
      "top": null,
      "visibility": null,
      "width": null
     }
    },
    "390bf0b224074757823a53c1737fb5bd": {
     "model_module": "@jupyter-widgets/controls",
     "model_name": "HTMLModel",
     "state": {
      "_dom_classes": [],
      "_model_module": "@jupyter-widgets/controls",
      "_model_module_version": "1.5.0",
      "_model_name": "HTMLModel",
      "_view_count": null,
      "_view_module": "@jupyter-widgets/controls",
      "_view_module_version": "1.5.0",
      "_view_name": "HTMLView",
      "description": "",
      "description_tooltip": null,
      "layout": "IPY_MODEL_e460a30cc8fd4c8ca84acf1c6aaff7cd",
      "placeholder": "​",
      "style": "IPY_MODEL_5b0bed3656dd4c998a3f8e4c61b4b764",
      "value": " 4/4 [6:03:59&lt;00:00, 5459.84s/it]"
     }
    },
    "399e5edd02494c1ebe4e3352daa5ee0b": {
     "model_module": "@jupyter-widgets/base",
     "model_name": "LayoutModel",
     "state": {
      "_model_module": "@jupyter-widgets/base",
      "_model_module_version": "1.2.0",
      "_model_name": "LayoutModel",
      "_view_count": null,
      "_view_module": "@jupyter-widgets/base",
      "_view_module_version": "1.2.0",
      "_view_name": "LayoutView",
      "align_content": null,
      "align_items": null,
      "align_self": null,
      "border": null,
      "bottom": null,
      "display": null,
      "flex": null,
      "flex_flow": null,
      "grid_area": null,
      "grid_auto_columns": null,
      "grid_auto_flow": null,
      "grid_auto_rows": null,
      "grid_column": null,
      "grid_gap": null,
      "grid_row": null,
      "grid_template_areas": null,
      "grid_template_columns": null,
      "grid_template_rows": null,
      "height": null,
      "justify_content": null,
      "justify_items": null,
      "left": null,
      "margin": null,
      "max_height": null,
      "max_width": null,
      "min_height": null,
      "min_width": null,
      "object_fit": null,
      "object_position": null,
      "order": null,
      "overflow": null,
      "overflow_x": null,
      "overflow_y": null,
      "padding": null,
      "right": null,
      "top": null,
      "visibility": null,
      "width": null
     }
    },
    "3ad0c6cb53be42399168c386a9e0a963": {
     "model_module": "@jupyter-widgets/controls",
     "model_name": "FloatProgressModel",
     "state": {
      "_dom_classes": [],
      "_model_module": "@jupyter-widgets/controls",
      "_model_module_version": "1.5.0",
      "_model_name": "FloatProgressModel",
      "_view_count": null,
      "_view_module": "@jupyter-widgets/controls",
      "_view_module_version": "1.5.0",
      "_view_name": "ProgressView",
      "bar_style": "success",
      "description": "100%",
      "description_tooltip": null,
      "layout": "IPY_MODEL_933ab7d39a844870961cc75e59dd6c6f",
      "max": 2,
      "min": 0,
      "orientation": "horizontal",
      "style": "IPY_MODEL_0066a3f997734608b8973d1767e4ef59",
      "value": 2
     }
    },
    "3bb14723d6a446f5ae5941b3d480191c": {
     "model_module": "@jupyter-widgets/controls",
     "model_name": "HTMLModel",
     "state": {
      "_dom_classes": [],
      "_model_module": "@jupyter-widgets/controls",
      "_model_module_version": "1.5.0",
      "_model_name": "HTMLModel",
      "_view_count": null,
      "_view_module": "@jupyter-widgets/controls",
      "_view_module_version": "1.5.0",
      "_view_name": "HTMLView",
      "description": "",
      "description_tooltip": null,
      "layout": "IPY_MODEL_04d4b9f21e054db389eb0c5d5a7c820f",
      "placeholder": "​",
      "style": "IPY_MODEL_3bf21e9772ba445ba52c92c6b351dbae",
      "value": " 5/5 [1:10:04&lt;00:00, 840.80s/it]"
     }
    },
    "3bf21e9772ba445ba52c92c6b351dbae": {
     "model_module": "@jupyter-widgets/controls",
     "model_name": "DescriptionStyleModel",
     "state": {
      "_model_module": "@jupyter-widgets/controls",
      "_model_module_version": "1.5.0",
      "_model_name": "DescriptionStyleModel",
      "_view_count": null,
      "_view_module": "@jupyter-widgets/base",
      "_view_module_version": "1.2.0",
      "_view_name": "StyleView",
      "description_width": ""
     }
    },
    "3cfbe457798a4f78b7c3c230f0178058": {
     "model_module": "@jupyter-widgets/base",
     "model_name": "LayoutModel",
     "state": {
      "_model_module": "@jupyter-widgets/base",
      "_model_module_version": "1.2.0",
      "_model_name": "LayoutModel",
      "_view_count": null,
      "_view_module": "@jupyter-widgets/base",
      "_view_module_version": "1.2.0",
      "_view_name": "LayoutView",
      "align_content": null,
      "align_items": null,
      "align_self": null,
      "border": null,
      "bottom": null,
      "display": null,
      "flex": null,
      "flex_flow": null,
      "grid_area": null,
      "grid_auto_columns": null,
      "grid_auto_flow": null,
      "grid_auto_rows": null,
      "grid_column": null,
      "grid_gap": null,
      "grid_row": null,
      "grid_template_areas": null,
      "grid_template_columns": null,
      "grid_template_rows": null,
      "height": null,
      "justify_content": null,
      "justify_items": null,
      "left": null,
      "margin": null,
      "max_height": null,
      "max_width": null,
      "min_height": null,
      "min_width": null,
      "object_fit": null,
      "object_position": null,
      "order": null,
      "overflow": null,
      "overflow_x": null,
      "overflow_y": null,
      "padding": null,
      "right": null,
      "top": null,
      "visibility": null,
      "width": null
     }
    },
    "3d25b112cb33461f88a7b58822bb5c76": {
     "model_module": "@jupyter-widgets/controls",
     "model_name": "HBoxModel",
     "state": {
      "_dom_classes": [],
      "_model_module": "@jupyter-widgets/controls",
      "_model_module_version": "1.5.0",
      "_model_name": "HBoxModel",
      "_view_count": null,
      "_view_module": "@jupyter-widgets/controls",
      "_view_module_version": "1.5.0",
      "_view_name": "HBoxView",
      "box_style": "",
      "children": [
       "IPY_MODEL_5286a58708d4472688e68cffc21eddfa",
       "IPY_MODEL_a38abd9e5b9b46a6904d3ef7d426abd3"
      ],
      "layout": "IPY_MODEL_b7f30a6064924ed08f992ac019ce94dd"
     }
    },
    "3e962f66370744a1ae34e35345de7c17": {
     "model_module": "@jupyter-widgets/controls",
     "model_name": "FloatProgressModel",
     "state": {
      "_dom_classes": [],
      "_model_module": "@jupyter-widgets/controls",
      "_model_module_version": "1.5.0",
      "_model_name": "FloatProgressModel",
      "_view_count": null,
      "_view_module": "@jupyter-widgets/controls",
      "_view_module_version": "1.5.0",
      "_view_name": "ProgressView",
      "bar_style": "success",
      "description": "100%",
      "description_tooltip": null,
      "layout": "IPY_MODEL_0a01b300e3ea441f98a20d945607f53d",
      "max": 4,
      "min": 0,
      "orientation": "horizontal",
      "style": "IPY_MODEL_79e1e8423fc34b5a90605fb44a95a6c7",
      "value": 4
     }
    },
    "3ed879b29e6e4de6ab68059cdc48d13d": {
     "model_module": "@jupyter-widgets/base",
     "model_name": "LayoutModel",
     "state": {
      "_model_module": "@jupyter-widgets/base",
      "_model_module_version": "1.2.0",
      "_model_name": "LayoutModel",
      "_view_count": null,
      "_view_module": "@jupyter-widgets/base",
      "_view_module_version": "1.2.0",
      "_view_name": "LayoutView",
      "align_content": null,
      "align_items": null,
      "align_self": null,
      "border": null,
      "bottom": null,
      "display": null,
      "flex": null,
      "flex_flow": null,
      "grid_area": null,
      "grid_auto_columns": null,
      "grid_auto_flow": null,
      "grid_auto_rows": null,
      "grid_column": null,
      "grid_gap": null,
      "grid_row": null,
      "grid_template_areas": null,
      "grid_template_columns": null,
      "grid_template_rows": null,
      "height": null,
      "justify_content": null,
      "justify_items": null,
      "left": null,
      "margin": null,
      "max_height": null,
      "max_width": null,
      "min_height": null,
      "min_width": null,
      "object_fit": null,
      "object_position": null,
      "order": null,
      "overflow": null,
      "overflow_x": null,
      "overflow_y": null,
      "padding": null,
      "right": null,
      "top": null,
      "visibility": null,
      "width": null
     }
    },
    "3f689f273c2a4627b190f0beb335c20d": {
     "model_module": "@jupyter-widgets/base",
     "model_name": "LayoutModel",
     "state": {
      "_model_module": "@jupyter-widgets/base",
      "_model_module_version": "1.2.0",
      "_model_name": "LayoutModel",
      "_view_count": null,
      "_view_module": "@jupyter-widgets/base",
      "_view_module_version": "1.2.0",
      "_view_name": "LayoutView",
      "align_content": null,
      "align_items": null,
      "align_self": null,
      "border": null,
      "bottom": null,
      "display": null,
      "flex": null,
      "flex_flow": null,
      "grid_area": null,
      "grid_auto_columns": null,
      "grid_auto_flow": null,
      "grid_auto_rows": null,
      "grid_column": null,
      "grid_gap": null,
      "grid_row": null,
      "grid_template_areas": null,
      "grid_template_columns": null,
      "grid_template_rows": null,
      "height": null,
      "justify_content": null,
      "justify_items": null,
      "left": null,
      "margin": null,
      "max_height": null,
      "max_width": null,
      "min_height": null,
      "min_width": null,
      "object_fit": null,
      "object_position": null,
      "order": null,
      "overflow": null,
      "overflow_x": null,
      "overflow_y": null,
      "padding": null,
      "right": null,
      "top": null,
      "visibility": null,
      "width": null
     }
    },
    "4196532372d949cfb1d0aaa39c89c1a9": {
     "model_module": "@jupyter-widgets/controls",
     "model_name": "DescriptionStyleModel",
     "state": {
      "_model_module": "@jupyter-widgets/controls",
      "_model_module_version": "1.5.0",
      "_model_name": "DescriptionStyleModel",
      "_view_count": null,
      "_view_module": "@jupyter-widgets/base",
      "_view_module_version": "1.2.0",
      "_view_name": "StyleView",
      "description_width": ""
     }
    },
    "43999b1f475044e59acc5c967d5d3485": {
     "model_module": "@jupyter-widgets/base",
     "model_name": "LayoutModel",
     "state": {
      "_model_module": "@jupyter-widgets/base",
      "_model_module_version": "1.2.0",
      "_model_name": "LayoutModel",
      "_view_count": null,
      "_view_module": "@jupyter-widgets/base",
      "_view_module_version": "1.2.0",
      "_view_name": "LayoutView",
      "align_content": null,
      "align_items": null,
      "align_self": null,
      "border": null,
      "bottom": null,
      "display": null,
      "flex": null,
      "flex_flow": null,
      "grid_area": null,
      "grid_auto_columns": null,
      "grid_auto_flow": null,
      "grid_auto_rows": null,
      "grid_column": null,
      "grid_gap": null,
      "grid_row": null,
      "grid_template_areas": null,
      "grid_template_columns": null,
      "grid_template_rows": null,
      "height": null,
      "justify_content": null,
      "justify_items": null,
      "left": null,
      "margin": null,
      "max_height": null,
      "max_width": null,
      "min_height": null,
      "min_width": null,
      "object_fit": null,
      "object_position": null,
      "order": null,
      "overflow": null,
      "overflow_x": null,
      "overflow_y": null,
      "padding": null,
      "right": null,
      "top": null,
      "visibility": null,
      "width": null
     }
    },
    "43fdbcdeb7d24b00b0777858b8096a58": {
     "model_module": "@jupyter-widgets/controls",
     "model_name": "HBoxModel",
     "state": {
      "_dom_classes": [],
      "_model_module": "@jupyter-widgets/controls",
      "_model_module_version": "1.5.0",
      "_model_name": "HBoxModel",
      "_view_count": null,
      "_view_module": "@jupyter-widgets/controls",
      "_view_module_version": "1.5.0",
      "_view_name": "HBoxView",
      "box_style": "",
      "children": [
       "IPY_MODEL_9f4e5e72f44847e6ab8fed35d8c3cff5",
       "IPY_MODEL_729c5bf054ad4ce98cea2764b2d1ddb3"
      ],
      "layout": "IPY_MODEL_fff9c01aea8c4a3c913efc514fc6c882"
     }
    },
    "44785ac878974081b9032147f70b49f6": {
     "model_module": "@jupyter-widgets/controls",
     "model_name": "HTMLModel",
     "state": {
      "_dom_classes": [],
      "_model_module": "@jupyter-widgets/controls",
      "_model_module_version": "1.5.0",
      "_model_name": "HTMLModel",
      "_view_count": null,
      "_view_module": "@jupyter-widgets/controls",
      "_view_module_version": "1.5.0",
      "_view_name": "HTMLView",
      "description": "",
      "description_tooltip": null,
      "layout": "IPY_MODEL_26a72578fd9d4b7e9812d74facfb6ac9",
      "placeholder": "​",
      "style": "IPY_MODEL_8adc41056b6f4d7690e90a728fd3d65c",
      "value": " 7/7 [3:29:14&lt;00:00, 1793.56s/it]"
     }
    },
    "47448506c6834b4c913687d7fbc88762": {
     "model_module": "@jupyter-widgets/controls",
     "model_name": "FloatProgressModel",
     "state": {
      "_dom_classes": [],
      "_model_module": "@jupyter-widgets/controls",
      "_model_module_version": "1.5.0",
      "_model_name": "FloatProgressModel",
      "_view_count": null,
      "_view_module": "@jupyter-widgets/controls",
      "_view_module_version": "1.5.0",
      "_view_name": "ProgressView",
      "bar_style": "success",
      "description": "100%",
      "description_tooltip": null,
      "layout": "IPY_MODEL_fe052a6190c949da85f3e3990a81bfb4",
      "max": 2,
      "min": 0,
      "orientation": "horizontal",
      "style": "IPY_MODEL_897a425a57bc46cb8c02b12d80da3e79",
      "value": 2
     }
    },
    "4815fa6a98e24a15aac2b621f2533bce": {
     "model_module": "@jupyter-widgets/base",
     "model_name": "LayoutModel",
     "state": {
      "_model_module": "@jupyter-widgets/base",
      "_model_module_version": "1.2.0",
      "_model_name": "LayoutModel",
      "_view_count": null,
      "_view_module": "@jupyter-widgets/base",
      "_view_module_version": "1.2.0",
      "_view_name": "LayoutView",
      "align_content": null,
      "align_items": null,
      "align_self": null,
      "border": null,
      "bottom": null,
      "display": null,
      "flex": null,
      "flex_flow": null,
      "grid_area": null,
      "grid_auto_columns": null,
      "grid_auto_flow": null,
      "grid_auto_rows": null,
      "grid_column": null,
      "grid_gap": null,
      "grid_row": null,
      "grid_template_areas": null,
      "grid_template_columns": null,
      "grid_template_rows": null,
      "height": null,
      "justify_content": null,
      "justify_items": null,
      "left": null,
      "margin": null,
      "max_height": null,
      "max_width": null,
      "min_height": null,
      "min_width": null,
      "object_fit": null,
      "object_position": null,
      "order": null,
      "overflow": null,
      "overflow_x": null,
      "overflow_y": null,
      "padding": null,
      "right": null,
      "top": null,
      "visibility": null,
      "width": null
     }
    },
    "49907b2ae1874b1f86c0b72bafd0081e": {
     "model_module": "@jupyter-widgets/controls",
     "model_name": "HTMLModel",
     "state": {
      "_dom_classes": [],
      "_model_module": "@jupyter-widgets/controls",
      "_model_module_version": "1.5.0",
      "_model_name": "HTMLModel",
      "_view_count": null,
      "_view_module": "@jupyter-widgets/controls",
      "_view_module_version": "1.5.0",
      "_view_name": "HTMLView",
      "description": "",
      "description_tooltip": null,
      "layout": "IPY_MODEL_b382c1acecfd448ea2db2d24cd66a57a",
      "placeholder": "​",
      "style": "IPY_MODEL_1adb2bbe497347c18160f133e412de2a",
      "value": " 7/7 [3:22:29&lt;00:00, 1735.58s/it]"
     }
    },
    "4a070e23aad34b539f874e0b0df7269a": {
     "model_module": "@jupyter-widgets/controls",
     "model_name": "HTMLModel",
     "state": {
      "_dom_classes": [],
      "_model_module": "@jupyter-widgets/controls",
      "_model_module_version": "1.5.0",
      "_model_name": "HTMLModel",
      "_view_count": null,
      "_view_module": "@jupyter-widgets/controls",
      "_view_module_version": "1.5.0",
      "_view_name": "HTMLView",
      "description": "",
      "description_tooltip": null,
      "layout": "IPY_MODEL_bd022f6df0d145c995eeb844688886b2",
      "placeholder": "​",
      "style": "IPY_MODEL_d593642a581e43bf87c9869f24a2c089",
      "value": " 2/2 [3:01:11&lt;00:00, 5435.51s/it]"
     }
    },
    "4a261c5f4e90416296db0a68d7633076": {
     "model_module": "@jupyter-widgets/base",
     "model_name": "LayoutModel",
     "state": {
      "_model_module": "@jupyter-widgets/base",
      "_model_module_version": "1.2.0",
      "_model_name": "LayoutModel",
      "_view_count": null,
      "_view_module": "@jupyter-widgets/base",
      "_view_module_version": "1.2.0",
      "_view_name": "LayoutView",
      "align_content": null,
      "align_items": null,
      "align_self": null,
      "border": null,
      "bottom": null,
      "display": null,
      "flex": null,
      "flex_flow": null,
      "grid_area": null,
      "grid_auto_columns": null,
      "grid_auto_flow": null,
      "grid_auto_rows": null,
      "grid_column": null,
      "grid_gap": null,
      "grid_row": null,
      "grid_template_areas": null,
      "grid_template_columns": null,
      "grid_template_rows": null,
      "height": null,
      "justify_content": null,
      "justify_items": null,
      "left": null,
      "margin": null,
      "max_height": null,
      "max_width": null,
      "min_height": null,
      "min_width": null,
      "object_fit": null,
      "object_position": null,
      "order": null,
      "overflow": null,
      "overflow_x": null,
      "overflow_y": null,
      "padding": null,
      "right": null,
      "top": null,
      "visibility": null,
      "width": null
     }
    },
    "4a4190f039aa4254b35ba62c13822715": {
     "model_module": "@jupyter-widgets/controls",
     "model_name": "HTMLModel",
     "state": {
      "_dom_classes": [],
      "_model_module": "@jupyter-widgets/controls",
      "_model_module_version": "1.5.0",
      "_model_name": "HTMLModel",
      "_view_count": null,
      "_view_module": "@jupyter-widgets/controls",
      "_view_module_version": "1.5.0",
      "_view_name": "HTMLView",
      "description": "",
      "description_tooltip": null,
      "layout": "IPY_MODEL_c3eb16a21e114186b122e3e25403729b",
      "placeholder": "​",
      "style": "IPY_MODEL_510a40d7f8764c8d9740ccbf6fbc59e4",
      "value": " 2/2 [1:05:37&lt;00:00, 1968.76s/it]"
     }
    },
    "4b5031fca6af492ebd4df94a98f8f06f": {
     "model_module": "@jupyter-widgets/controls",
     "model_name": "FloatProgressModel",
     "state": {
      "_dom_classes": [],
      "_model_module": "@jupyter-widgets/controls",
      "_model_module_version": "1.5.0",
      "_model_name": "FloatProgressModel",
      "_view_count": null,
      "_view_module": "@jupyter-widgets/controls",
      "_view_module_version": "1.5.0",
      "_view_name": "ProgressView",
      "bar_style": "success",
      "description": "100%",
      "description_tooltip": null,
      "layout": "IPY_MODEL_2f1e26841ea64290ac1e2e2c6bb52ffc",
      "max": 3,
      "min": 0,
      "orientation": "horizontal",
      "style": "IPY_MODEL_67f564b97871438b8bf850b0831b738c",
      "value": 3
     }
    },
    "4b660d4e2c304853aa6a910526246fe8": {
     "model_module": "@jupyter-widgets/controls",
     "model_name": "ProgressStyleModel",
     "state": {
      "_model_module": "@jupyter-widgets/controls",
      "_model_module_version": "1.5.0",
      "_model_name": "ProgressStyleModel",
      "_view_count": null,
      "_view_module": "@jupyter-widgets/base",
      "_view_module_version": "1.2.0",
      "_view_name": "StyleView",
      "bar_color": null,
      "description_width": "initial"
     }
    },
    "4d3a1aa7902c46fd84b6cdc44991054f": {
     "model_module": "@jupyter-widgets/controls",
     "model_name": "FloatProgressModel",
     "state": {
      "_dom_classes": [],
      "_model_module": "@jupyter-widgets/controls",
      "_model_module_version": "1.5.0",
      "_model_name": "FloatProgressModel",
      "_view_count": null,
      "_view_module": "@jupyter-widgets/controls",
      "_view_module_version": "1.5.0",
      "_view_name": "ProgressView",
      "bar_style": "success",
      "description": "100%",
      "description_tooltip": null,
      "layout": "IPY_MODEL_bcaad0d827734ba09ad89ec065dcfdae",
      "max": 2,
      "min": 0,
      "orientation": "horizontal",
      "style": "IPY_MODEL_6c9f05dc29544b6087a2541ea5fc360c",
      "value": 2
     }
    },
    "4de45db9138b48ada1fb17efc8ca29be": {
     "model_module": "@jupyter-widgets/controls",
     "model_name": "FloatProgressModel",
     "state": {
      "_dom_classes": [],
      "_model_module": "@jupyter-widgets/controls",
      "_model_module_version": "1.5.0",
      "_model_name": "FloatProgressModel",
      "_view_count": null,
      "_view_module": "@jupyter-widgets/controls",
      "_view_module_version": "1.5.0",
      "_view_name": "ProgressView",
      "bar_style": "success",
      "description": "100%",
      "description_tooltip": null,
      "layout": "IPY_MODEL_dbed82f4cd1747628715412c8110cd2a",
      "max": 4,
      "min": 0,
      "orientation": "horizontal",
      "style": "IPY_MODEL_9d89b460b7494ac19d383eba488782eb",
      "value": 4
     }
    },
    "4e8517451f2a46e8bbb329645edeb061": {
     "model_module": "@jupyter-widgets/base",
     "model_name": "LayoutModel",
     "state": {
      "_model_module": "@jupyter-widgets/base",
      "_model_module_version": "1.2.0",
      "_model_name": "LayoutModel",
      "_view_count": null,
      "_view_module": "@jupyter-widgets/base",
      "_view_module_version": "1.2.0",
      "_view_name": "LayoutView",
      "align_content": null,
      "align_items": null,
      "align_self": null,
      "border": null,
      "bottom": null,
      "display": null,
      "flex": null,
      "flex_flow": null,
      "grid_area": null,
      "grid_auto_columns": null,
      "grid_auto_flow": null,
      "grid_auto_rows": null,
      "grid_column": null,
      "grid_gap": null,
      "grid_row": null,
      "grid_template_areas": null,
      "grid_template_columns": null,
      "grid_template_rows": null,
      "height": null,
      "justify_content": null,
      "justify_items": null,
      "left": null,
      "margin": null,
      "max_height": null,
      "max_width": null,
      "min_height": null,
      "min_width": null,
      "object_fit": null,
      "object_position": null,
      "order": null,
      "overflow": null,
      "overflow_x": null,
      "overflow_y": null,
      "padding": null,
      "right": null,
      "top": null,
      "visibility": null,
      "width": null
     }
    },
    "4f2914fb6a724823919b1588bec2c830": {
     "model_module": "@jupyter-widgets/controls",
     "model_name": "DescriptionStyleModel",
     "state": {
      "_model_module": "@jupyter-widgets/controls",
      "_model_module_version": "1.5.0",
      "_model_name": "DescriptionStyleModel",
      "_view_count": null,
      "_view_module": "@jupyter-widgets/base",
      "_view_module_version": "1.2.0",
      "_view_name": "StyleView",
      "description_width": ""
     }
    },
    "510a40d7f8764c8d9740ccbf6fbc59e4": {
     "model_module": "@jupyter-widgets/controls",
     "model_name": "DescriptionStyleModel",
     "state": {
      "_model_module": "@jupyter-widgets/controls",
      "_model_module_version": "1.5.0",
      "_model_name": "DescriptionStyleModel",
      "_view_count": null,
      "_view_module": "@jupyter-widgets/base",
      "_view_module_version": "1.2.0",
      "_view_name": "StyleView",
      "description_width": ""
     }
    },
    "515ac8f77af1455ab20d31f82da25dbf": {
     "model_module": "@jupyter-widgets/controls",
     "model_name": "DescriptionStyleModel",
     "state": {
      "_model_module": "@jupyter-widgets/controls",
      "_model_module_version": "1.5.0",
      "_model_name": "DescriptionStyleModel",
      "_view_count": null,
      "_view_module": "@jupyter-widgets/base",
      "_view_module_version": "1.2.0",
      "_view_name": "StyleView",
      "description_width": ""
     }
    },
    "5286a58708d4472688e68cffc21eddfa": {
     "model_module": "@jupyter-widgets/controls",
     "model_name": "FloatProgressModel",
     "state": {
      "_dom_classes": [],
      "_model_module": "@jupyter-widgets/controls",
      "_model_module_version": "1.5.0",
      "_model_name": "FloatProgressModel",
      "_view_count": null,
      "_view_module": "@jupyter-widgets/controls",
      "_view_module_version": "1.5.0",
      "_view_name": "ProgressView",
      "bar_style": "success",
      "description": "100%",
      "description_tooltip": null,
      "layout": "IPY_MODEL_664abc417f4d4382ae4a4bfb5bf7f62e",
      "max": 2,
      "min": 0,
      "orientation": "horizontal",
      "style": "IPY_MODEL_c4f00179d99742ed8ece0da02a135e28",
      "value": 2
     }
    },
    "529f9bb1605441fbbdf69f011be2b0ed": {
     "model_module": "@jupyter-widgets/base",
     "model_name": "LayoutModel",
     "state": {
      "_model_module": "@jupyter-widgets/base",
      "_model_module_version": "1.2.0",
      "_model_name": "LayoutModel",
      "_view_count": null,
      "_view_module": "@jupyter-widgets/base",
      "_view_module_version": "1.2.0",
      "_view_name": "LayoutView",
      "align_content": null,
      "align_items": null,
      "align_self": null,
      "border": null,
      "bottom": null,
      "display": null,
      "flex": null,
      "flex_flow": null,
      "grid_area": null,
      "grid_auto_columns": null,
      "grid_auto_flow": null,
      "grid_auto_rows": null,
      "grid_column": null,
      "grid_gap": null,
      "grid_row": null,
      "grid_template_areas": null,
      "grid_template_columns": null,
      "grid_template_rows": null,
      "height": null,
      "justify_content": null,
      "justify_items": null,
      "left": null,
      "margin": null,
      "max_height": null,
      "max_width": null,
      "min_height": null,
      "min_width": null,
      "object_fit": null,
      "object_position": null,
      "order": null,
      "overflow": null,
      "overflow_x": null,
      "overflow_y": null,
      "padding": null,
      "right": null,
      "top": null,
      "visibility": null,
      "width": null
     }
    },
    "52fa74e0a8864af2807f0bc247dfff8f": {
     "model_module": "@jupyter-widgets/controls",
     "model_name": "FloatProgressModel",
     "state": {
      "_dom_classes": [],
      "_model_module": "@jupyter-widgets/controls",
      "_model_module_version": "1.5.0",
      "_model_name": "FloatProgressModel",
      "_view_count": null,
      "_view_module": "@jupyter-widgets/controls",
      "_view_module_version": "1.5.0",
      "_view_name": "ProgressView",
      "bar_style": "success",
      "description": "100%",
      "description_tooltip": null,
      "layout": "IPY_MODEL_e0279e72c6bb4fa6b1163f8ff9625dac",
      "max": 2,
      "min": 0,
      "orientation": "horizontal",
      "style": "IPY_MODEL_6ba8b95c9ad940af81c7f1308ada45cd",
      "value": 2
     }
    },
    "5aee880e20e84e088e3885046d7e0b49": {
     "model_module": "@jupyter-widgets/controls",
     "model_name": "HTMLModel",
     "state": {
      "_dom_classes": [],
      "_model_module": "@jupyter-widgets/controls",
      "_model_module_version": "1.5.0",
      "_model_name": "HTMLModel",
      "_view_count": null,
      "_view_module": "@jupyter-widgets/controls",
      "_view_module_version": "1.5.0",
      "_view_name": "HTMLView",
      "description": "",
      "description_tooltip": null,
      "layout": "IPY_MODEL_399e5edd02494c1ebe4e3352daa5ee0b",
      "placeholder": "​",
      "style": "IPY_MODEL_65ed6d40e81945bea72ce8768e23a4ec",
      "value": " 3/3 [23:56&lt;00:00, 478.76s/it]"
     }
    },
    "5b0bed3656dd4c998a3f8e4c61b4b764": {
     "model_module": "@jupyter-widgets/controls",
     "model_name": "DescriptionStyleModel",
     "state": {
      "_model_module": "@jupyter-widgets/controls",
      "_model_module_version": "1.5.0",
      "_model_name": "DescriptionStyleModel",
      "_view_count": null,
      "_view_module": "@jupyter-widgets/base",
      "_view_module_version": "1.2.0",
      "_view_name": "StyleView",
      "description_width": ""
     }
    },
    "5cf3a9206d374c0aae8a5cf3457fe923": {
     "model_module": "@jupyter-widgets/controls",
     "model_name": "FloatProgressModel",
     "state": {
      "_dom_classes": [],
      "_model_module": "@jupyter-widgets/controls",
      "_model_module_version": "1.5.0",
      "_model_name": "FloatProgressModel",
      "_view_count": null,
      "_view_module": "@jupyter-widgets/controls",
      "_view_module_version": "1.5.0",
      "_view_name": "ProgressView",
      "bar_style": "success",
      "description": "100%",
      "description_tooltip": null,
      "layout": "IPY_MODEL_17675bb043a1477797f915af49986294",
      "max": 7,
      "min": 0,
      "orientation": "horizontal",
      "style": "IPY_MODEL_e0fb1f172ca04c8c901654ea6ebf5bf1",
      "value": 7
     }
    },
    "5e1dbed98dd34bdebc2a5abc83aa7c37": {
     "model_module": "@jupyter-widgets/controls",
     "model_name": "ProgressStyleModel",
     "state": {
      "_model_module": "@jupyter-widgets/controls",
      "_model_module_version": "1.5.0",
      "_model_name": "ProgressStyleModel",
      "_view_count": null,
      "_view_module": "@jupyter-widgets/base",
      "_view_module_version": "1.2.0",
      "_view_name": "StyleView",
      "bar_color": null,
      "description_width": "initial"
     }
    },
    "63884b02b2cd41238ae8fe893a684753": {
     "model_module": "@jupyter-widgets/controls",
     "model_name": "FloatProgressModel",
     "state": {
      "_dom_classes": [],
      "_model_module": "@jupyter-widgets/controls",
      "_model_module_version": "1.5.0",
      "_model_name": "FloatProgressModel",
      "_view_count": null,
      "_view_module": "@jupyter-widgets/controls",
      "_view_module_version": "1.5.0",
      "_view_name": "ProgressView",
      "bar_style": "success",
      "description": "100%",
      "description_tooltip": null,
      "layout": "IPY_MODEL_8e2f7fef50a24ce09f654ae007d7e8c6",
      "max": 7,
      "min": 0,
      "orientation": "horizontal",
      "style": "IPY_MODEL_f34024cda89041d7bb9cbf7cd08ad76c",
      "value": 7
     }
    },
    "65ed6d40e81945bea72ce8768e23a4ec": {
     "model_module": "@jupyter-widgets/controls",
     "model_name": "DescriptionStyleModel",
     "state": {
      "_model_module": "@jupyter-widgets/controls",
      "_model_module_version": "1.5.0",
      "_model_name": "DescriptionStyleModel",
      "_view_count": null,
      "_view_module": "@jupyter-widgets/base",
      "_view_module_version": "1.2.0",
      "_view_name": "StyleView",
      "description_width": ""
     }
    },
    "664abc417f4d4382ae4a4bfb5bf7f62e": {
     "model_module": "@jupyter-widgets/base",
     "model_name": "LayoutModel",
     "state": {
      "_model_module": "@jupyter-widgets/base",
      "_model_module_version": "1.2.0",
      "_model_name": "LayoutModel",
      "_view_count": null,
      "_view_module": "@jupyter-widgets/base",
      "_view_module_version": "1.2.0",
      "_view_name": "LayoutView",
      "align_content": null,
      "align_items": null,
      "align_self": null,
      "border": null,
      "bottom": null,
      "display": null,
      "flex": null,
      "flex_flow": null,
      "grid_area": null,
      "grid_auto_columns": null,
      "grid_auto_flow": null,
      "grid_auto_rows": null,
      "grid_column": null,
      "grid_gap": null,
      "grid_row": null,
      "grid_template_areas": null,
      "grid_template_columns": null,
      "grid_template_rows": null,
      "height": null,
      "justify_content": null,
      "justify_items": null,
      "left": null,
      "margin": null,
      "max_height": null,
      "max_width": null,
      "min_height": null,
      "min_width": null,
      "object_fit": null,
      "object_position": null,
      "order": null,
      "overflow": null,
      "overflow_x": null,
      "overflow_y": null,
      "padding": null,
      "right": null,
      "top": null,
      "visibility": null,
      "width": null
     }
    },
    "67bc3e1af1bd4c8dbb0b37d91231474c": {
     "model_module": "@jupyter-widgets/controls",
     "model_name": "HBoxModel",
     "state": {
      "_dom_classes": [],
      "_model_module": "@jupyter-widgets/controls",
      "_model_module_version": "1.5.0",
      "_model_name": "HBoxModel",
      "_view_count": null,
      "_view_module": "@jupyter-widgets/controls",
      "_view_module_version": "1.5.0",
      "_view_name": "HBoxView",
      "box_style": "",
      "children": [
       "IPY_MODEL_8fbeb9742b184bffb7503babf7159c74",
       "IPY_MODEL_9eb68296a4074e8f9d212cfe1c2191c0"
      ],
      "layout": "IPY_MODEL_f4c9d289c4054f57bbc9cee1a3c33a1f"
     }
    },
    "67f564b97871438b8bf850b0831b738c": {
     "model_module": "@jupyter-widgets/controls",
     "model_name": "ProgressStyleModel",
     "state": {
      "_model_module": "@jupyter-widgets/controls",
      "_model_module_version": "1.5.0",
      "_model_name": "ProgressStyleModel",
      "_view_count": null,
      "_view_module": "@jupyter-widgets/base",
      "_view_module_version": "1.2.0",
      "_view_name": "StyleView",
      "bar_color": null,
      "description_width": "initial"
     }
    },
    "69474753baaf421ea808736ce293f14a": {
     "model_module": "@jupyter-widgets/controls",
     "model_name": "HBoxModel",
     "state": {
      "_dom_classes": [],
      "_model_module": "@jupyter-widgets/controls",
      "_model_module_version": "1.5.0",
      "_model_name": "HBoxModel",
      "_view_count": null,
      "_view_module": "@jupyter-widgets/controls",
      "_view_module_version": "1.5.0",
      "_view_name": "HBoxView",
      "box_style": "",
      "children": [
       "IPY_MODEL_63884b02b2cd41238ae8fe893a684753",
       "IPY_MODEL_256fe0e9fc23428fa44759a384929b6b"
      ],
      "layout": "IPY_MODEL_869cea65a47940ecbd0c2304c1255460"
     }
    },
    "6990af0fe1904778aa0190561185fe1c": {
     "model_module": "@jupyter-widgets/controls",
     "model_name": "FloatProgressModel",
     "state": {
      "_dom_classes": [],
      "_model_module": "@jupyter-widgets/controls",
      "_model_module_version": "1.5.0",
      "_model_name": "FloatProgressModel",
      "_view_count": null,
      "_view_module": "@jupyter-widgets/controls",
      "_view_module_version": "1.5.0",
      "_view_name": "ProgressView",
      "bar_style": "success",
      "description": "100%",
      "description_tooltip": null,
      "layout": "IPY_MODEL_7ebab9f26cbd4727b770a94e69d24ed4",
      "max": 4,
      "min": 0,
      "orientation": "horizontal",
      "style": "IPY_MODEL_a3c2ac8bd2f74bc89be868aa51fc0019",
      "value": 4
     }
    },
    "69c8c92cf4234d7499dced0ca330fc13": {
     "model_module": "@jupyter-widgets/base",
     "model_name": "LayoutModel",
     "state": {
      "_model_module": "@jupyter-widgets/base",
      "_model_module_version": "1.2.0",
      "_model_name": "LayoutModel",
      "_view_count": null,
      "_view_module": "@jupyter-widgets/base",
      "_view_module_version": "1.2.0",
      "_view_name": "LayoutView",
      "align_content": null,
      "align_items": null,
      "align_self": null,
      "border": null,
      "bottom": null,
      "display": null,
      "flex": null,
      "flex_flow": null,
      "grid_area": null,
      "grid_auto_columns": null,
      "grid_auto_flow": null,
      "grid_auto_rows": null,
      "grid_column": null,
      "grid_gap": null,
      "grid_row": null,
      "grid_template_areas": null,
      "grid_template_columns": null,
      "grid_template_rows": null,
      "height": null,
      "justify_content": null,
      "justify_items": null,
      "left": null,
      "margin": null,
      "max_height": null,
      "max_width": null,
      "min_height": null,
      "min_width": null,
      "object_fit": null,
      "object_position": null,
      "order": null,
      "overflow": null,
      "overflow_x": null,
      "overflow_y": null,
      "padding": null,
      "right": null,
      "top": null,
      "visibility": null,
      "width": null
     }
    },
    "6a76cb9f02a54e4999055be15682a1bb": {
     "model_module": "@jupyter-widgets/controls",
     "model_name": "FloatProgressModel",
     "state": {
      "_dom_classes": [],
      "_model_module": "@jupyter-widgets/controls",
      "_model_module_version": "1.5.0",
      "_model_name": "FloatProgressModel",
      "_view_count": null,
      "_view_module": "@jupyter-widgets/controls",
      "_view_module_version": "1.5.0",
      "_view_name": "ProgressView",
      "bar_style": "success",
      "description": "100%",
      "description_tooltip": null,
      "layout": "IPY_MODEL_1a6b652ab5944efb933b8ace02f2bc8c",
      "max": 4,
      "min": 0,
      "orientation": "horizontal",
      "style": "IPY_MODEL_e44961e63e684bb98a5124dab140f7cc",
      "value": 4
     }
    },
    "6ba8b95c9ad940af81c7f1308ada45cd": {
     "model_module": "@jupyter-widgets/controls",
     "model_name": "ProgressStyleModel",
     "state": {
      "_model_module": "@jupyter-widgets/controls",
      "_model_module_version": "1.5.0",
      "_model_name": "ProgressStyleModel",
      "_view_count": null,
      "_view_module": "@jupyter-widgets/base",
      "_view_module_version": "1.2.0",
      "_view_name": "StyleView",
      "bar_color": null,
      "description_width": "initial"
     }
    },
    "6c9f05dc29544b6087a2541ea5fc360c": {
     "model_module": "@jupyter-widgets/controls",
     "model_name": "ProgressStyleModel",
     "state": {
      "_model_module": "@jupyter-widgets/controls",
      "_model_module_version": "1.5.0",
      "_model_name": "ProgressStyleModel",
      "_view_count": null,
      "_view_module": "@jupyter-widgets/base",
      "_view_module_version": "1.2.0",
      "_view_name": "StyleView",
      "bar_color": null,
      "description_width": "initial"
     }
    },
    "6e2b9fd6e6ef4146942ce829ff989b1d": {
     "model_module": "@jupyter-widgets/controls",
     "model_name": "HTMLModel",
     "state": {
      "_dom_classes": [],
      "_model_module": "@jupyter-widgets/controls",
      "_model_module_version": "1.5.0",
      "_model_name": "HTMLModel",
      "_view_count": null,
      "_view_module": "@jupyter-widgets/controls",
      "_view_module_version": "1.5.0",
      "_view_name": "HTMLView",
      "description": "",
      "description_tooltip": null,
      "layout": "IPY_MODEL_c0f5b6cc771f4c1ba85dee9a4b775341",
      "placeholder": "​",
      "style": "IPY_MODEL_031c592dbac34c1f8264032115ca1edb",
      "value": " 4/4 [28:18&lt;00:00, 424.61s/it]"
     }
    },
    "6e67f653177240cd83fb669e3c142761": {
     "model_module": "@jupyter-widgets/base",
     "model_name": "LayoutModel",
     "state": {
      "_model_module": "@jupyter-widgets/base",
      "_model_module_version": "1.2.0",
      "_model_name": "LayoutModel",
      "_view_count": null,
      "_view_module": "@jupyter-widgets/base",
      "_view_module_version": "1.2.0",
      "_view_name": "LayoutView",
      "align_content": null,
      "align_items": null,
      "align_self": null,
      "border": null,
      "bottom": null,
      "display": null,
      "flex": null,
      "flex_flow": null,
      "grid_area": null,
      "grid_auto_columns": null,
      "grid_auto_flow": null,
      "grid_auto_rows": null,
      "grid_column": null,
      "grid_gap": null,
      "grid_row": null,
      "grid_template_areas": null,
      "grid_template_columns": null,
      "grid_template_rows": null,
      "height": null,
      "justify_content": null,
      "justify_items": null,
      "left": null,
      "margin": null,
      "max_height": null,
      "max_width": null,
      "min_height": null,
      "min_width": null,
      "object_fit": null,
      "object_position": null,
      "order": null,
      "overflow": null,
      "overflow_x": null,
      "overflow_y": null,
      "padding": null,
      "right": null,
      "top": null,
      "visibility": null,
      "width": null
     }
    },
    "6f1fad39153b4f48b3b194a16b35d5b1": {
     "model_module": "@jupyter-widgets/controls",
     "model_name": "ProgressStyleModel",
     "state": {
      "_model_module": "@jupyter-widgets/controls",
      "_model_module_version": "1.5.0",
      "_model_name": "ProgressStyleModel",
      "_view_count": null,
      "_view_module": "@jupyter-widgets/base",
      "_view_module_version": "1.2.0",
      "_view_name": "StyleView",
      "bar_color": null,
      "description_width": "initial"
     }
    },
    "6f4d48a536bb431eaa36a7aa1299de91": {
     "model_module": "@jupyter-widgets/controls",
     "model_name": "HTMLModel",
     "state": {
      "_dom_classes": [],
      "_model_module": "@jupyter-widgets/controls",
      "_model_module_version": "1.5.0",
      "_model_name": "HTMLModel",
      "_view_count": null,
      "_view_module": "@jupyter-widgets/controls",
      "_view_module_version": "1.5.0",
      "_view_name": "HTMLView",
      "description": "",
      "description_tooltip": null,
      "layout": "IPY_MODEL_7de3482482ec4c9e9b40b0ca3baa623d",
      "placeholder": "​",
      "style": "IPY_MODEL_df6ddd1e6b324d8fbbada0efff3fc257",
      "value": " 4/4 [36:12&lt;00:00, 543.08s/it]"
     }
    },
    "7000c724b5b644a597b5c375d2860f07": {
     "model_module": "@jupyter-widgets/controls",
     "model_name": "HTMLModel",
     "state": {
      "_dom_classes": [],
      "_model_module": "@jupyter-widgets/controls",
      "_model_module_version": "1.5.0",
      "_model_name": "HTMLModel",
      "_view_count": null,
      "_view_module": "@jupyter-widgets/controls",
      "_view_module_version": "1.5.0",
      "_view_name": "HTMLView",
      "description": "",
      "description_tooltip": null,
      "layout": "IPY_MODEL_d6e1f75af7d9488d9e315252b1fd89bc",
      "placeholder": "​",
      "style": "IPY_MODEL_4f2914fb6a724823919b1588bec2c830",
      "value": " 4/4 [4:21:24&lt;00:00, 3921.15s/it]"
     }
    },
    "700e110946b642efaa807f5b209713cb": {
     "model_module": "@jupyter-widgets/base",
     "model_name": "LayoutModel",
     "state": {
      "_model_module": "@jupyter-widgets/base",
      "_model_module_version": "1.2.0",
      "_model_name": "LayoutModel",
      "_view_count": null,
      "_view_module": "@jupyter-widgets/base",
      "_view_module_version": "1.2.0",
      "_view_name": "LayoutView",
      "align_content": null,
      "align_items": null,
      "align_self": null,
      "border": null,
      "bottom": null,
      "display": null,
      "flex": null,
      "flex_flow": null,
      "grid_area": null,
      "grid_auto_columns": null,
      "grid_auto_flow": null,
      "grid_auto_rows": null,
      "grid_column": null,
      "grid_gap": null,
      "grid_row": null,
      "grid_template_areas": null,
      "grid_template_columns": null,
      "grid_template_rows": null,
      "height": null,
      "justify_content": null,
      "justify_items": null,
      "left": null,
      "margin": null,
      "max_height": null,
      "max_width": null,
      "min_height": null,
      "min_width": null,
      "object_fit": null,
      "object_position": null,
      "order": null,
      "overflow": null,
      "overflow_x": null,
      "overflow_y": null,
      "padding": null,
      "right": null,
      "top": null,
      "visibility": null,
      "width": null
     }
    },
    "705cc81fc9314bc2b0e4295e47877d41": {
     "model_module": "@jupyter-widgets/controls",
     "model_name": "HBoxModel",
     "state": {
      "_dom_classes": [],
      "_model_module": "@jupyter-widgets/controls",
      "_model_module_version": "1.5.0",
      "_model_name": "HBoxModel",
      "_view_count": null,
      "_view_module": "@jupyter-widgets/controls",
      "_view_module_version": "1.5.0",
      "_view_name": "HBoxView",
      "box_style": "",
      "children": [
       "IPY_MODEL_6a76cb9f02a54e4999055be15682a1bb",
       "IPY_MODEL_7000c724b5b644a597b5c375d2860f07"
      ],
      "layout": "IPY_MODEL_f2194c2cf1d7458b85381207d466410e"
     }
    },
    "71de7490f1be4e8f84cc4afa847914bb": {
     "model_module": "@jupyter-widgets/controls",
     "model_name": "FloatProgressModel",
     "state": {
      "_dom_classes": [],
      "_model_module": "@jupyter-widgets/controls",
      "_model_module_version": "1.5.0",
      "_model_name": "FloatProgressModel",
      "_view_count": null,
      "_view_module": "@jupyter-widgets/controls",
      "_view_module_version": "1.5.0",
      "_view_name": "ProgressView",
      "bar_style": "success",
      "description": "100%",
      "description_tooltip": null,
      "layout": "IPY_MODEL_271897a4b5f44c22b69a86c78932acf1",
      "max": 4,
      "min": 0,
      "orientation": "horizontal",
      "style": "IPY_MODEL_2632695d59d9418493d3cb155a92ed40",
      "value": 4
     }
    },
    "729c5bf054ad4ce98cea2764b2d1ddb3": {
     "model_module": "@jupyter-widgets/controls",
     "model_name": "HTMLModel",
     "state": {
      "_dom_classes": [],
      "_model_module": "@jupyter-widgets/controls",
      "_model_module_version": "1.5.0",
      "_model_name": "HTMLModel",
      "_view_count": null,
      "_view_module": "@jupyter-widgets/controls",
      "_view_module_version": "1.5.0",
      "_view_name": "HTMLView",
      "description": "",
      "description_tooltip": null,
      "layout": "IPY_MODEL_12f29d5edbaf468295855b3b03c9ddfa",
      "placeholder": "​",
      "style": "IPY_MODEL_515ac8f77af1455ab20d31f82da25dbf",
      "value": " 4/4 [9:13:45&lt;00:00, 8306.48s/it]"
     }
    },
    "730c6a33b46243bfad6a114ca439a1ed": {
     "model_module": "@jupyter-widgets/controls",
     "model_name": "HBoxModel",
     "state": {
      "_dom_classes": [],
      "_model_module": "@jupyter-widgets/controls",
      "_model_module_version": "1.5.0",
      "_model_name": "HBoxModel",
      "_view_count": null,
      "_view_module": "@jupyter-widgets/controls",
      "_view_module_version": "1.5.0",
      "_view_name": "HBoxView",
      "box_style": "",
      "children": [
       "IPY_MODEL_338382b290c54d589471b963e132aba0",
       "IPY_MODEL_d56b194205d945a5a6d14af54f03a248"
      ],
      "layout": "IPY_MODEL_b70b93a01db5419da2815b901e943ed7"
     }
    },
    "73989c1d1c5f4d4f97f6e2898e422ed5": {
     "model_module": "@jupyter-widgets/controls",
     "model_name": "FloatProgressModel",
     "state": {
      "_dom_classes": [],
      "_model_module": "@jupyter-widgets/controls",
      "_model_module_version": "1.5.0",
      "_model_name": "FloatProgressModel",
      "_view_count": null,
      "_view_module": "@jupyter-widgets/controls",
      "_view_module_version": "1.5.0",
      "_view_name": "ProgressView",
      "bar_style": "success",
      "description": "100%",
      "description_tooltip": null,
      "layout": "IPY_MODEL_15e4ea75a71c40f7b088ccf280f8ddef",
      "max": 127353,
      "min": 0,
      "orientation": "horizontal",
      "style": "IPY_MODEL_bf5786e4800e4171a85ae22409b4e086",
      "value": 127353
     }
    },
    "73d8fc7eca154b39a1c45e321d8c4b78": {
     "model_module": "@jupyter-widgets/controls",
     "model_name": "HTMLModel",
     "state": {
      "_dom_classes": [],
      "_model_module": "@jupyter-widgets/controls",
      "_model_module_version": "1.5.0",
      "_model_name": "HTMLModel",
      "_view_count": null,
      "_view_module": "@jupyter-widgets/controls",
      "_view_module_version": "1.5.0",
      "_view_name": "HTMLView",
      "description": "",
      "description_tooltip": null,
      "layout": "IPY_MODEL_97f55a99a8174832b1e7a169d4d7721f",
      "placeholder": "​",
      "style": "IPY_MODEL_4196532372d949cfb1d0aaa39c89c1a9",
      "value": " 31839/31839 [00:13&lt;00:00, 2437.33it/s]"
     }
    },
    "7561886b4e0240708b35238838e3aa57": {
     "model_module": "@jupyter-widgets/base",
     "model_name": "LayoutModel",
     "state": {
      "_model_module": "@jupyter-widgets/base",
      "_model_module_version": "1.2.0",
      "_model_name": "LayoutModel",
      "_view_count": null,
      "_view_module": "@jupyter-widgets/base",
      "_view_module_version": "1.2.0",
      "_view_name": "LayoutView",
      "align_content": null,
      "align_items": null,
      "align_self": null,
      "border": null,
      "bottom": null,
      "display": null,
      "flex": null,
      "flex_flow": null,
      "grid_area": null,
      "grid_auto_columns": null,
      "grid_auto_flow": null,
      "grid_auto_rows": null,
      "grid_column": null,
      "grid_gap": null,
      "grid_row": null,
      "grid_template_areas": null,
      "grid_template_columns": null,
      "grid_template_rows": null,
      "height": null,
      "justify_content": null,
      "justify_items": null,
      "left": null,
      "margin": null,
      "max_height": null,
      "max_width": null,
      "min_height": null,
      "min_width": null,
      "object_fit": null,
      "object_position": null,
      "order": null,
      "overflow": null,
      "overflow_x": null,
      "overflow_y": null,
      "padding": null,
      "right": null,
      "top": null,
      "visibility": null,
      "width": null
     }
    },
    "775f0ba94c3540a29c2af89a6cfc0780": {
     "model_module": "@jupyter-widgets/controls",
     "model_name": "DescriptionStyleModel",
     "state": {
      "_model_module": "@jupyter-widgets/controls",
      "_model_module_version": "1.5.0",
      "_model_name": "DescriptionStyleModel",
      "_view_count": null,
      "_view_module": "@jupyter-widgets/base",
      "_view_module_version": "1.2.0",
      "_view_name": "StyleView",
      "description_width": ""
     }
    },
    "79e1e8423fc34b5a90605fb44a95a6c7": {
     "model_module": "@jupyter-widgets/controls",
     "model_name": "ProgressStyleModel",
     "state": {
      "_model_module": "@jupyter-widgets/controls",
      "_model_module_version": "1.5.0",
      "_model_name": "ProgressStyleModel",
      "_view_count": null,
      "_view_module": "@jupyter-widgets/base",
      "_view_module_version": "1.2.0",
      "_view_name": "StyleView",
      "bar_color": null,
      "description_width": "initial"
     }
    },
    "7b32aaa1ea5a4d4c985e4061d9a2da3c": {
     "model_module": "@jupyter-widgets/controls",
     "model_name": "HBoxModel",
     "state": {
      "_dom_classes": [],
      "_model_module": "@jupyter-widgets/controls",
      "_model_module_version": "1.5.0",
      "_model_name": "HBoxModel",
      "_view_count": null,
      "_view_module": "@jupyter-widgets/controls",
      "_view_module_version": "1.5.0",
      "_view_name": "HBoxView",
      "box_style": "",
      "children": [
       "IPY_MODEL_3e962f66370744a1ae34e35345de7c17",
       "IPY_MODEL_eae52014584741e49c4edd940c5bbb12"
      ],
      "layout": "IPY_MODEL_d3f7280cadab43afb500927398340b93"
     }
    },
    "7b99a09546ca45c182b4c0fa42a930c6": {
     "model_module": "@jupyter-widgets/controls",
     "model_name": "HTMLModel",
     "state": {
      "_dom_classes": [],
      "_model_module": "@jupyter-widgets/controls",
      "_model_module_version": "1.5.0",
      "_model_name": "HTMLModel",
      "_view_count": null,
      "_view_module": "@jupyter-widgets/controls",
      "_view_module_version": "1.5.0",
      "_view_name": "HTMLView",
      "description": "",
      "description_tooltip": null,
      "layout": "IPY_MODEL_f60f9e7f53a141868314a34e380daa35",
      "placeholder": "​",
      "style": "IPY_MODEL_1d80f25056034a668d77a4aea1393532",
      "value": " 7/7 [3:39:42&lt;00:00, 1883.21s/it]"
     }
    },
    "7cccde42f5a54a4a90090cdcda5afbe4": {
     "model_module": "@jupyter-widgets/controls",
     "model_name": "HBoxModel",
     "state": {
      "_dom_classes": [],
      "_model_module": "@jupyter-widgets/controls",
      "_model_module_version": "1.5.0",
      "_model_name": "HBoxModel",
      "_view_count": null,
      "_view_module": "@jupyter-widgets/controls",
      "_view_module_version": "1.5.0",
      "_view_name": "HBoxView",
      "box_style": "",
      "children": [
       "IPY_MODEL_3ad0c6cb53be42399168c386a9e0a963",
       "IPY_MODEL_b807a67f0a6d42dda427e24e5809bc07"
      ],
      "layout": "IPY_MODEL_30d224f7b8e04631a42ea60c9d3b3a65"
     }
    },
    "7d2856e28ac44763b52fd2d02f2498ea": {
     "model_module": "@jupyter-widgets/base",
     "model_name": "LayoutModel",
     "state": {
      "_model_module": "@jupyter-widgets/base",
      "_model_module_version": "1.2.0",
      "_model_name": "LayoutModel",
      "_view_count": null,
      "_view_module": "@jupyter-widgets/base",
      "_view_module_version": "1.2.0",
      "_view_name": "LayoutView",
      "align_content": null,
      "align_items": null,
      "align_self": null,
      "border": null,
      "bottom": null,
      "display": null,
      "flex": null,
      "flex_flow": null,
      "grid_area": null,
      "grid_auto_columns": null,
      "grid_auto_flow": null,
      "grid_auto_rows": null,
      "grid_column": null,
      "grid_gap": null,
      "grid_row": null,
      "grid_template_areas": null,
      "grid_template_columns": null,
      "grid_template_rows": null,
      "height": null,
      "justify_content": null,
      "justify_items": null,
      "left": null,
      "margin": null,
      "max_height": null,
      "max_width": null,
      "min_height": null,
      "min_width": null,
      "object_fit": null,
      "object_position": null,
      "order": null,
      "overflow": null,
      "overflow_x": null,
      "overflow_y": null,
      "padding": null,
      "right": null,
      "top": null,
      "visibility": null,
      "width": null
     }
    },
    "7db3c0f1f22f49679cbad13947f5cb7c": {
     "model_module": "@jupyter-widgets/controls",
     "model_name": "HBoxModel",
     "state": {
      "_dom_classes": [],
      "_model_module": "@jupyter-widgets/controls",
      "_model_module_version": "1.5.0",
      "_model_name": "HBoxModel",
      "_view_count": null,
      "_view_module": "@jupyter-widgets/controls",
      "_view_module_version": "1.5.0",
      "_view_name": "HBoxView",
      "box_style": "",
      "children": [
       "IPY_MODEL_d8970aea2a4b4ffb912f9f6f80203fa4",
       "IPY_MODEL_89e49f6797274ab39691e09dce2e3e80"
      ],
      "layout": "IPY_MODEL_37837220782d4198a9df029af4f99f8c"
     }
    },
    "7de3482482ec4c9e9b40b0ca3baa623d": {
     "model_module": "@jupyter-widgets/base",
     "model_name": "LayoutModel",
     "state": {
      "_model_module": "@jupyter-widgets/base",
      "_model_module_version": "1.2.0",
      "_model_name": "LayoutModel",
      "_view_count": null,
      "_view_module": "@jupyter-widgets/base",
      "_view_module_version": "1.2.0",
      "_view_name": "LayoutView",
      "align_content": null,
      "align_items": null,
      "align_self": null,
      "border": null,
      "bottom": null,
      "display": null,
      "flex": null,
      "flex_flow": null,
      "grid_area": null,
      "grid_auto_columns": null,
      "grid_auto_flow": null,
      "grid_auto_rows": null,
      "grid_column": null,
      "grid_gap": null,
      "grid_row": null,
      "grid_template_areas": null,
      "grid_template_columns": null,
      "grid_template_rows": null,
      "height": null,
      "justify_content": null,
      "justify_items": null,
      "left": null,
      "margin": null,
      "max_height": null,
      "max_width": null,
      "min_height": null,
      "min_width": null,
      "object_fit": null,
      "object_position": null,
      "order": null,
      "overflow": null,
      "overflow_x": null,
      "overflow_y": null,
      "padding": null,
      "right": null,
      "top": null,
      "visibility": null,
      "width": null
     }
    },
    "7ebab9f26cbd4727b770a94e69d24ed4": {
     "model_module": "@jupyter-widgets/base",
     "model_name": "LayoutModel",
     "state": {
      "_model_module": "@jupyter-widgets/base",
      "_model_module_version": "1.2.0",
      "_model_name": "LayoutModel",
      "_view_count": null,
      "_view_module": "@jupyter-widgets/base",
      "_view_module_version": "1.2.0",
      "_view_name": "LayoutView",
      "align_content": null,
      "align_items": null,
      "align_self": null,
      "border": null,
      "bottom": null,
      "display": null,
      "flex": null,
      "flex_flow": null,
      "grid_area": null,
      "grid_auto_columns": null,
      "grid_auto_flow": null,
      "grid_auto_rows": null,
      "grid_column": null,
      "grid_gap": null,
      "grid_row": null,
      "grid_template_areas": null,
      "grid_template_columns": null,
      "grid_template_rows": null,
      "height": null,
      "justify_content": null,
      "justify_items": null,
      "left": null,
      "margin": null,
      "max_height": null,
      "max_width": null,
      "min_height": null,
      "min_width": null,
      "object_fit": null,
      "object_position": null,
      "order": null,
      "overflow": null,
      "overflow_x": null,
      "overflow_y": null,
      "padding": null,
      "right": null,
      "top": null,
      "visibility": null,
      "width": null
     }
    },
    "81b44c7c9cc1427f8c3a9ce3a8576497": {
     "model_module": "@jupyter-widgets/controls",
     "model_name": "DescriptionStyleModel",
     "state": {
      "_model_module": "@jupyter-widgets/controls",
      "_model_module_version": "1.5.0",
      "_model_name": "DescriptionStyleModel",
      "_view_count": null,
      "_view_module": "@jupyter-widgets/base",
      "_view_module_version": "1.2.0",
      "_view_name": "StyleView",
      "description_width": ""
     }
    },
    "8287bc1fb971497ab86b0f98e689f321": {
     "model_module": "@jupyter-widgets/base",
     "model_name": "LayoutModel",
     "state": {
      "_model_module": "@jupyter-widgets/base",
      "_model_module_version": "1.2.0",
      "_model_name": "LayoutModel",
      "_view_count": null,
      "_view_module": "@jupyter-widgets/base",
      "_view_module_version": "1.2.0",
      "_view_name": "LayoutView",
      "align_content": null,
      "align_items": null,
      "align_self": null,
      "border": null,
      "bottom": null,
      "display": null,
      "flex": null,
      "flex_flow": null,
      "grid_area": null,
      "grid_auto_columns": null,
      "grid_auto_flow": null,
      "grid_auto_rows": null,
      "grid_column": null,
      "grid_gap": null,
      "grid_row": null,
      "grid_template_areas": null,
      "grid_template_columns": null,
      "grid_template_rows": null,
      "height": null,
      "justify_content": null,
      "justify_items": null,
      "left": null,
      "margin": null,
      "max_height": null,
      "max_width": null,
      "min_height": null,
      "min_width": null,
      "object_fit": null,
      "object_position": null,
      "order": null,
      "overflow": null,
      "overflow_x": null,
      "overflow_y": null,
      "padding": null,
      "right": null,
      "top": null,
      "visibility": null,
      "width": null
     }
    },
    "83474f7ef1524163904ed109b0ecc1f9": {
     "model_module": "@jupyter-widgets/controls",
     "model_name": "DescriptionStyleModel",
     "state": {
      "_model_module": "@jupyter-widgets/controls",
      "_model_module_version": "1.5.0",
      "_model_name": "DescriptionStyleModel",
      "_view_count": null,
      "_view_module": "@jupyter-widgets/base",
      "_view_module_version": "1.2.0",
      "_view_name": "StyleView",
      "description_width": ""
     }
    },
    "84564a3141c040dab9630c569ca41a3b": {
     "model_module": "@jupyter-widgets/controls",
     "model_name": "HBoxModel",
     "state": {
      "_dom_classes": [],
      "_model_module": "@jupyter-widgets/controls",
      "_model_module_version": "1.5.0",
      "_model_name": "HBoxModel",
      "_view_count": null,
      "_view_module": "@jupyter-widgets/controls",
      "_view_module_version": "1.5.0",
      "_view_name": "HBoxView",
      "box_style": "",
      "children": [
       "IPY_MODEL_4de45db9138b48ada1fb17efc8ca29be",
       "IPY_MODEL_26c6cc2a5ee342138fe89e3389612926"
      ],
      "layout": "IPY_MODEL_8287bc1fb971497ab86b0f98e689f321"
     }
    },
    "869cea65a47940ecbd0c2304c1255460": {
     "model_module": "@jupyter-widgets/base",
     "model_name": "LayoutModel",
     "state": {
      "_model_module": "@jupyter-widgets/base",
      "_model_module_version": "1.2.0",
      "_model_name": "LayoutModel",
      "_view_count": null,
      "_view_module": "@jupyter-widgets/base",
      "_view_module_version": "1.2.0",
      "_view_name": "LayoutView",
      "align_content": null,
      "align_items": null,
      "align_self": null,
      "border": null,
      "bottom": null,
      "display": null,
      "flex": null,
      "flex_flow": null,
      "grid_area": null,
      "grid_auto_columns": null,
      "grid_auto_flow": null,
      "grid_auto_rows": null,
      "grid_column": null,
      "grid_gap": null,
      "grid_row": null,
      "grid_template_areas": null,
      "grid_template_columns": null,
      "grid_template_rows": null,
      "height": null,
      "justify_content": null,
      "justify_items": null,
      "left": null,
      "margin": null,
      "max_height": null,
      "max_width": null,
      "min_height": null,
      "min_width": null,
      "object_fit": null,
      "object_position": null,
      "order": null,
      "overflow": null,
      "overflow_x": null,
      "overflow_y": null,
      "padding": null,
      "right": null,
      "top": null,
      "visibility": null,
      "width": null
     }
    },
    "873c6d26f94c428394581b693867c171": {
     "model_module": "@jupyter-widgets/controls",
     "model_name": "ProgressStyleModel",
     "state": {
      "_model_module": "@jupyter-widgets/controls",
      "_model_module_version": "1.5.0",
      "_model_name": "ProgressStyleModel",
      "_view_count": null,
      "_view_module": "@jupyter-widgets/base",
      "_view_module_version": "1.2.0",
      "_view_name": "StyleView",
      "bar_color": null,
      "description_width": "initial"
     }
    },
    "883f75e7f8dd4fe68c918cba68be9222": {
     "model_module": "@jupyter-widgets/controls",
     "model_name": "HBoxModel",
     "state": {
      "_dom_classes": [],
      "_model_module": "@jupyter-widgets/controls",
      "_model_module_version": "1.5.0",
      "_model_name": "HBoxModel",
      "_view_count": null,
      "_view_module": "@jupyter-widgets/controls",
      "_view_module_version": "1.5.0",
      "_view_name": "HBoxView",
      "box_style": "",
      "children": [
       "IPY_MODEL_4b5031fca6af492ebd4df94a98f8f06f",
       "IPY_MODEL_1921efb87686492f98cba4c5c0e82dea"
      ],
      "layout": "IPY_MODEL_ee3c99ca196542b28ae722544af3e79e"
     }
    },
    "897a425a57bc46cb8c02b12d80da3e79": {
     "model_module": "@jupyter-widgets/controls",
     "model_name": "ProgressStyleModel",
     "state": {
      "_model_module": "@jupyter-widgets/controls",
      "_model_module_version": "1.5.0",
      "_model_name": "ProgressStyleModel",
      "_view_count": null,
      "_view_module": "@jupyter-widgets/base",
      "_view_module_version": "1.2.0",
      "_view_name": "StyleView",
      "bar_color": null,
      "description_width": "initial"
     }
    },
    "89cb209f707c430081352e3e00732d06": {
     "model_module": "@jupyter-widgets/controls",
     "model_name": "HBoxModel",
     "state": {
      "_dom_classes": [],
      "_model_module": "@jupyter-widgets/controls",
      "_model_module_version": "1.5.0",
      "_model_name": "HBoxModel",
      "_view_count": null,
      "_view_module": "@jupyter-widgets/controls",
      "_view_module_version": "1.5.0",
      "_view_name": "HBoxView",
      "box_style": "",
      "children": [
       "IPY_MODEL_30e2d1b343c24084ace63a1c3a171df9",
       "IPY_MODEL_ca336dd8fb1b4e0a9f6022f80f9f2da3"
      ],
      "layout": "IPY_MODEL_3ed879b29e6e4de6ab68059cdc48d13d"
     }
    },
    "89e49f6797274ab39691e09dce2e3e80": {
     "model_module": "@jupyter-widgets/controls",
     "model_name": "HTMLModel",
     "state": {
      "_dom_classes": [],
      "_model_module": "@jupyter-widgets/controls",
      "_model_module_version": "1.5.0",
      "_model_name": "HTMLModel",
      "_view_count": null,
      "_view_module": "@jupyter-widgets/controls",
      "_view_module_version": "1.5.0",
      "_view_name": "HTMLView",
      "description": "",
      "description_tooltip": null,
      "layout": "IPY_MODEL_4a261c5f4e90416296db0a68d7633076",
      "placeholder": "​",
      "style": "IPY_MODEL_9145b3b5e9744d8dbdd991ae219bddf0",
      "value": " 4/4 [29:27&lt;00:00, 441.79s/it]"
     }
    },
    "8adc41056b6f4d7690e90a728fd3d65c": {
     "model_module": "@jupyter-widgets/controls",
     "model_name": "DescriptionStyleModel",
     "state": {
      "_model_module": "@jupyter-widgets/controls",
      "_model_module_version": "1.5.0",
      "_model_name": "DescriptionStyleModel",
      "_view_count": null,
      "_view_module": "@jupyter-widgets/base",
      "_view_module_version": "1.2.0",
      "_view_name": "StyleView",
      "description_width": ""
     }
    },
    "8b33b44d156647f1afa6b2bc707a3e09": {
     "model_module": "@jupyter-widgets/controls",
     "model_name": "HTMLModel",
     "state": {
      "_dom_classes": [],
      "_model_module": "@jupyter-widgets/controls",
      "_model_module_version": "1.5.0",
      "_model_name": "HTMLModel",
      "_view_count": null,
      "_view_module": "@jupyter-widgets/controls",
      "_view_module_version": "1.5.0",
      "_view_name": "HTMLView",
      "description": "",
      "description_tooltip": null,
      "layout": "IPY_MODEL_e39cf69a21dc4e8998eb430522db6478",
      "placeholder": "​",
      "style": "IPY_MODEL_b4214dbf1c49455b93e6d8f73515328b",
      "value": " 2/2 [08:32&lt;00:00, 256.42s/it]"
     }
    },
    "8cab9de8ca184aeaad8e96fae631f22d": {
     "model_module": "@jupyter-widgets/controls",
     "model_name": "ProgressStyleModel",
     "state": {
      "_model_module": "@jupyter-widgets/controls",
      "_model_module_version": "1.5.0",
      "_model_name": "ProgressStyleModel",
      "_view_count": null,
      "_view_module": "@jupyter-widgets/base",
      "_view_module_version": "1.2.0",
      "_view_name": "StyleView",
      "bar_color": null,
      "description_width": "initial"
     }
    },
    "8d88b3662a4f4b46ab863453f0f8cde1": {
     "model_module": "@jupyter-widgets/controls",
     "model_name": "HBoxModel",
     "state": {
      "_dom_classes": [],
      "_model_module": "@jupyter-widgets/controls",
      "_model_module_version": "1.5.0",
      "_model_name": "HBoxModel",
      "_view_count": null,
      "_view_module": "@jupyter-widgets/controls",
      "_view_module_version": "1.5.0",
      "_view_name": "HBoxView",
      "box_style": "",
      "children": [
       "IPY_MODEL_6990af0fe1904778aa0190561185fe1c",
       "IPY_MODEL_6f4d48a536bb431eaa36a7aa1299de91"
      ],
      "layout": "IPY_MODEL_7d2856e28ac44763b52fd2d02f2498ea"
     }
    },
    "8e1069f1a7d344458c1a62d41d23441b": {
     "model_module": "@jupyter-widgets/controls",
     "model_name": "HBoxModel",
     "state": {
      "_dom_classes": [],
      "_model_module": "@jupyter-widgets/controls",
      "_model_module_version": "1.5.0",
      "_model_name": "HBoxModel",
      "_view_count": null,
      "_view_module": "@jupyter-widgets/controls",
      "_view_module_version": "1.5.0",
      "_view_name": "HBoxView",
      "box_style": "",
      "children": [
       "IPY_MODEL_ca722a487e74437a97d2e348eb6dcfbc",
       "IPY_MODEL_cdf5dba5568b455ca93d0631cb752f60"
      ],
      "layout": "IPY_MODEL_4e8517451f2a46e8bbb329645edeb061"
     }
    },
    "8e2f7fef50a24ce09f654ae007d7e8c6": {
     "model_module": "@jupyter-widgets/base",
     "model_name": "LayoutModel",
     "state": {
      "_model_module": "@jupyter-widgets/base",
      "_model_module_version": "1.2.0",
      "_model_name": "LayoutModel",
      "_view_count": null,
      "_view_module": "@jupyter-widgets/base",
      "_view_module_version": "1.2.0",
      "_view_name": "LayoutView",
      "align_content": null,
      "align_items": null,
      "align_self": null,
      "border": null,
      "bottom": null,
      "display": null,
      "flex": null,
      "flex_flow": null,
      "grid_area": null,
      "grid_auto_columns": null,
      "grid_auto_flow": null,
      "grid_auto_rows": null,
      "grid_column": null,
      "grid_gap": null,
      "grid_row": null,
      "grid_template_areas": null,
      "grid_template_columns": null,
      "grid_template_rows": null,
      "height": null,
      "justify_content": null,
      "justify_items": null,
      "left": null,
      "margin": null,
      "max_height": null,
      "max_width": null,
      "min_height": null,
      "min_width": null,
      "object_fit": null,
      "object_position": null,
      "order": null,
      "overflow": null,
      "overflow_x": null,
      "overflow_y": null,
      "padding": null,
      "right": null,
      "top": null,
      "visibility": null,
      "width": null
     }
    },
    "8fb39eabca004aa1a04f781684dc4143": {
     "model_module": "@jupyter-widgets/controls",
     "model_name": "ProgressStyleModel",
     "state": {
      "_model_module": "@jupyter-widgets/controls",
      "_model_module_version": "1.5.0",
      "_model_name": "ProgressStyleModel",
      "_view_count": null,
      "_view_module": "@jupyter-widgets/base",
      "_view_module_version": "1.2.0",
      "_view_name": "StyleView",
      "bar_color": null,
      "description_width": "initial"
     }
    },
    "8fbeb9742b184bffb7503babf7159c74": {
     "model_module": "@jupyter-widgets/controls",
     "model_name": "FloatProgressModel",
     "state": {
      "_dom_classes": [],
      "_model_module": "@jupyter-widgets/controls",
      "_model_module_version": "1.5.0",
      "_model_name": "FloatProgressModel",
      "_view_count": null,
      "_view_module": "@jupyter-widgets/controls",
      "_view_module_version": "1.5.0",
      "_view_name": "ProgressView",
      "bar_style": "success",
      "description": "100%",
      "description_tooltip": null,
      "layout": "IPY_MODEL_3f689f273c2a4627b190f0beb335c20d",
      "max": 2,
      "min": 0,
      "orientation": "horizontal",
      "style": "IPY_MODEL_6f1fad39153b4f48b3b194a16b35d5b1",
      "value": 2
     }
    },
    "912dd009461c4fc3b7dea07e1f1c84b1": {
     "model_module": "@jupyter-widgets/controls",
     "model_name": "HBoxModel",
     "state": {
      "_dom_classes": [],
      "_model_module": "@jupyter-widgets/controls",
      "_model_module_version": "1.5.0",
      "_model_name": "HBoxModel",
      "_view_count": null,
      "_view_module": "@jupyter-widgets/controls",
      "_view_module_version": "1.5.0",
      "_view_name": "HBoxView",
      "box_style": "",
      "children": [
       "IPY_MODEL_5cf3a9206d374c0aae8a5cf3457fe923",
       "IPY_MODEL_44785ac878974081b9032147f70b49f6"
      ],
      "layout": "IPY_MODEL_cbb3e7c0805447ea8019e152e7f8573c"
     }
    },
    "9145b3b5e9744d8dbdd991ae219bddf0": {
     "model_module": "@jupyter-widgets/controls",
     "model_name": "DescriptionStyleModel",
     "state": {
      "_model_module": "@jupyter-widgets/controls",
      "_model_module_version": "1.5.0",
      "_model_name": "DescriptionStyleModel",
      "_view_count": null,
      "_view_module": "@jupyter-widgets/base",
      "_view_module_version": "1.2.0",
      "_view_name": "StyleView",
      "description_width": ""
     }
    },
    "933ab7d39a844870961cc75e59dd6c6f": {
     "model_module": "@jupyter-widgets/base",
     "model_name": "LayoutModel",
     "state": {
      "_model_module": "@jupyter-widgets/base",
      "_model_module_version": "1.2.0",
      "_model_name": "LayoutModel",
      "_view_count": null,
      "_view_module": "@jupyter-widgets/base",
      "_view_module_version": "1.2.0",
      "_view_name": "LayoutView",
      "align_content": null,
      "align_items": null,
      "align_self": null,
      "border": null,
      "bottom": null,
      "display": null,
      "flex": null,
      "flex_flow": null,
      "grid_area": null,
      "grid_auto_columns": null,
      "grid_auto_flow": null,
      "grid_auto_rows": null,
      "grid_column": null,
      "grid_gap": null,
      "grid_row": null,
      "grid_template_areas": null,
      "grid_template_columns": null,
      "grid_template_rows": null,
      "height": null,
      "justify_content": null,
      "justify_items": null,
      "left": null,
      "margin": null,
      "max_height": null,
      "max_width": null,
      "min_height": null,
      "min_width": null,
      "object_fit": null,
      "object_position": null,
      "order": null,
      "overflow": null,
      "overflow_x": null,
      "overflow_y": null,
      "padding": null,
      "right": null,
      "top": null,
      "visibility": null,
      "width": null
     }
    },
    "93ddd23f07914faeaa29afeef504c053": {
     "model_module": "@jupyter-widgets/controls",
     "model_name": "HBoxModel",
     "state": {
      "_dom_classes": [],
      "_model_module": "@jupyter-widgets/controls",
      "_model_module_version": "1.5.0",
      "_model_name": "HBoxModel",
      "_view_count": null,
      "_view_module": "@jupyter-widgets/controls",
      "_view_module_version": "1.5.0",
      "_view_name": "HBoxView",
      "box_style": "",
      "children": [
       "IPY_MODEL_d8318e6c8ed944cdbb772676c7b91ceb",
       "IPY_MODEL_7b99a09546ca45c182b4c0fa42a930c6"
      ],
      "layout": "IPY_MODEL_6e67f653177240cd83fb669e3c142761"
     }
    },
    "93f31dec19ae409d9bb8a39c1e9d1358": {
     "model_module": "@jupyter-widgets/controls",
     "model_name": "FloatProgressModel",
     "state": {
      "_dom_classes": [],
      "_model_module": "@jupyter-widgets/controls",
      "_model_module_version": "1.5.0",
      "_model_name": "FloatProgressModel",
      "_view_count": null,
      "_view_module": "@jupyter-widgets/controls",
      "_view_module_version": "1.5.0",
      "_view_name": "ProgressView",
      "bar_style": "success",
      "description": "100%",
      "description_tooltip": null,
      "layout": "IPY_MODEL_c17e09d1b9a94b8cb498fa9e4c7e315b",
      "max": 3,
      "min": 0,
      "orientation": "horizontal",
      "style": "IPY_MODEL_8cab9de8ca184aeaad8e96fae631f22d",
      "value": 3
     }
    },
    "97f55a99a8174832b1e7a169d4d7721f": {
     "model_module": "@jupyter-widgets/base",
     "model_name": "LayoutModel",
     "state": {
      "_model_module": "@jupyter-widgets/base",
      "_model_module_version": "1.2.0",
      "_model_name": "LayoutModel",
      "_view_count": null,
      "_view_module": "@jupyter-widgets/base",
      "_view_module_version": "1.2.0",
      "_view_name": "LayoutView",
      "align_content": null,
      "align_items": null,
      "align_self": null,
      "border": null,
      "bottom": null,
      "display": null,
      "flex": null,
      "flex_flow": null,
      "grid_area": null,
      "grid_auto_columns": null,
      "grid_auto_flow": null,
      "grid_auto_rows": null,
      "grid_column": null,
      "grid_gap": null,
      "grid_row": null,
      "grid_template_areas": null,
      "grid_template_columns": null,
      "grid_template_rows": null,
      "height": null,
      "justify_content": null,
      "justify_items": null,
      "left": null,
      "margin": null,
      "max_height": null,
      "max_width": null,
      "min_height": null,
      "min_width": null,
      "object_fit": null,
      "object_position": null,
      "order": null,
      "overflow": null,
      "overflow_x": null,
      "overflow_y": null,
      "padding": null,
      "right": null,
      "top": null,
      "visibility": null,
      "width": null
     }
    },
    "981ed93b383e451ab6f7bb7a5d139782": {
     "model_module": "@jupyter-widgets/controls",
     "model_name": "FloatProgressModel",
     "state": {
      "_dom_classes": [],
      "_model_module": "@jupyter-widgets/controls",
      "_model_module_version": "1.5.0",
      "_model_name": "FloatProgressModel",
      "_view_count": null,
      "_view_module": "@jupyter-widgets/controls",
      "_view_module_version": "1.5.0",
      "_view_name": "ProgressView",
      "bar_style": "success",
      "description": "100%",
      "description_tooltip": null,
      "layout": "IPY_MODEL_529f9bb1605441fbbdf69f011be2b0ed",
      "max": 4,
      "min": 0,
      "orientation": "horizontal",
      "style": "IPY_MODEL_d27e82414a174910b8673e29c129253a",
      "value": 4
     }
    },
    "9d89b460b7494ac19d383eba488782eb": {
     "model_module": "@jupyter-widgets/controls",
     "model_name": "ProgressStyleModel",
     "state": {
      "_model_module": "@jupyter-widgets/controls",
      "_model_module_version": "1.5.0",
      "_model_name": "ProgressStyleModel",
      "_view_count": null,
      "_view_module": "@jupyter-widgets/base",
      "_view_module_version": "1.2.0",
      "_view_name": "StyleView",
      "bar_color": null,
      "description_width": "initial"
     }
    },
    "9dc4f0a62f1d4534ae2306d9a704ed50": {
     "model_module": "@jupyter-widgets/base",
     "model_name": "LayoutModel",
     "state": {
      "_model_module": "@jupyter-widgets/base",
      "_model_module_version": "1.2.0",
      "_model_name": "LayoutModel",
      "_view_count": null,
      "_view_module": "@jupyter-widgets/base",
      "_view_module_version": "1.2.0",
      "_view_name": "LayoutView",
      "align_content": null,
      "align_items": null,
      "align_self": null,
      "border": null,
      "bottom": null,
      "display": null,
      "flex": null,
      "flex_flow": null,
      "grid_area": null,
      "grid_auto_columns": null,
      "grid_auto_flow": null,
      "grid_auto_rows": null,
      "grid_column": null,
      "grid_gap": null,
      "grid_row": null,
      "grid_template_areas": null,
      "grid_template_columns": null,
      "grid_template_rows": null,
      "height": null,
      "justify_content": null,
      "justify_items": null,
      "left": null,
      "margin": null,
      "max_height": null,
      "max_width": null,
      "min_height": null,
      "min_width": null,
      "object_fit": null,
      "object_position": null,
      "order": null,
      "overflow": null,
      "overflow_x": null,
      "overflow_y": null,
      "padding": null,
      "right": null,
      "top": null,
      "visibility": null,
      "width": null
     }
    },
    "9dfc9bbe53f94ccd9a1e5abac98570b7": {
     "model_module": "@jupyter-widgets/controls",
     "model_name": "DescriptionStyleModel",
     "state": {
      "_model_module": "@jupyter-widgets/controls",
      "_model_module_version": "1.5.0",
      "_model_name": "DescriptionStyleModel",
      "_view_count": null,
      "_view_module": "@jupyter-widgets/base",
      "_view_module_version": "1.2.0",
      "_view_name": "StyleView",
      "description_width": ""
     }
    },
    "9e256d5db0614263bc78dee8e56d81d5": {
     "model_module": "@jupyter-widgets/controls",
     "model_name": "DescriptionStyleModel",
     "state": {
      "_model_module": "@jupyter-widgets/controls",
      "_model_module_version": "1.5.0",
      "_model_name": "DescriptionStyleModel",
      "_view_count": null,
      "_view_module": "@jupyter-widgets/base",
      "_view_module_version": "1.2.0",
      "_view_name": "StyleView",
      "description_width": ""
     }
    },
    "9e7951eaac174e8f999f095baf9aa365": {
     "model_module": "@jupyter-widgets/controls",
     "model_name": "HBoxModel",
     "state": {
      "_dom_classes": [],
      "_model_module": "@jupyter-widgets/controls",
      "_model_module_version": "1.5.0",
      "_model_name": "HBoxModel",
      "_view_count": null,
      "_view_module": "@jupyter-widgets/controls",
      "_view_module_version": "1.5.0",
      "_view_name": "HBoxView",
      "box_style": "",
      "children": [
       "IPY_MODEL_ef7cbbc93507473483226148b1edb9de",
       "IPY_MODEL_49907b2ae1874b1f86c0b72bafd0081e"
      ],
      "layout": "IPY_MODEL_e7a1238776ec41c698421206dc7ede68"
     }
    },
    "9eb68296a4074e8f9d212cfe1c2191c0": {
     "model_module": "@jupyter-widgets/controls",
     "model_name": "HTMLModel",
     "state": {
      "_dom_classes": [],
      "_model_module": "@jupyter-widgets/controls",
      "_model_module_version": "1.5.0",
      "_model_name": "HTMLModel",
      "_view_count": null,
      "_view_module": "@jupyter-widgets/controls",
      "_view_module_version": "1.5.0",
      "_view_name": "HTMLView",
      "description": "",
      "description_tooltip": null,
      "layout": "IPY_MODEL_22b90d8ff6e44012b48ef5eef7df3d64",
      "placeholder": "​",
      "style": "IPY_MODEL_331d7202414545ca84c0d96b290c8584",
      "value": " 2/2 [17:58&lt;00:00, 539.08s/it]"
     }
    },
    "9f4e5e72f44847e6ab8fed35d8c3cff5": {
     "model_module": "@jupyter-widgets/controls",
     "model_name": "FloatProgressModel",
     "state": {
      "_dom_classes": [],
      "_model_module": "@jupyter-widgets/controls",
      "_model_module_version": "1.5.0",
      "_model_name": "FloatProgressModel",
      "_view_count": null,
      "_view_module": "@jupyter-widgets/controls",
      "_view_module_version": "1.5.0",
      "_view_name": "ProgressView",
      "bar_style": "success",
      "description": "100%",
      "description_tooltip": null,
      "layout": "IPY_MODEL_c5bb74aa00aa4892a3c664d48fafebf9",
      "max": 4,
      "min": 0,
      "orientation": "horizontal",
      "style": "IPY_MODEL_f24667c1186340ab979ddba4d0c534aa",
      "value": 4
     }
    },
    "a001f21cb0de4548b29a307b5f9295f9": {
     "model_module": "@jupyter-widgets/base",
     "model_name": "LayoutModel",
     "state": {
      "_model_module": "@jupyter-widgets/base",
      "_model_module_version": "1.2.0",
      "_model_name": "LayoutModel",
      "_view_count": null,
      "_view_module": "@jupyter-widgets/base",
      "_view_module_version": "1.2.0",
      "_view_name": "LayoutView",
      "align_content": null,
      "align_items": null,
      "align_self": null,
      "border": null,
      "bottom": null,
      "display": null,
      "flex": null,
      "flex_flow": null,
      "grid_area": null,
      "grid_auto_columns": null,
      "grid_auto_flow": null,
      "grid_auto_rows": null,
      "grid_column": null,
      "grid_gap": null,
      "grid_row": null,
      "grid_template_areas": null,
      "grid_template_columns": null,
      "grid_template_rows": null,
      "height": null,
      "justify_content": null,
      "justify_items": null,
      "left": null,
      "margin": null,
      "max_height": null,
      "max_width": null,
      "min_height": null,
      "min_width": null,
      "object_fit": null,
      "object_position": null,
      "order": null,
      "overflow": null,
      "overflow_x": null,
      "overflow_y": null,
      "padding": null,
      "right": null,
      "top": null,
      "visibility": null,
      "width": null
     }
    },
    "a289ad84b5084dd7950fd56ab69e2b10": {
     "model_module": "@jupyter-widgets/base",
     "model_name": "LayoutModel",
     "state": {
      "_model_module": "@jupyter-widgets/base",
      "_model_module_version": "1.2.0",
      "_model_name": "LayoutModel",
      "_view_count": null,
      "_view_module": "@jupyter-widgets/base",
      "_view_module_version": "1.2.0",
      "_view_name": "LayoutView",
      "align_content": null,
      "align_items": null,
      "align_self": null,
      "border": null,
      "bottom": null,
      "display": null,
      "flex": null,
      "flex_flow": null,
      "grid_area": null,
      "grid_auto_columns": null,
      "grid_auto_flow": null,
      "grid_auto_rows": null,
      "grid_column": null,
      "grid_gap": null,
      "grid_row": null,
      "grid_template_areas": null,
      "grid_template_columns": null,
      "grid_template_rows": null,
      "height": null,
      "justify_content": null,
      "justify_items": null,
      "left": null,
      "margin": null,
      "max_height": null,
      "max_width": null,
      "min_height": null,
      "min_width": null,
      "object_fit": null,
      "object_position": null,
      "order": null,
      "overflow": null,
      "overflow_x": null,
      "overflow_y": null,
      "padding": null,
      "right": null,
      "top": null,
      "visibility": null,
      "width": null
     }
    },
    "a38abd9e5b9b46a6904d3ef7d426abd3": {
     "model_module": "@jupyter-widgets/controls",
     "model_name": "HTMLModel",
     "state": {
      "_dom_classes": [],
      "_model_module": "@jupyter-widgets/controls",
      "_model_module_version": "1.5.0",
      "_model_name": "HTMLModel",
      "_view_count": null,
      "_view_module": "@jupyter-widgets/controls",
      "_view_module_version": "1.5.0",
      "_view_name": "HTMLView",
      "description": "",
      "description_tooltip": null,
      "layout": "IPY_MODEL_ff49b099ea744e96ae7588874fab1c88",
      "placeholder": "​",
      "style": "IPY_MODEL_81b44c7c9cc1427f8c3a9ce3a8576497",
      "value": " 2/2 [1:04:53&lt;00:00, 1946.60s/it]"
     }
    },
    "a3c139fcf6324d469da6c8d792432b9c": {
     "model_module": "@jupyter-widgets/base",
     "model_name": "LayoutModel",
     "state": {
      "_model_module": "@jupyter-widgets/base",
      "_model_module_version": "1.2.0",
      "_model_name": "LayoutModel",
      "_view_count": null,
      "_view_module": "@jupyter-widgets/base",
      "_view_module_version": "1.2.0",
      "_view_name": "LayoutView",
      "align_content": null,
      "align_items": null,
      "align_self": null,
      "border": null,
      "bottom": null,
      "display": null,
      "flex": null,
      "flex_flow": null,
      "grid_area": null,
      "grid_auto_columns": null,
      "grid_auto_flow": null,
      "grid_auto_rows": null,
      "grid_column": null,
      "grid_gap": null,
      "grid_row": null,
      "grid_template_areas": null,
      "grid_template_columns": null,
      "grid_template_rows": null,
      "height": null,
      "justify_content": null,
      "justify_items": null,
      "left": null,
      "margin": null,
      "max_height": null,
      "max_width": null,
      "min_height": null,
      "min_width": null,
      "object_fit": null,
      "object_position": null,
      "order": null,
      "overflow": null,
      "overflow_x": null,
      "overflow_y": null,
      "padding": null,
      "right": null,
      "top": null,
      "visibility": null,
      "width": null
     }
    },
    "a3c2ac8bd2f74bc89be868aa51fc0019": {
     "model_module": "@jupyter-widgets/controls",
     "model_name": "ProgressStyleModel",
     "state": {
      "_model_module": "@jupyter-widgets/controls",
      "_model_module_version": "1.5.0",
      "_model_name": "ProgressStyleModel",
      "_view_count": null,
      "_view_module": "@jupyter-widgets/base",
      "_view_module_version": "1.2.0",
      "_view_name": "StyleView",
      "bar_color": null,
      "description_width": "initial"
     }
    },
    "a43a857e7c8f450f9aef825b9403bf92": {
     "model_module": "@jupyter-widgets/controls",
     "model_name": "DescriptionStyleModel",
     "state": {
      "_model_module": "@jupyter-widgets/controls",
      "_model_module_version": "1.5.0",
      "_model_name": "DescriptionStyleModel",
      "_view_count": null,
      "_view_module": "@jupyter-widgets/base",
      "_view_module_version": "1.2.0",
      "_view_name": "StyleView",
      "description_width": ""
     }
    },
    "a53e571ebdd54dd1ac6daae4b728f7e5": {
     "model_module": "@jupyter-widgets/base",
     "model_name": "LayoutModel",
     "state": {
      "_model_module": "@jupyter-widgets/base",
      "_model_module_version": "1.2.0",
      "_model_name": "LayoutModel",
      "_view_count": null,
      "_view_module": "@jupyter-widgets/base",
      "_view_module_version": "1.2.0",
      "_view_name": "LayoutView",
      "align_content": null,
      "align_items": null,
      "align_self": null,
      "border": null,
      "bottom": null,
      "display": null,
      "flex": null,
      "flex_flow": null,
      "grid_area": null,
      "grid_auto_columns": null,
      "grid_auto_flow": null,
      "grid_auto_rows": null,
      "grid_column": null,
      "grid_gap": null,
      "grid_row": null,
      "grid_template_areas": null,
      "grid_template_columns": null,
      "grid_template_rows": null,
      "height": null,
      "justify_content": null,
      "justify_items": null,
      "left": null,
      "margin": null,
      "max_height": null,
      "max_width": null,
      "min_height": null,
      "min_width": null,
      "object_fit": null,
      "object_position": null,
      "order": null,
      "overflow": null,
      "overflow_x": null,
      "overflow_y": null,
      "padding": null,
      "right": null,
      "top": null,
      "visibility": null,
      "width": null
     }
    },
    "a5ce35c413e94f9e8c3d29cb9f3a1a1a": {
     "model_module": "@jupyter-widgets/base",
     "model_name": "LayoutModel",
     "state": {
      "_model_module": "@jupyter-widgets/base",
      "_model_module_version": "1.2.0",
      "_model_name": "LayoutModel",
      "_view_count": null,
      "_view_module": "@jupyter-widgets/base",
      "_view_module_version": "1.2.0",
      "_view_name": "LayoutView",
      "align_content": null,
      "align_items": null,
      "align_self": null,
      "border": null,
      "bottom": null,
      "display": null,
      "flex": null,
      "flex_flow": null,
      "grid_area": null,
      "grid_auto_columns": null,
      "grid_auto_flow": null,
      "grid_auto_rows": null,
      "grid_column": null,
      "grid_gap": null,
      "grid_row": null,
      "grid_template_areas": null,
      "grid_template_columns": null,
      "grid_template_rows": null,
      "height": null,
      "justify_content": null,
      "justify_items": null,
      "left": null,
      "margin": null,
      "max_height": null,
      "max_width": null,
      "min_height": null,
      "min_width": null,
      "object_fit": null,
      "object_position": null,
      "order": null,
      "overflow": null,
      "overflow_x": null,
      "overflow_y": null,
      "padding": null,
      "right": null,
      "top": null,
      "visibility": null,
      "width": null
     }
    },
    "a640337699f54434800b8518ce3d56c4": {
     "model_module": "@jupyter-widgets/base",
     "model_name": "LayoutModel",
     "state": {
      "_model_module": "@jupyter-widgets/base",
      "_model_module_version": "1.2.0",
      "_model_name": "LayoutModel",
      "_view_count": null,
      "_view_module": "@jupyter-widgets/base",
      "_view_module_version": "1.2.0",
      "_view_name": "LayoutView",
      "align_content": null,
      "align_items": null,
      "align_self": null,
      "border": null,
      "bottom": null,
      "display": null,
      "flex": null,
      "flex_flow": null,
      "grid_area": null,
      "grid_auto_columns": null,
      "grid_auto_flow": null,
      "grid_auto_rows": null,
      "grid_column": null,
      "grid_gap": null,
      "grid_row": null,
      "grid_template_areas": null,
      "grid_template_columns": null,
      "grid_template_rows": null,
      "height": null,
      "justify_content": null,
      "justify_items": null,
      "left": null,
      "margin": null,
      "max_height": null,
      "max_width": null,
      "min_height": null,
      "min_width": null,
      "object_fit": null,
      "object_position": null,
      "order": null,
      "overflow": null,
      "overflow_x": null,
      "overflow_y": null,
      "padding": null,
      "right": null,
      "top": null,
      "visibility": null,
      "width": null
     }
    },
    "a69604a4751a4690befa15f618a48f75": {
     "model_module": "@jupyter-widgets/controls",
     "model_name": "ProgressStyleModel",
     "state": {
      "_model_module": "@jupyter-widgets/controls",
      "_model_module_version": "1.5.0",
      "_model_name": "ProgressStyleModel",
      "_view_count": null,
      "_view_module": "@jupyter-widgets/base",
      "_view_module_version": "1.2.0",
      "_view_name": "StyleView",
      "bar_color": null,
      "description_width": "initial"
     }
    },
    "a99a382e700f4310ab026c6bbcbb41a0": {
     "model_module": "@jupyter-widgets/controls",
     "model_name": "DescriptionStyleModel",
     "state": {
      "_model_module": "@jupyter-widgets/controls",
      "_model_module_version": "1.5.0",
      "_model_name": "DescriptionStyleModel",
      "_view_count": null,
      "_view_module": "@jupyter-widgets/base",
      "_view_module_version": "1.2.0",
      "_view_name": "StyleView",
      "description_width": ""
     }
    },
    "acb9191bf4674878b9590e4ccc4f9509": {
     "model_module": "@jupyter-widgets/controls",
     "model_name": "ProgressStyleModel",
     "state": {
      "_model_module": "@jupyter-widgets/controls",
      "_model_module_version": "1.5.0",
      "_model_name": "ProgressStyleModel",
      "_view_count": null,
      "_view_module": "@jupyter-widgets/base",
      "_view_module_version": "1.2.0",
      "_view_name": "StyleView",
      "bar_color": null,
      "description_width": "initial"
     }
    },
    "ad054a925dd1453499f54e0ba499f2a4": {
     "model_module": "@jupyter-widgets/base",
     "model_name": "LayoutModel",
     "state": {
      "_model_module": "@jupyter-widgets/base",
      "_model_module_version": "1.2.0",
      "_model_name": "LayoutModel",
      "_view_count": null,
      "_view_module": "@jupyter-widgets/base",
      "_view_module_version": "1.2.0",
      "_view_name": "LayoutView",
      "align_content": null,
      "align_items": null,
      "align_self": null,
      "border": null,
      "bottom": null,
      "display": null,
      "flex": null,
      "flex_flow": null,
      "grid_area": null,
      "grid_auto_columns": null,
      "grid_auto_flow": null,
      "grid_auto_rows": null,
      "grid_column": null,
      "grid_gap": null,
      "grid_row": null,
      "grid_template_areas": null,
      "grid_template_columns": null,
      "grid_template_rows": null,
      "height": null,
      "justify_content": null,
      "justify_items": null,
      "left": null,
      "margin": null,
      "max_height": null,
      "max_width": null,
      "min_height": null,
      "min_width": null,
      "object_fit": null,
      "object_position": null,
      "order": null,
      "overflow": null,
      "overflow_x": null,
      "overflow_y": null,
      "padding": null,
      "right": null,
      "top": null,
      "visibility": null,
      "width": null
     }
    },
    "afc4a335626a4f98b9f66132a01e37b1": {
     "model_module": "@jupyter-widgets/controls",
     "model_name": "DescriptionStyleModel",
     "state": {
      "_model_module": "@jupyter-widgets/controls",
      "_model_module_version": "1.5.0",
      "_model_name": "DescriptionStyleModel",
      "_view_count": null,
      "_view_module": "@jupyter-widgets/base",
      "_view_module_version": "1.2.0",
      "_view_name": "StyleView",
      "description_width": ""
     }
    },
    "b116fc46b08549b4bf41f55b2301791f": {
     "model_module": "@jupyter-widgets/controls",
     "model_name": "FloatProgressModel",
     "state": {
      "_dom_classes": [],
      "_model_module": "@jupyter-widgets/controls",
      "_model_module_version": "1.5.0",
      "_model_name": "FloatProgressModel",
      "_view_count": null,
      "_view_module": "@jupyter-widgets/controls",
      "_view_module_version": "1.5.0",
      "_view_name": "ProgressView",
      "bar_style": "success",
      "description": "100%",
      "description_tooltip": null,
      "layout": "IPY_MODEL_cfafed50a4164af998710db96cdcf345",
      "max": 5,
      "min": 0,
      "orientation": "horizontal",
      "style": "IPY_MODEL_a69604a4751a4690befa15f618a48f75",
      "value": 5
     }
    },
    "b382c1acecfd448ea2db2d24cd66a57a": {
     "model_module": "@jupyter-widgets/base",
     "model_name": "LayoutModel",
     "state": {
      "_model_module": "@jupyter-widgets/base",
      "_model_module_version": "1.2.0",
      "_model_name": "LayoutModel",
      "_view_count": null,
      "_view_module": "@jupyter-widgets/base",
      "_view_module_version": "1.2.0",
      "_view_name": "LayoutView",
      "align_content": null,
      "align_items": null,
      "align_self": null,
      "border": null,
      "bottom": null,
      "display": null,
      "flex": null,
      "flex_flow": null,
      "grid_area": null,
      "grid_auto_columns": null,
      "grid_auto_flow": null,
      "grid_auto_rows": null,
      "grid_column": null,
      "grid_gap": null,
      "grid_row": null,
      "grid_template_areas": null,
      "grid_template_columns": null,
      "grid_template_rows": null,
      "height": null,
      "justify_content": null,
      "justify_items": null,
      "left": null,
      "margin": null,
      "max_height": null,
      "max_width": null,
      "min_height": null,
      "min_width": null,
      "object_fit": null,
      "object_position": null,
      "order": null,
      "overflow": null,
      "overflow_x": null,
      "overflow_y": null,
      "padding": null,
      "right": null,
      "top": null,
      "visibility": null,
      "width": null
     }
    },
    "b4214dbf1c49455b93e6d8f73515328b": {
     "model_module": "@jupyter-widgets/controls",
     "model_name": "DescriptionStyleModel",
     "state": {
      "_model_module": "@jupyter-widgets/controls",
      "_model_module_version": "1.5.0",
      "_model_name": "DescriptionStyleModel",
      "_view_count": null,
      "_view_module": "@jupyter-widgets/base",
      "_view_module_version": "1.2.0",
      "_view_name": "StyleView",
      "description_width": ""
     }
    },
    "b652b70524cc4433a4eec893654c0aa2": {
     "model_module": "@jupyter-widgets/base",
     "model_name": "LayoutModel",
     "state": {
      "_model_module": "@jupyter-widgets/base",
      "_model_module_version": "1.2.0",
      "_model_name": "LayoutModel",
      "_view_count": null,
      "_view_module": "@jupyter-widgets/base",
      "_view_module_version": "1.2.0",
      "_view_name": "LayoutView",
      "align_content": null,
      "align_items": null,
      "align_self": null,
      "border": null,
      "bottom": null,
      "display": null,
      "flex": null,
      "flex_flow": null,
      "grid_area": null,
      "grid_auto_columns": null,
      "grid_auto_flow": null,
      "grid_auto_rows": null,
      "grid_column": null,
      "grid_gap": null,
      "grid_row": null,
      "grid_template_areas": null,
      "grid_template_columns": null,
      "grid_template_rows": null,
      "height": null,
      "justify_content": null,
      "justify_items": null,
      "left": null,
      "margin": null,
      "max_height": null,
      "max_width": null,
      "min_height": null,
      "min_width": null,
      "object_fit": null,
      "object_position": null,
      "order": null,
      "overflow": null,
      "overflow_x": null,
      "overflow_y": null,
      "padding": null,
      "right": null,
      "top": null,
      "visibility": null,
      "width": null
     }
    },
    "b70b93a01db5419da2815b901e943ed7": {
     "model_module": "@jupyter-widgets/base",
     "model_name": "LayoutModel",
     "state": {
      "_model_module": "@jupyter-widgets/base",
      "_model_module_version": "1.2.0",
      "_model_name": "LayoutModel",
      "_view_count": null,
      "_view_module": "@jupyter-widgets/base",
      "_view_module_version": "1.2.0",
      "_view_name": "LayoutView",
      "align_content": null,
      "align_items": null,
      "align_self": null,
      "border": null,
      "bottom": null,
      "display": null,
      "flex": null,
      "flex_flow": null,
      "grid_area": null,
      "grid_auto_columns": null,
      "grid_auto_flow": null,
      "grid_auto_rows": null,
      "grid_column": null,
      "grid_gap": null,
      "grid_row": null,
      "grid_template_areas": null,
      "grid_template_columns": null,
      "grid_template_rows": null,
      "height": null,
      "justify_content": null,
      "justify_items": null,
      "left": null,
      "margin": null,
      "max_height": null,
      "max_width": null,
      "min_height": null,
      "min_width": null,
      "object_fit": null,
      "object_position": null,
      "order": null,
      "overflow": null,
      "overflow_x": null,
      "overflow_y": null,
      "padding": null,
      "right": null,
      "top": null,
      "visibility": null,
      "width": null
     }
    },
    "b7d12b9755994373bab690904fb283f9": {
     "model_module": "@jupyter-widgets/base",
     "model_name": "LayoutModel",
     "state": {
      "_model_module": "@jupyter-widgets/base",
      "_model_module_version": "1.2.0",
      "_model_name": "LayoutModel",
      "_view_count": null,
      "_view_module": "@jupyter-widgets/base",
      "_view_module_version": "1.2.0",
      "_view_name": "LayoutView",
      "align_content": null,
      "align_items": null,
      "align_self": null,
      "border": null,
      "bottom": null,
      "display": null,
      "flex": null,
      "flex_flow": null,
      "grid_area": null,
      "grid_auto_columns": null,
      "grid_auto_flow": null,
      "grid_auto_rows": null,
      "grid_column": null,
      "grid_gap": null,
      "grid_row": null,
      "grid_template_areas": null,
      "grid_template_columns": null,
      "grid_template_rows": null,
      "height": null,
      "justify_content": null,
      "justify_items": null,
      "left": null,
      "margin": null,
      "max_height": null,
      "max_width": null,
      "min_height": null,
      "min_width": null,
      "object_fit": null,
      "object_position": null,
      "order": null,
      "overflow": null,
      "overflow_x": null,
      "overflow_y": null,
      "padding": null,
      "right": null,
      "top": null,
      "visibility": null,
      "width": null
     }
    },
    "b7f30a6064924ed08f992ac019ce94dd": {
     "model_module": "@jupyter-widgets/base",
     "model_name": "LayoutModel",
     "state": {
      "_model_module": "@jupyter-widgets/base",
      "_model_module_version": "1.2.0",
      "_model_name": "LayoutModel",
      "_view_count": null,
      "_view_module": "@jupyter-widgets/base",
      "_view_module_version": "1.2.0",
      "_view_name": "LayoutView",
      "align_content": null,
      "align_items": null,
      "align_self": null,
      "border": null,
      "bottom": null,
      "display": null,
      "flex": null,
      "flex_flow": null,
      "grid_area": null,
      "grid_auto_columns": null,
      "grid_auto_flow": null,
      "grid_auto_rows": null,
      "grid_column": null,
      "grid_gap": null,
      "grid_row": null,
      "grid_template_areas": null,
      "grid_template_columns": null,
      "grid_template_rows": null,
      "height": null,
      "justify_content": null,
      "justify_items": null,
      "left": null,
      "margin": null,
      "max_height": null,
      "max_width": null,
      "min_height": null,
      "min_width": null,
      "object_fit": null,
      "object_position": null,
      "order": null,
      "overflow": null,
      "overflow_x": null,
      "overflow_y": null,
      "padding": null,
      "right": null,
      "top": null,
      "visibility": null,
      "width": null
     }
    },
    "b807a67f0a6d42dda427e24e5809bc07": {
     "model_module": "@jupyter-widgets/controls",
     "model_name": "HTMLModel",
     "state": {
      "_dom_classes": [],
      "_model_module": "@jupyter-widgets/controls",
      "_model_module_version": "1.5.0",
      "_model_name": "HTMLModel",
      "_view_count": null,
      "_view_module": "@jupyter-widgets/controls",
      "_view_module_version": "1.5.0",
      "_view_name": "HTMLView",
      "description": "",
      "description_tooltip": null,
      "layout": "IPY_MODEL_f120dc281176468aac4d436efffbd66d",
      "placeholder": "​",
      "style": "IPY_MODEL_e7911907a8194c809f2f7caade3ca8f8",
      "value": " 2/2 [1:40:01&lt;00:00, 3000.91s/it]"
     }
    },
    "b82b2ebd6aa54f498f8d2cd8d98b52ee": {
     "model_module": "@jupyter-widgets/base",
     "model_name": "LayoutModel",
     "state": {
      "_model_module": "@jupyter-widgets/base",
      "_model_module_version": "1.2.0",
      "_model_name": "LayoutModel",
      "_view_count": null,
      "_view_module": "@jupyter-widgets/base",
      "_view_module_version": "1.2.0",
      "_view_name": "LayoutView",
      "align_content": null,
      "align_items": null,
      "align_self": null,
      "border": null,
      "bottom": null,
      "display": null,
      "flex": null,
      "flex_flow": null,
      "grid_area": null,
      "grid_auto_columns": null,
      "grid_auto_flow": null,
      "grid_auto_rows": null,
      "grid_column": null,
      "grid_gap": null,
      "grid_row": null,
      "grid_template_areas": null,
      "grid_template_columns": null,
      "grid_template_rows": null,
      "height": null,
      "justify_content": null,
      "justify_items": null,
      "left": null,
      "margin": null,
      "max_height": null,
      "max_width": null,
      "min_height": null,
      "min_width": null,
      "object_fit": null,
      "object_position": null,
      "order": null,
      "overflow": null,
      "overflow_x": null,
      "overflow_y": null,
      "padding": null,
      "right": null,
      "top": null,
      "visibility": null,
      "width": null
     }
    },
    "bc92224d90214ec9b99b98e939769b5c": {
     "model_module": "@jupyter-widgets/controls",
     "model_name": "FloatProgressModel",
     "state": {
      "_dom_classes": [],
      "_model_module": "@jupyter-widgets/controls",
      "_model_module_version": "1.5.0",
      "_model_name": "FloatProgressModel",
      "_view_count": null,
      "_view_module": "@jupyter-widgets/controls",
      "_view_module_version": "1.5.0",
      "_view_name": "ProgressView",
      "bar_style": "success",
      "description": "100%",
      "description_tooltip": null,
      "layout": "IPY_MODEL_cac0c256f51340c9bbe2b6ef058395f9",
      "max": 2,
      "min": 0,
      "orientation": "horizontal",
      "style": "IPY_MODEL_1dcbd012c8eb473eadd78366c31c6637",
      "value": 2
     }
    },
    "bcaad0d827734ba09ad89ec065dcfdae": {
     "model_module": "@jupyter-widgets/base",
     "model_name": "LayoutModel",
     "state": {
      "_model_module": "@jupyter-widgets/base",
      "_model_module_version": "1.2.0",
      "_model_name": "LayoutModel",
      "_view_count": null,
      "_view_module": "@jupyter-widgets/base",
      "_view_module_version": "1.2.0",
      "_view_name": "LayoutView",
      "align_content": null,
      "align_items": null,
      "align_self": null,
      "border": null,
      "bottom": null,
      "display": null,
      "flex": null,
      "flex_flow": null,
      "grid_area": null,
      "grid_auto_columns": null,
      "grid_auto_flow": null,
      "grid_auto_rows": null,
      "grid_column": null,
      "grid_gap": null,
      "grid_row": null,
      "grid_template_areas": null,
      "grid_template_columns": null,
      "grid_template_rows": null,
      "height": null,
      "justify_content": null,
      "justify_items": null,
      "left": null,
      "margin": null,
      "max_height": null,
      "max_width": null,
      "min_height": null,
      "min_width": null,
      "object_fit": null,
      "object_position": null,
      "order": null,
      "overflow": null,
      "overflow_x": null,
      "overflow_y": null,
      "padding": null,
      "right": null,
      "top": null,
      "visibility": null,
      "width": null
     }
    },
    "bcbea28ff33a40c59b11c48964b07045": {
     "model_module": "@jupyter-widgets/base",
     "model_name": "LayoutModel",
     "state": {
      "_model_module": "@jupyter-widgets/base",
      "_model_module_version": "1.2.0",
      "_model_name": "LayoutModel",
      "_view_count": null,
      "_view_module": "@jupyter-widgets/base",
      "_view_module_version": "1.2.0",
      "_view_name": "LayoutView",
      "align_content": null,
      "align_items": null,
      "align_self": null,
      "border": null,
      "bottom": null,
      "display": null,
      "flex": null,
      "flex_flow": null,
      "grid_area": null,
      "grid_auto_columns": null,
      "grid_auto_flow": null,
      "grid_auto_rows": null,
      "grid_column": null,
      "grid_gap": null,
      "grid_row": null,
      "grid_template_areas": null,
      "grid_template_columns": null,
      "grid_template_rows": null,
      "height": null,
      "justify_content": null,
      "justify_items": null,
      "left": null,
      "margin": null,
      "max_height": null,
      "max_width": null,
      "min_height": null,
      "min_width": null,
      "object_fit": null,
      "object_position": null,
      "order": null,
      "overflow": null,
      "overflow_x": null,
      "overflow_y": null,
      "padding": null,
      "right": null,
      "top": null,
      "visibility": null,
      "width": null
     }
    },
    "bd022f6df0d145c995eeb844688886b2": {
     "model_module": "@jupyter-widgets/base",
     "model_name": "LayoutModel",
     "state": {
      "_model_module": "@jupyter-widgets/base",
      "_model_module_version": "1.2.0",
      "_model_name": "LayoutModel",
      "_view_count": null,
      "_view_module": "@jupyter-widgets/base",
      "_view_module_version": "1.2.0",
      "_view_name": "LayoutView",
      "align_content": null,
      "align_items": null,
      "align_self": null,
      "border": null,
      "bottom": null,
      "display": null,
      "flex": null,
      "flex_flow": null,
      "grid_area": null,
      "grid_auto_columns": null,
      "grid_auto_flow": null,
      "grid_auto_rows": null,
      "grid_column": null,
      "grid_gap": null,
      "grid_row": null,
      "grid_template_areas": null,
      "grid_template_columns": null,
      "grid_template_rows": null,
      "height": null,
      "justify_content": null,
      "justify_items": null,
      "left": null,
      "margin": null,
      "max_height": null,
      "max_width": null,
      "min_height": null,
      "min_width": null,
      "object_fit": null,
      "object_position": null,
      "order": null,
      "overflow": null,
      "overflow_x": null,
      "overflow_y": null,
      "padding": null,
      "right": null,
      "top": null,
      "visibility": null,
      "width": null
     }
    },
    "bdf528636cb24dc8ba5b1ac7be728932": {
     "model_module": "@jupyter-widgets/base",
     "model_name": "LayoutModel",
     "state": {
      "_model_module": "@jupyter-widgets/base",
      "_model_module_version": "1.2.0",
      "_model_name": "LayoutModel",
      "_view_count": null,
      "_view_module": "@jupyter-widgets/base",
      "_view_module_version": "1.2.0",
      "_view_name": "LayoutView",
      "align_content": null,
      "align_items": null,
      "align_self": null,
      "border": null,
      "bottom": null,
      "display": null,
      "flex": null,
      "flex_flow": null,
      "grid_area": null,
      "grid_auto_columns": null,
      "grid_auto_flow": null,
      "grid_auto_rows": null,
      "grid_column": null,
      "grid_gap": null,
      "grid_row": null,
      "grid_template_areas": null,
      "grid_template_columns": null,
      "grid_template_rows": null,
      "height": null,
      "justify_content": null,
      "justify_items": null,
      "left": null,
      "margin": null,
      "max_height": null,
      "max_width": null,
      "min_height": null,
      "min_width": null,
      "object_fit": null,
      "object_position": null,
      "order": null,
      "overflow": null,
      "overflow_x": null,
      "overflow_y": null,
      "padding": null,
      "right": null,
      "top": null,
      "visibility": null,
      "width": null
     }
    },
    "bf5786e4800e4171a85ae22409b4e086": {
     "model_module": "@jupyter-widgets/controls",
     "model_name": "ProgressStyleModel",
     "state": {
      "_model_module": "@jupyter-widgets/controls",
      "_model_module_version": "1.5.0",
      "_model_name": "ProgressStyleModel",
      "_view_count": null,
      "_view_module": "@jupyter-widgets/base",
      "_view_module_version": "1.2.0",
      "_view_name": "StyleView",
      "bar_color": null,
      "description_width": "initial"
     }
    },
    "c0f5b6cc771f4c1ba85dee9a4b775341": {
     "model_module": "@jupyter-widgets/base",
     "model_name": "LayoutModel",
     "state": {
      "_model_module": "@jupyter-widgets/base",
      "_model_module_version": "1.2.0",
      "_model_name": "LayoutModel",
      "_view_count": null,
      "_view_module": "@jupyter-widgets/base",
      "_view_module_version": "1.2.0",
      "_view_name": "LayoutView",
      "align_content": null,
      "align_items": null,
      "align_self": null,
      "border": null,
      "bottom": null,
      "display": null,
      "flex": null,
      "flex_flow": null,
      "grid_area": null,
      "grid_auto_columns": null,
      "grid_auto_flow": null,
      "grid_auto_rows": null,
      "grid_column": null,
      "grid_gap": null,
      "grid_row": null,
      "grid_template_areas": null,
      "grid_template_columns": null,
      "grid_template_rows": null,
      "height": null,
      "justify_content": null,
      "justify_items": null,
      "left": null,
      "margin": null,
      "max_height": null,
      "max_width": null,
      "min_height": null,
      "min_width": null,
      "object_fit": null,
      "object_position": null,
      "order": null,
      "overflow": null,
      "overflow_x": null,
      "overflow_y": null,
      "padding": null,
      "right": null,
      "top": null,
      "visibility": null,
      "width": null
     }
    },
    "c17e09d1b9a94b8cb498fa9e4c7e315b": {
     "model_module": "@jupyter-widgets/base",
     "model_name": "LayoutModel",
     "state": {
      "_model_module": "@jupyter-widgets/base",
      "_model_module_version": "1.2.0",
      "_model_name": "LayoutModel",
      "_view_count": null,
      "_view_module": "@jupyter-widgets/base",
      "_view_module_version": "1.2.0",
      "_view_name": "LayoutView",
      "align_content": null,
      "align_items": null,
      "align_self": null,
      "border": null,
      "bottom": null,
      "display": null,
      "flex": null,
      "flex_flow": null,
      "grid_area": null,
      "grid_auto_columns": null,
      "grid_auto_flow": null,
      "grid_auto_rows": null,
      "grid_column": null,
      "grid_gap": null,
      "grid_row": null,
      "grid_template_areas": null,
      "grid_template_columns": null,
      "grid_template_rows": null,
      "height": null,
      "justify_content": null,
      "justify_items": null,
      "left": null,
      "margin": null,
      "max_height": null,
      "max_width": null,
      "min_height": null,
      "min_width": null,
      "object_fit": null,
      "object_position": null,
      "order": null,
      "overflow": null,
      "overflow_x": null,
      "overflow_y": null,
      "padding": null,
      "right": null,
      "top": null,
      "visibility": null,
      "width": null
     }
    },
    "c3eb16a21e114186b122e3e25403729b": {
     "model_module": "@jupyter-widgets/base",
     "model_name": "LayoutModel",
     "state": {
      "_model_module": "@jupyter-widgets/base",
      "_model_module_version": "1.2.0",
      "_model_name": "LayoutModel",
      "_view_count": null,
      "_view_module": "@jupyter-widgets/base",
      "_view_module_version": "1.2.0",
      "_view_name": "LayoutView",
      "align_content": null,
      "align_items": null,
      "align_self": null,
      "border": null,
      "bottom": null,
      "display": null,
      "flex": null,
      "flex_flow": null,
      "grid_area": null,
      "grid_auto_columns": null,
      "grid_auto_flow": null,
      "grid_auto_rows": null,
      "grid_column": null,
      "grid_gap": null,
      "grid_row": null,
      "grid_template_areas": null,
      "grid_template_columns": null,
      "grid_template_rows": null,
      "height": null,
      "justify_content": null,
      "justify_items": null,
      "left": null,
      "margin": null,
      "max_height": null,
      "max_width": null,
      "min_height": null,
      "min_width": null,
      "object_fit": null,
      "object_position": null,
      "order": null,
      "overflow": null,
      "overflow_x": null,
      "overflow_y": null,
      "padding": null,
      "right": null,
      "top": null,
      "visibility": null,
      "width": null
     }
    },
    "c4f00179d99742ed8ece0da02a135e28": {
     "model_module": "@jupyter-widgets/controls",
     "model_name": "ProgressStyleModel",
     "state": {
      "_model_module": "@jupyter-widgets/controls",
      "_model_module_version": "1.5.0",
      "_model_name": "ProgressStyleModel",
      "_view_count": null,
      "_view_module": "@jupyter-widgets/base",
      "_view_module_version": "1.2.0",
      "_view_name": "StyleView",
      "bar_color": null,
      "description_width": "initial"
     }
    },
    "c5bb74aa00aa4892a3c664d48fafebf9": {
     "model_module": "@jupyter-widgets/base",
     "model_name": "LayoutModel",
     "state": {
      "_model_module": "@jupyter-widgets/base",
      "_model_module_version": "1.2.0",
      "_model_name": "LayoutModel",
      "_view_count": null,
      "_view_module": "@jupyter-widgets/base",
      "_view_module_version": "1.2.0",
      "_view_name": "LayoutView",
      "align_content": null,
      "align_items": null,
      "align_self": null,
      "border": null,
      "bottom": null,
      "display": null,
      "flex": null,
      "flex_flow": null,
      "grid_area": null,
      "grid_auto_columns": null,
      "grid_auto_flow": null,
      "grid_auto_rows": null,
      "grid_column": null,
      "grid_gap": null,
      "grid_row": null,
      "grid_template_areas": null,
      "grid_template_columns": null,
      "grid_template_rows": null,
      "height": null,
      "justify_content": null,
      "justify_items": null,
      "left": null,
      "margin": null,
      "max_height": null,
      "max_width": null,
      "min_height": null,
      "min_width": null,
      "object_fit": null,
      "object_position": null,
      "order": null,
      "overflow": null,
      "overflow_x": null,
      "overflow_y": null,
      "padding": null,
      "right": null,
      "top": null,
      "visibility": null,
      "width": null
     }
    },
    "c69bc05d11854ca18011d5cecf9dd478": {
     "model_module": "@jupyter-widgets/controls",
     "model_name": "DescriptionStyleModel",
     "state": {
      "_model_module": "@jupyter-widgets/controls",
      "_model_module_version": "1.5.0",
      "_model_name": "DescriptionStyleModel",
      "_view_count": null,
      "_view_module": "@jupyter-widgets/base",
      "_view_module_version": "1.2.0",
      "_view_name": "StyleView",
      "description_width": ""
     }
    },
    "c811089fd578445f8c34461852fd3c41": {
     "model_module": "@jupyter-widgets/controls",
     "model_name": "HTMLModel",
     "state": {
      "_dom_classes": [],
      "_model_module": "@jupyter-widgets/controls",
      "_model_module_version": "1.5.0",
      "_model_name": "HTMLModel",
      "_view_count": null,
      "_view_module": "@jupyter-widgets/controls",
      "_view_module_version": "1.5.0",
      "_view_name": "HTMLView",
      "description": "",
      "description_tooltip": null,
      "layout": "IPY_MODEL_a289ad84b5084dd7950fd56ab69e2b10",
      "placeholder": "​",
      "style": "IPY_MODEL_ef9a30196f824af7af555c4ec2aba26b",
      "value": " 127353/127353 [02:30&lt;00:00, 844.67it/s]"
     }
    },
    "c8681df1f27c42d7b956467354060464": {
     "model_module": "@jupyter-widgets/base",
     "model_name": "LayoutModel",
     "state": {
      "_model_module": "@jupyter-widgets/base",
      "_model_module_version": "1.2.0",
      "_model_name": "LayoutModel",
      "_view_count": null,
      "_view_module": "@jupyter-widgets/base",
      "_view_module_version": "1.2.0",
      "_view_name": "LayoutView",
      "align_content": null,
      "align_items": null,
      "align_self": null,
      "border": null,
      "bottom": null,
      "display": null,
      "flex": null,
      "flex_flow": null,
      "grid_area": null,
      "grid_auto_columns": null,
      "grid_auto_flow": null,
      "grid_auto_rows": null,
      "grid_column": null,
      "grid_gap": null,
      "grid_row": null,
      "grid_template_areas": null,
      "grid_template_columns": null,
      "grid_template_rows": null,
      "height": null,
      "justify_content": null,
      "justify_items": null,
      "left": null,
      "margin": null,
      "max_height": null,
      "max_width": null,
      "min_height": null,
      "min_width": null,
      "object_fit": null,
      "object_position": null,
      "order": null,
      "overflow": null,
      "overflow_x": null,
      "overflow_y": null,
      "padding": null,
      "right": null,
      "top": null,
      "visibility": null,
      "width": null
     }
    },
    "c9218ca7e49e41bfa52fb25471ec1606": {
     "model_module": "@jupyter-widgets/controls",
     "model_name": "HBoxModel",
     "state": {
      "_dom_classes": [],
      "_model_module": "@jupyter-widgets/controls",
      "_model_module_version": "1.5.0",
      "_model_name": "HBoxModel",
      "_view_count": null,
      "_view_module": "@jupyter-widgets/controls",
      "_view_module_version": "1.5.0",
      "_view_name": "HBoxView",
      "box_style": "",
      "children": [
       "IPY_MODEL_0a50c547f1f04fc292569858186be53b",
       "IPY_MODEL_1c83472f2b5e48a7b774ca472b3ed012"
      ],
      "layout": "IPY_MODEL_7561886b4e0240708b35238838e3aa57"
     }
    },
    "ca336dd8fb1b4e0a9f6022f80f9f2da3": {
     "model_module": "@jupyter-widgets/controls",
     "model_name": "HTMLModel",
     "state": {
      "_dom_classes": [],
      "_model_module": "@jupyter-widgets/controls",
      "_model_module_version": "1.5.0",
      "_model_name": "HTMLModel",
      "_view_count": null,
      "_view_module": "@jupyter-widgets/controls",
      "_view_module_version": "1.5.0",
      "_view_name": "HTMLView",
      "description": "",
      "description_tooltip": null,
      "layout": "IPY_MODEL_3212d77e95234783888594026cc414f8",
      "placeholder": "​",
      "style": "IPY_MODEL_303a909b2f3d42909a2f060555536787",
      "value": " 3/3 [26:30&lt;00:00, 530.13s/it]"
     }
    },
    "ca599e40be584f389392de6a5f1816fe": {
     "model_module": "@jupyter-widgets/controls",
     "model_name": "HTMLModel",
     "state": {
      "_dom_classes": [],
      "_model_module": "@jupyter-widgets/controls",
      "_model_module_version": "1.5.0",
      "_model_name": "HTMLModel",
      "_view_count": null,
      "_view_module": "@jupyter-widgets/controls",
      "_view_module_version": "1.5.0",
      "_view_name": "HTMLView",
      "description": "",
      "description_tooltip": null,
      "layout": "IPY_MODEL_b82b2ebd6aa54f498f8d2cd8d98b52ee",
      "placeholder": "​",
      "style": "IPY_MODEL_a99a382e700f4310ab026c6bbcbb41a0",
      "value": " 5/5 [2:30:21&lt;00:00, 1804.25s/it]"
     }
    },
    "ca722a487e74437a97d2e348eb6dcfbc": {
     "model_module": "@jupyter-widgets/controls",
     "model_name": "FloatProgressModel",
     "state": {
      "_dom_classes": [],
      "_model_module": "@jupyter-widgets/controls",
      "_model_module_version": "1.5.0",
      "_model_name": "FloatProgressModel",
      "_view_count": null,
      "_view_module": "@jupyter-widgets/controls",
      "_view_module_version": "1.5.0",
      "_view_name": "ProgressView",
      "bar_style": "success",
      "description": "100%",
      "description_tooltip": null,
      "layout": "IPY_MODEL_bcbea28ff33a40c59b11c48964b07045",
      "max": 153164,
      "min": 0,
      "orientation": "horizontal",
      "style": "IPY_MODEL_13302902b62a42e3b511a72cc694dc69",
      "value": 153164
     }
    },
    "ca97311a9a7f456d8c6bc9348a366b3b": {
     "model_module": "@jupyter-widgets/controls",
     "model_name": "HBoxModel",
     "state": {
      "_dom_classes": [],
      "_model_module": "@jupyter-widgets/controls",
      "_model_module_version": "1.5.0",
      "_model_name": "HBoxModel",
      "_view_count": null,
      "_view_module": "@jupyter-widgets/controls",
      "_view_module_version": "1.5.0",
      "_view_name": "HBoxView",
      "box_style": "",
      "children": [
       "IPY_MODEL_b116fc46b08549b4bf41f55b2301791f",
       "IPY_MODEL_ca599e40be584f389392de6a5f1816fe"
      ],
      "layout": "IPY_MODEL_cabcfc72b85945b2b4de2adf010cc13d"
     }
    },
    "cabcfc72b85945b2b4de2adf010cc13d": {
     "model_module": "@jupyter-widgets/base",
     "model_name": "LayoutModel",
     "state": {
      "_model_module": "@jupyter-widgets/base",
      "_model_module_version": "1.2.0",
      "_model_name": "LayoutModel",
      "_view_count": null,
      "_view_module": "@jupyter-widgets/base",
      "_view_module_version": "1.2.0",
      "_view_name": "LayoutView",
      "align_content": null,
      "align_items": null,
      "align_self": null,
      "border": null,
      "bottom": null,
      "display": null,
      "flex": null,
      "flex_flow": null,
      "grid_area": null,
      "grid_auto_columns": null,
      "grid_auto_flow": null,
      "grid_auto_rows": null,
      "grid_column": null,
      "grid_gap": null,
      "grid_row": null,
      "grid_template_areas": null,
      "grid_template_columns": null,
      "grid_template_rows": null,
      "height": null,
      "justify_content": null,
      "justify_items": null,
      "left": null,
      "margin": null,
      "max_height": null,
      "max_width": null,
      "min_height": null,
      "min_width": null,
      "object_fit": null,
      "object_position": null,
      "order": null,
      "overflow": null,
      "overflow_x": null,
      "overflow_y": null,
      "padding": null,
      "right": null,
      "top": null,
      "visibility": null,
      "width": null
     }
    },
    "cac0c256f51340c9bbe2b6ef058395f9": {
     "model_module": "@jupyter-widgets/base",
     "model_name": "LayoutModel",
     "state": {
      "_model_module": "@jupyter-widgets/base",
      "_model_module_version": "1.2.0",
      "_model_name": "LayoutModel",
      "_view_count": null,
      "_view_module": "@jupyter-widgets/base",
      "_view_module_version": "1.2.0",
      "_view_name": "LayoutView",
      "align_content": null,
      "align_items": null,
      "align_self": null,
      "border": null,
      "bottom": null,
      "display": null,
      "flex": null,
      "flex_flow": null,
      "grid_area": null,
      "grid_auto_columns": null,
      "grid_auto_flow": null,
      "grid_auto_rows": null,
      "grid_column": null,
      "grid_gap": null,
      "grid_row": null,
      "grid_template_areas": null,
      "grid_template_columns": null,
      "grid_template_rows": null,
      "height": null,
      "justify_content": null,
      "justify_items": null,
      "left": null,
      "margin": null,
      "max_height": null,
      "max_width": null,
      "min_height": null,
      "min_width": null,
      "object_fit": null,
      "object_position": null,
      "order": null,
      "overflow": null,
      "overflow_x": null,
      "overflow_y": null,
      "padding": null,
      "right": null,
      "top": null,
      "visibility": null,
      "width": null
     }
    },
    "cbb3e7c0805447ea8019e152e7f8573c": {
     "model_module": "@jupyter-widgets/base",
     "model_name": "LayoutModel",
     "state": {
      "_model_module": "@jupyter-widgets/base",
      "_model_module_version": "1.2.0",
      "_model_name": "LayoutModel",
      "_view_count": null,
      "_view_module": "@jupyter-widgets/base",
      "_view_module_version": "1.2.0",
      "_view_name": "LayoutView",
      "align_content": null,
      "align_items": null,
      "align_self": null,
      "border": null,
      "bottom": null,
      "display": null,
      "flex": null,
      "flex_flow": null,
      "grid_area": null,
      "grid_auto_columns": null,
      "grid_auto_flow": null,
      "grid_auto_rows": null,
      "grid_column": null,
      "grid_gap": null,
      "grid_row": null,
      "grid_template_areas": null,
      "grid_template_columns": null,
      "grid_template_rows": null,
      "height": null,
      "justify_content": null,
      "justify_items": null,
      "left": null,
      "margin": null,
      "max_height": null,
      "max_width": null,
      "min_height": null,
      "min_width": null,
      "object_fit": null,
      "object_position": null,
      "order": null,
      "overflow": null,
      "overflow_x": null,
      "overflow_y": null,
      "padding": null,
      "right": null,
      "top": null,
      "visibility": null,
      "width": null
     }
    },
    "cd0a0f3f3ba64d14b676b8fae3ded625": {
     "model_module": "@jupyter-widgets/controls",
     "model_name": "HBoxModel",
     "state": {
      "_dom_classes": [],
      "_model_module": "@jupyter-widgets/controls",
      "_model_module_version": "1.5.0",
      "_model_name": "HBoxModel",
      "_view_count": null,
      "_view_module": "@jupyter-widgets/controls",
      "_view_module_version": "1.5.0",
      "_view_name": "HBoxView",
      "box_style": "",
      "children": [
       "IPY_MODEL_317d7ea29180456698b7a4c0db43010f",
       "IPY_MODEL_3694ab21b4204dcead497461d05b6ab4"
      ],
      "layout": "IPY_MODEL_43999b1f475044e59acc5c967d5d3485"
     }
    },
    "cdf5dba5568b455ca93d0631cb752f60": {
     "model_module": "@jupyter-widgets/controls",
     "model_name": "HTMLModel",
     "state": {
      "_dom_classes": [],
      "_model_module": "@jupyter-widgets/controls",
      "_model_module_version": "1.5.0",
      "_model_name": "HTMLModel",
      "_view_count": null,
      "_view_module": "@jupyter-widgets/controls",
      "_view_module_version": "1.5.0",
      "_view_name": "HTMLView",
      "description": "",
      "description_tooltip": null,
      "layout": "IPY_MODEL_bdf528636cb24dc8ba5b1ac7be728932",
      "placeholder": "​",
      "style": "IPY_MODEL_d848f73b429948ef9550d2b12b12ceea",
      "value": " 153164/153164 [03:33&lt;00:00, 716.89it/s]"
     }
    },
    "cfafed50a4164af998710db96cdcf345": {
     "model_module": "@jupyter-widgets/base",
     "model_name": "LayoutModel",
     "state": {
      "_model_module": "@jupyter-widgets/base",
      "_model_module_version": "1.2.0",
      "_model_name": "LayoutModel",
      "_view_count": null,
      "_view_module": "@jupyter-widgets/base",
      "_view_module_version": "1.2.0",
      "_view_name": "LayoutView",
      "align_content": null,
      "align_items": null,
      "align_self": null,
      "border": null,
      "bottom": null,
      "display": null,
      "flex": null,
      "flex_flow": null,
      "grid_area": null,
      "grid_auto_columns": null,
      "grid_auto_flow": null,
      "grid_auto_rows": null,
      "grid_column": null,
      "grid_gap": null,
      "grid_row": null,
      "grid_template_areas": null,
      "grid_template_columns": null,
      "grid_template_rows": null,
      "height": null,
      "justify_content": null,
      "justify_items": null,
      "left": null,
      "margin": null,
      "max_height": null,
      "max_width": null,
      "min_height": null,
      "min_width": null,
      "object_fit": null,
      "object_position": null,
      "order": null,
      "overflow": null,
      "overflow_x": null,
      "overflow_y": null,
      "padding": null,
      "right": null,
      "top": null,
      "visibility": null,
      "width": null
     }
    },
    "d10450431d4d4cd4a8e68b3f72f5a325": {
     "model_module": "@jupyter-widgets/base",
     "model_name": "LayoutModel",
     "state": {
      "_model_module": "@jupyter-widgets/base",
      "_model_module_version": "1.2.0",
      "_model_name": "LayoutModel",
      "_view_count": null,
      "_view_module": "@jupyter-widgets/base",
      "_view_module_version": "1.2.0",
      "_view_name": "LayoutView",
      "align_content": null,
      "align_items": null,
      "align_self": null,
      "border": null,
      "bottom": null,
      "display": null,
      "flex": null,
      "flex_flow": null,
      "grid_area": null,
      "grid_auto_columns": null,
      "grid_auto_flow": null,
      "grid_auto_rows": null,
      "grid_column": null,
      "grid_gap": null,
      "grid_row": null,
      "grid_template_areas": null,
      "grid_template_columns": null,
      "grid_template_rows": null,
      "height": null,
      "justify_content": null,
      "justify_items": null,
      "left": null,
      "margin": null,
      "max_height": null,
      "max_width": null,
      "min_height": null,
      "min_width": null,
      "object_fit": null,
      "object_position": null,
      "order": null,
      "overflow": null,
      "overflow_x": null,
      "overflow_y": null,
      "padding": null,
      "right": null,
      "top": null,
      "visibility": null,
      "width": null
     }
    },
    "d25bddb9a98547feb43aa954fadcac67": {
     "model_module": "@jupyter-widgets/base",
     "model_name": "LayoutModel",
     "state": {
      "_model_module": "@jupyter-widgets/base",
      "_model_module_version": "1.2.0",
      "_model_name": "LayoutModel",
      "_view_count": null,
      "_view_module": "@jupyter-widgets/base",
      "_view_module_version": "1.2.0",
      "_view_name": "LayoutView",
      "align_content": null,
      "align_items": null,
      "align_self": null,
      "border": null,
      "bottom": null,
      "display": null,
      "flex": null,
      "flex_flow": null,
      "grid_area": null,
      "grid_auto_columns": null,
      "grid_auto_flow": null,
      "grid_auto_rows": null,
      "grid_column": null,
      "grid_gap": null,
      "grid_row": null,
      "grid_template_areas": null,
      "grid_template_columns": null,
      "grid_template_rows": null,
      "height": null,
      "justify_content": null,
      "justify_items": null,
      "left": null,
      "margin": null,
      "max_height": null,
      "max_width": null,
      "min_height": null,
      "min_width": null,
      "object_fit": null,
      "object_position": null,
      "order": null,
      "overflow": null,
      "overflow_x": null,
      "overflow_y": null,
      "padding": null,
      "right": null,
      "top": null,
      "visibility": null,
      "width": null
     }
    },
    "d27e82414a174910b8673e29c129253a": {
     "model_module": "@jupyter-widgets/controls",
     "model_name": "ProgressStyleModel",
     "state": {
      "_model_module": "@jupyter-widgets/controls",
      "_model_module_version": "1.5.0",
      "_model_name": "ProgressStyleModel",
      "_view_count": null,
      "_view_module": "@jupyter-widgets/base",
      "_view_module_version": "1.2.0",
      "_view_name": "StyleView",
      "bar_color": null,
      "description_width": "initial"
     }
    },
    "d374c5c70ca2474a95efd49b57620197": {
     "model_module": "@jupyter-widgets/controls",
     "model_name": "HBoxModel",
     "state": {
      "_dom_classes": [],
      "_model_module": "@jupyter-widgets/controls",
      "_model_module_version": "1.5.0",
      "_model_name": "HBoxModel",
      "_view_count": null,
      "_view_module": "@jupyter-widgets/controls",
      "_view_module_version": "1.5.0",
      "_view_name": "HBoxView",
      "box_style": "",
      "children": [
       "IPY_MODEL_4d3a1aa7902c46fd84b6cdc44991054f",
       "IPY_MODEL_17d9e6e252144891bfb08c5df8c39dde"
      ],
      "layout": "IPY_MODEL_a001f21cb0de4548b29a307b5f9295f9"
     }
    },
    "d3f7280cadab43afb500927398340b93": {
     "model_module": "@jupyter-widgets/base",
     "model_name": "LayoutModel",
     "state": {
      "_model_module": "@jupyter-widgets/base",
      "_model_module_version": "1.2.0",
      "_model_name": "LayoutModel",
      "_view_count": null,
      "_view_module": "@jupyter-widgets/base",
      "_view_module_version": "1.2.0",
      "_view_name": "LayoutView",
      "align_content": null,
      "align_items": null,
      "align_self": null,
      "border": null,
      "bottom": null,
      "display": null,
      "flex": null,
      "flex_flow": null,
      "grid_area": null,
      "grid_auto_columns": null,
      "grid_auto_flow": null,
      "grid_auto_rows": null,
      "grid_column": null,
      "grid_gap": null,
      "grid_row": null,
      "grid_template_areas": null,
      "grid_template_columns": null,
      "grid_template_rows": null,
      "height": null,
      "justify_content": null,
      "justify_items": null,
      "left": null,
      "margin": null,
      "max_height": null,
      "max_width": null,
      "min_height": null,
      "min_width": null,
      "object_fit": null,
      "object_position": null,
      "order": null,
      "overflow": null,
      "overflow_x": null,
      "overflow_y": null,
      "padding": null,
      "right": null,
      "top": null,
      "visibility": null,
      "width": null
     }
    },
    "d4894388fdce49d9bbeff0318113fc7f": {
     "model_module": "@jupyter-widgets/controls",
     "model_name": "HBoxModel",
     "state": {
      "_dom_classes": [],
      "_model_module": "@jupyter-widgets/controls",
      "_model_module_version": "1.5.0",
      "_model_name": "HBoxModel",
      "_view_count": null,
      "_view_module": "@jupyter-widgets/controls",
      "_view_module_version": "1.5.0",
      "_view_name": "HBoxView",
      "box_style": "",
      "children": [
       "IPY_MODEL_d68eb50a814140298deb5eb839fca336",
       "IPY_MODEL_5aee880e20e84e088e3885046d7e0b49"
      ],
      "layout": "IPY_MODEL_a5ce35c413e94f9e8c3d29cb9f3a1a1a"
     }
    },
    "d56b194205d945a5a6d14af54f03a248": {
     "model_module": "@jupyter-widgets/controls",
     "model_name": "HTMLModel",
     "state": {
      "_dom_classes": [],
      "_model_module": "@jupyter-widgets/controls",
      "_model_module_version": "1.5.0",
      "_model_name": "HTMLModel",
      "_view_count": null,
      "_view_module": "@jupyter-widgets/controls",
      "_view_module_version": "1.5.0",
      "_view_name": "HTMLView",
      "description": "",
      "description_tooltip": null,
      "layout": "IPY_MODEL_3cfbe457798a4f78b7c3c230f0178058",
      "placeholder": "​",
      "style": "IPY_MODEL_83474f7ef1524163904ed109b0ecc1f9",
      "value": " 2/2 [1:45:37&lt;00:00, 3168.66s/it]"
     }
    },
    "d5864e3e44984b19a6b2d79fa9d7acb9": {
     "model_module": "@jupyter-widgets/base",
     "model_name": "LayoutModel",
     "state": {
      "_model_module": "@jupyter-widgets/base",
      "_model_module_version": "1.2.0",
      "_model_name": "LayoutModel",
      "_view_count": null,
      "_view_module": "@jupyter-widgets/base",
      "_view_module_version": "1.2.0",
      "_view_name": "LayoutView",
      "align_content": null,
      "align_items": null,
      "align_self": null,
      "border": null,
      "bottom": null,
      "display": null,
      "flex": null,
      "flex_flow": null,
      "grid_area": null,
      "grid_auto_columns": null,
      "grid_auto_flow": null,
      "grid_auto_rows": null,
      "grid_column": null,
      "grid_gap": null,
      "grid_row": null,
      "grid_template_areas": null,
      "grid_template_columns": null,
      "grid_template_rows": null,
      "height": null,
      "justify_content": null,
      "justify_items": null,
      "left": null,
      "margin": null,
      "max_height": null,
      "max_width": null,
      "min_height": null,
      "min_width": null,
      "object_fit": null,
      "object_position": null,
      "order": null,
      "overflow": null,
      "overflow_x": null,
      "overflow_y": null,
      "padding": null,
      "right": null,
      "top": null,
      "visibility": null,
      "width": null
     }
    },
    "d593642a581e43bf87c9869f24a2c089": {
     "model_module": "@jupyter-widgets/controls",
     "model_name": "DescriptionStyleModel",
     "state": {
      "_model_module": "@jupyter-widgets/controls",
      "_model_module_version": "1.5.0",
      "_model_name": "DescriptionStyleModel",
      "_view_count": null,
      "_view_module": "@jupyter-widgets/base",
      "_view_module_version": "1.2.0",
      "_view_name": "StyleView",
      "description_width": ""
     }
    },
    "d5c7f4a442fb4835a9df6d744c2a40ef": {
     "model_module": "@jupyter-widgets/controls",
     "model_name": "ProgressStyleModel",
     "state": {
      "_model_module": "@jupyter-widgets/controls",
      "_model_module_version": "1.5.0",
      "_model_name": "ProgressStyleModel",
      "_view_count": null,
      "_view_module": "@jupyter-widgets/base",
      "_view_module_version": "1.2.0",
      "_view_name": "StyleView",
      "bar_color": null,
      "description_width": "initial"
     }
    },
    "d68eb50a814140298deb5eb839fca336": {
     "model_module": "@jupyter-widgets/controls",
     "model_name": "FloatProgressModel",
     "state": {
      "_dom_classes": [],
      "_model_module": "@jupyter-widgets/controls",
      "_model_module_version": "1.5.0",
      "_model_name": "FloatProgressModel",
      "_view_count": null,
      "_view_module": "@jupyter-widgets/controls",
      "_view_module_version": "1.5.0",
      "_view_name": "ProgressView",
      "bar_style": "success",
      "description": "100%",
      "description_tooltip": null,
      "layout": "IPY_MODEL_a640337699f54434800b8518ce3d56c4",
      "max": 3,
      "min": 0,
      "orientation": "horizontal",
      "style": "IPY_MODEL_5e1dbed98dd34bdebc2a5abc83aa7c37",
      "value": 3
     }
    },
    "d6e1f75af7d9488d9e315252b1fd89bc": {
     "model_module": "@jupyter-widgets/base",
     "model_name": "LayoutModel",
     "state": {
      "_model_module": "@jupyter-widgets/base",
      "_model_module_version": "1.2.0",
      "_model_name": "LayoutModel",
      "_view_count": null,
      "_view_module": "@jupyter-widgets/base",
      "_view_module_version": "1.2.0",
      "_view_name": "LayoutView",
      "align_content": null,
      "align_items": null,
      "align_self": null,
      "border": null,
      "bottom": null,
      "display": null,
      "flex": null,
      "flex_flow": null,
      "grid_area": null,
      "grid_auto_columns": null,
      "grid_auto_flow": null,
      "grid_auto_rows": null,
      "grid_column": null,
      "grid_gap": null,
      "grid_row": null,
      "grid_template_areas": null,
      "grid_template_columns": null,
      "grid_template_rows": null,
      "height": null,
      "justify_content": null,
      "justify_items": null,
      "left": null,
      "margin": null,
      "max_height": null,
      "max_width": null,
      "min_height": null,
      "min_width": null,
      "object_fit": null,
      "object_position": null,
      "order": null,
      "overflow": null,
      "overflow_x": null,
      "overflow_y": null,
      "padding": null,
      "right": null,
      "top": null,
      "visibility": null,
      "width": null
     }
    },
    "d78fcea4c48e4f9eb9488e68c1da18d4": {
     "model_module": "@jupyter-widgets/base",
     "model_name": "LayoutModel",
     "state": {
      "_model_module": "@jupyter-widgets/base",
      "_model_module_version": "1.2.0",
      "_model_name": "LayoutModel",
      "_view_count": null,
      "_view_module": "@jupyter-widgets/base",
      "_view_module_version": "1.2.0",
      "_view_name": "LayoutView",
      "align_content": null,
      "align_items": null,
      "align_self": null,
      "border": null,
      "bottom": null,
      "display": null,
      "flex": null,
      "flex_flow": null,
      "grid_area": null,
      "grid_auto_columns": null,
      "grid_auto_flow": null,
      "grid_auto_rows": null,
      "grid_column": null,
      "grid_gap": null,
      "grid_row": null,
      "grid_template_areas": null,
      "grid_template_columns": null,
      "grid_template_rows": null,
      "height": null,
      "justify_content": null,
      "justify_items": null,
      "left": null,
      "margin": null,
      "max_height": null,
      "max_width": null,
      "min_height": null,
      "min_width": null,
      "object_fit": null,
      "object_position": null,
      "order": null,
      "overflow": null,
      "overflow_x": null,
      "overflow_y": null,
      "padding": null,
      "right": null,
      "top": null,
      "visibility": null,
      "width": null
     }
    },
    "d8318e6c8ed944cdbb772676c7b91ceb": {
     "model_module": "@jupyter-widgets/controls",
     "model_name": "FloatProgressModel",
     "state": {
      "_dom_classes": [],
      "_model_module": "@jupyter-widgets/controls",
      "_model_module_version": "1.5.0",
      "_model_name": "FloatProgressModel",
      "_view_count": null,
      "_view_module": "@jupyter-widgets/controls",
      "_view_module_version": "1.5.0",
      "_view_name": "ProgressView",
      "bar_style": "success",
      "description": "100%",
      "description_tooltip": null,
      "layout": "IPY_MODEL_f6252068d20440aeaab43d8c72c5a112",
      "max": 7,
      "min": 0,
      "orientation": "horizontal",
      "style": "IPY_MODEL_acb9191bf4674878b9590e4ccc4f9509",
      "value": 7
     }
    },
    "d848f73b429948ef9550d2b12b12ceea": {
     "model_module": "@jupyter-widgets/controls",
     "model_name": "DescriptionStyleModel",
     "state": {
      "_model_module": "@jupyter-widgets/controls",
      "_model_module_version": "1.5.0",
      "_model_name": "DescriptionStyleModel",
      "_view_count": null,
      "_view_module": "@jupyter-widgets/base",
      "_view_module_version": "1.2.0",
      "_view_name": "StyleView",
      "description_width": ""
     }
    },
    "d8970aea2a4b4ffb912f9f6f80203fa4": {
     "model_module": "@jupyter-widgets/controls",
     "model_name": "FloatProgressModel",
     "state": {
      "_dom_classes": [],
      "_model_module": "@jupyter-widgets/controls",
      "_model_module_version": "1.5.0",
      "_model_name": "FloatProgressModel",
      "_view_count": null,
      "_view_module": "@jupyter-widgets/controls",
      "_view_module_version": "1.5.0",
      "_view_name": "ProgressView",
      "bar_style": "success",
      "description": "100%",
      "description_tooltip": null,
      "layout": "IPY_MODEL_b652b70524cc4433a4eec893654c0aa2",
      "max": 4,
      "min": 0,
      "orientation": "horizontal",
      "style": "IPY_MODEL_873c6d26f94c428394581b693867c171",
      "value": 4
     }
    },
    "dbed82f4cd1747628715412c8110cd2a": {
     "model_module": "@jupyter-widgets/base",
     "model_name": "LayoutModel",
     "state": {
      "_model_module": "@jupyter-widgets/base",
      "_model_module_version": "1.2.0",
      "_model_name": "LayoutModel",
      "_view_count": null,
      "_view_module": "@jupyter-widgets/base",
      "_view_module_version": "1.2.0",
      "_view_name": "LayoutView",
      "align_content": null,
      "align_items": null,
      "align_self": null,
      "border": null,
      "bottom": null,
      "display": null,
      "flex": null,
      "flex_flow": null,
      "grid_area": null,
      "grid_auto_columns": null,
      "grid_auto_flow": null,
      "grid_auto_rows": null,
      "grid_column": null,
      "grid_gap": null,
      "grid_row": null,
      "grid_template_areas": null,
      "grid_template_columns": null,
      "grid_template_rows": null,
      "height": null,
      "justify_content": null,
      "justify_items": null,
      "left": null,
      "margin": null,
      "max_height": null,
      "max_width": null,
      "min_height": null,
      "min_width": null,
      "object_fit": null,
      "object_position": null,
      "order": null,
      "overflow": null,
      "overflow_x": null,
      "overflow_y": null,
      "padding": null,
      "right": null,
      "top": null,
      "visibility": null,
      "width": null
     }
    },
    "df6ddd1e6b324d8fbbada0efff3fc257": {
     "model_module": "@jupyter-widgets/controls",
     "model_name": "DescriptionStyleModel",
     "state": {
      "_model_module": "@jupyter-widgets/controls",
      "_model_module_version": "1.5.0",
      "_model_name": "DescriptionStyleModel",
      "_view_count": null,
      "_view_module": "@jupyter-widgets/base",
      "_view_module_version": "1.2.0",
      "_view_name": "StyleView",
      "description_width": ""
     }
    },
    "e008810ef8d7477d87020127627be617": {
     "model_module": "@jupyter-widgets/base",
     "model_name": "LayoutModel",
     "state": {
      "_model_module": "@jupyter-widgets/base",
      "_model_module_version": "1.2.0",
      "_model_name": "LayoutModel",
      "_view_count": null,
      "_view_module": "@jupyter-widgets/base",
      "_view_module_version": "1.2.0",
      "_view_name": "LayoutView",
      "align_content": null,
      "align_items": null,
      "align_self": null,
      "border": null,
      "bottom": null,
      "display": null,
      "flex": null,
      "flex_flow": null,
      "grid_area": null,
      "grid_auto_columns": null,
      "grid_auto_flow": null,
      "grid_auto_rows": null,
      "grid_column": null,
      "grid_gap": null,
      "grid_row": null,
      "grid_template_areas": null,
      "grid_template_columns": null,
      "grid_template_rows": null,
      "height": null,
      "justify_content": null,
      "justify_items": null,
      "left": null,
      "margin": null,
      "max_height": null,
      "max_width": null,
      "min_height": null,
      "min_width": null,
      "object_fit": null,
      "object_position": null,
      "order": null,
      "overflow": null,
      "overflow_x": null,
      "overflow_y": null,
      "padding": null,
      "right": null,
      "top": null,
      "visibility": null,
      "width": null
     }
    },
    "e0279e72c6bb4fa6b1163f8ff9625dac": {
     "model_module": "@jupyter-widgets/base",
     "model_name": "LayoutModel",
     "state": {
      "_model_module": "@jupyter-widgets/base",
      "_model_module_version": "1.2.0",
      "_model_name": "LayoutModel",
      "_view_count": null,
      "_view_module": "@jupyter-widgets/base",
      "_view_module_version": "1.2.0",
      "_view_name": "LayoutView",
      "align_content": null,
      "align_items": null,
      "align_self": null,
      "border": null,
      "bottom": null,
      "display": null,
      "flex": null,
      "flex_flow": null,
      "grid_area": null,
      "grid_auto_columns": null,
      "grid_auto_flow": null,
      "grid_auto_rows": null,
      "grid_column": null,
      "grid_gap": null,
      "grid_row": null,
      "grid_template_areas": null,
      "grid_template_columns": null,
      "grid_template_rows": null,
      "height": null,
      "justify_content": null,
      "justify_items": null,
      "left": null,
      "margin": null,
      "max_height": null,
      "max_width": null,
      "min_height": null,
      "min_width": null,
      "object_fit": null,
      "object_position": null,
      "order": null,
      "overflow": null,
      "overflow_x": null,
      "overflow_y": null,
      "padding": null,
      "right": null,
      "top": null,
      "visibility": null,
      "width": null
     }
    },
    "e0fb1f172ca04c8c901654ea6ebf5bf1": {
     "model_module": "@jupyter-widgets/controls",
     "model_name": "ProgressStyleModel",
     "state": {
      "_model_module": "@jupyter-widgets/controls",
      "_model_module_version": "1.5.0",
      "_model_name": "ProgressStyleModel",
      "_view_count": null,
      "_view_module": "@jupyter-widgets/base",
      "_view_module_version": "1.2.0",
      "_view_name": "StyleView",
      "bar_color": null,
      "description_width": "initial"
     }
    },
    "e237458ede0343c6b3c3fae543fd8e13": {
     "model_module": "@jupyter-widgets/controls",
     "model_name": "HTMLModel",
     "state": {
      "_dom_classes": [],
      "_model_module": "@jupyter-widgets/controls",
      "_model_module_version": "1.5.0",
      "_model_name": "HTMLModel",
      "_view_count": null,
      "_view_module": "@jupyter-widgets/controls",
      "_view_module_version": "1.5.0",
      "_view_name": "HTMLView",
      "description": "",
      "description_tooltip": null,
      "layout": "IPY_MODEL_2969d350a7684c36a08200f49d3e666e",
      "placeholder": "​",
      "style": "IPY_MODEL_280998ae02954d14be9dcf0d21e00f25",
      "value": " 2/2 [18:29&lt;00:00, 554.63s/it]"
     }
    },
    "e39cf69a21dc4e8998eb430522db6478": {
     "model_module": "@jupyter-widgets/base",
     "model_name": "LayoutModel",
     "state": {
      "_model_module": "@jupyter-widgets/base",
      "_model_module_version": "1.2.0",
      "_model_name": "LayoutModel",
      "_view_count": null,
      "_view_module": "@jupyter-widgets/base",
      "_view_module_version": "1.2.0",
      "_view_name": "LayoutView",
      "align_content": null,
      "align_items": null,
      "align_self": null,
      "border": null,
      "bottom": null,
      "display": null,
      "flex": null,
      "flex_flow": null,
      "grid_area": null,
      "grid_auto_columns": null,
      "grid_auto_flow": null,
      "grid_auto_rows": null,
      "grid_column": null,
      "grid_gap": null,
      "grid_row": null,
      "grid_template_areas": null,
      "grid_template_columns": null,
      "grid_template_rows": null,
      "height": null,
      "justify_content": null,
      "justify_items": null,
      "left": null,
      "margin": null,
      "max_height": null,
      "max_width": null,
      "min_height": null,
      "min_width": null,
      "object_fit": null,
      "object_position": null,
      "order": null,
      "overflow": null,
      "overflow_x": null,
      "overflow_y": null,
      "padding": null,
      "right": null,
      "top": null,
      "visibility": null,
      "width": null
     }
    },
    "e44961e63e684bb98a5124dab140f7cc": {
     "model_module": "@jupyter-widgets/controls",
     "model_name": "ProgressStyleModel",
     "state": {
      "_model_module": "@jupyter-widgets/controls",
      "_model_module_version": "1.5.0",
      "_model_name": "ProgressStyleModel",
      "_view_count": null,
      "_view_module": "@jupyter-widgets/base",
      "_view_module_version": "1.2.0",
      "_view_name": "StyleView",
      "bar_color": null,
      "description_width": "initial"
     }
    },
    "e460a30cc8fd4c8ca84acf1c6aaff7cd": {
     "model_module": "@jupyter-widgets/base",
     "model_name": "LayoutModel",
     "state": {
      "_model_module": "@jupyter-widgets/base",
      "_model_module_version": "1.2.0",
      "_model_name": "LayoutModel",
      "_view_count": null,
      "_view_module": "@jupyter-widgets/base",
      "_view_module_version": "1.2.0",
      "_view_name": "LayoutView",
      "align_content": null,
      "align_items": null,
      "align_self": null,
      "border": null,
      "bottom": null,
      "display": null,
      "flex": null,
      "flex_flow": null,
      "grid_area": null,
      "grid_auto_columns": null,
      "grid_auto_flow": null,
      "grid_auto_rows": null,
      "grid_column": null,
      "grid_gap": null,
      "grid_row": null,
      "grid_template_areas": null,
      "grid_template_columns": null,
      "grid_template_rows": null,
      "height": null,
      "justify_content": null,
      "justify_items": null,
      "left": null,
      "margin": null,
      "max_height": null,
      "max_width": null,
      "min_height": null,
      "min_width": null,
      "object_fit": null,
      "object_position": null,
      "order": null,
      "overflow": null,
      "overflow_x": null,
      "overflow_y": null,
      "padding": null,
      "right": null,
      "top": null,
      "visibility": null,
      "width": null
     }
    },
    "e4977a2a6f6648adae7b57b9ac7a7987": {
     "model_module": "@jupyter-widgets/controls",
     "model_name": "ProgressStyleModel",
     "state": {
      "_model_module": "@jupyter-widgets/controls",
      "_model_module_version": "1.5.0",
      "_model_name": "ProgressStyleModel",
      "_view_count": null,
      "_view_module": "@jupyter-widgets/base",
      "_view_module_version": "1.2.0",
      "_view_name": "StyleView",
      "bar_color": null,
      "description_width": "initial"
     }
    },
    "e652ace999234ce29c73e3155c144ca1": {
     "model_module": "@jupyter-widgets/base",
     "model_name": "LayoutModel",
     "state": {
      "_model_module": "@jupyter-widgets/base",
      "_model_module_version": "1.2.0",
      "_model_name": "LayoutModel",
      "_view_count": null,
      "_view_module": "@jupyter-widgets/base",
      "_view_module_version": "1.2.0",
      "_view_name": "LayoutView",
      "align_content": null,
      "align_items": null,
      "align_self": null,
      "border": null,
      "bottom": null,
      "display": null,
      "flex": null,
      "flex_flow": null,
      "grid_area": null,
      "grid_auto_columns": null,
      "grid_auto_flow": null,
      "grid_auto_rows": null,
      "grid_column": null,
      "grid_gap": null,
      "grid_row": null,
      "grid_template_areas": null,
      "grid_template_columns": null,
      "grid_template_rows": null,
      "height": null,
      "justify_content": null,
      "justify_items": null,
      "left": null,
      "margin": null,
      "max_height": null,
      "max_width": null,
      "min_height": null,
      "min_width": null,
      "object_fit": null,
      "object_position": null,
      "order": null,
      "overflow": null,
      "overflow_x": null,
      "overflow_y": null,
      "padding": null,
      "right": null,
      "top": null,
      "visibility": null,
      "width": null
     }
    },
    "e7911907a8194c809f2f7caade3ca8f8": {
     "model_module": "@jupyter-widgets/controls",
     "model_name": "DescriptionStyleModel",
     "state": {
      "_model_module": "@jupyter-widgets/controls",
      "_model_module_version": "1.5.0",
      "_model_name": "DescriptionStyleModel",
      "_view_count": null,
      "_view_module": "@jupyter-widgets/base",
      "_view_module_version": "1.2.0",
      "_view_name": "StyleView",
      "description_width": ""
     }
    },
    "e7a1238776ec41c698421206dc7ede68": {
     "model_module": "@jupyter-widgets/base",
     "model_name": "LayoutModel",
     "state": {
      "_model_module": "@jupyter-widgets/base",
      "_model_module_version": "1.2.0",
      "_model_name": "LayoutModel",
      "_view_count": null,
      "_view_module": "@jupyter-widgets/base",
      "_view_module_version": "1.2.0",
      "_view_name": "LayoutView",
      "align_content": null,
      "align_items": null,
      "align_self": null,
      "border": null,
      "bottom": null,
      "display": null,
      "flex": null,
      "flex_flow": null,
      "grid_area": null,
      "grid_auto_columns": null,
      "grid_auto_flow": null,
      "grid_auto_rows": null,
      "grid_column": null,
      "grid_gap": null,
      "grid_row": null,
      "grid_template_areas": null,
      "grid_template_columns": null,
      "grid_template_rows": null,
      "height": null,
      "justify_content": null,
      "justify_items": null,
      "left": null,
      "margin": null,
      "max_height": null,
      "max_width": null,
      "min_height": null,
      "min_width": null,
      "object_fit": null,
      "object_position": null,
      "order": null,
      "overflow": null,
      "overflow_x": null,
      "overflow_y": null,
      "padding": null,
      "right": null,
      "top": null,
      "visibility": null,
      "width": null
     }
    },
    "eae52014584741e49c4edd940c5bbb12": {
     "model_module": "@jupyter-widgets/controls",
     "model_name": "HTMLModel",
     "state": {
      "_dom_classes": [],
      "_model_module": "@jupyter-widgets/controls",
      "_model_module_version": "1.5.0",
      "_model_name": "HTMLModel",
      "_view_count": null,
      "_view_module": "@jupyter-widgets/controls",
      "_view_module_version": "1.5.0",
      "_view_name": "HTMLView",
      "description": "",
      "description_tooltip": null,
      "layout": "IPY_MODEL_f0c3817424954dc79ac728854e3a01d3",
      "placeholder": "​",
      "style": "IPY_MODEL_03949130785e429c9c6f736b399c33ed",
      "value": " 4/4 [24:46&lt;00:00, 371.50s/it]"
     }
    },
    "ec4c29ad56ad4b908ada76e00617087b": {
     "model_module": "@jupyter-widgets/base",
     "model_name": "LayoutModel",
     "state": {
      "_model_module": "@jupyter-widgets/base",
      "_model_module_version": "1.2.0",
      "_model_name": "LayoutModel",
      "_view_count": null,
      "_view_module": "@jupyter-widgets/base",
      "_view_module_version": "1.2.0",
      "_view_name": "LayoutView",
      "align_content": null,
      "align_items": null,
      "align_self": null,
      "border": null,
      "bottom": null,
      "display": null,
      "flex": null,
      "flex_flow": null,
      "grid_area": null,
      "grid_auto_columns": null,
      "grid_auto_flow": null,
      "grid_auto_rows": null,
      "grid_column": null,
      "grid_gap": null,
      "grid_row": null,
      "grid_template_areas": null,
      "grid_template_columns": null,
      "grid_template_rows": null,
      "height": null,
      "justify_content": null,
      "justify_items": null,
      "left": null,
      "margin": null,
      "max_height": null,
      "max_width": null,
      "min_height": null,
      "min_width": null,
      "object_fit": null,
      "object_position": null,
      "order": null,
      "overflow": null,
      "overflow_x": null,
      "overflow_y": null,
      "padding": null,
      "right": null,
      "top": null,
      "visibility": null,
      "width": null
     }
    },
    "ecc412f279f044d1908a29656c73e746": {
     "model_module": "@jupyter-widgets/controls",
     "model_name": "HBoxModel",
     "state": {
      "_dom_classes": [],
      "_model_module": "@jupyter-widgets/controls",
      "_model_module_version": "1.5.0",
      "_model_name": "HBoxModel",
      "_view_count": null,
      "_view_module": "@jupyter-widgets/controls",
      "_view_module_version": "1.5.0",
      "_view_name": "HBoxView",
      "box_style": "",
      "children": [
       "IPY_MODEL_47448506c6834b4c913687d7fbc88762",
       "IPY_MODEL_8b33b44d156647f1afa6b2bc707a3e09"
      ],
      "layout": "IPY_MODEL_e652ace999234ce29c73e3155c144ca1"
     }
    },
    "ee3c99ca196542b28ae722544af3e79e": {
     "model_module": "@jupyter-widgets/base",
     "model_name": "LayoutModel",
     "state": {
      "_model_module": "@jupyter-widgets/base",
      "_model_module_version": "1.2.0",
      "_model_name": "LayoutModel",
      "_view_count": null,
      "_view_module": "@jupyter-widgets/base",
      "_view_module_version": "1.2.0",
      "_view_name": "LayoutView",
      "align_content": null,
      "align_items": null,
      "align_self": null,
      "border": null,
      "bottom": null,
      "display": null,
      "flex": null,
      "flex_flow": null,
      "grid_area": null,
      "grid_auto_columns": null,
      "grid_auto_flow": null,
      "grid_auto_rows": null,
      "grid_column": null,
      "grid_gap": null,
      "grid_row": null,
      "grid_template_areas": null,
      "grid_template_columns": null,
      "grid_template_rows": null,
      "height": null,
      "justify_content": null,
      "justify_items": null,
      "left": null,
      "margin": null,
      "max_height": null,
      "max_width": null,
      "min_height": null,
      "min_width": null,
      "object_fit": null,
      "object_position": null,
      "order": null,
      "overflow": null,
      "overflow_x": null,
      "overflow_y": null,
      "padding": null,
      "right": null,
      "top": null,
      "visibility": null,
      "width": null
     }
    },
    "ef7cbbc93507473483226148b1edb9de": {
     "model_module": "@jupyter-widgets/controls",
     "model_name": "FloatProgressModel",
     "state": {
      "_dom_classes": [],
      "_model_module": "@jupyter-widgets/controls",
      "_model_module_version": "1.5.0",
      "_model_name": "FloatProgressModel",
      "_view_count": null,
      "_view_module": "@jupyter-widgets/controls",
      "_view_module_version": "1.5.0",
      "_view_name": "ProgressView",
      "bar_style": "success",
      "description": "100%",
      "description_tooltip": null,
      "layout": "IPY_MODEL_b7d12b9755994373bab690904fb283f9",
      "max": 7,
      "min": 0,
      "orientation": "horizontal",
      "style": "IPY_MODEL_30ec052b4d7c4d89828b00c103af2211",
      "value": 7
     }
    },
    "ef9a30196f824af7af555c4ec2aba26b": {
     "model_module": "@jupyter-widgets/controls",
     "model_name": "DescriptionStyleModel",
     "state": {
      "_model_module": "@jupyter-widgets/controls",
      "_model_module_version": "1.5.0",
      "_model_name": "DescriptionStyleModel",
      "_view_count": null,
      "_view_module": "@jupyter-widgets/base",
      "_view_module_version": "1.2.0",
      "_view_name": "StyleView",
      "description_width": ""
     }
    },
    "f0c3817424954dc79ac728854e3a01d3": {
     "model_module": "@jupyter-widgets/base",
     "model_name": "LayoutModel",
     "state": {
      "_model_module": "@jupyter-widgets/base",
      "_model_module_version": "1.2.0",
      "_model_name": "LayoutModel",
      "_view_count": null,
      "_view_module": "@jupyter-widgets/base",
      "_view_module_version": "1.2.0",
      "_view_name": "LayoutView",
      "align_content": null,
      "align_items": null,
      "align_self": null,
      "border": null,
      "bottom": null,
      "display": null,
      "flex": null,
      "flex_flow": null,
      "grid_area": null,
      "grid_auto_columns": null,
      "grid_auto_flow": null,
      "grid_auto_rows": null,
      "grid_column": null,
      "grid_gap": null,
      "grid_row": null,
      "grid_template_areas": null,
      "grid_template_columns": null,
      "grid_template_rows": null,
      "height": null,
      "justify_content": null,
      "justify_items": null,
      "left": null,
      "margin": null,
      "max_height": null,
      "max_width": null,
      "min_height": null,
      "min_width": null,
      "object_fit": null,
      "object_position": null,
      "order": null,
      "overflow": null,
      "overflow_x": null,
      "overflow_y": null,
      "padding": null,
      "right": null,
      "top": null,
      "visibility": null,
      "width": null
     }
    },
    "f120dc281176468aac4d436efffbd66d": {
     "model_module": "@jupyter-widgets/base",
     "model_name": "LayoutModel",
     "state": {
      "_model_module": "@jupyter-widgets/base",
      "_model_module_version": "1.2.0",
      "_model_name": "LayoutModel",
      "_view_count": null,
      "_view_module": "@jupyter-widgets/base",
      "_view_module_version": "1.2.0",
      "_view_name": "LayoutView",
      "align_content": null,
      "align_items": null,
      "align_self": null,
      "border": null,
      "bottom": null,
      "display": null,
      "flex": null,
      "flex_flow": null,
      "grid_area": null,
      "grid_auto_columns": null,
      "grid_auto_flow": null,
      "grid_auto_rows": null,
      "grid_column": null,
      "grid_gap": null,
      "grid_row": null,
      "grid_template_areas": null,
      "grid_template_columns": null,
      "grid_template_rows": null,
      "height": null,
      "justify_content": null,
      "justify_items": null,
      "left": null,
      "margin": null,
      "max_height": null,
      "max_width": null,
      "min_height": null,
      "min_width": null,
      "object_fit": null,
      "object_position": null,
      "order": null,
      "overflow": null,
      "overflow_x": null,
      "overflow_y": null,
      "padding": null,
      "right": null,
      "top": null,
      "visibility": null,
      "width": null
     }
    },
    "f2194c2cf1d7458b85381207d466410e": {
     "model_module": "@jupyter-widgets/base",
     "model_name": "LayoutModel",
     "state": {
      "_model_module": "@jupyter-widgets/base",
      "_model_module_version": "1.2.0",
      "_model_name": "LayoutModel",
      "_view_count": null,
      "_view_module": "@jupyter-widgets/base",
      "_view_module_version": "1.2.0",
      "_view_name": "LayoutView",
      "align_content": null,
      "align_items": null,
      "align_self": null,
      "border": null,
      "bottom": null,
      "display": null,
      "flex": null,
      "flex_flow": null,
      "grid_area": null,
      "grid_auto_columns": null,
      "grid_auto_flow": null,
      "grid_auto_rows": null,
      "grid_column": null,
      "grid_gap": null,
      "grid_row": null,
      "grid_template_areas": null,
      "grid_template_columns": null,
      "grid_template_rows": null,
      "height": null,
      "justify_content": null,
      "justify_items": null,
      "left": null,
      "margin": null,
      "max_height": null,
      "max_width": null,
      "min_height": null,
      "min_width": null,
      "object_fit": null,
      "object_position": null,
      "order": null,
      "overflow": null,
      "overflow_x": null,
      "overflow_y": null,
      "padding": null,
      "right": null,
      "top": null,
      "visibility": null,
      "width": null
     }
    },
    "f24667c1186340ab979ddba4d0c534aa": {
     "model_module": "@jupyter-widgets/controls",
     "model_name": "ProgressStyleModel",
     "state": {
      "_model_module": "@jupyter-widgets/controls",
      "_model_module_version": "1.5.0",
      "_model_name": "ProgressStyleModel",
      "_view_count": null,
      "_view_module": "@jupyter-widgets/base",
      "_view_module_version": "1.2.0",
      "_view_name": "StyleView",
      "bar_color": null,
      "description_width": "initial"
     }
    },
    "f34024cda89041d7bb9cbf7cd08ad76c": {
     "model_module": "@jupyter-widgets/controls",
     "model_name": "ProgressStyleModel",
     "state": {
      "_model_module": "@jupyter-widgets/controls",
      "_model_module_version": "1.5.0",
      "_model_name": "ProgressStyleModel",
      "_view_count": null,
      "_view_module": "@jupyter-widgets/base",
      "_view_module_version": "1.2.0",
      "_view_name": "StyleView",
      "bar_color": null,
      "description_width": "initial"
     }
    },
    "f3dd3d3f795f42beb496f509cfad295d": {
     "model_module": "@jupyter-widgets/controls",
     "model_name": "HBoxModel",
     "state": {
      "_dom_classes": [],
      "_model_module": "@jupyter-widgets/controls",
      "_model_module_version": "1.5.0",
      "_model_name": "HBoxModel",
      "_view_count": null,
      "_view_module": "@jupyter-widgets/controls",
      "_view_module_version": "1.5.0",
      "_view_name": "HBoxView",
      "box_style": "",
      "children": [
       "IPY_MODEL_52fa74e0a8864af2807f0bc247dfff8f",
       "IPY_MODEL_e237458ede0343c6b3c3fae543fd8e13"
      ],
      "layout": "IPY_MODEL_700e110946b642efaa807f5b209713cb"
     }
    },
    "f4c9d289c4054f57bbc9cee1a3c33a1f": {
     "model_module": "@jupyter-widgets/base",
     "model_name": "LayoutModel",
     "state": {
      "_model_module": "@jupyter-widgets/base",
      "_model_module_version": "1.2.0",
      "_model_name": "LayoutModel",
      "_view_count": null,
      "_view_module": "@jupyter-widgets/base",
      "_view_module_version": "1.2.0",
      "_view_name": "LayoutView",
      "align_content": null,
      "align_items": null,
      "align_self": null,
      "border": null,
      "bottom": null,
      "display": null,
      "flex": null,
      "flex_flow": null,
      "grid_area": null,
      "grid_auto_columns": null,
      "grid_auto_flow": null,
      "grid_auto_rows": null,
      "grid_column": null,
      "grid_gap": null,
      "grid_row": null,
      "grid_template_areas": null,
      "grid_template_columns": null,
      "grid_template_rows": null,
      "height": null,
      "justify_content": null,
      "justify_items": null,
      "left": null,
      "margin": null,
      "max_height": null,
      "max_width": null,
      "min_height": null,
      "min_width": null,
      "object_fit": null,
      "object_position": null,
      "order": null,
      "overflow": null,
      "overflow_x": null,
      "overflow_y": null,
      "padding": null,
      "right": null,
      "top": null,
      "visibility": null,
      "width": null
     }
    },
    "f60f9e7f53a141868314a34e380daa35": {
     "model_module": "@jupyter-widgets/base",
     "model_name": "LayoutModel",
     "state": {
      "_model_module": "@jupyter-widgets/base",
      "_model_module_version": "1.2.0",
      "_model_name": "LayoutModel",
      "_view_count": null,
      "_view_module": "@jupyter-widgets/base",
      "_view_module_version": "1.2.0",
      "_view_name": "LayoutView",
      "align_content": null,
      "align_items": null,
      "align_self": null,
      "border": null,
      "bottom": null,
      "display": null,
      "flex": null,
      "flex_flow": null,
      "grid_area": null,
      "grid_auto_columns": null,
      "grid_auto_flow": null,
      "grid_auto_rows": null,
      "grid_column": null,
      "grid_gap": null,
      "grid_row": null,
      "grid_template_areas": null,
      "grid_template_columns": null,
      "grid_template_rows": null,
      "height": null,
      "justify_content": null,
      "justify_items": null,
      "left": null,
      "margin": null,
      "max_height": null,
      "max_width": null,
      "min_height": null,
      "min_width": null,
      "object_fit": null,
      "object_position": null,
      "order": null,
      "overflow": null,
      "overflow_x": null,
      "overflow_y": null,
      "padding": null,
      "right": null,
      "top": null,
      "visibility": null,
      "width": null
     }
    },
    "f6252068d20440aeaab43d8c72c5a112": {
     "model_module": "@jupyter-widgets/base",
     "model_name": "LayoutModel",
     "state": {
      "_model_module": "@jupyter-widgets/base",
      "_model_module_version": "1.2.0",
      "_model_name": "LayoutModel",
      "_view_count": null,
      "_view_module": "@jupyter-widgets/base",
      "_view_module_version": "1.2.0",
      "_view_name": "LayoutView",
      "align_content": null,
      "align_items": null,
      "align_self": null,
      "border": null,
      "bottom": null,
      "display": null,
      "flex": null,
      "flex_flow": null,
      "grid_area": null,
      "grid_auto_columns": null,
      "grid_auto_flow": null,
      "grid_auto_rows": null,
      "grid_column": null,
      "grid_gap": null,
      "grid_row": null,
      "grid_template_areas": null,
      "grid_template_columns": null,
      "grid_template_rows": null,
      "height": null,
      "justify_content": null,
      "justify_items": null,
      "left": null,
      "margin": null,
      "max_height": null,
      "max_width": null,
      "min_height": null,
      "min_width": null,
      "object_fit": null,
      "object_position": null,
      "order": null,
      "overflow": null,
      "overflow_x": null,
      "overflow_y": null,
      "padding": null,
      "right": null,
      "top": null,
      "visibility": null,
      "width": null
     }
    },
    "f6ede4cce038460dacea5d3efa84f6c1": {
     "model_module": "@jupyter-widgets/controls",
     "model_name": "HBoxModel",
     "state": {
      "_dom_classes": [],
      "_model_module": "@jupyter-widgets/controls",
      "_model_module_version": "1.5.0",
      "_model_name": "HBoxModel",
      "_view_count": null,
      "_view_module": "@jupyter-widgets/controls",
      "_view_module_version": "1.5.0",
      "_view_name": "HBoxView",
      "box_style": "",
      "children": [
       "IPY_MODEL_2b0351c3c41345169b631604dbc42c24",
       "IPY_MODEL_3bb14723d6a446f5ae5941b3d480191c"
      ],
      "layout": "IPY_MODEL_a3c139fcf6324d469da6c8d792432b9c"
     }
    },
    "f97dc123f2a04a05b8b27d1285711f71": {
     "model_module": "@jupyter-widgets/controls",
     "model_name": "HBoxModel",
     "state": {
      "_dom_classes": [],
      "_model_module": "@jupyter-widgets/controls",
      "_model_module_version": "1.5.0",
      "_model_name": "HBoxModel",
      "_view_count": null,
      "_view_module": "@jupyter-widgets/controls",
      "_view_module_version": "1.5.0",
      "_view_name": "HBoxView",
      "box_style": "",
      "children": [
       "IPY_MODEL_0f61eebd7ef0430d8e1c3087ae1d349d",
       "IPY_MODEL_73d8fc7eca154b39a1c45e321d8c4b78"
      ],
      "layout": "IPY_MODEL_d10450431d4d4cd4a8e68b3f72f5a325"
     }
    },
    "faf24989dcb048efa937de1c4840a77c": {
     "model_module": "@jupyter-widgets/controls",
     "model_name": "HBoxModel",
     "state": {
      "_dom_classes": [],
      "_model_module": "@jupyter-widgets/controls",
      "_model_module_version": "1.5.0",
      "_model_name": "HBoxModel",
      "_view_count": null,
      "_view_module": "@jupyter-widgets/controls",
      "_view_module_version": "1.5.0",
      "_view_name": "HBoxView",
      "box_style": "",
      "children": [
       "IPY_MODEL_981ed93b383e451ab6f7bb7a5d139782",
       "IPY_MODEL_390bf0b224074757823a53c1737fb5bd"
      ],
      "layout": "IPY_MODEL_a53e571ebdd54dd1ac6daae4b728f7e5"
     }
    },
    "fbff9101312b4eea8bdb0a42b751f4be": {
     "model_module": "@jupyter-widgets/controls",
     "model_name": "ProgressStyleModel",
     "state": {
      "_model_module": "@jupyter-widgets/controls",
      "_model_module_version": "1.5.0",
      "_model_name": "ProgressStyleModel",
      "_view_count": null,
      "_view_module": "@jupyter-widgets/base",
      "_view_module_version": "1.2.0",
      "_view_name": "StyleView",
      "bar_color": null,
      "description_width": "initial"
     }
    },
    "fe052a6190c949da85f3e3990a81bfb4": {
     "model_module": "@jupyter-widgets/base",
     "model_name": "LayoutModel",
     "state": {
      "_model_module": "@jupyter-widgets/base",
      "_model_module_version": "1.2.0",
      "_model_name": "LayoutModel",
      "_view_count": null,
      "_view_module": "@jupyter-widgets/base",
      "_view_module_version": "1.2.0",
      "_view_name": "LayoutView",
      "align_content": null,
      "align_items": null,
      "align_self": null,
      "border": null,
      "bottom": null,
      "display": null,
      "flex": null,
      "flex_flow": null,
      "grid_area": null,
      "grid_auto_columns": null,
      "grid_auto_flow": null,
      "grid_auto_rows": null,
      "grid_column": null,
      "grid_gap": null,
      "grid_row": null,
      "grid_template_areas": null,
      "grid_template_columns": null,
      "grid_template_rows": null,
      "height": null,
      "justify_content": null,
      "justify_items": null,
      "left": null,
      "margin": null,
      "max_height": null,
      "max_width": null,
      "min_height": null,
      "min_width": null,
      "object_fit": null,
      "object_position": null,
      "order": null,
      "overflow": null,
      "overflow_x": null,
      "overflow_y": null,
      "padding": null,
      "right": null,
      "top": null,
      "visibility": null,
      "width": null
     }
    },
    "ff49b099ea744e96ae7588874fab1c88": {
     "model_module": "@jupyter-widgets/base",
     "model_name": "LayoutModel",
     "state": {
      "_model_module": "@jupyter-widgets/base",
      "_model_module_version": "1.2.0",
      "_model_name": "LayoutModel",
      "_view_count": null,
      "_view_module": "@jupyter-widgets/base",
      "_view_module_version": "1.2.0",
      "_view_name": "LayoutView",
      "align_content": null,
      "align_items": null,
      "align_self": null,
      "border": null,
      "bottom": null,
      "display": null,
      "flex": null,
      "flex_flow": null,
      "grid_area": null,
      "grid_auto_columns": null,
      "grid_auto_flow": null,
      "grid_auto_rows": null,
      "grid_column": null,
      "grid_gap": null,
      "grid_row": null,
      "grid_template_areas": null,
      "grid_template_columns": null,
      "grid_template_rows": null,
      "height": null,
      "justify_content": null,
      "justify_items": null,
      "left": null,
      "margin": null,
      "max_height": null,
      "max_width": null,
      "min_height": null,
      "min_width": null,
      "object_fit": null,
      "object_position": null,
      "order": null,
      "overflow": null,
      "overflow_x": null,
      "overflow_y": null,
      "padding": null,
      "right": null,
      "top": null,
      "visibility": null,
      "width": null
     }
    },
    "fff9c01aea8c4a3c913efc514fc6c882": {
     "model_module": "@jupyter-widgets/base",
     "model_name": "LayoutModel",
     "state": {
      "_model_module": "@jupyter-widgets/base",
      "_model_module_version": "1.2.0",
      "_model_name": "LayoutModel",
      "_view_count": null,
      "_view_module": "@jupyter-widgets/base",
      "_view_module_version": "1.2.0",
      "_view_name": "LayoutView",
      "align_content": null,
      "align_items": null,
      "align_self": null,
      "border": null,
      "bottom": null,
      "display": null,
      "flex": null,
      "flex_flow": null,
      "grid_area": null,
      "grid_auto_columns": null,
      "grid_auto_flow": null,
      "grid_auto_rows": null,
      "grid_column": null,
      "grid_gap": null,
      "grid_row": null,
      "grid_template_areas": null,
      "grid_template_columns": null,
      "grid_template_rows": null,
      "height": null,
      "justify_content": null,
      "justify_items": null,
      "left": null,
      "margin": null,
      "max_height": null,
      "max_width": null,
      "min_height": null,
      "min_width": null,
      "object_fit": null,
      "object_position": null,
      "order": null,
      "overflow": null,
      "overflow_x": null,
      "overflow_y": null,
      "padding": null,
      "right": null,
      "top": null,
      "visibility": null,
      "width": null
     }
    }
   }
  }
 },
 "nbformat": 4,
 "nbformat_minor": 1
}
